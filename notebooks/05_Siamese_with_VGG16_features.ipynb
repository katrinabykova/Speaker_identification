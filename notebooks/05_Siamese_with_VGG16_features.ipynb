{
 "cells": [
  {
   "cell_type": "code",
   "execution_count": 2,
   "metadata": {
    "ExecuteTime": {
     "end_time": "2019-12-08T04:20:28.491027Z",
     "start_time": "2019-12-08T04:20:28.485186Z"
    }
   },
   "outputs": [],
   "source": [
    "import warnings\n",
    "warnings.filterwarnings('ignore')"
   ]
  },
  {
   "cell_type": "code",
   "execution_count": 3,
   "metadata": {
    "ExecuteTime": {
     "end_time": "2019-12-08T04:20:37.918466Z",
     "start_time": "2019-12-08T04:20:29.085254Z"
    }
   },
   "outputs": [
    {
     "name": "stderr",
     "output_type": "stream",
     "text": [
      "Using TensorFlow backend.\n"
     ]
    }
   ],
   "source": [
    "import pandas as pd\n",
    "import numpy as np\n",
    "from numpy import arange\n",
    "import matplotlib.pyplot as plt\n",
    "import sklearn\n",
    "import os\n",
    "import dill as pickle\n",
    "from itertools import combinations\n",
    "import random\n",
    "import tensorflow as tf\n",
    "\n",
    "from keras.models import Model, Input, Sequential, load_model\n",
    "from keras.applications.vgg16 import VGG16\n",
    "from sklearn.preprocessing import LabelEncoder\n",
    "from keras.utils import to_categorical\n",
    "from keras.callbacks import EarlyStopping\n",
    "from keras import backend as K\n",
    "from keras.layers import Input, Conv2D, Lambda, merge, Dense, Flatten, MaxPooling2D, ZeroPadding2D, Dropout\n",
    "from keras.optimizers import SGD,Adam\n",
    "import keras.metrics\n",
    "from keras.utils import plot_model\n",
    "from src.models import history\n",
    "from keras.callbacks import ModelCheckpoint\n",
    "\n",
    "from src.data import process_audio\n",
    "from src.data import display_audio\n",
    "from src.data import process_audio_siam\n",
    "from src.models import one_shot_learning\n",
    "from src.data import process_audio_VGG16_features\n",
    "from src.models import one_shot_learning_VGG16\n",
    "from src.data import audio_to_features_bal\n",
    "\n",
    "from src.data import features_for_model\n"
   ]
  },
  {
   "cell_type": "code",
   "execution_count": 4,
   "metadata": {
    "ExecuteTime": {
     "end_time": "2019-12-08T04:20:38.009604Z",
     "start_time": "2019-12-08T04:20:37.921606Z"
    }
   },
   "outputs": [],
   "source": [
    "%load_ext autoreload\n",
    "%autoreload 2"
   ]
  },
  {
   "cell_type": "markdown",
   "metadata": {},
   "source": [
    "# Model: Siamese with VGG16 features"
   ]
  },
  {
   "cell_type": "code",
   "execution_count": 5,
   "metadata": {
    "ExecuteTime": {
     "end_time": "2019-12-08T04:20:38.466542Z",
     "start_time": "2019-12-08T04:20:38.013388Z"
    }
   },
   "outputs": [
    {
     "name": "stdout",
     "output_type": "stream",
     "text": [
      "WARNING:tensorflow:From /Users/greenapple/anaconda3/envs/project4/lib/python3.7/site-packages/tensorflow/python/framework/op_def_library.py:263: colocate_with (from tensorflow.python.framework.ops) is deprecated and will be removed in a future version.\n",
      "Instructions for updating:\n",
      "Colocations handled automatically by placer.\n"
     ]
    }
   ],
   "source": [
    "# One dense layer\n",
    "input_shape = (7, 7, 512)   \n",
    "\n",
    "inputs = Input(input_shape)\n",
    "output = Flatten()(inputs) \n",
    "encodings = Dense(4096, activation='sigmoid')(output)\n",
    "\n",
    "\n",
    "one_dense = Model(inputs=inputs, outputs=encodings, name='one_dense')\n",
    "one_dense.compile(optimizer=Adam(lr = 0.00006), \n",
    "                  loss='categorical_crossentropy')\n",
    "\n",
    "\n",
    "# Define tensors for two input audios\n",
    "input_shape = (7, 7, 512)\n",
    "\n",
    "left_input = Input(input_shape)\n",
    "right_input = Input(input_shape)    \n",
    "\n",
    "encoded_l = one_dense(left_input)\n",
    "encoded_r = one_dense(right_input)\n",
    "\n",
    "# Add a customized layer to compute the difference between the vectors/encodings\n",
    "L1_layer = Lambda(lambda tensors:K.abs(tensors[0] - tensors[1]))\n",
    "L1_distance = L1_layer([encoded_l, encoded_r])\n",
    "    \n",
    "# Add a layer to classify the audios into \"same speaker\" = 1 or \"not the same\" = 0\n",
    "classification = Dense(1,activation='sigmoid')(L1_distance)\n",
    "    \n",
    "# Siamese model\n",
    "siamese_same_weights = Model(inputs=[left_input,right_input],outputs=classification)\n",
    "\n",
    "# Adam optimizer\n",
    "siamese_same_weights.compile(optimizer=Adam(lr = 0.00006),\n",
    "            loss='binary_crossentropy', \n",
    "              metrics=['accuracy'])"
   ]
  },
  {
   "cell_type": "code",
   "execution_count": 134,
   "metadata": {
    "ExecuteTime": {
     "end_time": "2019-11-30T23:35:15.098192Z",
     "start_time": "2019-11-30T23:35:14.630596Z"
    }
   },
   "outputs": [
    {
     "data": {
      "image/png": "[encoded data removed]",
      "text/plain": [
       "<IPython.core.display.Image object>"
      ]
     },
     "execution_count": 134,
     "metadata": {},
     "output_type": "execute_result"
    }
   ],
   "source": [
    "plot_model(siamese_same_weights)"
   ]
  },
  {
   "cell_type": "markdown",
   "metadata": {},
   "source": [
    "# 100 speakers. Siamese same weights with VGG16 features. Balanced data."
   ]
  },
  {
   "cell_type": "markdown",
   "metadata": {},
   "source": [
    "### Load data"
   ]
  },
  {
   "cell_type": "code",
   "execution_count": 121,
   "metadata": {
    "ExecuteTime": {
     "end_time": "2019-11-30T23:20:28.258459Z",
     "start_time": "2019-11-30T23:20:13.621649Z"
    }
   },
   "outputs": [
    {
     "data": {
      "text/plain": [
       "(1000, 4)"
      ]
     },
     "execution_count": 121,
     "metadata": {},
     "output_type": "execute_result"
    }
   ],
   "source": [
    "# Load train data - remove\n",
    "data_900 = pickle.load(open('/Users/greenapple/project5/data/processed/train_data_900.pkl', 'rb')) # 10 speakers, 10 audios per speaker\n",
    "data_100 = data_900[:1000]\n",
    "data_100.shape"
   ]
  },
  {
   "cell_type": "code",
   "execution_count": 6,
   "metadata": {
    "ExecuteTime": {
     "end_time": "2019-12-03T23:34:56.249728Z",
     "start_time": "2019-12-03T23:34:56.075784Z"
    }
   },
   "outputs": [
    {
     "data": {
      "text/plain": [
       "(100, 4)"
      ]
     },
     "execution_count": 6,
     "metadata": {},
     "output_type": "execute_result"
    }
   ],
   "source": [
    "# Load train data: toy set with 10 speakers\n",
    "train_data_100_vgg = pickle.load(open(\n",
    "    '/Users/greenapple/project5/data/processed/train_data_100_vgg.pkl', 'rb')) \n",
    "train_data_100_vgg.shape"
   ]
  },
  {
   "cell_type": "code",
   "execution_count": 8,
   "metadata": {
    "ExecuteTime": {
     "end_time": "2019-12-03T23:36:56.551189Z",
     "start_time": "2019-12-03T23:36:56.159360Z"
    }
   },
   "outputs": [],
   "source": [
    "# Reshape data for the siamese model before modeling:\n",
    "X, y, siam_data, X_res_data = features_for_model.siamese_VGG16_features(train_data_100_vgg)"
   ]
  },
  {
   "cell_type": "code",
   "execution_count": 100,
   "metadata": {
    "ExecuteTime": {
     "end_time": "2019-11-30T07:24:15.038206Z",
     "start_time": "2019-11-30T07:24:14.923085Z"
    }
   },
   "outputs": [
    {
     "data": {
      "text/plain": [
       "(9000, 2, 7, 7, 512)"
      ]
     },
     "execution_count": 100,
     "metadata": {},
     "output_type": "execute_result"
    }
   ],
   "source": [
    "X.shape"
   ]
  },
  {
   "cell_type": "code",
   "execution_count": 101,
   "metadata": {
    "ExecuteTime": {
     "end_time": "2019-11-30T07:24:24.622131Z",
     "start_time": "2019-11-30T07:24:24.489406Z"
    }
   },
   "outputs": [
    {
     "data": {
      "text/plain": [
       "0    495000\n",
       "1      4500\n",
       "Name: siam_targets, dtype: int64"
      ]
     },
     "execution_count": 101,
     "metadata": {},
     "output_type": "execute_result"
    }
   ],
   "source": [
    "siam_data.siam_targets.value_counts() # sanity check - X.shape[0] should be 4,500*2"
   ]
  },
  {
   "cell_type": "code",
   "execution_count": 110,
   "metadata": {
    "ExecuteTime": {
     "end_time": "2019-11-30T07:37:20.479189Z",
     "start_time": "2019-11-30T07:37:20.183118Z"
    }
   },
   "outputs": [],
   "source": [
    "# Load test data for one shot learning\n",
    "test_data_40 = pickle.load(\n",
    "    open('/Users/greenapple/project5/data/processed/test_data_40.pkl', 'rb')\n",
    ")"
   ]
  },
  {
   "cell_type": "markdown",
   "metadata": {},
   "source": [
    "### Epochs 0-25"
   ]
  },
  {
   "cell_type": "code",
   "execution_count": 113,
   "metadata": {
    "ExecuteTime": {
     "end_time": "2019-11-30T10:45:18.564693Z",
     "start_time": "2019-11-30T07:39:25.627259Z"
    },
    "collapsed": true
   },
   "outputs": [
    {
     "name": "stdout",
     "output_type": "stream",
     "text": [
      "Train on 7200 samples, validate on 1800 samples\n",
      "Epoch 1/25\n",
      "7200/7200 [==============================] - 487s 68ms/step - loss: 0.5474 - acc: 0.7081 - val_loss: 1.4607 - val_acc: 0.0211\n",
      "\n",
      "Epoch 00001: val_acc improved from -inf to 0.02111, saving model to siamese_same_weights_bal.h5\n",
      "Epoch 2/25\n",
      "7200/7200 [==============================] - 444s 62ms/step - loss: 0.3702 - acc: 0.8740 - val_loss: 2.1305 - val_acc: 0.0061\n",
      "\n",
      "Epoch 00002: val_acc did not improve from 0.02111\n",
      "Epoch 3/25\n",
      "7200/7200 [==============================] - 443s 62ms/step - loss: 0.2456 - acc: 0.9519 - val_loss: 2.8046 - val_acc: 0.0044\n",
      "\n",
      "Epoch 00003: val_acc did not improve from 0.02111\n",
      "Epoch 4/25\n",
      "7200/7200 [==============================] - 442s 61ms/step - loss: 0.1569 - acc: 0.9815 - val_loss: 3.3105 - val_acc: 0.0044\n",
      "\n",
      "Epoch 00004: val_acc did not improve from 0.02111\n",
      "Epoch 5/25\n",
      "7200/7200 [==============================] - 446s 62ms/step - loss: 0.0989 - acc: 0.9943 - val_loss: 3.8800 - val_acc: 0.0044\n",
      "\n",
      "Epoch 00005: val_acc did not improve from 0.02111\n",
      "Epoch 6/25\n",
      "7200/7200 [==============================] - 444s 62ms/step - loss: 0.0628 - acc: 0.9985 - val_loss: 4.4471 - val_acc: 0.0039\n",
      "\n",
      "Epoch 00006: val_acc did not improve from 0.02111\n",
      "Epoch 7/25\n",
      "7200/7200 [==============================] - 453s 63ms/step - loss: 0.0405 - acc: 0.9999 - val_loss: 4.9008 - val_acc: 0.0050\n",
      "\n",
      "Epoch 00007: val_acc did not improve from 0.02111\n",
      "Epoch 8/25\n",
      "7200/7200 [==============================] - 448s 62ms/step - loss: 0.0272 - acc: 1.0000 - val_loss: 5.1655 - val_acc: 0.0050\n",
      "\n",
      "Epoch 00008: val_acc did not improve from 0.02111\n",
      "Epoch 9/25\n",
      "7200/7200 [==============================] - 441s 61ms/step - loss: 0.0192 - acc: 1.0000 - val_loss: 5.5321 - val_acc: 0.0044\n",
      "\n",
      "Epoch 00009: val_acc did not improve from 0.02111\n",
      "Epoch 10/25\n",
      "7200/7200 [==============================] - 449s 62ms/step - loss: 0.0141 - acc: 1.0000 - val_loss: 5.8379 - val_acc: 0.0050\n",
      "\n",
      "Epoch 00010: val_acc did not improve from 0.02111\n",
      "Epoch 11/25\n",
      "7200/7200 [==============================] - 448s 62ms/step - loss: 0.0107 - acc: 1.0000 - val_loss: 6.1163 - val_acc: 0.0050\n",
      "\n",
      "Epoch 00011: val_acc did not improve from 0.02111\n",
      "Epoch 12/25\n",
      "7200/7200 [==============================] - 447s 62ms/step - loss: 0.0083 - acc: 1.0000 - val_loss: 6.2788 - val_acc: 0.0050\n",
      "\n",
      "Epoch 00012: val_acc did not improve from 0.02111\n",
      "Epoch 13/25\n",
      "7200/7200 [==============================] - 443s 62ms/step - loss: 0.0066 - acc: 1.0000 - val_loss: 6.5953 - val_acc: 0.0050\n",
      "\n",
      "Epoch 00013: val_acc did not improve from 0.02111\n",
      "Epoch 14/25\n",
      "7200/7200 [==============================] - 444s 62ms/step - loss: 0.0053 - acc: 1.0000 - val_loss: 6.7921 - val_acc: 0.0044\n",
      "\n",
      "Epoch 00014: val_acc did not improve from 0.02111\n",
      "Epoch 15/25\n",
      "7200/7200 [==============================] - 444s 62ms/step - loss: 0.0043 - acc: 1.0000 - val_loss: 6.9946 - val_acc: 0.0050\n",
      "\n",
      "Epoch 00015: val_acc did not improve from 0.02111\n",
      "Epoch 16/25\n",
      "7200/7200 [==============================] - 443s 61ms/step - loss: 0.0035 - acc: 1.0000 - val_loss: 7.2556 - val_acc: 0.0044\n",
      "\n",
      "Epoch 00016: val_acc did not improve from 0.02111\n",
      "Epoch 17/25\n",
      "7200/7200 [==============================] - 445s 62ms/step - loss: 0.0029 - acc: 1.0000 - val_loss: 7.4047 - val_acc: 0.0050\n",
      "\n",
      "Epoch 00017: val_acc did not improve from 0.02111\n",
      "Epoch 18/25\n",
      "7200/7200 [==============================] - 442s 61ms/step - loss: 0.0025 - acc: 1.0000 - val_loss: 7.5838 - val_acc: 0.0050\n",
      "\n",
      "Epoch 00018: val_acc did not improve from 0.02111\n",
      "Epoch 19/25\n",
      "7200/7200 [==============================] - 444s 62ms/step - loss: 0.0021 - acc: 1.0000 - val_loss: 7.7958 - val_acc: 0.0050\n",
      "\n",
      "Epoch 00019: val_acc did not improve from 0.02111\n",
      "Epoch 20/25\n",
      "7200/7200 [==============================] - 442s 61ms/step - loss: 0.0017 - acc: 1.0000 - val_loss: 7.8573 - val_acc: 0.0050\n",
      "\n",
      "Epoch 00020: val_acc did not improve from 0.02111\n",
      "Epoch 21/25\n",
      "7200/7200 [==============================] - 443s 62ms/step - loss: 0.0015 - acc: 1.0000 - val_loss: 8.0683 - val_acc: 0.0044\n",
      "\n",
      "Epoch 00021: val_acc did not improve from 0.02111\n",
      "Epoch 22/25\n",
      "7200/7200 [==============================] - 443s 62ms/step - loss: 0.0013 - acc: 1.0000 - val_loss: 8.2154 - val_acc: 0.0050\n",
      "\n",
      "Epoch 00022: val_acc did not improve from 0.02111\n",
      "Epoch 23/25\n",
      "7200/7200 [==============================] - 443s 62ms/step - loss: 0.0011 - acc: 1.0000 - val_loss: 8.3288 - val_acc: 0.0050\n",
      "\n",
      "Epoch 00023: val_acc did not improve from 0.02111\n",
      "Epoch 24/25\n",
      "7200/7200 [==============================] - 444s 62ms/step - loss: 9.3477e-04 - acc: 1.0000 - val_loss: 8.4977 - val_acc: 0.0044\n",
      "\n",
      "Epoch 00024: val_acc did not improve from 0.02111\n",
      "Epoch 25/25\n",
      "7200/7200 [==============================] - 441s 61ms/step - loss: 8.0535e-04 - acc: 1.0000 - val_loss: 8.6353 - val_acc: 0.0044\n",
      "\n",
      "Epoch 00025: val_acc did not improve from 0.02111\n"
     ]
    },
    {
     "ename": "NameError",
     "evalue": "name 'history_siamese_dist_weights' is not defined",
     "output_type": "error",
     "traceback": [
      "\u001b[0;31m---------------------------------------------------------------------------\u001b[0m",
      "\u001b[0;31mNameError\u001b[0m                                 Traceback (most recent call last)",
      "\u001b[0;32m<ipython-input-113-283c1296f282>\u001b[0m in \u001b[0;36m<module>\u001b[0;34m\u001b[0m\n\u001b[1;32m     17\u001b[0m \u001b[0;34m\u001b[0m\u001b[0m\n\u001b[1;32m     18\u001b[0m \u001b[0;31m# Plot training & validation accuracy values\u001b[0m\u001b[0;34m\u001b[0m\u001b[0;34m\u001b[0m\u001b[0;34m\u001b[0m\u001b[0m\n\u001b[0;32m---> 19\u001b[0;31m \u001b[0mplt\u001b[0m\u001b[0;34m.\u001b[0m\u001b[0mplot\u001b[0m\u001b[0;34m(\u001b[0m\u001b[0mhistory_siamese_dist_weights\u001b[0m\u001b[0;34m.\u001b[0m\u001b[0mhistory\u001b[0m\u001b[0;34m[\u001b[0m\u001b[0;34m'acc'\u001b[0m\u001b[0;34m]\u001b[0m\u001b[0;34m)\u001b[0m\u001b[0;34m\u001b[0m\u001b[0;34m\u001b[0m\u001b[0m\n\u001b[0m\u001b[1;32m     20\u001b[0m \u001b[0mplt\u001b[0m\u001b[0;34m.\u001b[0m\u001b[0mplot\u001b[0m\u001b[0;34m(\u001b[0m\u001b[0mhistory_siamese_dist_weights\u001b[0m\u001b[0;34m.\u001b[0m\u001b[0mhistory\u001b[0m\u001b[0;34m[\u001b[0m\u001b[0;34m'val_acc'\u001b[0m\u001b[0;34m]\u001b[0m\u001b[0;34m)\u001b[0m\u001b[0;34m\u001b[0m\u001b[0;34m\u001b[0m\u001b[0m\n\u001b[1;32m     21\u001b[0m \u001b[0mplt\u001b[0m\u001b[0;34m.\u001b[0m\u001b[0mtitle\u001b[0m\u001b[0;34m(\u001b[0m\u001b[0;34m'Model accuracy'\u001b[0m\u001b[0;34m)\u001b[0m\u001b[0;34m\u001b[0m\u001b[0;34m\u001b[0m\u001b[0m\n",
      "\u001b[0;31mNameError\u001b[0m: name 'history_siamese_dist_weights' is not defined"
     ]
    }
   ],
   "source": [
    "# Train and visualize \n",
    "checkpoint = ModelCheckpoint('siamese_same_weights_bal.h5', \n",
    "                             monitor='val_acc', \n",
    "                             verbose=True,\n",
    "                             save_best_only=True, \n",
    "                             mode='auto', \n",
    "                             period=1)\n",
    "\n",
    "model = siamese_same_weights\n",
    "history_siamese_same_weights = model.fit([X[:, 0], X[:, 1]], \n",
    "                                         y, \n",
    "                                         validation_split=0.2, \n",
    "                                         epochs=25, \n",
    "                                         batch_size=32, \n",
    "                                         verbose=True,\n",
    "                                         callbacks=[checkpoint])\n",
    "\n",
    "# Plot training & validation accuracy values\n",
    "plt.plot(history_siamese_dist_weights.history['acc'])\n",
    "plt.plot(history_siamese_dist_weights.history['val_acc'])\n",
    "plt.title('Model accuracy')\n",
    "plt.ylabel('Accuracy')\n",
    "plt.xlabel('Epoch')\n",
    "plt.legend(['Train', 'Test'], loc='upper left')\n",
    "plt.show()\n",
    "\n",
    "\n",
    "# Plot training & validation loss values\n",
    "plt.plot(history_siamese_dist_weights.history['loss'])\n",
    "plt.plot(history_siamese_dist_weights.history['val_loss'])\n",
    "plt.title('Model loss')\n",
    "plt.ylabel('Loss')\n",
    "plt.xlabel('Epoch')\n",
    "plt.legend(['Train', 'Test'], loc='upper left')\n",
    "plt.show()"
   ]
  },
  {
   "cell_type": "code",
   "execution_count": 114,
   "metadata": {
    "ExecuteTime": {
     "end_time": "2019-11-30T15:35:58.391034Z",
     "start_time": "2019-11-30T15:35:57.718094Z"
    }
   },
   "outputs": [
    {
     "data": {
      "image/png": "[encoded data removed]",
      "text/plain": [
       "<Figure size 432x288 with 1 Axes>"
      ]
     },
     "metadata": {
      "needs_background": "light"
     },
     "output_type": "display_data"
    },
    {
     "data": {
      "image/png": "[encoded data removed]",
      "text/plain": [
       "<Figure size 432x288 with 1 Axes>"
      ]
     },
     "metadata": {
      "needs_background": "light"
     },
     "output_type": "display_data"
    }
   ],
   "source": [
    "# Plot training & validation accuracy values\n",
    "plt.plot(history_siamese_same_weights.history['acc'])\n",
    "plt.plot(history_siamese_same_weights.history['val_acc'])\n",
    "plt.title('Model accuracy')\n",
    "plt.ylabel('Accuracy')\n",
    "plt.xlabel('Epoch')\n",
    "plt.legend(['Train', 'Test'], loc='upper left')\n",
    "plt.show()\n",
    "\n",
    "\n",
    "# Plot training & validation loss values\n",
    "plt.plot(history_siamese_same_weights.history['loss'])\n",
    "plt.plot(history_siamese_same_weights.history['val_loss'])\n",
    "plt.title('Model loss')\n",
    "plt.ylabel('Loss')\n",
    "plt.xlabel('Epoch')\n",
    "plt.legend(['Train', 'Test'], loc='upper left')\n",
    "plt.show()"
   ]
  },
  {
   "cell_type": "code",
   "execution_count": 115,
   "metadata": {
    "ExecuteTime": {
     "end_time": "2019-11-30T15:42:57.781129Z",
     "start_time": "2019-11-30T15:37:03.231314Z"
    }
   },
   "outputs": [
    {
     "name": "stdout",
     "output_type": "stream",
     "text": [
      "Trial 100, current score 98.09797979797985\r"
     ]
    },
    {
     "data": {
      "text/plain": [
       "<matplotlib.legend.Legend at 0x333642c50>"
      ]
     },
     "execution_count": 115,
     "metadata": {},
     "output_type": "execute_result"
    },
    {
     "data": {
      "image/png": "[encoded data removed]",
      "text/plain": [
       "<Figure size 432x288 with 1 Axes>"
      ]
     },
     "metadata": {
      "needs_background": "light"
     },
     "output_type": "display_data"
    }
   ],
   "source": [
    "# One shot learning score:\n",
    "model = siamese_same_weights\n",
    "trials = 100\n",
    "# n_way = 5\n",
    "n_way_list = [1, 2, 3, 4, 5, 7, 8, 9, 10]\n",
    "train_scores = []\n",
    "test_scores = []\n",
    "num_speakers = 10\n",
    "\n",
    "random_scores = [100/i for i in n_way_list]\n",
    "\n",
    "speaker_data_train = data_100\n",
    "speaker_data_test = test_data_40\n",
    "\n",
    "for n_way in n_way_list:\n",
    "    one_shot_train = one_shot_learning_VGG16.one_shot_score(model, trials, speaker_data_train, n_way)\n",
    "    one_shot_test = one_shot_learning_VGG16.one_shot_score(model, trials, speaker_data_test, n_way)\n",
    "    \n",
    "    train_scores.append(one_shot_train)\n",
    "    test_scores.append(one_shot_test)\n",
    "\n",
    "# Visualize one shot learning\n",
    "plt.plot(n_way_list, train_scores, color='blue', marker='o', label='train')\n",
    "plt.plot(n_way_list, test_scores, color='red', marker='o', label='test')\n",
    "plt.plot(n_way_list, random_scores, color='gray', marker='o', label='random guess')\n",
    "\n",
    "plt.legend()    "
   ]
  },
  {
   "cell_type": "markdown",
   "metadata": {},
   "source": [
    "### Epochs 25-30"
   ]
  },
  {
   "cell_type": "code",
   "execution_count": 116,
   "metadata": {
    "ExecuteTime": {
     "end_time": "2019-11-30T16:29:22.795181Z",
     "start_time": "2019-11-30T15:51:29.608627Z"
    }
   },
   "outputs": [
    {
     "name": "stdout",
     "output_type": "stream",
     "text": [
      "Train on 7200 samples, validate on 1800 samples\n",
      "Epoch 1/5\n",
      "7200/7200 [==============================] - 477s 66ms/step - loss: 6.9652e-04 - acc: 1.0000 - val_loss: 8.7313 - val_acc: 0.0044\n",
      "\n",
      "Epoch 00001: val_acc improved from -inf to 0.00444, saving model to siamese_same_weights_bal.h5\n",
      "Epoch 2/5\n",
      "7200/7200 [==============================] - 459s 64ms/step - loss: 6.0304e-04 - acc: 1.0000 - val_loss: 8.8789 - val_acc: 0.0044\n",
      "\n",
      "Epoch 00002: val_acc did not improve from 0.00444\n",
      "Epoch 3/5\n",
      "7200/7200 [==============================] - 448s 62ms/step - loss: 5.2344e-04 - acc: 1.0000 - val_loss: 8.9988 - val_acc: 0.0050\n",
      "\n",
      "Epoch 00003: val_acc improved from 0.00444 to 0.00500, saving model to siamese_same_weights_bal.h5\n",
      "Epoch 4/5\n",
      "7200/7200 [==============================] - 442s 61ms/step - loss: 4.5542e-04 - acc: 1.0000 - val_loss: 9.0967 - val_acc: 0.0056\n",
      "\n",
      "Epoch 00004: val_acc improved from 0.00500 to 0.00556, saving model to siamese_same_weights_bal.h5\n",
      "Epoch 5/5\n",
      "7200/7200 [==============================] - 441s 61ms/step - loss: 3.9689e-04 - acc: 1.0000 - val_loss: 9.2491 - val_acc: 0.0050\n",
      "\n",
      "Epoch 00005: val_acc did not improve from 0.00556\n"
     ]
    },
    {
     "data": {
      "image/png": "[encoded data removed]",
      "text/plain": [
       "<Figure size 432x288 with 1 Axes>"
      ]
     },
     "metadata": {
      "needs_background": "light"
     },
     "output_type": "display_data"
    },
    {
     "data": {
      "image/png": "[encoded data removed]",
      "text/plain": [
       "<Figure size 432x288 with 1 Axes>"
      ]
     },
     "metadata": {
      "needs_background": "light"
     },
     "output_type": "display_data"
    }
   ],
   "source": [
    "# Train and visualize \n",
    "checkpoint = ModelCheckpoint('siamese_same_weights_bal.h5', \n",
    "                             monitor='val_acc', \n",
    "                             verbose=True,\n",
    "                             save_best_only=True, \n",
    "                             mode='auto', \n",
    "                             period=1)\n",
    "\n",
    "model = siamese_same_weights\n",
    "history_siamese_same_weights_25_30 = model.fit([X[:, 0], X[:, 1]], \n",
    "                                         y, \n",
    "                                         validation_split=0.2, \n",
    "                                         epochs=5, \n",
    "                                         batch_size=32, \n",
    "                                         verbose=True,\n",
    "                                         callbacks=[checkpoint])\n",
    "\n",
    "# Plot training & validation accuracy values\n",
    "plt.plot(history_siamese_same_weights_25_30.history['acc'])\n",
    "plt.plot(history_siamese_same_weights_25_30.history['val_acc'])\n",
    "plt.title('Model accuracy')\n",
    "plt.ylabel('Accuracy')\n",
    "plt.xlabel('Epoch')\n",
    "plt.legend(['Train', 'Test'], loc='upper left')\n",
    "plt.show()\n",
    "\n",
    "\n",
    "# Plot training & validation loss values\n",
    "plt.plot(history_siamese_same_weights_25_30.history['loss'])\n",
    "plt.plot(history_siamese_same_weights_25_30.history['val_loss'])\n",
    "plt.title('Model loss')\n",
    "plt.ylabel('Loss')\n",
    "plt.xlabel('Epoch')\n",
    "plt.legend(['Train', 'Test'], loc='upper left')\n",
    "plt.show()"
   ]
  },
  {
   "cell_type": "code",
   "execution_count": 117,
   "metadata": {
    "ExecuteTime": {
     "end_time": "2019-11-30T16:56:17.274943Z",
     "start_time": "2019-11-30T16:50:40.495407Z"
    }
   },
   "outputs": [
    {
     "name": "stdout",
     "output_type": "stream",
     "text": [
      "Trial 100, current score 100.0161616161625\r"
     ]
    },
    {
     "data": {
      "text/plain": [
       "<matplotlib.legend.Legend at 0x339864da0>"
      ]
     },
     "execution_count": 117,
     "metadata": {},
     "output_type": "execute_result"
    },
    {
     "data": {
      "image/png": "[encoded data removed]",
      "text/plain": [
       "<Figure size 432x288 with 1 Axes>"
      ]
     },
     "metadata": {
      "needs_background": "light"
     },
     "output_type": "display_data"
    }
   ],
   "source": [
    "# One shot learning score:\n",
    "model = siamese_same_weights\n",
    "trials = 100\n",
    "# n_way = 5\n",
    "n_way_list = [1, 2, 3, 4, 5, 7, 8, 9, 10]\n",
    "train_scores = []\n",
    "test_scores = []\n",
    "num_speakers = 10\n",
    "\n",
    "random_scores = [100/i for i in n_way_list]\n",
    "\n",
    "speaker_data_train = data_100\n",
    "speaker_data_test = test_data_40\n",
    "\n",
    "for n_way in n_way_list:\n",
    "    one_shot_train = one_shot_learning_VGG16.one_shot_score(model, trials, speaker_data_train, n_way)\n",
    "    one_shot_test = one_shot_learning_VGG16.one_shot_score(model, trials, speaker_data_test, n_way)\n",
    "    \n",
    "    train_scores.append(one_shot_train)\n",
    "    test_scores.append(one_shot_test)\n",
    "\n",
    "# Visualize one shot learning\n",
    "plt.plot(n_way_list, train_scores, color='blue', marker='o', label='train')\n",
    "plt.plot(n_way_list, test_scores, color='red', marker='o', label='test')\n",
    "plt.plot(n_way_list, random_scores, color='gray', marker='o', label='random guess')\n",
    "\n",
    "plt.legend()    "
   ]
  },
  {
   "cell_type": "markdown",
   "metadata": {},
   "source": [
    "# 900 speakers. Siamese same weights with VGG16 features. Balanced data."
   ]
  },
  {
   "cell_type": "markdown",
   "metadata": {},
   "source": [
    "## Load data"
   ]
  },
  {
   "cell_type": "markdown",
   "metadata": {},
   "source": [
    "### Train data"
   ]
  },
  {
   "cell_type": "code",
   "execution_count": 122,
   "metadata": {
    "ExecuteTime": {
     "end_time": "2019-11-30T23:23:33.742820Z",
     "start_time": "2019-11-30T23:23:22.786822Z"
    }
   },
   "outputs": [
    {
     "data": {
      "text/plain": [
       "(9000, 4)"
      ]
     },
     "execution_count": 122,
     "metadata": {},
     "output_type": "execute_result"
    }
   ],
   "source": [
    "# Load train data\n",
    "data_900 = pickle.load(open(\n",
    "    '/Users/greenapple/project5/data/processed/train_data_900.pkl', 'rb'\n",
    "))\n",
    "data_900.shape"
   ]
  },
  {
   "cell_type": "code",
   "execution_count": 125,
   "metadata": {
    "ExecuteTime": {
     "end_time": "2019-11-30T23:30:07.644700Z",
     "start_time": "2019-11-30T23:24:58.021721Z"
    }
   },
   "outputs": [],
   "source": [
    "# Reshape data for the siamese model before modeling:\n",
    "X, y, siam_data, X_res_data = audio_to_features_bal.dataframe_to_siamese_features(data_900)"
   ]
  },
  {
   "cell_type": "code",
   "execution_count": 126,
   "metadata": {
    "ExecuteTime": {
     "end_time": "2019-11-30T23:30:08.208863Z",
     "start_time": "2019-11-30T23:30:07.666716Z"
    }
   },
   "outputs": [
    {
     "data": {
      "text/plain": [
       "(81000, 2, 7, 7, 512)"
      ]
     },
     "execution_count": 126,
     "metadata": {},
     "output_type": "execute_result"
    }
   ],
   "source": [
    "X.shape"
   ]
  },
  {
   "cell_type": "code",
   "execution_count": 127,
   "metadata": {
    "ExecuteTime": {
     "end_time": "2019-11-30T23:30:09.436235Z",
     "start_time": "2019-11-30T23:30:08.215595Z"
    }
   },
   "outputs": [
    {
     "data": {
      "text/plain": [
       "0    40455000\n",
       "1       40500\n",
       "Name: siam_targets, dtype: int64"
      ]
     },
     "execution_count": 127,
     "metadata": {},
     "output_type": "execute_result"
    }
   ],
   "source": [
    "siam_data.siam_targets.value_counts()"
   ]
  },
  {
   "cell_type": "markdown",
   "metadata": {},
   "source": [
    "### Validation data"
   ]
  },
  {
   "cell_type": "code",
   "execution_count": 128,
   "metadata": {
    "ExecuteTime": {
     "end_time": "2019-11-30T23:32:20.269906Z",
     "start_time": "2019-11-30T23:32:19.744372Z"
    }
   },
   "outputs": [],
   "source": [
    "# Load validation data\n",
    "val_data_40 = pickle.load(\n",
    "    open('/Users/greenapple/project5/data/processed/val_data_40.pkl', 'rb')\n",
    ")"
   ]
  },
  {
   "cell_type": "code",
   "execution_count": 129,
   "metadata": {
    "ExecuteTime": {
     "end_time": "2019-11-30T23:32:21.217928Z",
     "start_time": "2019-11-30T23:32:21.121768Z"
    }
   },
   "outputs": [],
   "source": [
    "# Use a 10 speaker set of validation data\n",
    "val_data_10 = val_data_40[:100]"
   ]
  },
  {
   "cell_type": "code",
   "execution_count": 130,
   "metadata": {
    "ExecuteTime": {
     "end_time": "2019-11-30T23:32:22.670688Z",
     "start_time": "2019-11-30T23:32:22.324498Z"
    }
   },
   "outputs": [],
   "source": [
    "# Reshape data for the siamese model before modeling:\n",
    "X_val, y_val, siam_data_val, X_res_data_val = audio_to_features_bal.dataframe_to_siamese_features(val_data_10)"
   ]
  },
  {
   "cell_type": "markdown",
   "metadata": {},
   "source": [
    "### Test data"
   ]
  },
  {
   "cell_type": "code",
   "execution_count": 131,
   "metadata": {
    "ExecuteTime": {
     "end_time": "2019-11-30T23:32:24.969346Z",
     "start_time": "2019-11-30T23:32:24.327777Z"
    }
   },
   "outputs": [],
   "source": [
    "# Load test data\n",
    "test_data_40 = pickle.load(\n",
    "    open('/Users/greenapple/project5/data/processed/test_data_40.pkl', 'rb')\n",
    ")"
   ]
  },
  {
   "cell_type": "markdown",
   "metadata": {},
   "source": [
    "## Epochs 0-5"
   ]
  },
  {
   "cell_type": "code",
   "execution_count": 135,
   "metadata": {
    "ExecuteTime": {
     "end_time": "2019-11-30T23:36:27.886557Z",
     "start_time": "2019-11-30T23:36:25.786657Z"
    }
   },
   "outputs": [],
   "source": [
    "# Model architecture is the same. Loading weights from the 100 speakers training.\n",
    "model = siamese_same_weights\n",
    "model.load_weights('siamese_same_weights_bal.h5')"
   ]
  },
  {
   "cell_type": "code",
   "execution_count": 136,
   "metadata": {
    "ExecuteTime": {
     "end_time": "2019-12-01T06:48:14.688111Z",
     "start_time": "2019-11-30T23:37:21.450108Z"
    }
   },
   "outputs": [
    {
     "name": "stdout",
     "output_type": "stream",
     "text": [
      "Train on 81000 samples, validate on 900 samples\n",
      "Epoch 1/5\n",
      "81000/81000 [==============================] - 5249s 65ms/step - loss: 0.5588 - acc: 0.7188 - val_loss: 0.5503 - val_acc: 0.7344\n",
      "\n",
      "Epoch 00001: val_acc improved from -inf to 0.73444, saving model to siamese_same_weights_bal_900.h5\n",
      "Epoch 2/5\n",
      "81000/81000 [==============================] - 5162s 64ms/step - loss: 0.4342 - acc: 0.7988 - val_loss: 0.5440 - val_acc: 0.7378\n",
      "\n",
      "Epoch 00002: val_acc improved from 0.73444 to 0.73778, saving model to siamese_same_weights_bal_900.h5\n",
      "Epoch 3/5\n",
      "81000/81000 [==============================] - 5138s 63ms/step - loss: 0.3547 - acc: 0.8501 - val_loss: 0.5550 - val_acc: 0.7356\n",
      "\n",
      "Epoch 00003: val_acc did not improve from 0.73778\n",
      "Epoch 4/5\n",
      "81000/81000 [==============================] - 5145s 64ms/step - loss: 0.2816 - acc: 0.8927 - val_loss: 0.5820 - val_acc: 0.7456\n",
      "\n",
      "Epoch 00004: val_acc improved from 0.73778 to 0.74556, saving model to siamese_same_weights_bal_900.h5\n",
      "Epoch 5/5\n",
      "81000/81000 [==============================] - 5135s 63ms/step - loss: 0.2155 - acc: 0.9285 - val_loss: 0.6029 - val_acc: 0.7344\n",
      "\n",
      "Epoch 00005: val_acc did not improve from 0.74556\n"
     ]
    },
    {
     "data": {
      "image/png": "[encoded data removed]",
      "text/plain": [
       "<Figure size 432x288 with 1 Axes>"
      ]
     },
     "metadata": {
      "needs_background": "light"
     },
     "output_type": "display_data"
    },
    {
     "data": {
      "image/png": "[encoded data removed]",
      "text/plain": [
       "<Figure size 432x288 with 1 Axes>"
      ]
     },
     "metadata": {
      "needs_background": "light"
     },
     "output_type": "display_data"
    }
   ],
   "source": [
    "# Train and visualize \n",
    "checkpoint = ModelCheckpoint('siamese_same_weights_bal_900.h5', \n",
    "                             monitor='val_acc', \n",
    "                             verbose=True,\n",
    "                             save_best_only=True, \n",
    "                             mode='auto', \n",
    "                             period=1)\n",
    "\n",
    "history_siamese_same_weights_900_0_5 = model.fit([X[:, 0], X[:, 1]], \n",
    "                                         y, \n",
    "                                         validation_data=([X_val[:, 0], X_val[:, 1]],\n",
    "                                                          y_val), \n",
    "                                         epochs=5, \n",
    "                                         batch_size=32, \n",
    "                                         verbose=True,\n",
    "                                         callbacks=[checkpoint])\n",
    "\n",
    "# Plot training & validation accuracy values\n",
    "plt.plot(history_siamese_same_weights_900_0_5.history['acc'])\n",
    "plt.plot(history_siamese_same_weights_900_0_5.history['val_acc'])\n",
    "plt.title('Model accuracy')\n",
    "plt.ylabel('Accuracy')\n",
    "plt.xlabel('Epoch')\n",
    "plt.legend(['Train', 'Test'], loc='upper left')\n",
    "plt.show()\n",
    "\n",
    "\n",
    "# Plot training & validation loss values\n",
    "plt.plot(history_siamese_same_weights_900_0_5.history['loss'])\n",
    "plt.plot(history_siamese_same_weights_900_0_5.history['val_loss'])\n",
    "plt.title('Model loss')\n",
    "plt.ylabel('Loss')\n",
    "plt.xlabel('Epoch')\n",
    "plt.legend(['Train', 'Test'], loc='upper left')\n",
    "plt.show()"
   ]
  },
  {
   "cell_type": "code",
   "execution_count": 137,
   "metadata": {
    "ExecuteTime": {
     "end_time": "2019-12-01T06:52:15.455484Z",
     "start_time": "2019-12-01T06:48:14.698246Z"
    }
   },
   "outputs": [
    {
     "name": "stdout",
     "output_type": "stream",
     "text": [
      "Trial 100, current score 79.0797979797979\r"
     ]
    },
    {
     "data": {
      "text/plain": [
       "<matplotlib.legend.Legend at 0x529843ef0>"
      ]
     },
     "execution_count": 137,
     "metadata": {},
     "output_type": "execute_result"
    },
    {
     "data": {
      "image/png": "[encoded data removed]",
      "text/plain": [
       "<Figure size 432x288 with 1 Axes>"
      ]
     },
     "metadata": {
      "needs_background": "light"
     },
     "output_type": "display_data"
    }
   ],
   "source": [
    "# One shot learning score:\n",
    "model = siamese_same_weights\n",
    "trials = 100\n",
    "# n_way = 5\n",
    "n_way_list = [1, 2, 3, 5, 7, 9, 10]\n",
    "train_scores = []\n",
    "test_scores = []\n",
    "num_speakers = 10\n",
    "\n",
    "random_scores = [100/i for i in n_way_list]\n",
    "\n",
    "speaker_data_train = data_900\n",
    "speaker_data_test = test_data_40\n",
    "\n",
    "for n_way in n_way_list:\n",
    "    one_shot_train = one_shot_learning_VGG16.one_shot_score(model, trials, speaker_data_train, n_way)\n",
    "    one_shot_test = one_shot_learning_VGG16.one_shot_score(model, trials, speaker_data_test, n_way)\n",
    "    \n",
    "    train_scores.append(one_shot_train)\n",
    "    test_scores.append(one_shot_test)\n",
    "\n",
    "# Visualize one shot learning\n",
    "plt.plot(n_way_list, train_scores, color='blue', marker='o', label='train')\n",
    "plt.plot(n_way_list, test_scores, color='red', marker='o', label='test')\n",
    "plt.plot(n_way_list, random_scores, color='gray', marker='o', label='random guess')\n",
    "\n",
    "plt.legend()    "
   ]
  },
  {
   "cell_type": "markdown",
   "metadata": {},
   "source": [
    "## Epochs 5-10. Use these weights."
   ]
  },
  {
   "cell_type": "code",
   "execution_count": 138,
   "metadata": {
    "ExecuteTime": {
     "end_time": "2019-12-01T13:57:51.181387Z",
     "start_time": "2019-12-01T06:52:15.459408Z"
    }
   },
   "outputs": [
    {
     "name": "stdout",
     "output_type": "stream",
     "text": [
      "Train on 81000 samples, validate on 900 samples\n",
      "Epoch 1/5\n",
      "81000/81000 [==============================] - 5124s 63ms/step - loss: 0.1569 - acc: 0.9594 - val_loss: 0.6409 - val_acc: 0.7400\n",
      "\n",
      "Epoch 00001: val_acc improved from -inf to 0.74000, saving model to siamese_same_weights_bal_900.h5\n",
      "Epoch 2/5\n",
      "81000/81000 [==============================] - 5091s 63ms/step - loss: 0.1083 - acc: 0.9800 - val_loss: 0.7133 - val_acc: 0.7267\n",
      "\n",
      "Epoch 00002: val_acc did not improve from 0.74000\n",
      "Epoch 3/5\n",
      "81000/81000 [==============================] - 5094s 63ms/step - loss: 0.0710 - acc: 0.9915 - val_loss: 0.8054 - val_acc: 0.7256\n",
      "\n",
      "Epoch 00003: val_acc did not improve from 0.74000\n",
      "Epoch 4/5\n",
      "81000/81000 [==============================] - 5102s 63ms/step - loss: 0.0452 - acc: 0.9969 - val_loss: 0.8386 - val_acc: 0.7311\n",
      "\n",
      "Epoch 00004: val_acc did not improve from 0.74000\n",
      "Epoch 5/5\n",
      "81000/81000 [==============================] - 5111s 63ms/step - loss: 0.0285 - acc: 0.9990 - val_loss: 0.8386 - val_acc: 0.7511\n",
      "\n",
      "Epoch 00005: val_acc improved from 0.74000 to 0.75111, saving model to siamese_same_weights_bal_900.h5\n"
     ]
    },
    {
     "data": {
      "image/png": "[encoded data removed]",
      "text/plain": [
       "<Figure size 432x288 with 1 Axes>"
      ]
     },
     "metadata": {
      "needs_background": "light"
     },
     "output_type": "display_data"
    },
    {
     "data": {
      "image/png": "[encoded data removed]",
      "text/plain": [
       "<Figure size 432x288 with 1 Axes>"
      ]
     },
     "metadata": {
      "needs_background": "light"
     },
     "output_type": "display_data"
    }
   ],
   "source": [
    "# Train and visualize \n",
    "checkpoint = ModelCheckpoint('siamese_same_weights_bal_900.h5', \n",
    "                             monitor='val_acc', \n",
    "                             verbose=True,\n",
    "                             save_best_only=True, \n",
    "                             mode='auto', \n",
    "                             period=1)\n",
    "\n",
    "history_siamese_same_weights_900_5_10 = model.fit([X[:, 0], X[:, 1]], \n",
    "                                         y, \n",
    "                                         validation_data=([X_val[:, 0], X_val[:, 1]],\n",
    "                                                          y_val), \n",
    "                                         epochs=5, \n",
    "                                         batch_size=32, \n",
    "                                         verbose=True,\n",
    "                                         callbacks=[checkpoint])\n",
    "\n",
    "# Plot training & validation accuracy values\n",
    "plt.plot(history_siamese_same_weights_900_5_10.history['acc'])\n",
    "plt.plot(history_siamese_same_weights_900_5_10.history['val_acc'])\n",
    "plt.title('Model accuracy')\n",
    "plt.ylabel('Accuracy')\n",
    "plt.xlabel('Epoch')\n",
    "plt.legend(['Train', 'Test'], loc='upper left')\n",
    "plt.show()\n",
    "\n",
    "\n",
    "# Plot training & validation loss values\n",
    "plt.plot(history_siamese_same_weights_900_5_10.history['loss'])\n",
    "plt.plot(history_siamese_same_weights_900_5_10.history['val_loss'])\n",
    "plt.title('Model loss')\n",
    "plt.ylabel('Loss')\n",
    "plt.xlabel('Epoch')\n",
    "plt.legend(['Train', 'Test'], loc='upper left')\n",
    "plt.show()"
   ]
  },
  {
   "cell_type": "code",
   "execution_count": 139,
   "metadata": {
    "ExecuteTime": {
     "end_time": "2019-12-01T14:01:57.048305Z",
     "start_time": "2019-12-01T13:57:51.210121Z"
    }
   },
   "outputs": [
    {
     "name": "stdout",
     "output_type": "stream",
     "text": [
      "Trial 100, current score 90.0898989898994\r"
     ]
    },
    {
     "data": {
      "text/plain": [
       "<matplotlib.legend.Legend at 0x1a593b748>"
      ]
     },
     "execution_count": 139,
     "metadata": {},
     "output_type": "execute_result"
    },
    {
     "data": {
      "image/png": "[encoded data removed]",
      "text/plain": [
       "<Figure size 432x288 with 1 Axes>"
      ]
     },
     "metadata": {
      "needs_background": "light"
     },
     "output_type": "display_data"
    }
   ],
   "source": [
    "# One shot learning score:\n",
    "model = siamese_same_weights\n",
    "trials = 100\n",
    "# n_way = 5\n",
    "n_way_list = [1, 2, 3, 5, 7, 9, 10]\n",
    "train_scores = []\n",
    "test_scores = []\n",
    "num_speakers = 10\n",
    "\n",
    "random_scores = [100/i for i in n_way_list]\n",
    "\n",
    "speaker_data_train = data_900\n",
    "speaker_data_test = test_data_40\n",
    "\n",
    "for n_way in n_way_list:\n",
    "    one_shot_train = one_shot_learning_VGG16.one_shot_score(model, trials, speaker_data_train, n_way)\n",
    "    one_shot_test = one_shot_learning_VGG16.one_shot_score(model, trials, speaker_data_test, n_way)\n",
    "    \n",
    "    train_scores.append(one_shot_train)\n",
    "    test_scores.append(one_shot_test)\n",
    "\n",
    "# Visualize one shot learning\n",
    "plt.plot(n_way_list, train_scores, color='blue', marker='o', label='train')\n",
    "plt.plot(n_way_list, test_scores, color='red', marker='o', label='test')\n",
    "plt.plot(n_way_list, random_scores, color='gray', marker='o', label='random guess')\n",
    "plt.title('One shot learning performance')\n",
    "plt.ylabel('Accuracy')\n",
    "plt.xlabel('Number of speakers')\n",
    "\n",
    "plt.legend();    "
   ]
  },
  {
   "cell_type": "code",
   "execution_count": 143,
   "metadata": {
    "ExecuteTime": {
     "end_time": "2019-12-01T18:15:50.921637Z",
     "start_time": "2019-12-01T18:15:42.047980Z"
    }
   },
   "outputs": [],
   "source": [
    "pickle.dump(history_siamese_same_weights_900_5_10, \n",
    "            open('/Users/greenapple/project5/models/history_siamese_same_weights_900_5_10.pkl', 'wb'))"
   ]
  },
  {
   "cell_type": "code",
   "execution_count": 6,
   "metadata": {
    "ExecuteTime": {
     "end_time": "2019-12-05T17:38:13.883199Z",
     "start_time": "2019-12-05T17:37:55.632596Z"
    }
   },
   "outputs": [
    {
     "name": "stdout",
     "output_type": "stream",
     "text": [
      "WARNING:tensorflow:From /Users/greenapple/anaconda3/envs/project4/lib/python3.7/site-packages/tensorflow/python/framework/op_def_library.py:263: colocate_with (from tensorflow.python.framework.ops) is deprecated and will be removed in a future version.\n",
      "Instructions for updating:\n",
      "Colocations handled automatically by placer.\n",
      "WARNING:tensorflow:From /Users/greenapple/anaconda3/envs/project4/lib/python3.7/site-packages/tensorflow/python/ops/math_ops.py:3066: to_int32 (from tensorflow.python.ops.math_ops) is deprecated and will be removed in a future version.\n",
      "Instructions for updating:\n",
      "Use tf.cast instead.\n"
     ]
    }
   ],
   "source": [
    "history_siamese_same_weights_900_5_10 = pickle.load(open(\n",
    "    '/Users/greenapple/project5/models/history_siamese_same_weights_900_5_10.pkl', 'rb'))"
   ]
  },
  {
   "cell_type": "code",
   "execution_count": null,
   "metadata": {},
   "outputs": [],
   "source": []
  },
  {
   "cell_type": "markdown",
   "metadata": {},
   "source": [
    "## Epochs 11-15. Overfit."
   ]
  },
  {
   "cell_type": "code",
   "execution_count": 144,
   "metadata": {
    "ExecuteTime": {
     "end_time": "2019-12-01T20:14:08.742955Z",
     "start_time": "2019-12-01T20:14:07.482082Z"
    }
   },
   "outputs": [],
   "source": [
    "# Model architecture is the same. Loading weights from the 100 speakers training.\n",
    "model = siamese_same_weights\n",
    "model.load_weights('siamese_same_weights_bal_900.h5')"
   ]
  },
  {
   "cell_type": "code",
   "execution_count": 145,
   "metadata": {
    "ExecuteTime": {
     "end_time": "2019-12-02T03:26:00.868195Z",
     "start_time": "2019-12-01T20:14:40.364753Z"
    }
   },
   "outputs": [
    {
     "name": "stdout",
     "output_type": "stream",
     "text": [
      "Train on 81000 samples, validate on 900 samples\n",
      "Epoch 1/5\n",
      "81000/81000 [==============================] - 5202s 64ms/step - loss: 0.0205 - acc: 0.9989 - val_loss: 0.9902 - val_acc: 0.7244\n",
      "\n",
      "Epoch 00001: val_acc improved from -inf to 0.72444, saving model to siamese_same_weights_bal_900.h5\n",
      "Epoch 2/5\n",
      "81000/81000 [==============================] - 5182s 64ms/step - loss: 0.0162 - acc: 0.9987 - val_loss: 1.0649 - val_acc: 0.7233\n",
      "\n",
      "Epoch 00002: val_acc did not improve from 0.72444\n",
      "Epoch 3/5\n",
      "81000/81000 [==============================] - 5178s 64ms/step - loss: 0.0124 - acc: 0.9990 - val_loss: 1.0330 - val_acc: 0.7289\n",
      "\n",
      "Epoch 00003: val_acc improved from 0.72444 to 0.72889, saving model to siamese_same_weights_bal_900.h5\n",
      "Epoch 4/5\n",
      "81000/81000 [==============================] - 5157s 64ms/step - loss: 0.0078 - acc: 0.9996 - val_loss: 1.1338 - val_acc: 0.7222\n",
      "\n",
      "Epoch 00004: val_acc did not improve from 0.72889\n",
      "Epoch 5/5\n",
      "81000/81000 [==============================] - 5144s 64ms/step - loss: 0.0148 - acc: 0.9973 - val_loss: 1.0438 - val_acc: 0.7400\n",
      "\n",
      "Epoch 00005: val_acc improved from 0.72889 to 0.74000, saving model to siamese_same_weights_bal_900.h5\n"
     ]
    },
    {
     "data": {
      "image/png": "[encoded data removed]",
      "text/plain": [
       "<Figure size 432x288 with 1 Axes>"
      ]
     },
     "metadata": {
      "needs_background": "light"
     },
     "output_type": "display_data"
    },
    {
     "data": {
      "image/png": "[encoded data removed]",
      "text/plain": [
       "<Figure size 432x288 with 1 Axes>"
      ]
     },
     "metadata": {
      "needs_background": "light"
     },
     "output_type": "display_data"
    }
   ],
   "source": [
    "# Train and visualize \n",
    "checkpoint = ModelCheckpoint('siamese_same_weights_bal_900.h5', \n",
    "                             monitor='val_acc', \n",
    "                             verbose=True,\n",
    "                             save_best_only=True, \n",
    "                             mode='auto', \n",
    "                             period=1)\n",
    "\n",
    "history_siamese_same_weights_900_10_15 = model.fit([X[:, 0], X[:, 1]], \n",
    "                                         y, \n",
    "                                         validation_data=([X_val[:, 0], X_val[:, 1]],\n",
    "                                                          y_val), \n",
    "                                         epochs=5, \n",
    "                                         batch_size=32, \n",
    "                                         verbose=True,\n",
    "                                         callbacks=[checkpoint])\n",
    "\n",
    "# Plot training & validation accuracy values\n",
    "plt.plot(history_siamese_same_weights_900_10_15.history['acc'])\n",
    "plt.plot(history_siamese_same_weights_900_10_15.history['val_acc'])\n",
    "plt.title('Model accuracy')\n",
    "plt.ylabel('Accuracy')\n",
    "plt.xlabel('Epoch')\n",
    "plt.legend(['Train', 'Test'], loc='upper left')\n",
    "plt.show()\n",
    "\n",
    "\n",
    "# Plot training & validation loss values\n",
    "plt.plot(history_siamese_same_weights_900_10_15.history['loss'])\n",
    "plt.plot(history_siamese_same_weights_900_10_15.history['val_loss'])\n",
    "plt.title('Model loss')\n",
    "plt.ylabel('Loss')\n",
    "plt.xlabel('Epoch')\n",
    "plt.legend(['Train', 'Test'], loc='upper left')\n",
    "plt.show()"
   ]
  },
  {
   "cell_type": "code",
   "execution_count": 148,
   "metadata": {
    "ExecuteTime": {
     "end_time": "2019-12-02T15:22:03.569301Z",
     "start_time": "2019-12-02T15:21:48.545400Z"
    }
   },
   "outputs": [],
   "source": [
    "pickle.dump(history_siamese_same_weights_900_10_15, \n",
    "            open('/Users/greenapple/project5/models/history_siamese_same_weights_900_11_15.pkl', 'wb'))"
   ]
  },
  {
   "cell_type": "code",
   "execution_count": 146,
   "metadata": {
    "ExecuteTime": {
     "end_time": "2019-12-02T03:32:12.089034Z",
     "start_time": "2019-12-02T03:26:00.922791Z"
    }
   },
   "outputs": [
    {
     "name": "stdout",
     "output_type": "stream",
     "text": [
      "Trial 100, current score 79.0787878787878\r"
     ]
    },
    {
     "data": {
      "text/plain": [
       "<matplotlib.legend.Legend at 0x1a67d2eb8>"
      ]
     },
     "execution_count": 146,
     "metadata": {},
     "output_type": "execute_result"
    },
    {
     "data": {
      "image/png": "[encoded data removed]",
      "text/plain": [
       "<Figure size 432x288 with 1 Axes>"
      ]
     },
     "metadata": {
      "needs_background": "light"
     },
     "output_type": "display_data"
    }
   ],
   "source": [
    "# One shot learning score:\n",
    "model = siamese_same_weights\n",
    "trials = 100\n",
    "# n_way = 5\n",
    "n_way_list = [1, 2, 3, 4, 5, 6, 7, 8, 9, 10]\n",
    "train_scores = []\n",
    "test_scores = []\n",
    "num_speakers = 10\n",
    "\n",
    "random_scores = [100/i for i in n_way_list]\n",
    "\n",
    "speaker_data_train = data_900\n",
    "speaker_data_test = test_data_40\n",
    "\n",
    "for n_way in n_way_list:\n",
    "    one_shot_train = one_shot_learning_VGG16.one_shot_score(model, trials, speaker_data_train, n_way)\n",
    "    one_shot_test = one_shot_learning_VGG16.one_shot_score(model, trials, speaker_data_test, n_way)\n",
    "    \n",
    "    train_scores.append(one_shot_train)\n",
    "    test_scores.append(one_shot_test)\n",
    "\n",
    "# Visualize one shot learning\n",
    "plt.plot(n_way_list, train_scores, color='blue', marker='o', label='train')\n",
    "plt.plot(n_way_list, test_scores, color='red', marker='o', label='test')\n",
    "plt.plot(n_way_list, random_scores, color='gray', marker='o', label='random guess')\n",
    "\n",
    "plt.legend()    "
   ]
  },
  {
   "cell_type": "code",
   "execution_count": 152,
   "metadata": {
    "ExecuteTime": {
     "end_time": "2019-12-02T18:39:57.534930Z",
     "start_time": "2019-12-02T18:39:57.447090Z"
    }
   },
   "outputs": [
    {
     "data": {
      "text/plain": [
       "'2.2.5'"
      ]
     },
     "execution_count": 152,
     "metadata": {},
     "output_type": "execute_result"
    }
   ],
   "source": [
    "keras.__version__"
   ]
  },
  {
   "cell_type": "markdown",
   "metadata": {},
   "source": [
    "# Predict and analyze errors"
   ]
  },
  {
   "cell_type": "code",
   "execution_count": 6,
   "metadata": {
    "ExecuteTime": {
     "end_time": "2019-12-08T04:20:41.526686Z",
     "start_time": "2019-12-08T04:20:41.431538Z"
    }
   },
   "outputs": [],
   "source": [
    "weights = 'siamese_same_weights_bal_900.h5'\n",
    "model = siamese_same_weights"
   ]
  },
  {
   "cell_type": "code",
   "execution_count": 7,
   "metadata": {
    "ExecuteTime": {
     "end_time": "2019-12-08T04:23:23.177262Z",
     "start_time": "2019-12-08T04:23:22.731535Z"
    }
   },
   "outputs": [],
   "source": [
    "# Load test data\n",
    "test_data_40_vgg = pickle.load(\n",
    "    open('/Users/greenapple/project5/data/processed/test_data_40_vgg.pkl', 'rb')\n",
    ")"
   ]
  },
  {
   "cell_type": "code",
   "execution_count": 11,
   "metadata": {
    "ExecuteTime": {
     "end_time": "2019-12-08T04:32:36.161034Z",
     "start_time": "2019-12-08T04:32:35.131257Z"
    }
   },
   "outputs": [],
   "source": [
    "# Reshape data for modeling\n",
    "X_test, y_test, siam_data_test, X_res_data_test = features_for_model.siamese_VGG16_features(\n",
    "    test_data_40_vgg\n",
    ")"
   ]
  },
  {
   "cell_type": "code",
   "execution_count": 12,
   "metadata": {
    "ExecuteTime": {
     "end_time": "2019-12-08T04:33:13.006109Z",
     "start_time": "2019-12-08T04:32:37.612051Z"
    }
   },
   "outputs": [],
   "source": [
    "probs = model.predict([X_test[:, 0], X_test[:, 1]])"
   ]
  }
 ],
 "metadata": {
  "kernelspec": {
   "display_name": "Python [conda env:project4] *",
   "language": "python",
   "name": "conda-env-project4-py"
  },
  "language_info": {
   "codemirror_mode": {
    "name": "ipython",
    "version": 3
   },
   "file_extension": ".py",
   "mimetype": "text/x-python",
   "name": "python",
   "nbconvert_exporter": "python",
   "pygments_lexer": "ipython3",
   "version": "3.7.3"
  },
  "toc": {
   "base_numbering": 1,
   "nav_menu": {},
   "number_sections": true,
   "sideBar": true,
   "skip_h1_title": false,
   "title_cell": "Table of Contents",
   "title_sidebar": "Contents",
   "toc_cell": false,
   "toc_position": {
    "height": "calc(100% - 180px)",
    "left": "10px",
    "top": "150px",
    "width": "389px"
   },
   "toc_section_display": true,
   "toc_window_display": true
  }
 },
 "nbformat": 4,
 "nbformat_minor": 2
}
