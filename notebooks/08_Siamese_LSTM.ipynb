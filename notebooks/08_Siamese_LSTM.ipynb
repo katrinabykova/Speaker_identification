{
 "cells": [
  {
   "cell_type": "code",
   "execution_count": 1,
   "metadata": {
    "ExecuteTime": {
     "end_time": "2019-12-03T17:16:45.804433Z",
     "start_time": "2019-12-03T17:16:45.794753Z"
    }
   },
   "outputs": [],
   "source": [
    "import warnings\n",
    "warnings.filterwarnings('ignore')"
   ]
  },
  {
   "cell_type": "code",
   "execution_count": 2,
   "metadata": {
    "ExecuteTime": {
     "end_time": "2019-12-03T17:16:55.630071Z",
     "start_time": "2019-12-03T17:16:46.295983Z"
    }
   },
   "outputs": [
    {
     "name": "stderr",
     "output_type": "stream",
     "text": [
      "Using TensorFlow backend.\n"
     ]
    }
   ],
   "source": [
    "import pandas as pd\n",
    "import numpy as np\n",
    "from numpy import arange\n",
    "import matplotlib.pyplot as plt\n",
    "import sklearn\n",
    "import os\n",
    "import dill as pickle\n",
    "from itertools import combinations\n",
    "import random\n",
    "import tensorflow as tf\n",
    "\n",
    "from keras.models import Model, Input, Sequential, load_model\n",
    "from keras.applications.vgg16 import VGG16\n",
    "from keras.applications.mobilenet_v2 import MobileNetV2\n",
    "from sklearn.preprocessing import LabelEncoder\n",
    "from keras.utils import to_categorical\n",
    "from keras.callbacks import EarlyStopping\n",
    "from keras import backend as K\n",
    "from keras.layers import Input, Conv2D, Lambda, Dense, Flatten, MaxPooling2D, Dropout\n",
    "from keras.layers.recurrent import LSTM\n",
    "from keras.optimizers import SGD,Adam\n",
    "import keras.metrics\n",
    "from keras.utils import plot_model\n",
    "from src.models import history\n",
    "from keras.callbacks import ModelCheckpoint\n",
    "\n",
    "from src.data import process_audio\n",
    "from src.data import display_audio\n",
    "from src.data import process_audio_siam\n",
    "from src.models import one_shot_learning\n",
    "from src.data import process_audio_VGG16_features\n",
    "from src.models import one_shot_learning_VGG16\n",
    "from src.data import audio_to_features_bal\n",
    "from src.data import balance_data\n",
    "from src.data import reshape\n"
   ]
  },
  {
   "cell_type": "code",
   "execution_count": 3,
   "metadata": {
    "ExecuteTime": {
     "end_time": "2019-12-03T17:16:55.789730Z",
     "start_time": "2019-12-03T17:16:55.632092Z"
    }
   },
   "outputs": [],
   "source": [
    "%load_ext autoreload\n",
    "%autoreload 2"
   ]
  },
  {
   "cell_type": "markdown",
   "metadata": {},
   "source": [
    "# Load data"
   ]
  },
  {
   "cell_type": "code",
   "execution_count": 5,
   "metadata": {
    "ExecuteTime": {
     "end_time": "2019-12-03T01:16:41.777217Z",
     "start_time": "2019-12-03T01:16:12.921892Z"
    }
   },
   "outputs": [
    {
     "data": {
      "text/plain": [
       "(100, 4)"
      ]
     },
     "execution_count": 5,
     "metadata": {},
     "output_type": "execute_result"
    }
   ],
   "source": [
    "# Load train data\n",
    "data_900 = pickle.load(open(\n",
    "    '/Users/greenapple/project5/data/processed/train_data_900.pkl', 'rb'\n",
    ")) # 10 speakers, 10 audios per speaker\n",
    "data_10 = data_900[:100]\n",
    "data_10.shape"
   ]
  },
  {
   "cell_type": "code",
   "execution_count": 6,
   "metadata": {
    "ExecuteTime": {
     "end_time": "2019-12-03T01:16:42.037140Z",
     "start_time": "2019-12-03T01:16:41.783507Z"
    }
   },
   "outputs": [
    {
     "data": {
      "text/plain": [
       "Index(['speaker_id', 'features', 'file_name', 'VGG16_embds'], dtype='object')"
      ]
     },
     "execution_count": 6,
     "metadata": {},
     "output_type": "execute_result"
    }
   ],
   "source": [
    "data_10.columns"
   ]
  },
  {
   "cell_type": "code",
   "execution_count": 7,
   "metadata": {
    "ExecuteTime": {
     "end_time": "2019-12-03T01:16:42.340227Z",
     "start_time": "2019-12-03T01:16:42.054825Z"
    }
   },
   "outputs": [
    {
     "data": {
      "text/plain": [
       "(224, 224, 3)"
      ]
     },
     "execution_count": 7,
     "metadata": {},
     "output_type": "execute_result"
    }
   ],
   "source": [
    "data_10.features[0].shape"
   ]
  },
  {
   "cell_type": "code",
   "execution_count": 8,
   "metadata": {
    "ExecuteTime": {
     "end_time": "2019-12-03T01:17:15.103370Z",
     "start_time": "2019-12-03T01:16:42.357195Z"
    }
   },
   "outputs": [],
   "source": [
    "# Reshape data for the siamese model before modeling\n",
    "_, _, siam_data, siam_data_filtered = process_audio_siam.audio_data_to_siam_features(data_10)"
   ]
  },
  {
   "cell_type": "code",
   "execution_count": 9,
   "metadata": {
    "ExecuteTime": {
     "end_time": "2019-12-03T01:17:15.510759Z",
     "start_time": "2019-12-03T01:17:15.111213Z"
    }
   },
   "outputs": [
    {
     "data": {
      "text/plain": [
       "Index(['siam_targets', 'siam_features', 'siam_pairs_ids', 'file_names',\n",
       "       'siam_same_file', 'siam_same_id'],\n",
       "      dtype='object')"
      ]
     },
     "execution_count": 9,
     "metadata": {},
     "output_type": "execute_result"
    }
   ],
   "source": [
    "siam_data_filtered.columns"
   ]
  },
  {
   "cell_type": "code",
   "execution_count": 10,
   "metadata": {
    "ExecuteTime": {
     "end_time": "2019-12-03T01:17:15.689863Z",
     "start_time": "2019-12-03T01:17:15.526337Z"
    }
   },
   "outputs": [
    {
     "data": {
      "text/plain": [
       "0    9000\n",
       "1     900\n",
       "Name: siam_targets, dtype: int64"
      ]
     },
     "execution_count": 10,
     "metadata": {},
     "output_type": "execute_result"
    }
   ],
   "source": [
    "siam_data_filtered.siam_targets.value_counts()"
   ]
  },
  {
   "cell_type": "code",
   "execution_count": 11,
   "metadata": {
    "ExecuteTime": {
     "end_time": "2019-12-03T01:17:16.034436Z",
     "start_time": "2019-12-03T01:17:15.698501Z"
    }
   },
   "outputs": [],
   "source": [
    "# Undersample data\n",
    "X, y = balance_data.under_sample(siam_data_filtered)"
   ]
  },
  {
   "cell_type": "code",
   "execution_count": 12,
   "metadata": {
    "ExecuteTime": {
     "end_time": "2019-12-03T01:17:19.889655Z",
     "start_time": "2019-12-03T01:17:16.051901Z"
    }
   },
   "outputs": [],
   "source": [
    "# Convert data to a tensor\n",
    "X, y = reshape.reshape_for_cnn(X, y)"
   ]
  },
  {
   "cell_type": "code",
   "execution_count": 13,
   "metadata": {
    "ExecuteTime": {
     "end_time": "2019-12-03T01:17:20.195604Z",
     "start_time": "2019-12-03T01:17:19.912732Z"
    }
   },
   "outputs": [
    {
     "data": {
      "text/plain": [
       "(1800, 2, 224, 224, 3)"
      ]
     },
     "execution_count": 13,
     "metadata": {},
     "output_type": "execute_result"
    }
   ],
   "source": [
    "X.shape"
   ]
  },
  {
   "cell_type": "code",
   "execution_count": 14,
   "metadata": {
    "ExecuteTime": {
     "end_time": "2019-12-03T01:17:20.974995Z",
     "start_time": "2019-12-03T01:17:20.201519Z"
    }
   },
   "outputs": [],
   "source": [
    "# Load test data\n",
    "test_data_40 = pickle.load(\n",
    "    open('/Users/greenapple/project5/data/processed/test_data_40.pkl', 'rb')\n",
    ")"
   ]
  },
  {
   "cell_type": "code",
   "execution_count": 15,
   "metadata": {
    "ExecuteTime": {
     "end_time": "2019-12-03T01:17:21.185363Z",
     "start_time": "2019-12-03T01:17:20.978246Z"
    }
   },
   "outputs": [
    {
     "data": {
      "text/plain": [
       "0    9000\n",
       "1     900\n",
       "Name: siam_targets, dtype: int64"
      ]
     },
     "execution_count": 15,
     "metadata": {},
     "output_type": "execute_result"
    }
   ],
   "source": [
    "# Assess train data for class distribution\n",
    "siam_data_filtered.siam_targets.value_counts()"
   ]
  },
  {
   "cell_type": "code",
   "execution_count": 16,
   "metadata": {
    "ExecuteTime": {
     "end_time": "2019-12-03T01:25:49.567943Z",
     "start_time": "2019-12-03T01:17:21.188698Z"
    },
    "collapsed": true
   },
   "outputs": [
    {
     "name": "stdout",
     "output_type": "stream",
     "text": [
      "Done with speaker 1, have 10 audio files\n",
      "Done with speaker 2, have 10 audio files\n",
      "Done with speaker 3, have 10 audio files\n",
      "Done with speaker 4, have 10 audio files\n",
      "Done with speaker 5, have 10 audio files\n",
      "Done with speaker 6, have 10 audio files\n",
      "Done with speaker 7, have 10 audio files\n",
      "Done with speaker 8, have 10 audio files\n",
      "Done with speaker 9, have 10 audio files\n",
      "Done with speaker 10, have 10 audio files\n",
      "Done with speaker 11, have 10 audio files\n",
      "Done with speaker 12, have 10 audio files\n",
      "Done with speaker 13, have 10 audio files\n",
      "Done with speaker 14, have 10 audio files\n",
      "Done with speaker 15, have 10 audio files\n",
      "Done with speaker 16, have 10 audio files\n",
      "Done with speaker 17, have 10 audio files\n",
      "Done with speaker 18, have 10 audio files\n",
      "Done with speaker 19, have 10 audio files\n",
      "Done with speaker 20, have 10 audio files\n",
      "Done with speaker 21, have 10 audio files\n",
      "Done with speaker 22, have 10 audio files\n",
      "Done with speaker 23, have 10 audio files\n",
      "Done with speaker 24, have 10 audio files\n",
      "Done with speaker 25, have 10 audio files\n",
      "Done with speaker 26, have 10 audio files\n",
      "Done with speaker 27, have 10 audio files\n",
      "Done with speaker 28, have 10 audio files\n",
      "Done with speaker 29, have 10 audio files\n",
      "Done with speaker 30, have 10 audio files\n",
      "Done with speaker 31, have 10 audio files\n",
      "Done with speaker 32, have 10 audio files\n",
      "Done with speaker 33, have 10 audio files\n",
      "Done with speaker 34, have 10 audio files\n",
      "Done with speaker 35, have 10 audio files\n",
      "Done with speaker 36, have 10 audio files\n",
      "Done with speaker 37, have 10 audio files\n",
      "Done with speaker 38, have 10 audio files\n",
      "Done with speaker 39, have 10 audio files\n",
      "Done with speaker 40, have 10 audio files\n",
      "WARNING:tensorflow:From /Users/greenapple/anaconda3/envs/project4/lib/python3.7/site-packages/tensorflow/python/framework/op_def_library.py:263: colocate_with (from tensorflow.python.framework.ops) is deprecated and will be removed in a future version.\n",
      "Instructions for updating:\n",
      "Colocations handled automatically by placer.\n"
     ]
    }
   ],
   "source": [
    "# Load validation data\n",
    "val_data_path = '/Users/greenapple/project5/data/raw/LibriSpeech/dev-clean'\n",
    "speaker_start = 0\n",
    "speaker_stop = 40\n",
    "\n",
    "val_data_40 = process_audio_VGG16_features.ten_audio_to_VGG16_features(\n",
    "    val_data_path, \n",
    "    speaker_start, \n",
    "    speaker_stop)\n"
   ]
  },
  {
   "cell_type": "code",
   "execution_count": 17,
   "metadata": {
    "ExecuteTime": {
     "end_time": "2019-12-03T01:25:49.915604Z",
     "start_time": "2019-12-03T01:25:49.575766Z"
    }
   },
   "outputs": [
    {
     "data": {
      "text/plain": [
       "Index(['speaker_id', 'features', 'file_name', 'VGG16_embds'], dtype='object')"
      ]
     },
     "execution_count": 17,
     "metadata": {},
     "output_type": "execute_result"
    }
   ],
   "source": [
    "val_data_40.columns"
   ]
  },
  {
   "cell_type": "code",
   "execution_count": 49,
   "metadata": {
    "ExecuteTime": {
     "end_time": "2019-11-30T20:47:48.912996Z",
     "start_time": "2019-11-30T20:47:47.792051Z"
    }
   },
   "outputs": [],
   "source": [
    "pickle.dump(val_data_40, open('/Users/greenapple/project5/data/processed/val_data_40.pkl','wb'))"
   ]
  },
  {
   "cell_type": "code",
   "execution_count": 18,
   "metadata": {
    "ExecuteTime": {
     "end_time": "2019-12-03T01:25:50.752348Z",
     "start_time": "2019-12-03T01:25:49.920299Z"
    }
   },
   "outputs": [],
   "source": [
    "# Load train data\n",
    "val_data_40 = pickle.load(open(\n",
    "    '/Users/greenapple/project5/data/processed/val_data_40.pkl', 'rb'))"
   ]
  },
  {
   "cell_type": "code",
   "execution_count": 19,
   "metadata": {
    "ExecuteTime": {
     "end_time": "2019-12-03T01:25:52.343936Z",
     "start_time": "2019-12-03T01:25:50.755150Z"
    }
   },
   "outputs": [
    {
     "data": {
      "text/plain": [
       "((360, 2, 224, 224, 3), (360,))"
      ]
     },
     "execution_count": 19,
     "metadata": {},
     "output_type": "execute_result"
    }
   ],
   "source": [
    "# Use a set of validation data\n",
    "val_data_2 = val_data_40[:20]\n",
    "\n",
    "# Reshape data for the siamese model before modeling\n",
    "_, _, val_siam_data, val_siam_data_filtered = process_audio_siam.audio_data_to_siam_features(val_data_2)\n",
    "\n",
    "# Undersample data\n",
    "X_val, y_val = balance_data.under_sample(val_siam_data_filtered)\n",
    "\n",
    "# Convert data to a tensor\n",
    "X_val, y_val = reshape.reshape_for_cnn(X_val, y_val)\n",
    "\n",
    "X_val.shape, y_val.shape"
   ]
  },
  {
   "cell_type": "markdown",
   "metadata": {},
   "source": [
    "# Load data"
   ]
  },
  {
   "cell_type": "markdown",
   "metadata": {},
   "source": [
    "## Train data"
   ]
  },
  {
   "cell_type": "code",
   "execution_count": 80,
   "metadata": {
    "ExecuteTime": {
     "end_time": "2019-12-03T02:59:53.663836Z",
     "start_time": "2019-12-03T02:58:55.653625Z"
    },
    "collapsed": true
   },
   "outputs": [
    {
     "name": "stdout",
     "output_type": "stream",
     "text": [
      "Done with speaker 1, have 10 audio files\n",
      "Done with speaker 2, have 10 audio files\n",
      "Done with speaker 3, have 10 audio files\n",
      "Done with speaker 4, have 10 audio files\n",
      "Done with speaker 5, have 10 audio files\n",
      "Done with speaker 6, have 10 audio files\n",
      "Done with speaker 7, have 10 audio files\n",
      "Done with speaker 8, have 10 audio files\n",
      "Done with speaker 9, have 10 audio files\n",
      "Done with speaker 10, have 10 audio files\n",
      "Done with speaker 11, have 10 audio files\n",
      "Done with speaker 12, have 10 audio files\n",
      "Done with speaker 13, have 10 audio files\n",
      "Done with speaker 14, have 10 audio files\n",
      "Done with speaker 15, have 10 audio files\n",
      "Done with speaker 16, have 10 audio files\n",
      "Done with speaker 17, have 10 audio files\n",
      "Done with speaker 18, have 10 audio files\n",
      "Done with speaker 19, have 10 audio files\n",
      "Done with speaker 20, have 10 audio files\n",
      "Done with speaker 21, have 10 audio files\n",
      "Done with speaker 22, have 10 audio files\n",
      "Done with speaker 23, have 10 audio files\n",
      "Done with speaker 24, have 10 audio files\n",
      "Done with speaker 25, have 10 audio files\n",
      "Done with speaker 26, have 10 audio files\n",
      "Done with speaker 27, have 10 audio files\n",
      "Done with speaker 28, have 10 audio files\n",
      "Done with speaker 29, have 10 audio files\n",
      "Done with speaker 30, have 10 audio files\n",
      "Done with speaker 31, have 10 audio files\n",
      "Done with speaker 32, have 10 audio files\n",
      "Done with speaker 33, have 10 audio files\n",
      "Done with speaker 34, have 10 audio files\n",
      "Done with speaker 35, have 10 audio files\n",
      "Done with speaker 36, have 10 audio files\n",
      "Done with speaker 37, have 10 audio files\n",
      "Done with speaker 38, have 10 audio files\n",
      "Done with speaker 39, have 10 audio files\n",
      "Done with speaker 40, have 10 audio files\n",
      "Done with speaker 41, have 10 audio files\n",
      "Done with speaker 42, have 10 audio files\n",
      "Done with speaker 43, have 10 audio files\n",
      "Done with speaker 44, have 10 audio files\n",
      "Done with speaker 45, have 10 audio files\n",
      "Done with speaker 46, have 10 audio files\n",
      "Done with speaker 47, have 10 audio files\n",
      "Done with speaker 48, have 10 audio files\n",
      "Done with speaker 49, have 10 audio files\n",
      "Done with speaker 50, have 10 audio files\n",
      "Done with speaker 51, have 10 audio files\n",
      "Done with speaker 52, have 10 audio files\n",
      "Done with speaker 53, have 10 audio files\n",
      "Done with speaker 54, have 10 audio files\n",
      "Done with speaker 55, have 10 audio files\n",
      "Done with speaker 56, have 10 audio files\n",
      "Done with speaker 57, have 10 audio files\n",
      "Done with speaker 58, have 10 audio files\n",
      "Done with speaker 59, have 10 audio files\n",
      "Done with speaker 60, have 10 audio files\n",
      "Done with speaker 61, have 10 audio files\n",
      "Done with speaker 62, have 10 audio files\n",
      "Done with speaker 63, have 10 audio files\n",
      "Done with speaker 64, have 10 audio files\n",
      "Done with speaker 65, have 10 audio files\n",
      "Done with speaker 66, have 10 audio files\n",
      "Done with speaker 67, have 10 audio files\n",
      "Done with speaker 68, have 10 audio files\n",
      "Done with speaker 69, have 10 audio files\n",
      "Done with speaker 70, have 10 audio files\n",
      "Done with speaker 71, have 10 audio files\n",
      "Done with speaker 72, have 10 audio files\n",
      "Done with speaker 73, have 10 audio files\n",
      "Done with speaker 74, have 10 audio files\n",
      "Done with speaker 75, have 10 audio files\n",
      "Done with speaker 76, have 10 audio files\n",
      "Done with speaker 77, have 10 audio files\n",
      "Done with speaker 78, have 10 audio files\n",
      "Done with speaker 79, have 10 audio files\n",
      "Done with speaker 80, have 10 audio files\n",
      "Done with speaker 81, have 10 audio files\n",
      "Done with speaker 82, have 10 audio files\n",
      "Done with speaker 83, have 10 audio files\n",
      "Done with speaker 84, have 10 audio files\n",
      "Done with speaker 85, have 10 audio files\n",
      "Done with speaker 86, have 10 audio files\n",
      "Done with speaker 87, have 10 audio files\n",
      "Done with speaker 88, have 10 audio files\n",
      "Done with speaker 89, have 10 audio files\n",
      "Done with speaker 90, have 10 audio files\n",
      "Done with speaker 91, have 10 audio files\n",
      "Done with speaker 92, have 10 audio files\n",
      "Done with speaker 93, have 10 audio files\n",
      "Done with speaker 94, have 10 audio files\n",
      "Done with speaker 95, have 10 audio files\n",
      "Done with speaker 96, have 10 audio files\n",
      "Done with speaker 97, have 10 audio files\n",
      "Done with speaker 98, have 10 audio files\n",
      "Done with speaker 99, have 10 audio files\n",
      "Done with speaker 100, have 10 audio files\n"
     ]
    }
   ],
   "source": [
    "path = '/Users/greenapple/project5/data/raw/LibriSpeech/train-clean-360'\n",
    "speaker_start = 0\n",
    "speaker_stop = 100\n",
    "\n",
    "train_data_100 = process_audio.ten_audio_to_spectrogram_features_LSTM(\n",
    "    path, speaker_start, speaker_stop)"
   ]
  },
  {
   "cell_type": "code",
   "execution_count": 81,
   "metadata": {
    "ExecuteTime": {
     "end_time": "2019-12-03T03:00:04.784433Z",
     "start_time": "2019-12-03T03:00:04.687764Z"
    }
   },
   "outputs": [
    {
     "data": {
      "text/plain": [
       "(1000, 3)"
      ]
     },
     "execution_count": 81,
     "metadata": {},
     "output_type": "execute_result"
    }
   ],
   "source": [
    "train_data_100.shape"
   ]
  },
  {
   "cell_type": "code",
   "execution_count": 85,
   "metadata": {
    "ExecuteTime": {
     "end_time": "2019-12-03T03:03:24.138749Z",
     "start_time": "2019-12-03T03:03:20.401889Z"
    }
   },
   "outputs": [],
   "source": [
    "X, y, siam_data, X_res_data = process_audio_siam.dataframe_to_siamese_features_LSTM(train_data_100)"
   ]
  },
  {
   "cell_type": "code",
   "execution_count": 86,
   "metadata": {
    "ExecuteTime": {
     "end_time": "2019-12-03T03:03:49.454281Z",
     "start_time": "2019-12-03T03:03:49.345498Z"
    }
   },
   "outputs": [
    {
     "data": {
      "text/plain": [
       "(9000, 2, 224, 224)"
      ]
     },
     "execution_count": 86,
     "metadata": {},
     "output_type": "execute_result"
    }
   ],
   "source": [
    "X.shape"
   ]
  },
  {
   "cell_type": "markdown",
   "metadata": {},
   "source": [
    "#### 900 speakers"
   ]
  },
  {
   "cell_type": "code",
   "execution_count": 6,
   "metadata": {
    "ExecuteTime": {
     "end_time": "2019-12-03T14:58:06.526722Z",
     "start_time": "2019-12-03T14:51:17.136625Z"
    },
    "collapsed": true
   },
   "outputs": [
    {
     "name": "stdout",
     "output_type": "stream",
     "text": [
      "Done with speaker 1, have 10 audio files\n",
      "Done with speaker 2, have 10 audio files\n",
      "Done with speaker 3, have 10 audio files\n",
      "Done with speaker 4, have 10 audio files\n",
      "Done with speaker 5, have 10 audio files\n",
      "Done with speaker 6, have 10 audio files\n",
      "Done with speaker 7, have 10 audio files\n",
      "Done with speaker 8, have 10 audio files\n",
      "Done with speaker 9, have 10 audio files\n",
      "Done with speaker 10, have 10 audio files\n",
      "Done with speaker 11, have 10 audio files\n",
      "Done with speaker 12, have 10 audio files\n",
      "Done with speaker 13, have 10 audio files\n",
      "Done with speaker 14, have 10 audio files\n",
      "Done with speaker 15, have 10 audio files\n",
      "Done with speaker 16, have 10 audio files\n",
      "Done with speaker 17, have 10 audio files\n",
      "Done with speaker 18, have 10 audio files\n",
      "Done with speaker 19, have 10 audio files\n",
      "Done with speaker 20, have 10 audio files\n",
      "Done with speaker 21, have 10 audio files\n",
      "Done with speaker 22, have 10 audio files\n",
      "Done with speaker 23, have 10 audio files\n",
      "Done with speaker 24, have 10 audio files\n",
      "Done with speaker 25, have 10 audio files\n",
      "Done with speaker 26, have 10 audio files\n",
      "Done with speaker 27, have 10 audio files\n",
      "Done with speaker 28, have 10 audio files\n",
      "Done with speaker 29, have 10 audio files\n",
      "Done with speaker 30, have 10 audio files\n",
      "Done with speaker 31, have 10 audio files\n",
      "Done with speaker 32, have 10 audio files\n",
      "Done with speaker 33, have 10 audio files\n",
      "Done with speaker 34, have 10 audio files\n",
      "Done with speaker 35, have 10 audio files\n",
      "Done with speaker 36, have 10 audio files\n",
      "Done with speaker 37, have 10 audio files\n",
      "Done with speaker 38, have 10 audio files\n",
      "Done with speaker 39, have 10 audio files\n",
      "Done with speaker 40, have 10 audio files\n",
      "Done with speaker 41, have 10 audio files\n",
      "Done with speaker 42, have 10 audio files\n",
      "Done with speaker 43, have 10 audio files\n",
      "Done with speaker 44, have 10 audio files\n",
      "Done with speaker 45, have 10 audio files\n",
      "Done with speaker 46, have 10 audio files\n",
      "Done with speaker 47, have 10 audio files\n",
      "Done with speaker 48, have 10 audio files\n",
      "Done with speaker 49, have 10 audio files\n",
      "Done with speaker 50, have 10 audio files\n",
      "Done with speaker 51, have 10 audio files\n",
      "Done with speaker 52, have 10 audio files\n",
      "Done with speaker 53, have 10 audio files\n",
      "Done with speaker 54, have 10 audio files\n",
      "Done with speaker 55, have 10 audio files\n",
      "Done with speaker 56, have 10 audio files\n",
      "Done with speaker 57, have 10 audio files\n",
      "Done with speaker 58, have 10 audio files\n",
      "Done with speaker 59, have 10 audio files\n",
      "Done with speaker 60, have 10 audio files\n",
      "Done with speaker 61, have 10 audio files\n",
      "Done with speaker 62, have 10 audio files\n",
      "Done with speaker 63, have 10 audio files\n",
      "Done with speaker 64, have 10 audio files\n",
      "Done with speaker 65, have 10 audio files\n",
      "Done with speaker 66, have 10 audio files\n",
      "Done with speaker 67, have 10 audio files\n",
      "Done with speaker 68, have 10 audio files\n",
      "Done with speaker 69, have 10 audio files\n",
      "Done with speaker 70, have 10 audio files\n",
      "Done with speaker 71, have 10 audio files\n",
      "Done with speaker 72, have 10 audio files\n",
      "Done with speaker 73, have 10 audio files\n",
      "Done with speaker 74, have 10 audio files\n",
      "Done with speaker 75, have 10 audio files\n",
      "Done with speaker 76, have 10 audio files\n",
      "Done with speaker 77, have 10 audio files\n",
      "Done with speaker 78, have 10 audio files\n",
      "Done with speaker 79, have 10 audio files\n",
      "Done with speaker 80, have 10 audio files\n",
      "Done with speaker 81, have 10 audio files\n",
      "Done with speaker 82, have 10 audio files\n",
      "Done with speaker 83, have 10 audio files\n",
      "Done with speaker 84, have 10 audio files\n",
      "Done with speaker 85, have 10 audio files\n",
      "Done with speaker 86, have 10 audio files\n",
      "Done with speaker 87, have 10 audio files\n",
      "Done with speaker 88, have 10 audio files\n",
      "Done with speaker 89, have 10 audio files\n",
      "Done with speaker 90, have 10 audio files\n",
      "Done with speaker 91, have 10 audio files\n",
      "Done with speaker 92, have 10 audio files\n",
      "Done with speaker 93, have 10 audio files\n",
      "Done with speaker 94, have 10 audio files\n",
      "Done with speaker 95, have 10 audio files\n",
      "Done with speaker 96, have 10 audio files\n",
      "Done with speaker 97, have 10 audio files\n",
      "Done with speaker 98, have 10 audio files\n",
      "Done with speaker 99, have 10 audio files\n",
      "Done with speaker 100, have 10 audio files\n",
      "Done with speaker 101, have 10 audio files\n",
      "Done with speaker 102, have 10 audio files\n",
      "Done with speaker 103, have 10 audio files\n",
      "Done with speaker 104, have 10 audio files\n",
      "Done with speaker 105, have 10 audio files\n",
      "Done with speaker 106, have 10 audio files\n",
      "Done with speaker 107, have 10 audio files\n",
      "Done with speaker 108, have 10 audio files\n",
      "Done with speaker 109, have 10 audio files\n",
      "Done with speaker 110, have 10 audio files\n",
      "Done with speaker 111, have 10 audio files\n",
      "Done with speaker 112, have 10 audio files\n",
      "Done with speaker 113, have 10 audio files\n",
      "Done with speaker 114, have 10 audio files\n",
      "Done with speaker 115, have 10 audio files\n",
      "Done with speaker 116, have 10 audio files\n",
      "Done with speaker 117, have 10 audio files\n",
      "Done with speaker 118, have 10 audio files\n",
      "Done with speaker 119, have 10 audio files\n",
      "Done with speaker 120, have 10 audio files\n",
      "Done with speaker 121, have 10 audio files\n",
      "Done with speaker 122, have 10 audio files\n",
      "Done with speaker 123, have 10 audio files\n",
      "Done with speaker 124, have 10 audio files\n",
      "Done with speaker 125, have 10 audio files\n",
      "Done with speaker 126, have 10 audio files\n",
      "Done with speaker 127, have 10 audio files\n",
      "Done with speaker 128, have 10 audio files\n",
      "Done with speaker 129, have 10 audio files\n",
      "Done with speaker 130, have 10 audio files\n",
      "Done with speaker 131, have 10 audio files\n",
      "Done with speaker 132, have 10 audio files\n",
      "Done with speaker 133, have 10 audio files\n",
      "Done with speaker 134, have 10 audio files\n",
      "Done with speaker 135, have 10 audio files\n",
      "Done with speaker 136, have 10 audio files\n",
      "Done with speaker 137, have 10 audio files\n",
      "Done with speaker 138, have 10 audio files\n",
      "Done with speaker 139, have 10 audio files\n",
      "Done with speaker 140, have 10 audio files\n",
      "Done with speaker 141, have 10 audio files\n",
      "Done with speaker 142, have 10 audio files\n",
      "Done with speaker 143, have 10 audio files\n",
      "Done with speaker 144, have 10 audio files\n",
      "Done with speaker 145, have 10 audio files\n",
      "Done with speaker 146, have 10 audio files\n",
      "Done with speaker 147, have 10 audio files\n",
      "Done with speaker 148, have 10 audio files\n",
      "Done with speaker 149, have 10 audio files\n",
      "Done with speaker 150, have 10 audio files\n",
      "Done with speaker 151, have 10 audio files\n",
      "Done with speaker 152, have 10 audio files\n",
      "Done with speaker 153, have 10 audio files\n",
      "Done with speaker 154, have 10 audio files\n",
      "Done with speaker 155, have 10 audio files\n",
      "Done with speaker 156, have 10 audio files\n",
      "Done with speaker 157, have 10 audio files\n",
      "Done with speaker 158, have 10 audio files\n",
      "Done with speaker 159, have 10 audio files\n",
      "Done with speaker 160, have 10 audio files\n",
      "Done with speaker 161, have 10 audio files\n",
      "Done with speaker 162, have 10 audio files\n",
      "Done with speaker 163, have 10 audio files\n",
      "Done with speaker 164, have 10 audio files\n",
      "Done with speaker 165, have 10 audio files\n",
      "Done with speaker 166, have 10 audio files\n",
      "Done with speaker 167, have 10 audio files\n",
      "Done with speaker 168, have 10 audio files\n",
      "Done with speaker 169, have 10 audio files\n",
      "Done with speaker 170, have 10 audio files\n",
      "Done with speaker 171, have 10 audio files\n",
      "Done with speaker 172, have 10 audio files\n",
      "Done with speaker 173, have 10 audio files\n",
      "Done with speaker 174, have 10 audio files\n",
      "Done with speaker 175, have 10 audio files\n",
      "Done with speaker 176, have 10 audio files\n",
      "Done with speaker 177, have 10 audio files\n",
      "Done with speaker 178, have 10 audio files\n",
      "Done with speaker 179, have 10 audio files\n",
      "Done with speaker 180, have 10 audio files\n",
      "Done with speaker 181, have 10 audio files\n",
      "Done with speaker 182, have 10 audio files\n",
      "Done with speaker 183, have 10 audio files\n",
      "Done with speaker 184, have 10 audio files\n",
      "Done with speaker 185, have 10 audio files\n",
      "Done with speaker 186, have 10 audio files\n",
      "Done with speaker 187, have 10 audio files\n",
      "Done with speaker 188, have 10 audio files\n",
      "Done with speaker 189, have 10 audio files\n",
      "Done with speaker 190, have 10 audio files\n",
      "Done with speaker 191, have 10 audio files\n",
      "Done with speaker 192, have 10 audio files\n",
      "Done with speaker 193, have 10 audio files\n",
      "Done with speaker 194, have 10 audio files\n",
      "Done with speaker 195, have 10 audio files\n",
      "Done with speaker 196, have 10 audio files\n",
      "Done with speaker 197, have 10 audio files\n",
      "Done with speaker 198, have 10 audio files\n",
      "Done with speaker 199, have 10 audio files\n",
      "Done with speaker 200, have 10 audio files\n",
      "Done with speaker 201, have 10 audio files\n",
      "Done with speaker 202, have 10 audio files\n",
      "Done with speaker 203, have 10 audio files\n",
      "Done with speaker 204, have 10 audio files\n",
      "Done with speaker 205, have 10 audio files\n",
      "Done with speaker 206, have 10 audio files\n",
      "Done with speaker 207, have 10 audio files\n",
      "Done with speaker 208, have 10 audio files\n",
      "Done with speaker 209, have 10 audio files\n",
      "Done with speaker 210, have 10 audio files\n",
      "Done with speaker 211, have 10 audio files\n",
      "Done with speaker 212, have 10 audio files\n",
      "Done with speaker 213, have 10 audio files\n",
      "Done with speaker 214, have 10 audio files\n",
      "Done with speaker 215, have 10 audio files\n",
      "Done with speaker 216, have 10 audio files\n",
      "Done with speaker 217, have 10 audio files\n",
      "Done with speaker 218, have 10 audio files\n",
      "Done with speaker 219, have 10 audio files\n",
      "Done with speaker 220, have 10 audio files\n",
      "Done with speaker 221, have 10 audio files\n",
      "Done with speaker 222, have 10 audio files\n",
      "Done with speaker 223, have 10 audio files\n",
      "Done with speaker 224, have 10 audio files\n",
      "Done with speaker 225, have 10 audio files\n",
      "Done with speaker 226, have 10 audio files\n",
      "Done with speaker 227, have 10 audio files\n",
      "Done with speaker 228, have 10 audio files\n",
      "Done with speaker 229, have 10 audio files\n",
      "Done with speaker 230, have 10 audio files\n",
      "Done with speaker 231, have 10 audio files\n",
      "Done with speaker 232, have 10 audio files\n",
      "Done with speaker 233, have 10 audio files\n",
      "Done with speaker 234, have 10 audio files\n",
      "Done with speaker 235, have 10 audio files\n",
      "Done with speaker 236, have 10 audio files\n"
     ]
    },
    {
     "name": "stdout",
     "output_type": "stream",
     "text": [
      "Done with speaker 237, have 10 audio files\n",
      "Done with speaker 238, have 10 audio files\n",
      "Done with speaker 239, have 10 audio files\n",
      "Done with speaker 240, have 10 audio files\n",
      "Done with speaker 241, have 10 audio files\n",
      "Done with speaker 242, have 10 audio files\n",
      "Done with speaker 243, have 10 audio files\n",
      "Done with speaker 244, have 10 audio files\n",
      "Done with speaker 245, have 10 audio files\n",
      "Done with speaker 246, have 10 audio files\n",
      "Done with speaker 247, have 10 audio files\n",
      "Done with speaker 248, have 10 audio files\n",
      "Done with speaker 249, have 10 audio files\n",
      "Done with speaker 250, have 10 audio files\n",
      "Done with speaker 251, have 10 audio files\n",
      "Done with speaker 252, have 10 audio files\n",
      "Done with speaker 253, have 10 audio files\n",
      "Done with speaker 254, have 10 audio files\n",
      "Done with speaker 255, have 10 audio files\n",
      "Done with speaker 256, have 10 audio files\n",
      "Done with speaker 257, have 10 audio files\n",
      "Done with speaker 258, have 10 audio files\n",
      "Done with speaker 259, have 10 audio files\n",
      "Done with speaker 260, have 10 audio files\n",
      "Done with speaker 261, have 10 audio files\n",
      "Done with speaker 262, have 10 audio files\n",
      "Done with speaker 263, have 10 audio files\n",
      "Done with speaker 264, have 10 audio files\n",
      "Done with speaker 265, have 10 audio files\n",
      "Done with speaker 266, have 10 audio files\n",
      "Done with speaker 267, have 10 audio files\n",
      "Done with speaker 268, have 10 audio files\n",
      "Done with speaker 269, have 10 audio files\n",
      "Done with speaker 270, have 10 audio files\n",
      "Done with speaker 271, have 10 audio files\n",
      "Done with speaker 272, have 10 audio files\n",
      "Done with speaker 273, have 10 audio files\n",
      "Done with speaker 274, have 10 audio files\n",
      "Done with speaker 275, have 10 audio files\n",
      "Done with speaker 276, have 10 audio files\n",
      "Done with speaker 277, have 10 audio files\n",
      "Done with speaker 278, have 10 audio files\n",
      "Done with speaker 279, have 10 audio files\n",
      "Done with speaker 280, have 10 audio files\n",
      "Done with speaker 281, have 10 audio files\n",
      "Done with speaker 282, have 10 audio files\n",
      "Done with speaker 283, have 10 audio files\n",
      "Done with speaker 284, have 10 audio files\n",
      "Done with speaker 285, have 10 audio files\n",
      "Done with speaker 286, have 10 audio files\n",
      "Done with speaker 287, have 10 audio files\n",
      "Done with speaker 288, have 10 audio files\n",
      "Done with speaker 289, have 10 audio files\n",
      "Done with speaker 290, have 10 audio files\n",
      "Done with speaker 291, have 10 audio files\n",
      "Done with speaker 292, have 10 audio files\n",
      "Done with speaker 293, have 10 audio files\n",
      "Done with speaker 294, have 10 audio files\n",
      "Done with speaker 295, have 10 audio files\n",
      "Done with speaker 296, have 10 audio files\n",
      "Done with speaker 297, have 10 audio files\n",
      "Done with speaker 298, have 10 audio files\n",
      "Done with speaker 299, have 10 audio files\n",
      "Done with speaker 300, have 10 audio files\n",
      "Done with speaker 301, have 10 audio files\n",
      "Done with speaker 302, have 10 audio files\n",
      "Done with speaker 303, have 10 audio files\n",
      "Done with speaker 304, have 10 audio files\n",
      "Done with speaker 305, have 10 audio files\n",
      "Done with speaker 306, have 10 audio files\n",
      "Done with speaker 307, have 10 audio files\n",
      "Done with speaker 308, have 10 audio files\n",
      "Done with speaker 309, have 10 audio files\n",
      "Done with speaker 310, have 10 audio files\n",
      "Done with speaker 311, have 10 audio files\n",
      "Done with speaker 312, have 10 audio files\n",
      "Done with speaker 313, have 10 audio files\n",
      "Done with speaker 314, have 10 audio files\n",
      "Done with speaker 315, have 10 audio files\n",
      "Done with speaker 316, have 10 audio files\n",
      "Done with speaker 317, have 10 audio files\n",
      "Done with speaker 318, have 10 audio files\n",
      "Done with speaker 319, have 10 audio files\n",
      "Done with speaker 320, have 10 audio files\n",
      "Done with speaker 321, have 10 audio files\n",
      "Done with speaker 322, have 10 audio files\n",
      "Done with speaker 323, have 10 audio files\n",
      "Done with speaker 324, have 10 audio files\n",
      "Done with speaker 325, have 10 audio files\n",
      "Done with speaker 326, have 10 audio files\n",
      "Done with speaker 327, have 10 audio files\n",
      "Done with speaker 328, have 10 audio files\n",
      "Done with speaker 329, have 10 audio files\n",
      "Done with speaker 330, have 10 audio files\n",
      "Done with speaker 331, have 10 audio files\n",
      "Done with speaker 332, have 10 audio files\n",
      "Done with speaker 333, have 10 audio files\n",
      "Done with speaker 334, have 10 audio files\n",
      "Done with speaker 335, have 10 audio files\n",
      "Done with speaker 336, have 10 audio files\n",
      "Done with speaker 337, have 10 audio files\n",
      "Done with speaker 338, have 10 audio files\n",
      "Done with speaker 339, have 10 audio files\n",
      "Done with speaker 340, have 10 audio files\n",
      "Done with speaker 341, have 10 audio files\n",
      "Done with speaker 342, have 10 audio files\n",
      "Done with speaker 343, have 10 audio files\n",
      "Done with speaker 344, have 10 audio files\n",
      "Done with speaker 345, have 10 audio files\n",
      "Done with speaker 346, have 10 audio files\n",
      "Done with speaker 347, have 10 audio files\n",
      "Done with speaker 348, have 10 audio files\n",
      "Done with speaker 349, have 10 audio files\n",
      "Done with speaker 350, have 10 audio files\n",
      "Done with speaker 351, have 10 audio files\n",
      "Done with speaker 352, have 10 audio files\n",
      "Done with speaker 353, have 10 audio files\n",
      "Done with speaker 354, have 10 audio files\n",
      "Done with speaker 355, have 10 audio files\n",
      "Done with speaker 356, have 10 audio files\n",
      "Done with speaker 357, have 10 audio files\n",
      "Done with speaker 358, have 10 audio files\n",
      "Done with speaker 359, have 10 audio files\n",
      "Done with speaker 360, have 10 audio files\n",
      "Done with speaker 361, have 10 audio files\n",
      "Done with speaker 362, have 10 audio files\n",
      "Done with speaker 363, have 10 audio files\n",
      "Done with speaker 364, have 10 audio files\n",
      "Done with speaker 365, have 10 audio files\n",
      "Done with speaker 366, have 10 audio files\n",
      "Done with speaker 367, have 10 audio files\n",
      "Done with speaker 368, have 10 audio files\n",
      "Done with speaker 369, have 10 audio files\n",
      "Done with speaker 370, have 10 audio files\n",
      "Done with speaker 371, have 10 audio files\n",
      "Done with speaker 372, have 10 audio files\n",
      "Done with speaker 373, have 10 audio files\n",
      "Done with speaker 374, have 10 audio files\n",
      "Done with speaker 375, have 10 audio files\n",
      "Done with speaker 376, have 10 audio files\n",
      "Done with speaker 377, have 10 audio files\n",
      "Done with speaker 378, have 10 audio files\n",
      "Done with speaker 379, have 10 audio files\n",
      "Done with speaker 380, have 10 audio files\n",
      "Done with speaker 381, have 10 audio files\n",
      "Done with speaker 382, have 10 audio files\n",
      "Done with speaker 383, have 10 audio files\n",
      "Done with speaker 384, have 10 audio files\n",
      "Done with speaker 385, have 10 audio files\n",
      "Done with speaker 386, have 10 audio files\n",
      "Done with speaker 387, have 10 audio files\n",
      "Done with speaker 388, have 10 audio files\n",
      "Done with speaker 389, have 10 audio files\n",
      "Done with speaker 390, have 10 audio files\n",
      "Done with speaker 391, have 10 audio files\n",
      "Done with speaker 392, have 10 audio files\n",
      "Done with speaker 393, have 10 audio files\n",
      "Done with speaker 394, have 10 audio files\n",
      "Done with speaker 395, have 10 audio files\n",
      "Done with speaker 396, have 10 audio files\n",
      "Done with speaker 397, have 10 audio files\n",
      "Done with speaker 398, have 10 audio files\n",
      "Done with speaker 399, have 10 audio files\n",
      "Done with speaker 400, have 10 audio files\n",
      "Done with speaker 401, have 10 audio files\n",
      "Done with speaker 402, have 10 audio files\n",
      "Done with speaker 403, have 10 audio files\n",
      "Done with speaker 404, have 10 audio files\n",
      "Done with speaker 405, have 10 audio files\n",
      "Done with speaker 406, have 10 audio files\n",
      "Done with speaker 407, have 10 audio files\n",
      "Done with speaker 408, have 10 audio files\n",
      "Done with speaker 409, have 10 audio files\n",
      "Done with speaker 410, have 10 audio files\n",
      "Done with speaker 411, have 10 audio files\n",
      "Done with speaker 412, have 10 audio files\n",
      "Done with speaker 413, have 10 audio files\n",
      "Done with speaker 414, have 10 audio files\n",
      "Done with speaker 415, have 10 audio files\n",
      "Done with speaker 416, have 10 audio files\n",
      "Done with speaker 417, have 10 audio files\n",
      "Done with speaker 418, have 10 audio files\n",
      "Done with speaker 419, have 10 audio files\n",
      "Done with speaker 420, have 10 audio files\n",
      "Done with speaker 421, have 10 audio files\n",
      "Done with speaker 422, have 10 audio files\n",
      "Done with speaker 423, have 10 audio files\n",
      "Done with speaker 424, have 10 audio files\n",
      "Done with speaker 425, have 10 audio files\n",
      "Done with speaker 426, have 10 audio files\n",
      "Done with speaker 427, have 10 audio files\n",
      "Done with speaker 428, have 10 audio files\n",
      "Done with speaker 429, have 10 audio files\n",
      "Done with speaker 430, have 10 audio files\n",
      "Done with speaker 431, have 10 audio files\n",
      "Done with speaker 432, have 10 audio files\n",
      "Done with speaker 433, have 10 audio files\n",
      "Done with speaker 434, have 10 audio files\n",
      "Done with speaker 435, have 10 audio files\n",
      "Done with speaker 436, have 10 audio files\n",
      "Done with speaker 437, have 10 audio files\n",
      "Done with speaker 438, have 10 audio files\n",
      "Done with speaker 439, have 10 audio files\n",
      "Done with speaker 440, have 10 audio files\n",
      "Done with speaker 441, have 10 audio files\n",
      "Done with speaker 442, have 10 audio files\n",
      "Done with speaker 443, have 10 audio files\n",
      "Done with speaker 444, have 10 audio files\n",
      "Done with speaker 445, have 10 audio files\n",
      "Done with speaker 446, have 10 audio files\n",
      "Done with speaker 447, have 10 audio files\n",
      "Done with speaker 448, have 10 audio files\n",
      "Done with speaker 449, have 10 audio files\n",
      "Done with speaker 450, have 10 audio files\n",
      "Done with speaker 451, have 10 audio files\n",
      "Done with speaker 452, have 10 audio files\n",
      "Done with speaker 453, have 10 audio files\n",
      "Done with speaker 454, have 10 audio files\n",
      "Done with speaker 455, have 10 audio files\n",
      "Done with speaker 456, have 10 audio files\n",
      "Done with speaker 457, have 10 audio files\n",
      "Done with speaker 458, have 10 audio files\n"
     ]
    },
    {
     "name": "stdout",
     "output_type": "stream",
     "text": [
      "Done with speaker 459, have 10 audio files\n",
      "Done with speaker 460, have 10 audio files\n",
      "Done with speaker 461, have 10 audio files\n",
      "Done with speaker 462, have 10 audio files\n",
      "Done with speaker 463, have 10 audio files\n",
      "Done with speaker 464, have 10 audio files\n",
      "Done with speaker 465, have 10 audio files\n",
      "Done with speaker 466, have 10 audio files\n",
      "Done with speaker 467, have 10 audio files\n",
      "Done with speaker 468, have 10 audio files\n",
      "Done with speaker 469, have 10 audio files\n",
      "Done with speaker 470, have 10 audio files\n",
      "Done with speaker 471, have 10 audio files\n",
      "Done with speaker 472, have 10 audio files\n",
      "Done with speaker 473, have 10 audio files\n",
      "Done with speaker 474, have 10 audio files\n",
      "Done with speaker 475, have 10 audio files\n",
      "Done with speaker 476, have 10 audio files\n",
      "Done with speaker 477, have 10 audio files\n",
      "Done with speaker 478, have 10 audio files\n",
      "Done with speaker 479, have 10 audio files\n",
      "Done with speaker 480, have 10 audio files\n",
      "Done with speaker 481, have 10 audio files\n",
      "Done with speaker 482, have 10 audio files\n",
      "Done with speaker 483, have 10 audio files\n",
      "Done with speaker 484, have 10 audio files\n",
      "Done with speaker 485, have 10 audio files\n",
      "Done with speaker 486, have 10 audio files\n",
      "Done with speaker 487, have 10 audio files\n",
      "Done with speaker 488, have 10 audio files\n",
      "Done with speaker 489, have 10 audio files\n",
      "Done with speaker 490, have 10 audio files\n",
      "Done with speaker 491, have 10 audio files\n",
      "Done with speaker 492, have 10 audio files\n",
      "Done with speaker 493, have 10 audio files\n",
      "Done with speaker 494, have 10 audio files\n",
      "Done with speaker 495, have 10 audio files\n",
      "Done with speaker 496, have 10 audio files\n",
      "Done with speaker 497, have 10 audio files\n",
      "Done with speaker 498, have 10 audio files\n",
      "Done with speaker 499, have 10 audio files\n",
      "Done with speaker 500, have 10 audio files\n",
      "Done with speaker 501, have 10 audio files\n",
      "Done with speaker 502, have 10 audio files\n",
      "Done with speaker 503, have 10 audio files\n",
      "Done with speaker 504, have 10 audio files\n",
      "Done with speaker 505, have 10 audio files\n",
      "Done with speaker 506, have 10 audio files\n",
      "Done with speaker 507, have 10 audio files\n",
      "Done with speaker 508, have 10 audio files\n",
      "Done with speaker 509, have 10 audio files\n",
      "Done with speaker 510, have 10 audio files\n",
      "Done with speaker 511, have 10 audio files\n",
      "Done with speaker 512, have 10 audio files\n",
      "Done with speaker 513, have 10 audio files\n",
      "Done with speaker 514, have 10 audio files\n",
      "Done with speaker 515, have 10 audio files\n",
      "Done with speaker 516, have 10 audio files\n",
      "Done with speaker 517, have 10 audio files\n",
      "Done with speaker 518, have 10 audio files\n",
      "Done with speaker 519, have 10 audio files\n",
      "Done with speaker 520, have 10 audio files\n",
      "Done with speaker 521, have 10 audio files\n",
      "Done with speaker 522, have 10 audio files\n",
      "Done with speaker 523, have 10 audio files\n",
      "Done with speaker 524, have 10 audio files\n",
      "Done with speaker 525, have 10 audio files\n",
      "Done with speaker 526, have 10 audio files\n",
      "Done with speaker 527, have 10 audio files\n",
      "Done with speaker 528, have 10 audio files\n",
      "Done with speaker 529, have 10 audio files\n",
      "Done with speaker 530, have 10 audio files\n",
      "Done with speaker 531, have 10 audio files\n",
      "Done with speaker 532, have 10 audio files\n",
      "Done with speaker 533, have 10 audio files\n",
      "Done with speaker 534, have 10 audio files\n",
      "Done with speaker 535, have 10 audio files\n",
      "Done with speaker 536, have 10 audio files\n",
      "Done with speaker 537, have 10 audio files\n",
      "Done with speaker 538, have 10 audio files\n",
      "Done with speaker 539, have 10 audio files\n",
      "Done with speaker 540, have 10 audio files\n",
      "Done with speaker 541, have 10 audio files\n",
      "Done with speaker 542, have 10 audio files\n",
      "Done with speaker 543, have 10 audio files\n",
      "Done with speaker 544, have 10 audio files\n",
      "Done with speaker 545, have 10 audio files\n",
      "Done with speaker 546, have 10 audio files\n",
      "Done with speaker 547, have 10 audio files\n",
      "Done with speaker 548, have 10 audio files\n",
      "Done with speaker 549, have 10 audio files\n",
      "Done with speaker 550, have 10 audio files\n",
      "Done with speaker 551, have 10 audio files\n",
      "Done with speaker 552, have 10 audio files\n",
      "Done with speaker 553, have 10 audio files\n",
      "Done with speaker 554, have 10 audio files\n",
      "Done with speaker 555, have 10 audio files\n",
      "Done with speaker 556, have 10 audio files\n",
      "Done with speaker 557, have 10 audio files\n",
      "Done with speaker 558, have 10 audio files\n",
      "Done with speaker 559, have 10 audio files\n",
      "Done with speaker 560, have 10 audio files\n",
      "Done with speaker 561, have 10 audio files\n",
      "Done with speaker 562, have 10 audio files\n",
      "Done with speaker 563, have 10 audio files\n",
      "Done with speaker 564, have 10 audio files\n",
      "Done with speaker 565, have 10 audio files\n",
      "Done with speaker 566, have 10 audio files\n",
      "Done with speaker 567, have 10 audio files\n",
      "Done with speaker 568, have 10 audio files\n",
      "Done with speaker 569, have 10 audio files\n",
      "Done with speaker 570, have 10 audio files\n",
      "Done with speaker 571, have 10 audio files\n",
      "Done with speaker 572, have 10 audio files\n",
      "Done with speaker 573, have 10 audio files\n",
      "Done with speaker 574, have 10 audio files\n",
      "Done with speaker 575, have 10 audio files\n",
      "Done with speaker 576, have 10 audio files\n",
      "Done with speaker 577, have 10 audio files\n",
      "Done with speaker 578, have 10 audio files\n",
      "Done with speaker 579, have 10 audio files\n",
      "Done with speaker 580, have 10 audio files\n",
      "Done with speaker 581, have 10 audio files\n",
      "Done with speaker 582, have 10 audio files\n",
      "Done with speaker 583, have 10 audio files\n",
      "Done with speaker 584, have 10 audio files\n",
      "Done with speaker 585, have 10 audio files\n",
      "Done with speaker 586, have 10 audio files\n",
      "Done with speaker 587, have 10 audio files\n",
      "Done with speaker 588, have 10 audio files\n",
      "Done with speaker 589, have 10 audio files\n",
      "Done with speaker 590, have 10 audio files\n",
      "Done with speaker 591, have 10 audio files\n",
      "Done with speaker 592, have 10 audio files\n",
      "Done with speaker 593, have 10 audio files\n",
      "Done with speaker 594, have 10 audio files\n",
      "Done with speaker 595, have 10 audio files\n",
      "Done with speaker 596, have 10 audio files\n",
      "Done with speaker 597, have 10 audio files\n",
      "Done with speaker 598, have 10 audio files\n",
      "Done with speaker 599, have 10 audio files\n",
      "Done with speaker 600, have 10 audio files\n",
      "Done with speaker 601, have 10 audio files\n",
      "Done with speaker 602, have 10 audio files\n",
      "Done with speaker 603, have 10 audio files\n",
      "Done with speaker 604, have 10 audio files\n",
      "Done with speaker 605, have 10 audio files\n",
      "Done with speaker 606, have 10 audio files\n",
      "Done with speaker 607, have 10 audio files\n",
      "Done with speaker 608, have 10 audio files\n",
      "Done with speaker 609, have 10 audio files\n",
      "Done with speaker 610, have 10 audio files\n",
      "Done with speaker 611, have 10 audio files\n",
      "Done with speaker 612, have 10 audio files\n",
      "Done with speaker 613, have 10 audio files\n",
      "Done with speaker 614, have 10 audio files\n",
      "Done with speaker 615, have 10 audio files\n",
      "Done with speaker 616, have 10 audio files\n",
      "Done with speaker 617, have 10 audio files\n",
      "Done with speaker 618, have 10 audio files\n",
      "Done with speaker 619, have 10 audio files\n",
      "Done with speaker 620, have 10 audio files\n",
      "Done with speaker 621, have 10 audio files\n",
      "Done with speaker 622, have 10 audio files\n",
      "Done with speaker 623, have 10 audio files\n",
      "Done with speaker 624, have 10 audio files\n",
      "Done with speaker 625, have 10 audio files\n",
      "Done with speaker 626, have 10 audio files\n",
      "Done with speaker 627, have 10 audio files\n",
      "Done with speaker 628, have 10 audio files\n",
      "Done with speaker 629, have 10 audio files\n",
      "Done with speaker 630, have 10 audio files\n",
      "Done with speaker 631, have 10 audio files\n",
      "Done with speaker 632, have 10 audio files\n",
      "Done with speaker 633, have 10 audio files\n",
      "Done with speaker 634, have 10 audio files\n",
      "Done with speaker 635, have 10 audio files\n",
      "Done with speaker 636, have 10 audio files\n",
      "Done with speaker 637, have 10 audio files\n",
      "Done with speaker 638, have 10 audio files\n",
      "Done with speaker 639, have 10 audio files\n",
      "Done with speaker 640, have 10 audio files\n",
      "Done with speaker 641, have 10 audio files\n",
      "Done with speaker 642, have 10 audio files\n",
      "Done with speaker 643, have 10 audio files\n",
      "Done with speaker 644, have 10 audio files\n",
      "Done with speaker 645, have 10 audio files\n",
      "Done with speaker 646, have 10 audio files\n",
      "Done with speaker 647, have 10 audio files\n",
      "Done with speaker 648, have 10 audio files\n",
      "Done with speaker 649, have 10 audio files\n",
      "Done with speaker 650, have 10 audio files\n",
      "Done with speaker 651, have 10 audio files\n",
      "Done with speaker 652, have 10 audio files\n",
      "Done with speaker 653, have 10 audio files\n",
      "Done with speaker 654, have 10 audio files\n",
      "Done with speaker 655, have 10 audio files\n",
      "Done with speaker 656, have 10 audio files\n",
      "Done with speaker 657, have 10 audio files\n",
      "Done with speaker 658, have 10 audio files\n",
      "Done with speaker 659, have 10 audio files\n",
      "Done with speaker 660, have 10 audio files\n",
      "Done with speaker 661, have 10 audio files\n",
      "Done with speaker 662, have 10 audio files\n",
      "Done with speaker 663, have 10 audio files\n",
      "Done with speaker 664, have 10 audio files\n",
      "Done with speaker 665, have 10 audio files\n",
      "Done with speaker 666, have 10 audio files\n",
      "Done with speaker 667, have 10 audio files\n"
     ]
    },
    {
     "name": "stdout",
     "output_type": "stream",
     "text": [
      "Done with speaker 668, have 10 audio files\n",
      "Done with speaker 669, have 10 audio files\n",
      "Done with speaker 670, have 10 audio files\n",
      "Done with speaker 671, have 10 audio files\n",
      "Done with speaker 672, have 10 audio files\n",
      "Done with speaker 673, have 10 audio files\n",
      "Done with speaker 674, have 10 audio files\n",
      "Done with speaker 675, have 10 audio files\n",
      "Done with speaker 676, have 10 audio files\n",
      "Done with speaker 677, have 10 audio files\n",
      "Done with speaker 678, have 10 audio files\n",
      "Done with speaker 679, have 10 audio files\n",
      "Done with speaker 680, have 10 audio files\n",
      "Done with speaker 681, have 10 audio files\n",
      "Done with speaker 682, have 10 audio files\n",
      "Done with speaker 683, have 10 audio files\n",
      "Done with speaker 684, have 10 audio files\n",
      "Done with speaker 685, have 10 audio files\n",
      "Done with speaker 686, have 10 audio files\n",
      "Done with speaker 687, have 10 audio files\n",
      "Done with speaker 688, have 10 audio files\n",
      "Done with speaker 689, have 10 audio files\n",
      "Done with speaker 690, have 10 audio files\n",
      "Done with speaker 691, have 10 audio files\n",
      "Done with speaker 692, have 10 audio files\n",
      "Done with speaker 693, have 10 audio files\n",
      "Done with speaker 694, have 10 audio files\n",
      "Done with speaker 695, have 10 audio files\n",
      "Done with speaker 696, have 10 audio files\n",
      "Done with speaker 697, have 10 audio files\n",
      "Done with speaker 698, have 10 audio files\n",
      "Done with speaker 699, have 10 audio files\n",
      "Done with speaker 700, have 10 audio files\n",
      "Done with speaker 701, have 10 audio files\n",
      "Done with speaker 702, have 10 audio files\n",
      "Done with speaker 703, have 10 audio files\n",
      "Done with speaker 704, have 10 audio files\n",
      "Done with speaker 705, have 10 audio files\n",
      "Done with speaker 706, have 10 audio files\n",
      "Done with speaker 707, have 10 audio files\n",
      "Done with speaker 708, have 10 audio files\n",
      "Done with speaker 709, have 10 audio files\n",
      "Done with speaker 710, have 10 audio files\n",
      "Done with speaker 711, have 10 audio files\n",
      "Done with speaker 712, have 10 audio files\n",
      "Done with speaker 713, have 10 audio files\n",
      "Done with speaker 714, have 10 audio files\n",
      "Done with speaker 715, have 10 audio files\n",
      "Done with speaker 716, have 10 audio files\n",
      "Done with speaker 717, have 10 audio files\n",
      "Done with speaker 718, have 10 audio files\n",
      "Done with speaker 719, have 10 audio files\n",
      "Done with speaker 720, have 10 audio files\n",
      "Done with speaker 721, have 10 audio files\n",
      "Done with speaker 722, have 10 audio files\n",
      "Done with speaker 723, have 10 audio files\n",
      "Done with speaker 724, have 10 audio files\n",
      "Done with speaker 725, have 10 audio files\n",
      "Done with speaker 726, have 10 audio files\n",
      "Done with speaker 727, have 10 audio files\n",
      "Done with speaker 728, have 10 audio files\n",
      "Done with speaker 729, have 10 audio files\n",
      "Done with speaker 730, have 10 audio files\n",
      "Done with speaker 731, have 10 audio files\n",
      "Done with speaker 732, have 10 audio files\n",
      "Done with speaker 733, have 10 audio files\n",
      "Done with speaker 734, have 10 audio files\n",
      "Done with speaker 735, have 10 audio files\n",
      "Done with speaker 736, have 10 audio files\n",
      "Done with speaker 737, have 10 audio files\n",
      "Done with speaker 738, have 10 audio files\n",
      "Done with speaker 739, have 10 audio files\n",
      "Done with speaker 740, have 10 audio files\n",
      "Done with speaker 741, have 10 audio files\n",
      "Done with speaker 742, have 10 audio files\n",
      "Done with speaker 743, have 10 audio files\n",
      "Done with speaker 744, have 10 audio files\n",
      "Done with speaker 745, have 10 audio files\n",
      "Done with speaker 746, have 10 audio files\n",
      "Done with speaker 747, have 10 audio files\n",
      "Done with speaker 748, have 10 audio files\n",
      "Done with speaker 749, have 10 audio files\n",
      "Done with speaker 750, have 10 audio files\n",
      "Done with speaker 751, have 10 audio files\n",
      "Done with speaker 752, have 10 audio files\n",
      "Done with speaker 753, have 10 audio files\n",
      "Done with speaker 754, have 10 audio files\n",
      "Done with speaker 755, have 10 audio files\n",
      "Done with speaker 756, have 10 audio files\n",
      "Done with speaker 757, have 10 audio files\n",
      "Done with speaker 758, have 10 audio files\n",
      "Done with speaker 759, have 10 audio files\n",
      "Done with speaker 760, have 10 audio files\n",
      "Done with speaker 761, have 10 audio files\n",
      "Done with speaker 762, have 10 audio files\n",
      "Done with speaker 763, have 10 audio files\n",
      "Done with speaker 764, have 10 audio files\n",
      "Done with speaker 765, have 10 audio files\n",
      "Done with speaker 766, have 10 audio files\n",
      "Done with speaker 767, have 10 audio files\n",
      "Done with speaker 768, have 10 audio files\n",
      "Done with speaker 769, have 10 audio files\n",
      "Done with speaker 770, have 10 audio files\n",
      "Done with speaker 771, have 10 audio files\n",
      "Done with speaker 772, have 10 audio files\n",
      "Done with speaker 773, have 10 audio files\n",
      "Done with speaker 774, have 10 audio files\n",
      "Done with speaker 775, have 10 audio files\n",
      "Done with speaker 776, have 10 audio files\n",
      "Done with speaker 777, have 10 audio files\n",
      "Done with speaker 778, have 10 audio files\n",
      "Done with speaker 779, have 10 audio files\n",
      "Done with speaker 780, have 10 audio files\n",
      "Done with speaker 781, have 10 audio files\n",
      "Done with speaker 782, have 10 audio files\n",
      "Done with speaker 783, have 10 audio files\n",
      "Done with speaker 784, have 10 audio files\n",
      "Done with speaker 785, have 10 audio files\n",
      "Done with speaker 786, have 10 audio files\n",
      "Done with speaker 787, have 10 audio files\n",
      "Done with speaker 788, have 10 audio files\n",
      "Done with speaker 789, have 10 audio files\n",
      "Done with speaker 790, have 10 audio files\n",
      "Done with speaker 791, have 10 audio files\n",
      "Done with speaker 792, have 10 audio files\n",
      "Done with speaker 793, have 10 audio files\n",
      "Done with speaker 794, have 10 audio files\n",
      "Done with speaker 795, have 10 audio files\n",
      "Done with speaker 796, have 10 audio files\n",
      "Done with speaker 797, have 10 audio files\n",
      "Done with speaker 798, have 10 audio files\n",
      "Done with speaker 799, have 10 audio files\n",
      "Done with speaker 800, have 10 audio files\n",
      "Done with speaker 801, have 10 audio files\n",
      "Done with speaker 802, have 10 audio files\n",
      "Done with speaker 803, have 10 audio files\n",
      "Done with speaker 804, have 10 audio files\n",
      "Done with speaker 805, have 10 audio files\n",
      "Done with speaker 806, have 10 audio files\n",
      "Done with speaker 807, have 10 audio files\n",
      "Done with speaker 808, have 10 audio files\n",
      "Done with speaker 809, have 10 audio files\n",
      "Done with speaker 810, have 10 audio files\n",
      "Done with speaker 811, have 10 audio files\n",
      "Done with speaker 812, have 10 audio files\n",
      "Done with speaker 813, have 10 audio files\n",
      "Done with speaker 814, have 10 audio files\n",
      "Done with speaker 815, have 10 audio files\n",
      "Done with speaker 816, have 10 audio files\n",
      "Done with speaker 817, have 10 audio files\n",
      "Done with speaker 818, have 10 audio files\n",
      "Done with speaker 819, have 10 audio files\n",
      "Done with speaker 820, have 10 audio files\n",
      "Done with speaker 821, have 10 audio files\n",
      "Done with speaker 822, have 10 audio files\n",
      "Done with speaker 823, have 10 audio files\n",
      "Done with speaker 824, have 10 audio files\n",
      "Done with speaker 825, have 10 audio files\n",
      "Done with speaker 826, have 10 audio files\n",
      "Done with speaker 827, have 10 audio files\n",
      "Done with speaker 828, have 10 audio files\n",
      "Done with speaker 829, have 10 audio files\n",
      "Done with speaker 830, have 10 audio files\n",
      "Done with speaker 831, have 10 audio files\n",
      "Done with speaker 832, have 10 audio files\n",
      "Done with speaker 833, have 10 audio files\n",
      "Done with speaker 834, have 10 audio files\n",
      "Done with speaker 835, have 10 audio files\n",
      "Done with speaker 836, have 10 audio files\n",
      "Done with speaker 837, have 10 audio files\n",
      "Done with speaker 838, have 10 audio files\n",
      "Done with speaker 839, have 10 audio files\n",
      "Done with speaker 840, have 10 audio files\n",
      "Done with speaker 841, have 10 audio files\n",
      "Done with speaker 842, have 10 audio files\n",
      "Done with speaker 843, have 10 audio files\n",
      "Done with speaker 844, have 10 audio files\n",
      "Done with speaker 845, have 10 audio files\n",
      "Done with speaker 846, have 10 audio files\n",
      "Done with speaker 847, have 10 audio files\n",
      "Done with speaker 848, have 10 audio files\n",
      "Done with speaker 849, have 10 audio files\n",
      "Done with speaker 850, have 10 audio files\n",
      "Done with speaker 851, have 10 audio files\n",
      "Done with speaker 852, have 10 audio files\n",
      "Done with speaker 853, have 10 audio files\n",
      "Done with speaker 854, have 10 audio files\n",
      "Done with speaker 855, have 10 audio files\n",
      "Done with speaker 856, have 10 audio files\n",
      "Done with speaker 857, have 10 audio files\n",
      "Done with speaker 858, have 10 audio files\n",
      "Done with speaker 859, have 10 audio files\n",
      "Done with speaker 860, have 10 audio files\n",
      "Done with speaker 861, have 10 audio files\n",
      "Done with speaker 862, have 10 audio files\n",
      "Done with speaker 863, have 10 audio files\n",
      "Done with speaker 864, have 10 audio files\n",
      "Done with speaker 865, have 10 audio files\n",
      "Done with speaker 866, have 10 audio files\n",
      "Done with speaker 867, have 10 audio files\n",
      "Done with speaker 868, have 10 audio files\n",
      "Done with speaker 869, have 10 audio files\n",
      "Done with speaker 870, have 10 audio files\n",
      "Done with speaker 871, have 10 audio files\n",
      "Done with speaker 872, have 10 audio files\n",
      "Done with speaker 873, have 10 audio files\n"
     ]
    },
    {
     "name": "stdout",
     "output_type": "stream",
     "text": [
      "Done with speaker 874, have 10 audio files\n",
      "Done with speaker 875, have 10 audio files\n",
      "Done with speaker 876, have 10 audio files\n",
      "Done with speaker 877, have 10 audio files\n",
      "Done with speaker 878, have 10 audio files\n",
      "Done with speaker 879, have 10 audio files\n",
      "Done with speaker 880, have 10 audio files\n",
      "Done with speaker 881, have 10 audio files\n",
      "Done with speaker 882, have 10 audio files\n",
      "Done with speaker 883, have 10 audio files\n",
      "Done with speaker 884, have 10 audio files\n",
      "Done with speaker 885, have 10 audio files\n",
      "Done with speaker 886, have 10 audio files\n",
      "Done with speaker 887, have 10 audio files\n",
      "Done with speaker 888, have 10 audio files\n",
      "Done with speaker 889, have 10 audio files\n",
      "Done with speaker 890, have 10 audio files\n",
      "Done with speaker 891, have 10 audio files\n",
      "Done with speaker 892, have 10 audio files\n",
      "Done with speaker 893, have 10 audio files\n",
      "Done with speaker 894, have 10 audio files\n",
      "Done with speaker 895, have 10 audio files\n",
      "Done with speaker 896, have 10 audio files\n",
      "Done with speaker 897, have 10 audio files\n",
      "Done with speaker 898, have 10 audio files\n",
      "Done with speaker 899, have 10 audio files\n",
      "Done with speaker 900, have 10 audio files\n"
     ]
    }
   ],
   "source": [
    "path = '/Users/greenapple/project5/data/raw/LibriSpeech/train-clean-360'\n",
    "speaker_start = 0\n",
    "speaker_stop = 900\n",
    "\n",
    "train_data_900 = process_audio.ten_audio_to_spectrogram_features_LSTM(\n",
    "    path, speaker_start, speaker_stop)"
   ]
  },
  {
   "cell_type": "code",
   "execution_count": 7,
   "metadata": {
    "ExecuteTime": {
     "end_time": "2019-12-03T15:43:19.478821Z",
     "start_time": "2019-12-03T15:43:15.273098Z"
    }
   },
   "outputs": [],
   "source": [
    "pickle.dump(train_data_900, open(\n",
    "    '/Users/greenapple/project5/data/processed/train_900_stft.pkl', 'wb'))"
   ]
  },
  {
   "cell_type": "code",
   "execution_count": 4,
   "metadata": {
    "ExecuteTime": {
     "end_time": "2019-12-03T17:17:06.638801Z",
     "start_time": "2019-12-03T17:17:05.093335Z"
    }
   },
   "outputs": [],
   "source": [
    "train_data_900 = pickle.load(open(\n",
    "    '/Users/greenapple/project5/data/processed/train_900_stft.pkl', 'rb'))"
   ]
  },
  {
   "cell_type": "code",
   "execution_count": 5,
   "metadata": {
    "ExecuteTime": {
     "end_time": "2019-12-03T17:22:12.947938Z",
     "start_time": "2019-12-03T17:17:07.562595Z"
    }
   },
   "outputs": [],
   "source": [
    "X, y, siam_data, X_res_data = process_audio_siam.dataframe_to_siamese_features_LSTM(train_data_900)"
   ]
  },
  {
   "cell_type": "code",
   "execution_count": 1,
   "metadata": {
    "ExecuteTime": {
     "end_time": "2019-12-03T16:01:33.809999Z",
     "start_time": "2019-12-03T16:01:33.703666Z"
    }
   },
   "outputs": [
    {
     "ename": "NameError",
     "evalue": "name 'X' is not defined",
     "output_type": "error",
     "traceback": [
      "\u001b[0;31m---------------------------------------------------------------------------\u001b[0m",
      "\u001b[0;31mNameError\u001b[0m                                 Traceback (most recent call last)",
      "\u001b[0;32m<ipython-input-1-bc5f1a0adac8>\u001b[0m in \u001b[0;36m<module>\u001b[0;34m\u001b[0m\n\u001b[0;32m----> 1\u001b[0;31m \u001b[0mX\u001b[0m\u001b[0;34m.\u001b[0m\u001b[0mshape\u001b[0m\u001b[0;34m\u001b[0m\u001b[0;34m\u001b[0m\u001b[0m\n\u001b[0m",
      "\u001b[0;31mNameError\u001b[0m: name 'X' is not defined"
     ]
    }
   ],
   "source": [
    "X.shape"
   ]
  },
  {
   "cell_type": "code",
   "execution_count": null,
   "metadata": {},
   "outputs": [],
   "source": [
    "pickle.dump(X, open(\n",
    "    '/Users/greenapple/project5/data/processed/X_stft.pkl', 'wb'))"
   ]
  },
  {
   "cell_type": "code",
   "execution_count": null,
   "metadata": {},
   "outputs": [],
   "source": [
    "pickle.dump(y, open(\n",
    "    '/Users/greenapple/project5/data/processed/y_stft.pkl', 'wb'))"
   ]
  },
  {
   "cell_type": "markdown",
   "metadata": {},
   "source": [
    "## Validation data"
   ]
  },
  {
   "cell_type": "code",
   "execution_count": null,
   "metadata": {
    "ExecuteTime": {
     "start_time": "2019-12-03T06:36:50.426Z"
    }
   },
   "outputs": [],
   "source": [
    "val_path = '/Users/greenapple/project5/data/raw/LibriSpeech/dev-clean'\n",
    "speaker_start_ = 0\n",
    "speaker_stop_ = 10\n",
    "\n",
    "val_data_10 = process_audio.ten_audio_to_spectrogram_features_LSTM(\n",
    "    val_path, speaker_start_, speaker_stop_)"
   ]
  },
  {
   "cell_type": "code",
   "execution_count": 88,
   "metadata": {
    "ExecuteTime": {
     "end_time": "2019-12-03T03:05:35.487305Z",
     "start_time": "2019-12-03T03:05:35.383494Z"
    }
   },
   "outputs": [
    {
     "data": {
      "text/plain": [
       "(100, 3)"
      ]
     },
     "execution_count": 88,
     "metadata": {},
     "output_type": "execute_result"
    }
   ],
   "source": [
    "val_data_10.shape"
   ]
  },
  {
   "cell_type": "code",
   "execution_count": 89,
   "metadata": {
    "ExecuteTime": {
     "end_time": "2019-12-03T03:06:14.492104Z",
     "start_time": "2019-12-03T03:06:13.992499Z"
    }
   },
   "outputs": [],
   "source": [
    "X_val, y_val, siam_data_val, X_res_data_val = process_audio_siam.dataframe_to_siamese_features_LSTM(val_data_10)"
   ]
  },
  {
   "cell_type": "code",
   "execution_count": 90,
   "metadata": {
    "ExecuteTime": {
     "end_time": "2019-12-03T03:06:35.402044Z",
     "start_time": "2019-12-03T03:06:35.320774Z"
    }
   },
   "outputs": [
    {
     "data": {
      "text/plain": [
       "(900, 2, 224, 224)"
      ]
     },
     "execution_count": 90,
     "metadata": {},
     "output_type": "execute_result"
    }
   ],
   "source": [
    "X_val.shape"
   ]
  },
  {
   "cell_type": "markdown",
   "metadata": {},
   "source": [
    "#### 40 speakers"
   ]
  },
  {
   "cell_type": "code",
   "execution_count": null,
   "metadata": {
    "ExecuteTime": {
     "start_time": "2019-12-03T06:37:05.766Z"
    }
   },
   "outputs": [],
   "source": [
    "val_path = '/Users/greenapple/project5/data/raw/LibriSpeech/dev-clean'\n",
    "speaker_start_ = 0\n",
    "speaker_stop_ = 40\n",
    "\n",
    "val_data_40 = process_audio.ten_audio_to_spectrogram_features_LSTM(\n",
    "    val_path, speaker_start_, speaker_stop_)"
   ]
  },
  {
   "cell_type": "code",
   "execution_count": null,
   "metadata": {
    "ExecuteTime": {
     "start_time": "2019-12-03T06:37:06.445Z"
    }
   },
   "outputs": [],
   "source": [
    "X_val, y_val, siam_data_val, X_res_data_val = process_audio_siam.dataframe_to_siamese_features_LSTM(val_data_40)"
   ]
  },
  {
   "cell_type": "code",
   "execution_count": null,
   "metadata": {
    "ExecuteTime": {
     "start_time": "2019-12-03T06:37:06.988Z"
    }
   },
   "outputs": [],
   "source": [
    "X_val.shape"
   ]
  },
  {
   "cell_type": "markdown",
   "metadata": {},
   "source": [
    "## Test data"
   ]
  },
  {
   "cell_type": "code",
   "execution_count": 92,
   "metadata": {
    "ExecuteTime": {
     "end_time": "2019-12-03T06:27:57.646660Z",
     "start_time": "2019-12-03T06:27:49.864666Z"
    }
   },
   "outputs": [
    {
     "name": "stdout",
     "output_type": "stream",
     "text": [
      "Done with speaker 1, have 10 audio files\n",
      "Done with speaker 2, have 10 audio files\n",
      "Done with speaker 3, have 10 audio files\n",
      "Done with speaker 4, have 10 audio files\n",
      "Done with speaker 5, have 10 audio files\n",
      "Done with speaker 6, have 10 audio files\n",
      "Done with speaker 7, have 10 audio files\n",
      "Done with speaker 8, have 10 audio files\n",
      "Done with speaker 9, have 10 audio files\n",
      "Done with speaker 10, have 10 audio files\n"
     ]
    }
   ],
   "source": [
    "test_path = '/Users/greenapple/project5/data/raw/LibriSpeech/test-clean'\n",
    "speaker_start_ = 0\n",
    "speaker_stop_ = 10\n",
    "\n",
    "test_data_1 0 = process_audio.ten_audio_to_spectrogram_features_LSTM(\n",
    "    test_path, speaker_start_, speaker_stop_)"
   ]
  },
  {
   "cell_type": "markdown",
   "metadata": {},
   "source": [
    "#### 40 speakers"
   ]
  },
  {
   "cell_type": "code",
   "execution_count": null,
   "metadata": {
    "ExecuteTime": {
     "start_time": "2019-12-03T06:37:11.063Z"
    }
   },
   "outputs": [],
   "source": [
    "test_path = '/Users/greenapple/project5/data/raw/LibriSpeech/test-clean'\n",
    "speaker_start_ = 0\n",
    "speaker_stop_ = 40\n",
    "\n",
    "test_data_40 = process_audio.ten_audio_to_spectrogram_features_LSTM(\n",
    "    test_path, speaker_start_, speaker_stop_)"
   ]
  },
  {
   "cell_type": "markdown",
   "metadata": {},
   "source": [
    "# Siamese same weights with LSTM. 10 speakers, balanced data."
   ]
  },
  {
   "cell_type": "code",
   "execution_count": 61,
   "metadata": {
    "ExecuteTime": {
     "end_time": "2019-12-03T02:26:30.275504Z",
     "start_time": "2019-12-03T02:26:28.343897Z"
    }
   },
   "outputs": [],
   "source": [
    "# Define LSTM layers\n",
    "input_shape = (224, 224)\n",
    "inputs = Input(input_shape)\n",
    "LSTM_1 = LSTM(units=224, dropout=0.05, \n",
    "              recurrent_dropout=0.35, return_sequences=True)(inputs)\n",
    "LSTM_2 = LSTM(units=128,  dropout=0.05, \n",
    "              recurrent_dropout=0.35, return_sequences=False)(LSTM_1)   \n",
    "\n",
    "one_dense = Dense(128, activation='relu')(LSTM_2)\n",
    "drop_out = Dropout(rate=0.2)(one_dense)\n",
    "output = Dense(128, activation='sigmoid')(drop_out)\n",
    "\n",
    "\n",
    "LSTM = Model(inputs=inputs, outputs=output, name='LSTM')\n",
    "\n",
    "\n",
    "# LSTM\n",
    "LSTM = Model(inputs=inputs, outputs=output, name='LSTM')\n",
    "LSTM.compile(optimizer=Adam(lr = 0.00006), loss='sparse_categorical_crossentropy')\n",
    "\n",
    "# Define tensors for two input audios\n",
    "input_shape = (224, 224)\n",
    "\n",
    "left_input = Input(input_shape)\n",
    "right_input = Input(input_shape)    \n",
    "\n",
    "encoded_l = LSTM(left_input)\n",
    "encoded_r = LSTM(right_input)\n",
    "\n",
    "# Add a customized layer to compute the difference between the vectors/encodings\n",
    "L1_layer = Lambda(lambda tensors:K.abs(tensors[0] - tensors[1]))\n",
    "L1_distance = L1_layer([encoded_l, encoded_r])\n",
    "    \n",
    "# Add a layer to classify the audios into \"same speaker\" = 1 or \"not the same\" = 0\n",
    "classification = Dense(1,activation='sigmoid')(L1_distance)\n",
    "    \n",
    "# Siamese model\n",
    "siamese_LSTM = Model(inputs=[left_input,right_input],\n",
    "                     outputs=classification, name='Siamese_LSTM')\n",
    "\n",
    "# Adam optimizer\n",
    "siamese_LSTM.compile(optimizer=Adam(lr = 0.00006),\n",
    "            loss='binary_crossentropy', \n",
    "              metrics=['accuracy'])"
   ]
  },
  {
   "cell_type": "code",
   "execution_count": 62,
   "metadata": {
    "ExecuteTime": {
     "end_time": "2019-12-03T02:26:31.257793Z",
     "start_time": "2019-12-03T02:26:31.032973Z"
    }
   },
   "outputs": [
    {
     "data": {
      "image/png": "[encoded data removed]",
      "text/plain": [
       "<IPython.core.display.Image object>"
      ]
     },
     "execution_count": 62,
     "metadata": {},
     "output_type": "execute_result"
    }
   ],
   "source": [
    "plot_model(siamese_LSTM)"
   ]
  },
  {
   "cell_type": "code",
   "execution_count": 63,
   "metadata": {
    "ExecuteTime": {
     "end_time": "2019-12-03T02:26:33.425032Z",
     "start_time": "2019-12-03T02:26:33.338040Z"
    }
   },
   "outputs": [
    {
     "name": "stdout",
     "output_type": "stream",
     "text": [
      "Model: \"Siamese_LSTM\"\n",
      "__________________________________________________________________________________________________\n",
      "Layer (type)                    Output Shape         Param #     Connected to                     \n",
      "==================================================================================================\n",
      "input_21 (InputLayer)           (None, 224, 224)     0                                            \n",
      "__________________________________________________________________________________________________\n",
      "input_22 (InputLayer)           (None, 224, 224)     0                                            \n",
      "__________________________________________________________________________________________________\n",
      "LSTM (Model)                    (None, 128)          616064      input_21[0][0]                   \n",
      "                                                                 input_22[0][0]                   \n",
      "__________________________________________________________________________________________________\n",
      "lambda_3 (Lambda)               (None, 128)          0           LSTM[1][0]                       \n",
      "                                                                 LSTM[2][0]                       \n",
      "__________________________________________________________________________________________________\n",
      "dense_13 (Dense)                (None, 1)            129         lambda_3[0][0]                   \n",
      "==================================================================================================\n",
      "Total params: 616,193\n",
      "Trainable params: 616,193\n",
      "Non-trainable params: 0\n",
      "__________________________________________________________________________________________________\n"
     ]
    }
   ],
   "source": [
    "siamese_LSTM.summary()"
   ]
  },
  {
   "cell_type": "markdown",
   "metadata": {},
   "source": [
    "# Train model"
   ]
  },
  {
   "cell_type": "markdown",
   "metadata": {},
   "source": [
    "### 100 speakers. Epochs 0-5"
   ]
  },
  {
   "cell_type": "code",
   "execution_count": 91,
   "metadata": {
    "ExecuteTime": {
     "end_time": "2019-12-03T06:27:49.852161Z",
     "start_time": "2019-12-03T03:08:18.593038Z"
    }
   },
   "outputs": [
    {
     "name": "stdout",
     "output_type": "stream",
     "text": [
      "WARNING:tensorflow:From /Users/greenapple/anaconda3/envs/project4/lib/python3.7/site-packages/tensorflow/python/ops/math_ops.py:3066: to_int32 (from tensorflow.python.ops.math_ops) is deprecated and will be removed in a future version.\n",
      "Instructions for updating:\n",
      "Use tf.cast instead.\n",
      "Train on 9000 samples, validate on 900 samples\n",
      "Epoch 1/5\n",
      "9000/9000 [==============================] - 574s 64ms/step - loss: 0.6933 - acc: 0.4968 - val_loss: 0.6933 - val_acc: 0.4844\n",
      "\n",
      "Epoch 00001: val_acc improved from -inf to 0.48444, saving model to siamese_LSTM.h5\n",
      "Epoch 2/5\n",
      "9000/9000 [==============================] - 8922s 991ms/step - loss: 0.6928 - acc: 0.5177 - val_loss: 0.6933 - val_acc: 0.4867\n",
      "\n",
      "Epoch 00002: val_acc improved from 0.48444 to 0.48667, saving model to siamese_LSTM.h5\n",
      "Epoch 3/5\n",
      "9000/9000 [==============================] - 1432s 159ms/step - loss: 0.6926 - acc: 0.5231 - val_loss: 0.6930 - val_acc: 0.5133\n",
      "\n",
      "Epoch 00003: val_acc improved from 0.48667 to 0.51333, saving model to siamese_LSTM.h5\n",
      "Epoch 4/5\n",
      "9000/9000 [==============================] - 528s 59ms/step - loss: 0.6924 - acc: 0.5266 - val_loss: 0.6933 - val_acc: 0.4967\n",
      "\n",
      "Epoch 00004: val_acc did not improve from 0.51333\n",
      "Epoch 5/5\n",
      "9000/9000 [==============================] - 507s 56ms/step - loss: 0.6919 - acc: 0.5343 - val_loss: 0.6931 - val_acc: 0.5100\n",
      "\n",
      "Epoch 00005: val_acc did not improve from 0.51333\n"
     ]
    },
    {
     "data": {
      "image/png": "[encoded data removed]",
      "text/plain": [
       "<Figure size 432x288 with 1 Axes>"
      ]
     },
     "metadata": {
      "needs_background": "light"
     },
     "output_type": "display_data"
    },
    {
     "data": {
      "image/png": "[encoded data removed]",
      "text/plain": [
       "<Figure size 432x288 with 1 Axes>"
      ]
     },
     "metadata": {
      "needs_background": "light"
     },
     "output_type": "display_data"
    }
   ],
   "source": [
    "# Train and visualize \n",
    "checkpoint = ModelCheckpoint('siamese_LSTM.h5', \n",
    "                             monitor='val_acc', \n",
    "                             verbose=True,\n",
    "                             save_best_only=True, \n",
    "                             mode='auto', \n",
    "                             period=1)\n",
    "\n",
    "model = siamese_LSTM\n",
    "history_siamese_LSTM = model.fit([X[:, 0], X[:, 1]], \n",
    "                                         y, \n",
    "                                         validation_data=([X_val[:, 0], X_val[:, 1]],\n",
    "                                                          y_val), \n",
    "                                         epochs=5, \n",
    "                                         batch_size=32, \n",
    "                                         verbose=True,\n",
    "                                         callbacks=[checkpoint])\n",
    "\n",
    "# Plot training & validation accuracy values\n",
    "plt.plot(history_siamese_LSTM.history['acc'])\n",
    "plt.plot(history_siamese_LSTM.history['val_acc'])\n",
    "plt.title('Model accuracy')\n",
    "plt.ylabel('Accuracy')\n",
    "plt.xlabel('Epoch')\n",
    "plt.legend(['Train', 'Test'], loc='upper left')\n",
    "plt.show()\n",
    "\n",
    "\n",
    "# Plot training & validation loss values\n",
    "plt.plot(history_siamese_LSTM.history['loss'])\n",
    "plt.plot(history_siamese_LSTM.history['val_loss'])\n",
    "plt.title('Model loss')\n",
    "plt.ylabel('Loss')\n",
    "plt.xlabel('Epoch')\n",
    "plt.legend(['Train', 'Test'], loc='upper left')\n",
    "plt.show()"
   ]
  },
  {
   "cell_type": "code",
   "execution_count": 95,
   "metadata": {
    "ExecuteTime": {
     "end_time": "2019-12-03T06:33:32.585873Z",
     "start_time": "2019-12-03T06:27:58.142173Z"
    }
   },
   "outputs": [
    {
     "name": "stdout",
     "output_type": "stream",
     "text": [
      "Trial 100, current score 8.007070707070716\r"
     ]
    },
    {
     "data": {
      "text/plain": [
       "<matplotlib.legend.Legend at 0x2c8d8dd30>"
      ]
     },
     "execution_count": 95,
     "metadata": {},
     "output_type": "execute_result"
    },
    {
     "data": {
      "image/png": "[encoded data removed]",
      "text/plain": [
       "<Figure size 432x288 with 1 Axes>"
      ]
     },
     "metadata": {
      "needs_background": "light"
     },
     "output_type": "display_data"
    }
   ],
   "source": [
    "# One shot learning score:\n",
    "model = siamese_LSTM\n",
    "trials = 100\n",
    "# n_way = 5\n",
    "n_way_list = [1, 2, 3, 4, 5, 7, 8, 9, 10]\n",
    "train_scores = []\n",
    "test_scores = []\n",
    "num_speakers = 10\n",
    "\n",
    "random_scores = [100/i for i in n_way_list]\n",
    "\n",
    "speaker_data_train = train_data_100\n",
    "speaker_data_test = test_data_10\n",
    "\n",
    "for n_way in n_way_list:\n",
    "    one_shot_train = one_shot_learning.one_shot_score(model, trials, speaker_data_train, n_way)\n",
    "    one_shot_test = one_shot_learning.one_shot_score(model, trials, speaker_data_test, n_way)\n",
    "    \n",
    "    train_scores.append(one_shot_train)\n",
    "    test_scores.append(one_shot_test)\n",
    "\n",
    "# Visualize one shot learning\n",
    "plt.plot(n_way_list, train_scores, color='blue', marker='o', label='train')\n",
    "plt.plot(n_way_list, test_scores, color='red', marker='o', label='test')\n",
    "plt.plot(n_way_list, random_scores, color='gray', marker='o', label='random guess')\n",
    "\n",
    "plt.legend()    "
   ]
  },
  {
   "cell_type": "markdown",
   "metadata": {},
   "source": [
    "### 900 speakers. Epochs "
   ]
  },
  {
   "cell_type": "code",
   "execution_count": null,
   "metadata": {
    "ExecuteTime": {
     "start_time": "2019-12-03T06:39:44.214Z"
    }
   },
   "outputs": [],
   "source": [
    "# Adam optimizer\n",
    "siamese_LSTM.compile(optimizer=Adam(lr = 0.001),\n",
    "            loss='binary_crossentropy', \n",
    "              metrics=['accuracy'])"
   ]
  },
  {
   "cell_type": "code",
   "execution_count": null,
   "metadata": {
    "ExecuteTime": {
     "start_time": "2019-12-03T06:39:45.062Z"
    }
   },
   "outputs": [],
   "source": [
    "# Train and visualize \n",
    "checkpoint = ModelCheckpoint('siamese_LSTM.h5', \n",
    "                             monitor='val_acc', \n",
    "                             verbose=True,\n",
    "                             save_best_only=True, \n",
    "                             mode='auto', \n",
    "                             period=1)\n",
    "\n",
    "model = siamese_LSTM\n",
    "history_siamese_LSTM_2 = model.fit([X[:, 0], X[:, 1]], \n",
    "                                         y, \n",
    "                                         validation_data=([X_val[:, 0], X_val[:, 1]],\n",
    "                                                          y_val), \n",
    "                                         epochs=5, \n",
    "                                         batch_size=32, \n",
    "                                         verbose=True,\n",
    "                                         callbacks=[checkpoint])\n",
    "\n",
    "# Plot training & validation accuracy values\n",
    "plt.plot(history_siamese_LSTM_2.history['acc'])\n",
    "plt.plot(history_siamese_LSTM_2.history['val_acc'])\n",
    "plt.title('Model accuracy')\n",
    "plt.ylabel('Accuracy')\n",
    "plt.xlabel('Epoch')\n",
    "plt.legend(['Train', 'Test'], loc='upper left')\n",
    "plt.show()\n",
    "\n",
    "\n",
    "# Plot training & validation loss values\n",
    "plt.plot(history_siamese_LSTM_2.history['loss'])\n",
    "plt.plot(history_siamese_LSTM_2.history['val_loss'])\n",
    "plt.title('Model loss')\n",
    "plt.ylabel('Loss')\n",
    "plt.xlabel('Epoch')\n",
    "plt.legend(['Train', 'Test'], loc='upper left')\n",
    "plt.show()"
   ]
  },
  {
   "cell_type": "code",
   "execution_count": null,
   "metadata": {
    "ExecuteTime": {
     "start_time": "2019-12-03T06:39:48.194Z"
    }
   },
   "outputs": [],
   "source": [
    "# One shot learning score:\n",
    "model = siamese_LSTM\n",
    "trials = 100\n",
    "# n_way = 5\n",
    "n_way_list = [1, 2, 3, 4, 5, 7, 8, 9, 10]\n",
    "train_scores = []\n",
    "test_scores = []\n",
    "num_speakers = 10\n",
    "\n",
    "random_scores = [100/i for i in n_way_list]\n",
    "\n",
    "speaker_data_train = train_data_900\n",
    "speaker_data_test = test_data_40\n",
    "\n",
    "for n_way in n_way_list:\n",
    "    one_shot_train = one_shot_learning.one_shot_score(model, trials, speaker_data_train, n_way)\n",
    "    one_shot_test = one_shot_learning.one_shot_score(model, trials, speaker_data_test, n_way)\n",
    "    \n",
    "    train_scores.append(one_shot_train)\n",
    "    test_scores.append(one_shot_test)\n",
    "\n",
    "# Visualize one shot learning\n",
    "plt.plot(n_way_list, train_scores, color='blue', marker='o', label='train')\n",
    "plt.plot(n_way_list, test_scores, color='red', marker='o', label='test')\n",
    "plt.plot(n_way_list, random_scores, color='gray', marker='o', label='random guess')\n",
    "\n",
    "plt.legend()    "
   ]
  },
  {
   "cell_type": "code",
   "execution_count": 71,
   "metadata": {
    "ExecuteTime": {
     "end_time": "2019-11-30T22:47:07.032940Z",
     "start_time": "2019-11-30T22:15:29.621243Z"
    }
   },
   "outputs": [
    {
     "name": "stdout",
     "output_type": "stream",
     "text": [
      "Trial 100, current score 15.01515151515152\r"
     ]
    },
    {
     "data": {
      "text/plain": [
       "<matplotlib.legend.Legend at 0x355227080>"
      ]
     },
     "execution_count": 71,
     "metadata": {},
     "output_type": "execute_result"
    },
    {
     "data": {
      "image/png": "[encoded data removed]",
      "text/plain": [
       "<Figure size 432x288 with 1 Axes>"
      ]
     },
     "metadata": {
      "needs_background": "light"
     },
     "output_type": "display_data"
    }
   ],
   "source": [
    "# One shot learning score:\n",
    "model = siamese_MobileNetV2_s\n",
    "trials = 100\n",
    "# n_way = 5\n",
    "n_way_list = [1, 2, 4, 5, 7, 9, 10]\n",
    "train_scores = []\n",
    "test_scores = []\n",
    "num_speakers = 10\n",
    "\n",
    "random_scores = [100/i for i in n_way_list]\n",
    "\n",
    "speaker_data_train = data_10\n",
    "speaker_data_test = test_data_40\n",
    "\n",
    "for n_way in n_way_list:\n",
    "    one_shot_train = one_shot_learning.one_shot_score(model, trials, speaker_data_train, n_way)\n",
    "    one_shot_test = one_shot_learning.one_shot_score(model, trials, speaker_data_test, n_way)\n",
    "    \n",
    "    train_scores.append(one_shot_train)\n",
    "    test_scores.append(one_shot_test)\n",
    "\n",
    "# Visualize one shot learning\n",
    "plt.plot(n_way_list, train_scores, color='blue', marker='o', label='train')\n",
    "plt.plot(n_way_list, test_scores, color='red', marker='o', label='test')\n",
    "plt.plot(n_way_list, random_scores, color='gray', marker='o', label='random guess')\n",
    "\n",
    "plt.legend()    "
   ]
  }
 ],
 "metadata": {
  "kernelspec": {
   "display_name": "Python [conda env:project4] *",
   "language": "python",
   "name": "conda-env-project4-py"
  },
  "language_info": {
   "codemirror_mode": {
    "name": "ipython",
    "version": 3
   },
   "file_extension": ".py",
   "mimetype": "text/x-python",
   "name": "python",
   "nbconvert_exporter": "python",
   "pygments_lexer": "ipython3",
   "version": "3.7.3"
  },
  "toc": {
   "base_numbering": 1,
   "nav_menu": {},
   "number_sections": true,
   "sideBar": true,
   "skip_h1_title": false,
   "title_cell": "Table of Contents",
   "title_sidebar": "Contents",
   "toc_cell": false,
   "toc_position": {
    "height": "calc(100% - 180px)",
    "left": "10px",
    "top": "150px",
    "width": "389px"
   },
   "toc_section_display": true,
   "toc_window_display": true
  }
 },
 "nbformat": 4,
 "nbformat_minor": 2
}
