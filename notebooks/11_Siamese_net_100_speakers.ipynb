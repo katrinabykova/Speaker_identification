{
 "cells": [
  {
   "cell_type": "code",
   "execution_count": 3,
   "metadata": {
    "ExecuteTime": {
     "end_time": "2019-11-28T16:06:04.793958Z",
     "start_time": "2019-11-28T16:06:04.788330Z"
    }
   },
   "outputs": [],
   "source": [
    "import warnings\n",
    "warnings.filterwarnings('ignore')"
   ]
  },
  {
   "cell_type": "code",
   "execution_count": 4,
   "metadata": {
    "ExecuteTime": {
     "end_time": "2019-11-28T16:06:12.206592Z",
     "start_time": "2019-11-28T16:06:05.345454Z"
    }
   },
   "outputs": [
    {
     "name": "stderr",
     "output_type": "stream",
     "text": [
      "Using TensorFlow backend.\n"
     ]
    }
   ],
   "source": [
    "import pandas as pd\n",
    "import numpy as np\n",
    "from numpy import arange\n",
    "import matplotlib.pyplot as plt\n",
    "import sklearn\n",
    "import os\n",
    "import dill as pickle\n",
    "from itertools import combinations\n",
    "import random\n",
    "import tensorflow as tf\n",
    "\n",
    "from keras.models import Model, Input, Sequential, load_model\n",
    "from keras.applications.vgg16 import VGG16\n",
    "from sklearn.preprocessing import LabelEncoder\n",
    "from keras.utils import to_categorical\n",
    "from keras.callbacks import EarlyStopping\n",
    "from keras import backend as K\n",
    "from keras.layers import Input, Conv2D, Lambda, merge, Dense, Flatten, MaxPooling2D, ZeroPadding2D, Dropout\n",
    "from keras.optimizers import SGD,Adam\n",
    "import keras.metrics\n",
    "from keras.utils import plot_model\n",
    "\n",
    "from src.data import process_audio\n",
    "from src.data import display_audio\n",
    "from src.data import process_audio_siam\n",
    "from src.models import one_shot_learning\n",
    "from src.data import process_audio_VGG16_features\n",
    "from src.models import one_shot_learning_VGG16\n",
    "from src.models import history\n",
    "from keras.callbacks import ModelCheckpoint\n",
    "\n"
   ]
  },
  {
   "cell_type": "code",
   "execution_count": 5,
   "metadata": {
    "ExecuteTime": {
     "end_time": "2019-11-28T16:06:12.315170Z",
     "start_time": "2019-11-28T16:06:12.209297Z"
    }
   },
   "outputs": [],
   "source": [
    "%load_ext autoreload\n",
    "%autoreload 2"
   ]
  },
  {
   "cell_type": "markdown",
   "metadata": {},
   "source": [
    "# Siamese_VGG16 model"
   ]
  },
  {
   "cell_type": "code",
   "execution_count": 6,
   "metadata": {
    "ExecuteTime": {
     "end_time": "2019-11-28T16:06:15.095810Z",
     "start_time": "2019-11-28T16:06:13.841702Z"
    }
   },
   "outputs": [
    {
     "name": "stdout",
     "output_type": "stream",
     "text": [
      "WARNING:tensorflow:From /Users/greenapple/anaconda3/envs/project4/lib/python3.7/site-packages/tensorflow/python/framework/op_def_library.py:263: colocate_with (from tensorflow.python.framework.ops) is deprecated and will be removed in a future version.\n",
      "Instructions for updating:\n",
      "Colocations handled automatically by placer.\n"
     ]
    }
   ],
   "source": [
    "# Load CNN base model - VGG16\n",
    "VGG16_model = VGG16(weights='imagenet', include_top=False, input_shape=(224,224, 3)) # remove top dense layers\n",
    " \n",
    "for layer in VGG16_model.layers:     # freeze convolutional layers \n",
    "    layer.trainable = False    \n",
    "    \n",
    "# VGG-like 1\n",
    "x1 = VGG16_model.output\n",
    "x1 = Flatten()(x1) \n",
    "encodings1 = Dense(4096, activation='sigmoid')(x1)\n",
    "\n",
    "# VGG16 with dense layers replaced\n",
    "VGG16_like_1 = Model(inputs=VGG16_model.input, outputs=encodings1, name='VGG16_like_1')\n",
    "VGG16_like_1.compile(optimizer=Adam(lr = 0.00006), loss='binary_crossentropy')\n",
    "\n",
    "# VGG-like 2    \n",
    "x2 = VGG16_model.output\n",
    "x2 = Flatten()(x2) \n",
    "encodings2 = Dense(4096, activation='sigmoid')(x2)\n",
    "\n",
    "# VGG16 with dense layers replaced\n",
    "VGG16_like_2 = Model(inputs=VGG16_model.input, outputs=encodings2, name='VGG16_like_2')\n",
    "VGG16_like_2.compile(optimizer=Adam(lr = 0.00006), loss='binary_crossentropy')\n",
    "\n",
    "# Define tensors for two input audios\n",
    "input_shape1 = (224, 224, 3)\n",
    "input_shape2 = (224, 224, 3)\n",
    "\n",
    "left_input = Input(input_shape1)\n",
    "right_input = Input(input_shape2)    \n",
    "\n",
    "encoded_l = VGG16_like_1(left_input)\n",
    "encoded_r = VGG16_like_2(right_input)\n",
    "\n",
    "# Add a customized layer to compute the difference between the vectors/encodings\n",
    "L1_layer = Lambda(lambda tensors:K.abs(tensors[0] - tensors[1]))\n",
    "L1_distance = L1_layer([encoded_l, encoded_r])\n",
    "    \n",
    "# Add a layer to classify the audios into \"same speaker\" = 1 or \"not the same\" = 0\n",
    "classification = Dense(1,activation='sigmoid')(L1_distance)\n",
    "    \n",
    "# Siamese model\n",
    "siamese_model_3 = Model(inputs=[left_input,right_input],outputs=classification)\n",
    "\n",
    "# Adam optimizer\n",
    "siamese_model_3.compile(optimizer=Adam(lr = 0.00006),\n",
    "            loss='binary_crossentropy', \n",
    "              metrics=['accuracy'])"
   ]
  },
  {
   "cell_type": "code",
   "execution_count": 5,
   "metadata": {
    "ExecuteTime": {
     "end_time": "2019-11-27T02:19:29.423401Z",
     "start_time": "2019-11-27T02:19:28.999786Z"
    }
   },
   "outputs": [
    {
     "data": {
      "image/png": "[encoded data removed]",
      "text/plain": [
       "<IPython.core.display.Image object>"
      ]
     },
     "execution_count": 5,
     "metadata": {},
     "output_type": "execute_result"
    }
   ],
   "source": [
    "plot_model(siamese_model_3)"
   ]
  },
  {
   "cell_type": "code",
   "execution_count": 18,
   "metadata": {
    "ExecuteTime": {
     "end_time": "2019-11-27T03:03:40.499386Z",
     "start_time": "2019-11-27T03:03:40.378073Z"
    }
   },
   "outputs": [
    {
     "name": "stdout",
     "output_type": "stream",
     "text": [
      "Model: \"model_1\"\n",
      "__________________________________________________________________________________________________\n",
      "Layer (type)                    Output Shape         Param #     Connected to                     \n",
      "==================================================================================================\n",
      "input_2 (InputLayer)            (None, 224, 224, 3)  0                                            \n",
      "__________________________________________________________________________________________________\n",
      "input_3 (InputLayer)            (None, 224, 224, 3)  0                                            \n",
      "__________________________________________________________________________________________________\n",
      "VGG16_like_1 (Model)            (None, 4096)         117479232   input_2[0][0]                    \n",
      "__________________________________________________________________________________________________\n",
      "VGG16_like_2 (Model)            (None, 4096)         117479232   input_3[0][0]                    \n",
      "__________________________________________________________________________________________________\n",
      "lambda_1 (Lambda)               (None, 4096)         0           VGG16_like_1[1][0]               \n",
      "                                                                 VGG16_like_2[1][0]               \n",
      "__________________________________________________________________________________________________\n",
      "dense_3 (Dense)                 (None, 1)            4097        lambda_1[0][0]                   \n",
      "==================================================================================================\n",
      "Total params: 220,247,873\n",
      "Trainable params: 205,533,185\n",
      "Non-trainable params: 14,714,688\n",
      "__________________________________________________________________________________________________\n"
     ]
    }
   ],
   "source": [
    "siamese_model_3.summary()"
   ]
  },
  {
   "cell_type": "code",
   "execution_count": 35,
   "metadata": {
    "ExecuteTime": {
     "end_time": "2019-11-27T03:38:02.050472Z",
     "start_time": "2019-11-27T03:38:01.968614Z"
    }
   },
   "outputs": [
    {
     "name": "stdout",
     "output_type": "stream",
     "text": [
      "Model: \"vgg16\"\n",
      "_________________________________________________________________\n",
      "Layer (type)                 Output Shape              Param #   \n",
      "=================================================================\n",
      "input_4 (InputLayer)         (None, 224, 224, 3)       0         \n",
      "_________________________________________________________________\n",
      "block1_conv1 (Conv2D)        (None, 224, 224, 64)      1792      \n",
      "_________________________________________________________________\n",
      "block1_conv2 (Conv2D)        (None, 224, 224, 64)      36928     \n",
      "_________________________________________________________________\n",
      "block1_pool (MaxPooling2D)   (None, 112, 112, 64)      0         \n",
      "_________________________________________________________________\n",
      "block2_conv1 (Conv2D)        (None, 112, 112, 128)     73856     \n",
      "_________________________________________________________________\n",
      "block2_conv2 (Conv2D)        (None, 112, 112, 128)     147584    \n",
      "_________________________________________________________________\n",
      "block2_pool (MaxPooling2D)   (None, 56, 56, 128)       0         \n",
      "_________________________________________________________________\n",
      "block3_conv1 (Conv2D)        (None, 56, 56, 256)       295168    \n",
      "_________________________________________________________________\n",
      "block3_conv2 (Conv2D)        (None, 56, 56, 256)       590080    \n",
      "_________________________________________________________________\n",
      "block3_conv3 (Conv2D)        (None, 56, 56, 256)       590080    \n",
      "_________________________________________________________________\n",
      "block3_pool (MaxPooling2D)   (None, 28, 28, 256)       0         \n",
      "_________________________________________________________________\n",
      "block4_conv1 (Conv2D)        (None, 28, 28, 512)       1180160   \n",
      "_________________________________________________________________\n",
      "block4_conv2 (Conv2D)        (None, 28, 28, 512)       2359808   \n",
      "_________________________________________________________________\n",
      "block4_conv3 (Conv2D)        (None, 28, 28, 512)       2359808   \n",
      "_________________________________________________________________\n",
      "block4_pool (MaxPooling2D)   (None, 14, 14, 512)       0         \n",
      "_________________________________________________________________\n",
      "block5_conv1 (Conv2D)        (None, 14, 14, 512)       2359808   \n",
      "_________________________________________________________________\n",
      "block5_conv2 (Conv2D)        (None, 14, 14, 512)       2359808   \n",
      "_________________________________________________________________\n",
      "block5_conv3 (Conv2D)        (None, 14, 14, 512)       2359808   \n",
      "_________________________________________________________________\n",
      "block5_pool (MaxPooling2D)   (None, 7, 7, 512)         0         \n",
      "=================================================================\n",
      "Total params: 14,714,688\n",
      "Trainable params: 0\n",
      "Non-trainable params: 14,714,688\n",
      "_________________________________________________________________\n"
     ]
    }
   ],
   "source": [
    "VGG16_model.summary()"
   ]
  },
  {
   "cell_type": "markdown",
   "metadata": {},
   "source": [
    "# Siamese with VGG16 embeddings"
   ]
  },
  {
   "cell_type": "code",
   "execution_count": 9,
   "metadata": {
    "ExecuteTime": {
     "end_time": "2019-11-28T16:07:29.849406Z",
     "start_time": "2019-11-28T16:07:29.645170Z"
    }
   },
   "outputs": [],
   "source": [
    "# Define tensors for two input audios\n",
    "input_shape1 = (7, 7, 512)\n",
    "input_shape2 = (7, 7, 512)\n",
    "\n",
    "left_input = Input(input_shape1)\n",
    "right_input = Input(input_shape2)    \n",
    "\n",
    "# Left arm\n",
    "left = Flatten()(left_input) \n",
    "encoded_l = Dense(4096, activation='sigmoid')(left)\n",
    "\n",
    "# Right arm\n",
    "right = Flatten()(left_input) \n",
    "encoded_r = Dense(4096, activation='sigmoid')(right)\n",
    "\n",
    "# Add a customized layer to compute the difference between the vectors/encodings\n",
    "L1_layer = Lambda(lambda tensors:K.abs(tensors[0] - tensors[1]))\n",
    "L1_distance = L1_layer([encoded_l, encoded_r])\n",
    "    \n",
    "# Add a layer to classify the audios into \"same speaker\" = 1 or \"not the same\" = 0\n",
    "classification = Dense(1,activation='sigmoid')(L1_distance)\n",
    "    \n",
    "# Siamese model\n",
    "siamese_model_5 = Model(inputs=[left_input,right_input],outputs=classification)\n",
    "\n",
    "# Adam optimizer\n",
    "siamese_model_5.compile(optimizer=Adam(lr = 0.00006),\n",
    "            loss='binary_crossentropy', \n",
    "              metrics=['accuracy'])"
   ]
  },
  {
   "cell_type": "code",
   "execution_count": 5,
   "metadata": {
    "ExecuteTime": {
     "end_time": "2019-11-28T00:21:35.865325Z",
     "start_time": "2019-11-28T00:21:35.598869Z"
    }
   },
   "outputs": [
    {
     "data": {
      "image/png": "[encoded data removed]",
      "text/plain": [
       "<IPython.core.display.Image object>"
      ]
     },
     "execution_count": 5,
     "metadata": {},
     "output_type": "execute_result"
    }
   ],
   "source": [
    "plot_model(siamese_model_5)"
   ]
  },
  {
   "cell_type": "markdown",
   "metadata": {},
   "source": [
    "# Siamese with VGG16 embeddings on 10 speakers"
   ]
  },
  {
   "cell_type": "code",
   "execution_count": 10,
   "metadata": {
    "ExecuteTime": {
     "end_time": "2019-11-27T16:52:52.394249Z",
     "start_time": "2019-11-27T16:52:52.240030Z"
    }
   },
   "outputs": [
    {
     "data": {
      "text/plain": [
       "(100, 4)"
      ]
     },
     "execution_count": 10,
     "metadata": {},
     "output_type": "execute_result"
    }
   ],
   "source": [
    "# Load dataframe:\n",
    "data_10 = pickle.load(open('/Users/greenapple/project5/data/processed/data_10.pkl', 'rb')) # 10 speakers, 10 audios per speaker\n",
    "data_10.shape"
   ]
  },
  {
   "cell_type": "code",
   "execution_count": 11,
   "metadata": {
    "ExecuteTime": {
     "end_time": "2019-11-27T16:54:12.311008Z",
     "start_time": "2019-11-27T16:54:10.768436Z"
    }
   },
   "outputs": [
    {
     "data": {
      "text/plain": [
       "((9900, 2, 7, 7, 512), (9900,), (9900, 6))"
      ]
     },
     "execution_count": 11,
     "metadata": {},
     "output_type": "execute_result"
    }
   ],
   "source": [
    "# Reshape for the siamese model before modeling:\n",
    "X_10, y_10, siamese_data_10 = process_audio_VGG16_features.dataframe_to_siamese_features(data_10)\n",
    "X_10.shape, y_10.shape, siamese_data_10.shape"
   ]
  },
  {
   "cell_type": "code",
   "execution_count": 12,
   "metadata": {
    "ExecuteTime": {
     "end_time": "2019-11-27T16:54:30.672174Z",
     "start_time": "2019-11-27T16:54:30.588027Z"
    }
   },
   "outputs": [
    {
     "data": {
      "text/plain": [
       "0    9000\n",
       "1     900\n",
       "Name: siam_same_id, dtype: int64"
      ]
     },
     "execution_count": 12,
     "metadata": {},
     "output_type": "execute_result"
    }
   ],
   "source": [
    "# Data with the inputs from the same speaker (1) versus the inputs from two different speakers (0)  \n",
    "siamese_data_10.siam_same_id.value_counts()"
   ]
  },
  {
   "cell_type": "code",
   "execution_count": 22,
   "metadata": {
    "ExecuteTime": {
     "end_time": "2019-11-27T18:51:24.041483Z",
     "start_time": "2019-11-27T18:39:46.715391Z"
    }
   },
   "outputs": [
    {
     "name": "stdout",
     "output_type": "stream",
     "text": [
      "Train on 7920 samples, validate on 1980 samples\n",
      "Epoch 1/1\n",
      "7920/7920 [==============================] - 697s 88ms/step - loss: 0.3101 - acc: 0.9091 - val_loss: 0.3159 - val_acc: 0.9091\n"
     ]
    },
    {
     "data": {
      "text/plain": [
       "<keras.callbacks.History at 0x2a49fd940>"
      ]
     },
     "execution_count": 22,
     "metadata": {},
     "output_type": "execute_result"
    }
   ],
   "source": [
    "# Train:\n",
    "siamese_model_4.fit([X_10[:, 0], X_10[:, 1]], y_10, \n",
    "                    epochs=1, \n",
    "                    verbose=True, \n",
    "                    batch_size=32, \n",
    "                    validation_split=0.2)\n",
    "\n",
    "# Trained for 5 epochs (~15 min/epoch). The loss function no longer changes. Look at one shot learning next."
   ]
  },
  {
   "cell_type": "code",
   "execution_count": 73,
   "metadata": {
    "ExecuteTime": {
     "end_time": "2019-11-27T21:21:12.489141Z",
     "start_time": "2019-11-27T21:21:07.678989Z"
    }
   },
   "outputs": [],
   "source": [
    "siamese_model_4.save('/Users/greenapple/project5/models/siamese_model_4_10_w_10_speakers.h5')"
   ]
  },
  {
   "cell_type": "code",
   "execution_count": 75,
   "metadata": {
    "ExecuteTime": {
     "end_time": "2019-11-27T22:26:37.140286Z",
     "start_time": "2019-11-27T21:22:23.655194Z"
    }
   },
   "outputs": [
    {
     "name": "stdout",
     "output_type": "stream",
     "text": [
      "Train on 7920 samples, validate on 1980 samples\n",
      "Epoch 1/5\n",
      "7920/7920 [==============================] - 832s 105ms/step - loss: 0.3566 - acc: 0.9069 - val_loss: 0.3672 - val_acc: 0.9091\n",
      "Epoch 2/5\n",
      "7920/7920 [==============================] - 785s 99ms/step - loss: 0.3497 - acc: 0.9067 - val_loss: 0.3080 - val_acc: 0.9091\n",
      "Epoch 3/5\n",
      "7920/7920 [==============================] - 742s 94ms/step - loss: 0.3373 - acc: 0.9090 - val_loss: 0.3275 - val_acc: 0.9091\n",
      "Epoch 4/5\n",
      "7920/7920 [==============================] - 750s 95ms/step - loss: 0.3206 - acc: 0.9091 - val_loss: 0.3196 - val_acc: 0.9091\n",
      "Epoch 5/5\n",
      "7920/7920 [==============================] - 743s 94ms/step - loss: 0.3185 - acc: 0.9091 - val_loss: 0.3131 - val_acc: 0.9091\n"
     ]
    },
    {
     "data": {
      "image/png": "[encoded data removed]",
      "text/plain": [
       "<Figure size 432x288 with 1 Axes>"
      ]
     },
     "metadata": {
      "needs_background": "light"
     },
     "output_type": "display_data"
    },
    {
     "data": {
      "image/png": "[encoded data removed]",
      "text/plain": [
       "<Figure size 432x288 with 1 Axes>"
      ]
     },
     "metadata": {
      "needs_background": "light"
     },
     "output_type": "display_data"
    }
   ],
   "source": [
    "# Train and visualize the progress\n",
    "model = siamese_model_5\n",
    "history = model.fit([X_10[:, 0], X_10[:, 1]], y_10, validation_split=0.2, epochs=5, batch_size=32, verbose=True)\n",
    "\n",
    "# Plot training & validation accuracy values\n",
    "plt.plot(history.history['acc'])\n",
    "plt.plot(history.history['val_acc'])\n",
    "plt.title('Model accuracy')\n",
    "plt.ylabel('Accuracy')\n",
    "plt.xlabel('Epoch')\n",
    "plt.legend(['Train', 'Test'], loc='upper left')\n",
    "plt.show()\n",
    "\n",
    "# Plot training & validation loss values\n",
    "plt.plot(history.history['loss'])\n",
    "plt.plot(history.history['val_loss'])\n",
    "plt.title('Model loss')\n",
    "plt.ylabel('Loss')\n",
    "plt.xlabel('Epoch')\n",
    "plt.legend(['Train', 'Test'], loc='upper left')\n",
    "plt.show()"
   ]
  },
  {
   "cell_type": "code",
   "execution_count": 88,
   "metadata": {
    "ExecuteTime": {
     "end_time": "2019-11-27T22:32:35.274851Z",
     "start_time": "2019-11-27T22:32:34.902555Z"
    }
   },
   "outputs": [
    {
     "data": {
      "image/png": "[encoded data removed]",
      "text/plain": [
       "<Figure size 432x288 with 1 Axes>"
      ]
     },
     "metadata": {
      "needs_background": "light"
     },
     "output_type": "display_data"
    },
    {
     "data": {
      "image/png": "[encoded data removed]",
      "text/plain": [
       "<Figure size 432x288 with 1 Axes>"
      ]
     },
     "metadata": {
      "needs_background": "light"
     },
     "output_type": "display_data"
    }
   ],
   "source": [
    "# Plot training & validation accuracy values\n",
    "plt.plot(history.history['acc'])\n",
    "plt.plot(history.history['val_acc'])\n",
    "plt.title('Model accuracy')\n",
    "plt.ylabel('Accuracy')\n",
    "plt.xlabel('Epoch')\n",
    "plt.legend(['Train', 'Test'], loc='lower right')\n",
    "plt.show()\n",
    "\n",
    "# Plot training & validation loss values\n",
    "# plt.yticks(arange(0, 1.1, 0.1))\n",
    "plt.plot(history.history['loss'])\n",
    "plt.plot(history.history['val_loss'])\n",
    "plt.title('Model loss')\n",
    "plt.ylabel('Loss')\n",
    "plt.xlabel('Epoch')\n",
    "plt.legend(['Train', 'Test'], loc='upper right')\n",
    "plt.show()"
   ]
  },
  {
   "cell_type": "code",
   "execution_count": 89,
   "metadata": {
    "ExecuteTime": {
     "end_time": "2019-11-27T22:39:34.963341Z",
     "start_time": "2019-11-27T22:39:24.626955Z"
    }
   },
   "outputs": [],
   "source": [
    "pickle.dump(history, open('/Users/greenapple/project5/models/history_siamese_model_5.pkl', 'wb'))"
   ]
  },
  {
   "cell_type": "code",
   "execution_count": 70,
   "metadata": {
    "ExecuteTime": {
     "end_time": "2019-11-27T21:15:39.416625Z",
     "start_time": "2019-11-27T21:15:39.325392Z"
    },
    "collapsed": true
   },
   "outputs": [
    {
     "ename": "AttributeError",
     "evalue": "module 'keras.callbacks' has no attribute 'callbacks'",
     "output_type": "error",
     "traceback": [
      "\u001b[0;31m---------------------------------------------------------------------------\u001b[0m",
      "\u001b[0;31mAttributeError\u001b[0m                            Traceback (most recent call last)",
      "\u001b[0;32m<ipython-input-70-3265b294e100>\u001b[0m in \u001b[0;36m<module>\u001b[0;34m\u001b[0m\n\u001b[0;32m----> 1\u001b[0;31m \u001b[0mkeras\u001b[0m\u001b[0;34m.\u001b[0m\u001b[0mcallbacks\u001b[0m\u001b[0;34m.\u001b[0m\u001b[0mcallbacks\u001b[0m\u001b[0;34m.\u001b[0m\u001b[0mHistory\u001b[0m\u001b[0;34m(\u001b[0m\u001b[0;34m)\u001b[0m\u001b[0;34m\u001b[0m\u001b[0;34m\u001b[0m\u001b[0m\n\u001b[0m",
      "\u001b[0;31mAttributeError\u001b[0m: module 'keras.callbacks' has no attribute 'callbacks'"
     ]
    }
   ],
   "source": [
    "keras.callbacks.callbacks.History()"
   ]
  },
  {
   "cell_type": "code",
   "execution_count": 34,
   "metadata": {
    "ExecuteTime": {
     "end_time": "2019-11-27T19:48:39.455183Z",
     "start_time": "2019-11-27T19:47:43.841799Z"
    },
    "collapsed": true
   },
   "outputs": [
    {
     "name": "stdout",
     "output_type": "stream",
     "text": [
      "Done with speaker 1, have 10 audio files\n",
      "Done with speaker 2, have 10 audio files\n",
      "Done with speaker 3, have 10 audio files\n",
      "Done with speaker 4, have 10 audio files\n",
      "Done with speaker 5, have 10 audio files\n",
      "Done with speaker 6, have 10 audio files\n",
      "Done with speaker 7, have 10 audio files\n",
      "Done with speaker 8, have 10 audio files\n",
      "Done with speaker 9, have 10 audio files\n",
      "Done with speaker 10, have 10 audio files\n"
     ]
    }
   ],
   "source": [
    "# Extract embeddings for the test set and organize them in a dataframe.\n",
    "path = '/Users/greenapple/project5/data/raw/LibriSpeech/test-clean'\n",
    "speaker_start = 0\n",
    "speaker_stop = 10\n",
    "\n",
    "test_data_10 = process_audio_VGG16_features.ten_audio_to_VGG16_features(path, speaker_start, speaker_stop)"
   ]
  },
  {
   "cell_type": "code",
   "execution_count": 48,
   "metadata": {
    "ExecuteTime": {
     "end_time": "2019-11-27T20:05:32.072639Z",
     "start_time": "2019-11-27T20:01:17.176296Z"
    }
   },
   "outputs": [
    {
     "name": "stdout",
     "output_type": "stream",
     "text": [
      "Trial 100, current score 51.05050505050505\r"
     ]
    }
   ],
   "source": [
    "# One shot learning score:\n",
    "model = siamese_model_4\n",
    "trials = 100\n",
    "# n_way = 5\n",
    "n_way_list = [1, 5, 7, 8, 9, 10]\n",
    "train_scores = []\n",
    "test_scores = []\n",
    "num_speakers = 10\n",
    "\n",
    "random_scores = [100/i for i in n_way_list]\n",
    "\n",
    "speaker_data_train = data_10\n",
    "speaker_data_test = test_data_10\n",
    "\n",
    "for n_way in n_way_list:\n",
    "    one_shot_train = one_shot_learning_VGG16.one_shot_score(model, trials, speaker_data_train, n_way)\n",
    "    one_shot_test = one_shot_learning_VGG16.one_shot_score(model, trials, speaker_data_test, n_way)\n",
    "    \n",
    "    train_scores.append(one_shot_train)\n",
    "    test_scores.append(one_shot_test)\n",
    "\n",
    "# Visualize one shot learning\n",
    "plt.plot(n_way_list, train_scores, color='blue', marker='o', markerfacecolor='blue', label='train')\n",
    "plt.plot(n_way_list, train_scores, color='red', label='test')\n",
    "plt.plot(n_way_list, random_scores, color='gray', label='random guess')\n",
    "\n",
    "plt.legend()    "
   ]
  },
  {
   "cell_type": "code",
   "execution_count": 49,
   "metadata": {
    "ExecuteTime": {
     "end_time": "2019-11-27T20:05:47.477371Z",
     "start_time": "2019-11-27T20:05:47.398515Z"
    }
   },
   "outputs": [
    {
     "data": {
      "text/plain": [
       "([100.0, 100.0, 100.0, 100.0, 45.0, 51.0],\n",
       " [100.0, 100.0, 100.0, 100.0, 45.0, 51.0])"
      ]
     },
     "execution_count": 49,
     "metadata": {},
     "output_type": "execute_result"
    }
   ],
   "source": [
    "train_scores, test_scores"
   ]
  },
  {
   "cell_type": "code",
   "execution_count": 58,
   "metadata": {
    "ExecuteTime": {
     "end_time": "2019-11-27T20:12:50.966916Z",
     "start_time": "2019-11-27T20:12:50.889056Z"
    }
   },
   "outputs": [],
   "source": [
    "num_speakers = 10\n",
    "random_scores = [100/i for i in n_way_list]"
   ]
  },
  {
   "cell_type": "code",
   "execution_count": 67,
   "metadata": {
    "ExecuteTime": {
     "end_time": "2019-11-27T21:07:19.635853Z",
     "start_time": "2019-11-27T21:07:19.403474Z"
    }
   },
   "outputs": [
    {
     "data": {
      "image/png": "[encoded data removed]",
      "text/plain": [
       "<Figure size 432x288 with 1 Axes>"
      ]
     },
     "metadata": {
      "needs_background": "light"
     },
     "output_type": "display_data"
    }
   ],
   "source": [
    "plt.yticks(range(0, 110, 10))\n",
    "plt.plot(n_way_list, train_scores, color='blue', marker='o', markerfacecolor='blue', label='train')\n",
    "plt.plot(n_way_list, train_scores, color='red', label='test')\n",
    "plt.plot(n_way_list, random_scores, color='gray', marker='o', markerfacecolor='gray', label='random guess')\n",
    "\n",
    "plt.legend();"
   ]
  },
  {
   "cell_type": "markdown",
   "metadata": {},
   "source": [
    "# Siamese with VGG16 embeddings on 100 speakers"
   ]
  },
  {
   "cell_type": "code",
   "execution_count": 7,
   "metadata": {
    "ExecuteTime": {
     "end_time": "2019-11-28T16:06:27.026097Z",
     "start_time": "2019-11-28T16:06:19.954815Z"
    }
   },
   "outputs": [
    {
     "data": {
      "text/plain": [
       "(1000, 4)"
      ]
     },
     "execution_count": 7,
     "metadata": {},
     "output_type": "execute_result"
    }
   ],
   "source": [
    "# Load dataframe. Keep 100 speakers, 10 audios per speaker:\n",
    "train_data_900 = pickle.load(\n",
    "    open('/Users/greenapple/project5/data/processed/data_900.pkl', 'rb')) \n",
    "train_data_100 = train_data_900[:1000]\n",
    "\n",
    "train_data_100.shape"
   ]
  },
  {
   "cell_type": "code",
   "execution_count": null,
   "metadata": {
    "ExecuteTime": {
     "start_time": "2019-11-28T16:07:36.731Z"
    }
   },
   "outputs": [],
   "source": [
    "# Reshape data and train:\n",
    "model = siamese_model_5\n",
    "history_100 = [] # save as a list of histories\n",
    "all_history_100 = {} # save as json\n",
    "\n",
    "\n",
    "X_100, y_100, siamese_data_100 = process_audio_VGG16_features.dataframe_to_siamese_features(\n",
    "        train_data_100\n",
    "    )\n",
    "    \n",
    "# Train:\n",
    "checkpoint = ModelCheckpoint('siamese_model_5.h5', monitor='loss', verbose=1,\n",
    "    save_best_only=True, mode='auto', period=1)\n",
    "\n",
    "history_100 = model.fit(\n",
    "        [X_100[:, 0], X_100[:, 1]], \n",
    "        y_100, validation_split=0.2, \n",
    "        epochs=5, \n",
    "        batch_size=32, \n",
    "        verbose=True,\n",
    "        callbacks=[checkpoint])\n",
    "\n",
    "    \n",
    "siamese_model_5.save(\n",
    "        '/Users/greenapple/project5/models/siamese_model_5.h5'\n",
    "    ) \n",
    "    "
   ]
  },
  {
   "cell_type": "code",
   "execution_count": null,
   "metadata": {},
   "outputs": [],
   "source": []
  },
  {
   "cell_type": "code",
   "execution_count": null,
   "metadata": {},
   "outputs": [],
   "source": []
  }
 ],
 "metadata": {
  "kernelspec": {
   "display_name": "Python [conda env:project4] *",
   "language": "python",
   "name": "conda-env-project4-py"
  },
  "language_info": {
   "codemirror_mode": {
    "name": "ipython",
    "version": 3
   },
   "file_extension": ".py",
   "mimetype": "text/x-python",
   "name": "python",
   "nbconvert_exporter": "python",
   "pygments_lexer": "ipython3",
   "version": "3.7.3"
  },
  "toc": {
   "base_numbering": 1,
   "nav_menu": {},
   "number_sections": true,
   "sideBar": true,
   "skip_h1_title": false,
   "title_cell": "Table of Contents",
   "title_sidebar": "Contents",
   "toc_cell": false,
   "toc_position": {
    "height": "calc(100% - 180px)",
    "left": "10px",
    "top": "150px",
    "width": "389px"
   },
   "toc_section_display": true,
   "toc_window_display": true
  }
 },
 "nbformat": 4,
 "nbformat_minor": 2
}
