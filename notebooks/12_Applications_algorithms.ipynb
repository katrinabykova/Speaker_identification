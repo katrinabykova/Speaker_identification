{
 "cells": [
  {
   "cell_type": "markdown",
   "metadata": {},
   "source": [
    "# Import modules"
   ]
  },
  {
   "cell_type": "code",
   "execution_count": 201,
   "metadata": {
    "ExecuteTime": {
     "end_time": "2019-12-10T02:22:56.098665Z",
     "start_time": "2019-12-10T02:22:56.028368Z"
    }
   },
   "outputs": [],
   "source": [
    "import warnings\n",
    "warnings.filterwarnings('ignore')"
   ]
  },
  {
   "cell_type": "code",
   "execution_count": 202,
   "metadata": {
    "ExecuteTime": {
     "end_time": "2019-12-10T02:22:56.793665Z",
     "start_time": "2019-12-10T02:22:56.710132Z"
    }
   },
   "outputs": [],
   "source": [
    "import pandas as pd\n",
    "import numpy as np\n",
    "from numpy import arange\n",
    "import matplotlib.pyplot as plt\n",
    "import sklearn\n",
    "import os\n",
    "import dill as pickle\n",
    "from itertools import combinations\n",
    "import random\n",
    "import tensorflow as tf\n",
    "import keras\n",
    "from keras.models import Model, Input, Sequential, load_model\n",
    "from keras.applications.vgg16 import VGG16\n",
    "from sklearn.preprocessing import LabelEncoder\n",
    "from keras.utils import to_categorical\n",
    "from keras.callbacks import EarlyStopping\n",
    "from keras import backend as K\n",
    "from keras.layers import Input, Conv2D, Lambda, merge, Dense, Flatten, MaxPooling2D, ZeroPadding2D, Dropout\n",
    "from keras.optimizers import SGD,Adam\n",
    "import keras.metrics\n",
    "from keras.utils import plot_model\n",
    "from src.models import history\n",
    "from keras.callbacks import ModelCheckpoint, ReduceLROnPlateau\n",
    "import librosa\n",
    "from IPython.display import Audio\n",
    "from sklearn.metrics import average_precision_score\n",
    "\n",
    "from src.data import process_audio\n",
    "from src.data import display_audio\n",
    "from src.data import process_audio_siam\n",
    "from src.models import one_shot_learning\n",
    "from src.data import process_audio_VGG16_features\n",
    "from src.models import one_shot_learning_VGG16\n",
    "from src.data import audio_to_features\n",
    "from src.data import features_for_model\n",
    "from src.models import one_shot_learning\n",
    "from src.models import applications\n"
   ]
  },
  {
   "cell_type": "code",
   "execution_count": 203,
   "metadata": {
    "ExecuteTime": {
     "end_time": "2019-12-10T02:23:01.210786Z",
     "start_time": "2019-12-10T02:23:01.122839Z"
    }
   },
   "outputs": [
    {
     "name": "stdout",
     "output_type": "stream",
     "text": [
      "The autoreload extension is already loaded. To reload it, use:\n",
      "  %reload_ext autoreload\n"
     ]
    }
   ],
   "source": [
    "%load_ext autoreload\n",
    "%autoreload 2"
   ]
  },
  {
   "cell_type": "markdown",
   "metadata": {},
   "source": [
    "# Siamese_same_weights"
   ]
  },
  {
   "cell_type": "code",
   "execution_count": 9,
   "metadata": {
    "ExecuteTime": {
     "end_time": "2019-12-09T22:20:54.086730Z",
     "start_time": "2019-12-09T22:20:53.447745Z"
    }
   },
   "outputs": [
    {
     "name": "stdout",
     "output_type": "stream",
     "text": [
      "WARNING:tensorflow:From /Users/greenapple/anaconda3/envs/project4/lib/python3.7/site-packages/tensorflow/python/framework/op_def_library.py:263: colocate_with (from tensorflow.python.framework.ops) is deprecated and will be removed in a future version.\n",
      "Instructions for updating:\n",
      "Colocations handled automatically by placer.\n"
     ]
    }
   ],
   "source": [
    "# One dense layer\n",
    "input_shape = (7, 7, 512)   \n",
    "\n",
    "inputs = Input(input_shape)\n",
    "output = Flatten()(inputs) \n",
    "encodings = Dense(4096, activation='sigmoid')(output)\n",
    "\n",
    "\n",
    "one_dense = Model(inputs=inputs, outputs=encodings, name='one_dense')\n",
    "one_dense.compile(optimizer=Adam(lr = 0.00006), \n",
    "                  loss='categorical_crossentropy')\n",
    "\n",
    "\n",
    "# Define tensors for two input audios\n",
    "input_shape = (7, 7, 512)\n",
    "\n",
    "left_input = Input(input_shape)\n",
    "right_input = Input(input_shape)    \n",
    "\n",
    "encoded_l = one_dense(left_input)\n",
    "encoded_r = one_dense(right_input)\n",
    "\n",
    "# Add a customized layer to compute the difference between the vectors/encodings\n",
    "L1_layer = Lambda(lambda tensors:K.abs(tensors[0] - tensors[1]))\n",
    "L1_distance = L1_layer([encoded_l, encoded_r])\n",
    "    \n",
    "# Add a layer to classify the audios into \"same speaker\" = 1 or \"not the same\" = 0\n",
    "classification = Dense(1,activation='sigmoid')(L1_distance)\n",
    "    \n",
    "# Siamese model\n",
    "siamese_same_weights = Model(inputs=[left_input,right_input],outputs=classification)\n",
    "\n",
    "# Adam optimizer\n",
    "siamese_same_weights.compile(optimizer=Adam(lr = 0.00006),\n",
    "            loss='binary_crossentropy', \n",
    "              metrics=['accuracy'])"
   ]
  },
  {
   "cell_type": "code",
   "execution_count": 10,
   "metadata": {
    "ExecuteTime": {
     "end_time": "2019-12-09T22:20:55.468000Z",
     "start_time": "2019-12-09T22:20:54.089193Z"
    }
   },
   "outputs": [],
   "source": [
    "# Model architecture is the same. Loading weights from the previous training.\n",
    "weights = '/Users/greenapple/project5/notebooks/siamese_same_weights_bal_900.h5'\n",
    "model = siamese_same_weights\n",
    "model.load_weights(weights)"
   ]
  },
  {
   "cell_type": "markdown",
   "metadata": {},
   "source": [
    "# Speaker identification"
   ]
  },
  {
   "cell_type": "code",
   "execution_count": 20,
   "metadata": {
    "ExecuteTime": {
     "end_time": "2019-12-09T22:44:33.533605Z",
     "start_time": "2019-12-09T22:44:25.118829Z"
    }
   },
   "outputs": [],
   "source": [
    "# Load data:\n",
    "# Train data\n",
    "data_900 = pickle.load(open(\n",
    "    '/Users/greenapple/project5/data/processed/train_data_900.pkl', 'rb'\n",
    "))\n",
    "\n",
    "# Test data\n",
    "test_data_40 = pickle.load(\n",
    "    open('/Users/greenapple/project5/data/processed/test_data_40.pkl', 'rb')\n",
    ")\n",
    "\n",
    "test_data_40_vgg = pickle.load(\n",
    "    open('/Users/greenapple/project5/data/processed/test_data_40_vgg.pkl', 'rb')\n",
    ")\n",
    "\n",
    "# Vaidation data\n",
    "val_data_40_vgg = pickle.load(open(\n",
    "'/Users/greenapple/project5/data/processed/val_data_40_vgg.pkl', 'rb'))"
   ]
  },
  {
   "cell_type": "markdown",
   "metadata": {},
   "source": [
    "# Logreg"
   ]
  },
  {
   "cell_type": "markdown",
   "metadata": {},
   "source": [
    "## Getting the functions ready"
   ]
  },
  {
   "cell_type": "code",
   "execution_count": 11,
   "metadata": {
    "ExecuteTime": {
     "end_time": "2019-12-07T00:15:51.769293Z",
     "start_time": "2019-12-07T00:15:51.413990Z"
    }
   },
   "outputs": [
    {
     "data": {
      "text/plain": [
       "array([[0.989847  ],\n",
       "       [0.9999076 ],\n",
       "       [0.9986553 ],\n",
       "       [0.9996468 ],\n",
       "       [0.99813265]], dtype=float32)"
      ]
     },
     "execution_count": 11,
     "metadata": {},
     "output_type": "execute_result"
    }
   ],
   "source": [
    "# Same speaker\n",
    "model = siamese_same_weights\n",
    "trials = 1\n",
    "speaker_data = test_data_40_vgg\n",
    "\n",
    "lst = applications.one_speaker_authentification_1(model, trials, speaker_data)\n",
    "lst"
   ]
  },
  {
   "cell_type": "code",
   "execution_count": 12,
   "metadata": {
    "ExecuteTime": {
     "end_time": "2019-12-07T00:16:09.299819Z",
     "start_time": "2019-12-07T00:16:09.011375Z"
    }
   },
   "outputs": [
    {
     "data": {
      "text/plain": [
       "array([[8.8924270e-07],\n",
       "       [5.8117709e-03],\n",
       "       [3.0307487e-02],\n",
       "       [3.3256428e-03],\n",
       "       [2.7437600e-01]], dtype=float32)"
      ]
     },
     "execution_count": 12,
     "metadata": {},
     "output_type": "execute_result"
    }
   ],
   "source": [
    "# Different speaker\n",
    "model = siamese_same_weights\n",
    "trials = 1\n",
    "speaker_data = test_data_40_vgg\n",
    "\n",
    "lst = applications.one_speaker_authentification_0(model, trials, speaker_data)\n",
    "lst"
   ]
  },
  {
   "cell_type": "code",
   "execution_count": 64,
   "metadata": {
    "ExecuteTime": {
     "end_time": "2019-12-04T17:09:22.636247Z",
     "start_time": "2019-12-04T17:09:22.539979Z"
    }
   },
   "outputs": [
    {
     "data": {
      "text/plain": [
       "5"
      ]
     },
     "execution_count": 64,
     "metadata": {},
     "output_type": "execute_result"
    }
   ],
   "source": [
    "len(lst)"
   ]
  },
  {
   "cell_type": "markdown",
   "metadata": {},
   "source": [
    "## 5 audios per voiceprint"
   ]
  },
  {
   "cell_type": "code",
   "execution_count": 97,
   "metadata": {
    "ExecuteTime": {
     "end_time": "2019-12-04T18:05:45.263474Z",
     "start_time": "2019-12-04T17:49:49.640590Z"
    }
   },
   "outputs": [
    {
     "name": "stdout",
     "output_type": "stream",
     "text": [
      "Collecting data point 2000\r"
     ]
    }
   ],
   "source": [
    "# Generate data for logreg\n",
    "data = pd.DataFrame()\n",
    "features = []\n",
    "targets = []\n",
    "\n",
    "model = siamese_same_weights\n",
    "trials = 1\n",
    "speaker_data = test_data_40_vgg\n",
    "count = 0\n",
    "for i in range(2000):\n",
    "    p = applications.one_speaker_authentification_1(model, trials, speaker_data)\n",
    "    n = applications.one_speaker_authentification_0(model, trials, speaker_data)\n",
    "   \n",
    "    features.append(p)\n",
    "    features.append(n)\n",
    "    targets.append(1)\n",
    "    targets.append(0)\n",
    "    \n",
    "    count+=1\n",
    "    print('Collecting data point {}'.format(count), end='\\r')\n",
    "    \n",
    "data['features'] =  features\n",
    "data['targets'] =  targets"
   ]
  },
  {
   "cell_type": "code",
   "execution_count": 98,
   "metadata": {
    "ExecuteTime": {
     "end_time": "2019-12-04T18:05:45.941567Z",
     "start_time": "2019-12-04T18:05:45.269134Z"
    }
   },
   "outputs": [
    {
     "data": {
      "text/plain": [
       "(4000, 2)"
      ]
     },
     "execution_count": 98,
     "metadata": {},
     "output_type": "execute_result"
    }
   ],
   "source": [
    "data.shape"
   ]
  },
  {
   "cell_type": "code",
   "execution_count": 99,
   "metadata": {
    "ExecuteTime": {
     "end_time": "2019-12-04T18:05:46.216838Z",
     "start_time": "2019-12-04T18:05:45.944628Z"
    }
   },
   "outputs": [],
   "source": [
    "pickle.dump(data, open(\n",
    "    '/Users/greenapple/project5/data/processed/logreg_data_2000.pkl', 'wb'))"
   ]
  },
  {
   "cell_type": "code",
   "execution_count": 171,
   "metadata": {
    "ExecuteTime": {
     "end_time": "2019-12-10T02:00:45.441768Z",
     "start_time": "2019-12-10T02:00:45.354407Z"
    }
   },
   "outputs": [],
   "source": [
    "data = pickle.load(open(\n",
    "    '/Users/greenapple/project5/data/processed/logreg_data_2000.pkl', 'rb'))"
   ]
  },
  {
   "cell_type": "code",
   "execution_count": 172,
   "metadata": {
    "ExecuteTime": {
     "end_time": "2019-12-10T02:00:46.305004Z",
     "start_time": "2019-12-10T02:00:46.222108Z"
    }
   },
   "outputs": [
    {
     "data": {
      "text/plain": [
       "[[0.4032413065433502],\n",
       " [0.4501464068889618],\n",
       " [0.5415229201316833],\n",
       " [0.25278207659721375],\n",
       " [0.9546958804130554]]"
      ]
     },
     "execution_count": 172,
     "metadata": {},
     "output_type": "execute_result"
    }
   ],
   "source": [
    "data.features[0].tolist()"
   ]
  },
  {
   "cell_type": "code",
   "execution_count": 173,
   "metadata": {
    "ExecuteTime": {
     "end_time": "2019-12-10T02:00:48.114194Z",
     "start_time": "2019-12-10T02:00:48.037072Z"
    }
   },
   "outputs": [],
   "source": [
    "# Train, test split\n",
    "train_data = data[:3600]\n",
    "test_data = data[3600:]"
   ]
  },
  {
   "cell_type": "code",
   "execution_count": 99,
   "metadata": {
    "ExecuteTime": {
     "end_time": "2019-12-10T00:54:18.493488Z",
     "start_time": "2019-12-10T00:54:18.411131Z"
    }
   },
   "outputs": [
    {
     "data": {
      "text/plain": [
       "((3600, 2), (400, 2))"
      ]
     },
     "execution_count": 99,
     "metadata": {},
     "output_type": "execute_result"
    }
   ],
   "source": [
    "train_data.shape, test_data.shape"
   ]
  },
  {
   "cell_type": "code",
   "execution_count": 100,
   "metadata": {
    "ExecuteTime": {
     "end_time": "2019-12-10T00:54:18.943915Z",
     "start_time": "2019-12-10T00:54:18.850537Z"
    }
   },
   "outputs": [],
   "source": [
    "# Reshape data for training\n",
    "X = np.array(train_data.features.tolist()).reshape(3600, 5)\n",
    "y = np.array(train_data.targets.tolist())\n",
    "\n",
    "X_val = np.array(test_data.features.tolist()).reshape(400, 5)\n",
    "y_val = np.array(test_data.targets.tolist())"
   ]
  },
  {
   "cell_type": "code",
   "execution_count": 101,
   "metadata": {
    "ExecuteTime": {
     "end_time": "2019-12-10T00:54:21.017452Z",
     "start_time": "2019-12-10T00:54:20.931574Z"
    }
   },
   "outputs": [
    {
     "data": {
      "text/plain": [
       "((3600, 5), (3600,))"
      ]
     },
     "execution_count": 101,
     "metadata": {},
     "output_type": "execute_result"
    }
   ],
   "source": [
    "X.shape, y.shape"
   ]
  },
  {
   "cell_type": "code",
   "execution_count": 103,
   "metadata": {
    "ExecuteTime": {
     "end_time": "2019-12-10T00:54:33.013334Z",
     "start_time": "2019-12-10T00:54:32.868224Z"
    }
   },
   "outputs": [],
   "source": [
    "# Logistic regression\n",
    "inputs = Input(shape=(5,))\n",
    "output = Dense(1, activation='sigmoid')(inputs)\n",
    "logreg = Model(inputs, output)\n",
    "\n",
    "logreg.compile(optimizer=Adam(lr = 0.0001),\n",
    "                       loss = 'binary_crossentropy',\n",
    "                       metrics=['accuracy'])"
   ]
  },
  {
   "cell_type": "code",
   "execution_count": 104,
   "metadata": {
    "ExecuteTime": {
     "end_time": "2019-12-10T00:55:37.308870Z",
     "start_time": "2019-12-10T00:54:46.283558Z"
    },
    "collapsed": true
   },
   "outputs": [
    {
     "name": "stdout",
     "output_type": "stream",
     "text": [
      "Train on 3600 samples, validate on 400 samples\n",
      "Epoch 1/2000\n",
      "3600/3600 [==============================] - 1s 156us/step - loss: 0.6955 - acc: 0.5936 - val_loss: 0.6565 - val_acc: 0.6575\n",
      "Epoch 2/2000\n",
      "3600/3600 [==============================] - 0s 35us/step - loss: 0.6918 - acc: 0.6111 - val_loss: 0.6531 - val_acc: 0.6800\n",
      "Epoch 3/2000\n",
      "3600/3600 [==============================] - 0s 47us/step - loss: 0.6883 - acc: 0.6219 - val_loss: 0.6500 - val_acc: 0.6875\n",
      "Epoch 4/2000\n",
      "3600/3600 [==============================] - 0s 39us/step - loss: 0.6849 - acc: 0.6344 - val_loss: 0.6469 - val_acc: 0.6950\n",
      "Epoch 5/2000\n",
      "3600/3600 [==============================] - 0s 44us/step - loss: 0.6817 - acc: 0.6414 - val_loss: 0.6440 - val_acc: 0.7025\n",
      "Epoch 6/2000\n",
      "3600/3600 [==============================] - 0s 43us/step - loss: 0.6785 - acc: 0.6486 - val_loss: 0.6411 - val_acc: 0.7050\n",
      "Epoch 7/2000\n",
      "3600/3600 [==============================] - 0s 35us/step - loss: 0.6755 - acc: 0.6500 - val_loss: 0.6385 - val_acc: 0.7100\n",
      "Epoch 8/2000\n",
      "3600/3600 [==============================] - 0s 40us/step - loss: 0.6726 - acc: 0.6542 - val_loss: 0.6359 - val_acc: 0.7125\n",
      "Epoch 9/2000\n",
      "3600/3600 [==============================] - 0s 35us/step - loss: 0.6698 - acc: 0.6589 - val_loss: 0.6334 - val_acc: 0.7175\n",
      "Epoch 10/2000\n",
      "3600/3600 [==============================] - 0s 40us/step - loss: 0.6671 - acc: 0.6639 - val_loss: 0.6310 - val_acc: 0.7275\n",
      "Epoch 11/2000\n",
      "3600/3600 [==============================] - 0s 58us/step - loss: 0.6644 - acc: 0.6678 - val_loss: 0.6286 - val_acc: 0.7275\n",
      "Epoch 12/2000\n",
      "3600/3600 [==============================] - 0s 55us/step - loss: 0.6619 - acc: 0.6706 - val_loss: 0.6263 - val_acc: 0.7300\n",
      "Epoch 13/2000\n",
      "3600/3600 [==============================] - 0s 42us/step - loss: 0.6594 - acc: 0.6756 - val_loss: 0.6241 - val_acc: 0.7325\n",
      "Epoch 14/2000\n",
      "3600/3600 [==============================] - 0s 42us/step - loss: 0.6569 - acc: 0.6789 - val_loss: 0.6219 - val_acc: 0.7300\n",
      "Epoch 15/2000\n",
      "3600/3600 [==============================] - 0s 42us/step - loss: 0.6546 - acc: 0.6822 - val_loss: 0.6198 - val_acc: 0.7300\n",
      "Epoch 16/2000\n",
      "3600/3600 [==============================] - 0s 38us/step - loss: 0.6523 - acc: 0.6847 - val_loss: 0.6178 - val_acc: 0.7300\n",
      "Epoch 17/2000\n",
      "3600/3600 [==============================] - 0s 39us/step - loss: 0.6500 - acc: 0.6869 - val_loss: 0.6158 - val_acc: 0.7300\n",
      "Epoch 18/2000\n",
      "3600/3600 [==============================] - 0s 45us/step - loss: 0.6478 - acc: 0.6892 - val_loss: 0.6139 - val_acc: 0.7275\n",
      "Epoch 19/2000\n",
      "3600/3600 [==============================] - 0s 41us/step - loss: 0.6457 - acc: 0.6908 - val_loss: 0.6121 - val_acc: 0.7275\n",
      "Epoch 20/2000\n",
      "3600/3600 [==============================] - 0s 38us/step - loss: 0.6436 - acc: 0.6936 - val_loss: 0.6103 - val_acc: 0.7275\n",
      "Epoch 21/2000\n",
      "3600/3600 [==============================] - 0s 37us/step - loss: 0.6416 - acc: 0.6956 - val_loss: 0.6085 - val_acc: 0.7300\n",
      "Epoch 22/2000\n",
      "3600/3600 [==============================] - 0s 37us/step - loss: 0.6396 - acc: 0.6961 - val_loss: 0.6067 - val_acc: 0.7300\n",
      "Epoch 23/2000\n",
      "3600/3600 [==============================] - 0s 40us/step - loss: 0.6376 - acc: 0.6969 - val_loss: 0.6051 - val_acc: 0.7300\n",
      "Epoch 24/2000\n",
      "3600/3600 [==============================] - 0s 49us/step - loss: 0.6357 - acc: 0.6986 - val_loss: 0.6034 - val_acc: 0.7350\n",
      "Epoch 25/2000\n",
      "3600/3600 [==============================] - 0s 44us/step - loss: 0.6338 - acc: 0.7011 - val_loss: 0.6017 - val_acc: 0.7325\n",
      "Epoch 26/2000\n",
      "3600/3600 [==============================] - 0s 36us/step - loss: 0.6320 - acc: 0.7042 - val_loss: 0.6002 - val_acc: 0.7325\n",
      "Epoch 27/2000\n",
      "3600/3600 [==============================] - 0s 49us/step - loss: 0.6302 - acc: 0.7056 - val_loss: 0.5986 - val_acc: 0.7375\n",
      "Epoch 28/2000\n",
      "3600/3600 [==============================] - 0s 42us/step - loss: 0.6284 - acc: 0.7078 - val_loss: 0.5971 - val_acc: 0.7425\n",
      "Epoch 29/2000\n",
      "3600/3600 [==============================] - 0s 44us/step - loss: 0.6267 - acc: 0.7089 - val_loss: 0.5956 - val_acc: 0.7475\n",
      "Epoch 30/2000\n",
      "3600/3600 [==============================] - 0s 52us/step - loss: 0.6250 - acc: 0.7097 - val_loss: 0.5941 - val_acc: 0.7500\n",
      "Epoch 31/2000\n",
      "3600/3600 [==============================] - 0s 48us/step - loss: 0.6233 - acc: 0.7103 - val_loss: 0.5926 - val_acc: 0.7525\n",
      "Epoch 32/2000\n",
      "3600/3600 [==============================] - 0s 37us/step - loss: 0.6216 - acc: 0.7122 - val_loss: 0.5912 - val_acc: 0.7525\n",
      "Epoch 33/2000\n",
      "3600/3600 [==============================] - 0s 35us/step - loss: 0.6200 - acc: 0.7147 - val_loss: 0.5898 - val_acc: 0.7525\n",
      "Epoch 34/2000\n",
      "3600/3600 [==============================] - 0s 47us/step - loss: 0.6183 - acc: 0.7153 - val_loss: 0.5884 - val_acc: 0.7525\n",
      "Epoch 35/2000\n",
      "3600/3600 [==============================] - 0s 37us/step - loss: 0.6167 - acc: 0.7147 - val_loss: 0.5870 - val_acc: 0.7550\n",
      "Epoch 36/2000\n",
      "3600/3600 [==============================] - 0s 33us/step - loss: 0.6151 - acc: 0.7161 - val_loss: 0.5856 - val_acc: 0.7550\n",
      "Epoch 37/2000\n",
      "3600/3600 [==============================] - 0s 40us/step - loss: 0.6136 - acc: 0.7164 - val_loss: 0.5843 - val_acc: 0.7575\n",
      "Epoch 38/2000\n",
      "3600/3600 [==============================] - 0s 59us/step - loss: 0.6120 - acc: 0.7164 - val_loss: 0.5830 - val_acc: 0.7600\n",
      "Epoch 39/2000\n",
      "3600/3600 [==============================] - 0s 48us/step - loss: 0.6105 - acc: 0.7178 - val_loss: 0.5816 - val_acc: 0.7600\n",
      "Epoch 40/2000\n",
      "3600/3600 [==============================] - 0s 37us/step - loss: 0.6090 - acc: 0.7186 - val_loss: 0.5803 - val_acc: 0.7600\n",
      "Epoch 41/2000\n",
      "3600/3600 [==============================] - 0s 35us/step - loss: 0.6074 - acc: 0.7197 - val_loss: 0.5791 - val_acc: 0.7600\n",
      "Epoch 42/2000\n",
      "3600/3600 [==============================] - 0s 41us/step - loss: 0.6060 - acc: 0.7208 - val_loss: 0.5778 - val_acc: 0.7575\n",
      "Epoch 43/2000\n",
      "3600/3600 [==============================] - 0s 45us/step - loss: 0.6045 - acc: 0.7222 - val_loss: 0.5765 - val_acc: 0.7575\n",
      "Epoch 44/2000\n",
      "3600/3600 [==============================] - 0s 33us/step - loss: 0.6030 - acc: 0.7236 - val_loss: 0.5753 - val_acc: 0.7575\n",
      "Epoch 45/2000\n",
      "3600/3600 [==============================] - 0s 35us/step - loss: 0.6016 - acc: 0.7256 - val_loss: 0.5741 - val_acc: 0.7600\n",
      "Epoch 46/2000\n",
      "3600/3600 [==============================] - 0s 35us/step - loss: 0.6002 - acc: 0.7264 - val_loss: 0.5729 - val_acc: 0.7600\n",
      "Epoch 47/2000\n",
      "3600/3600 [==============================] - 0s 35us/step - loss: 0.5988 - acc: 0.7269 - val_loss: 0.5717 - val_acc: 0.7600\n",
      "Epoch 48/2000\n",
      "3600/3600 [==============================] - 0s 35us/step - loss: 0.5974 - acc: 0.7281 - val_loss: 0.5705 - val_acc: 0.7600\n",
      "Epoch 49/2000\n",
      "3600/3600 [==============================] - 0s 34us/step - loss: 0.5960 - acc: 0.7281 - val_loss: 0.5694 - val_acc: 0.7575\n",
      "Epoch 50/2000\n",
      "3600/3600 [==============================] - 0s 40us/step - loss: 0.5947 - acc: 0.7281 - val_loss: 0.5682 - val_acc: 0.7575\n",
      "Epoch 51/2000\n",
      "3600/3600 [==============================] - 0s 32us/step - loss: 0.5933 - acc: 0.7281 - val_loss: 0.5671 - val_acc: 0.7600\n",
      "Epoch 52/2000\n",
      "3600/3600 [==============================] - 0s 33us/step - loss: 0.5920 - acc: 0.7294 - val_loss: 0.5660 - val_acc: 0.7650\n",
      "Epoch 53/2000\n",
      "3600/3600 [==============================] - 0s 35us/step - loss: 0.5907 - acc: 0.7311 - val_loss: 0.5649 - val_acc: 0.7675\n",
      "Epoch 54/2000\n",
      "3600/3600 [==============================] - 0s 41us/step - loss: 0.5894 - acc: 0.7319 - val_loss: 0.5638 - val_acc: 0.7675\n",
      "Epoch 55/2000\n",
      "3600/3600 [==============================] - 0s 35us/step - loss: 0.5881 - acc: 0.7331 - val_loss: 0.5627 - val_acc: 0.7700\n",
      "Epoch 56/2000\n",
      "3600/3600 [==============================] - 0s 35us/step - loss: 0.5868 - acc: 0.7347 - val_loss: 0.5616 - val_acc: 0.7675\n",
      "Epoch 57/2000\n",
      "3600/3600 [==============================] - 0s 40us/step - loss: 0.5855 - acc: 0.7356 - val_loss: 0.5605 - val_acc: 0.7675\n",
      "Epoch 58/2000\n",
      "3600/3600 [==============================] - 0s 38us/step - loss: 0.5843 - acc: 0.7358 - val_loss: 0.5594 - val_acc: 0.7675\n",
      "Epoch 59/2000\n",
      "3600/3600 [==============================] - 0s 38us/step - loss: 0.5830 - acc: 0.7367 - val_loss: 0.5584 - val_acc: 0.7675\n",
      "Epoch 60/2000\n"
     ]
    },
    {
     "name": "stdout",
     "output_type": "stream",
     "text": [
      "3600/3600 [==============================] - 0s 36us/step - loss: 0.5818 - acc: 0.7378 - val_loss: 0.5574 - val_acc: 0.7675\n",
      "Epoch 61/2000\n",
      "3600/3600 [==============================] - 0s 33us/step - loss: 0.5806 - acc: 0.7389 - val_loss: 0.5564 - val_acc: 0.7675\n",
      "Epoch 62/2000\n",
      "3600/3600 [==============================] - 0s 33us/step - loss: 0.5794 - acc: 0.7386 - val_loss: 0.5553 - val_acc: 0.7675\n",
      "Epoch 63/2000\n",
      "3600/3600 [==============================] - 0s 32us/step - loss: 0.5782 - acc: 0.7392 - val_loss: 0.5543 - val_acc: 0.7650\n",
      "Epoch 64/2000\n",
      "3600/3600 [==============================] - 0s 35us/step - loss: 0.5770 - acc: 0.7394 - val_loss: 0.5534 - val_acc: 0.7650\n",
      "Epoch 65/2000\n",
      "3600/3600 [==============================] - 0s 36us/step - loss: 0.5758 - acc: 0.7394 - val_loss: 0.5524 - val_acc: 0.7650\n",
      "Epoch 66/2000\n",
      "3600/3600 [==============================] - 0s 33us/step - loss: 0.5746 - acc: 0.7408 - val_loss: 0.5514 - val_acc: 0.7650\n",
      "Epoch 67/2000\n",
      "3600/3600 [==============================] - 0s 33us/step - loss: 0.5735 - acc: 0.7417 - val_loss: 0.5504 - val_acc: 0.7650\n",
      "Epoch 68/2000\n",
      "3600/3600 [==============================] - 0s 34us/step - loss: 0.5723 - acc: 0.7422 - val_loss: 0.5495 - val_acc: 0.7625\n",
      "Epoch 69/2000\n",
      "3600/3600 [==============================] - 0s 33us/step - loss: 0.5712 - acc: 0.7422 - val_loss: 0.5485 - val_acc: 0.7625\n",
      "Epoch 70/2000\n",
      "3600/3600 [==============================] - 0s 34us/step - loss: 0.5701 - acc: 0.7428 - val_loss: 0.5476 - val_acc: 0.7625\n",
      "Epoch 71/2000\n",
      "3600/3600 [==============================] - 0s 34us/step - loss: 0.5690 - acc: 0.7431 - val_loss: 0.5467 - val_acc: 0.7625\n",
      "Epoch 72/2000\n",
      "3600/3600 [==============================] - 0s 37us/step - loss: 0.5679 - acc: 0.7436 - val_loss: 0.5457 - val_acc: 0.7625\n",
      "Epoch 73/2000\n",
      "3600/3600 [==============================] - 0s 38us/step - loss: 0.5668 - acc: 0.7453 - val_loss: 0.5448 - val_acc: 0.7625\n",
      "Epoch 74/2000\n",
      "3600/3600 [==============================] - 0s 34us/step - loss: 0.5657 - acc: 0.7450 - val_loss: 0.5439 - val_acc: 0.7650\n",
      "Epoch 75/2000\n",
      "3600/3600 [==============================] - 0s 36us/step - loss: 0.5646 - acc: 0.7453 - val_loss: 0.5430 - val_acc: 0.7675\n",
      "Epoch 76/2000\n",
      "3600/3600 [==============================] - 0s 34us/step - loss: 0.5636 - acc: 0.7453 - val_loss: 0.5422 - val_acc: 0.7675\n",
      "Epoch 77/2000\n",
      "3600/3600 [==============================] - 0s 37us/step - loss: 0.5626 - acc: 0.7450 - val_loss: 0.5413 - val_acc: 0.7675\n",
      "Epoch 78/2000\n",
      "3600/3600 [==============================] - 0s 32us/step - loss: 0.5615 - acc: 0.7456 - val_loss: 0.5404 - val_acc: 0.7675\n",
      "Epoch 79/2000\n",
      "3600/3600 [==============================] - 0s 33us/step - loss: 0.5605 - acc: 0.7469 - val_loss: 0.5396 - val_acc: 0.7675\n",
      "Epoch 80/2000\n",
      "3600/3600 [==============================] - 0s 32us/step - loss: 0.5594 - acc: 0.7475 - val_loss: 0.5387 - val_acc: 0.7675\n",
      "Epoch 81/2000\n",
      "3600/3600 [==============================] - 0s 40us/step - loss: 0.5584 - acc: 0.7489 - val_loss: 0.5379 - val_acc: 0.7675\n",
      "Epoch 82/2000\n",
      "3600/3600 [==============================] - 0s 33us/step - loss: 0.5574 - acc: 0.7500 - val_loss: 0.5370 - val_acc: 0.7725\n",
      "Epoch 83/2000\n",
      "3600/3600 [==============================] - 0s 32us/step - loss: 0.5564 - acc: 0.7497 - val_loss: 0.5362 - val_acc: 0.7725\n",
      "Epoch 84/2000\n",
      "3600/3600 [==============================] - 0s 33us/step - loss: 0.5554 - acc: 0.7511 - val_loss: 0.5354 - val_acc: 0.7725\n",
      "Epoch 85/2000\n",
      "3600/3600 [==============================] - 0s 35us/step - loss: 0.5544 - acc: 0.7519 - val_loss: 0.5346 - val_acc: 0.7725\n",
      "Epoch 86/2000\n",
      "3600/3600 [==============================] - 0s 35us/step - loss: 0.5535 - acc: 0.7533 - val_loss: 0.5338 - val_acc: 0.7725\n",
      "Epoch 87/2000\n",
      "3600/3600 [==============================] - 0s 33us/step - loss: 0.5525 - acc: 0.7533 - val_loss: 0.5330 - val_acc: 0.7725\n",
      "Epoch 88/2000\n",
      "3600/3600 [==============================] - 0s 36us/step - loss: 0.5515 - acc: 0.7542 - val_loss: 0.5322 - val_acc: 0.7725\n",
      "Epoch 89/2000\n",
      "3600/3600 [==============================] - 0s 36us/step - loss: 0.5506 - acc: 0.7542 - val_loss: 0.5314 - val_acc: 0.7725\n",
      "Epoch 90/2000\n",
      "3600/3600 [==============================] - 0s 34us/step - loss: 0.5497 - acc: 0.7539 - val_loss: 0.5306 - val_acc: 0.7725\n",
      "Epoch 91/2000\n",
      "3600/3600 [==============================] - 0s 36us/step - loss: 0.5487 - acc: 0.7542 - val_loss: 0.5299 - val_acc: 0.7725\n",
      "Epoch 92/2000\n",
      "3600/3600 [==============================] - ETA: 0s - loss: 0.5508 - acc: 0.751 - 0s 34us/step - loss: 0.5478 - acc: 0.7556 - val_loss: 0.5291 - val_acc: 0.7725\n",
      "Epoch 93/2000\n",
      "3600/3600 [==============================] - 0s 39us/step - loss: 0.5469 - acc: 0.7567 - val_loss: 0.5284 - val_acc: 0.7725\n",
      "Epoch 94/2000\n",
      "3600/3600 [==============================] - 0s 32us/step - loss: 0.5460 - acc: 0.7564 - val_loss: 0.5276 - val_acc: 0.7725\n",
      "Epoch 95/2000\n",
      "3600/3600 [==============================] - 0s 33us/step - loss: 0.5451 - acc: 0.7578 - val_loss: 0.5269 - val_acc: 0.7725\n",
      "Epoch 96/2000\n",
      "3600/3600 [==============================] - 0s 33us/step - loss: 0.5442 - acc: 0.7583 - val_loss: 0.5261 - val_acc: 0.7775\n",
      "Epoch 97/2000\n",
      "3600/3600 [==============================] - 0s 34us/step - loss: 0.5433 - acc: 0.7592 - val_loss: 0.5254 - val_acc: 0.7800\n",
      "Epoch 98/2000\n",
      "3600/3600 [==============================] - 0s 32us/step - loss: 0.5424 - acc: 0.7583 - val_loss: 0.5247 - val_acc: 0.7800\n",
      "Epoch 99/2000\n",
      "3600/3600 [==============================] - 0s 34us/step - loss: 0.5416 - acc: 0.7589 - val_loss: 0.5240 - val_acc: 0.7825\n",
      "Epoch 100/2000\n",
      "3600/3600 [==============================] - 0s 33us/step - loss: 0.5407 - acc: 0.7594 - val_loss: 0.5233 - val_acc: 0.7825\n",
      "Epoch 101/2000\n",
      "3600/3600 [==============================] - 0s 37us/step - loss: 0.5398 - acc: 0.7589 - val_loss: 0.5226 - val_acc: 0.7825\n",
      "Epoch 102/2000\n",
      "3600/3600 [==============================] - 0s 39us/step - loss: 0.5390 - acc: 0.7597 - val_loss: 0.5219 - val_acc: 0.7850\n",
      "Epoch 103/2000\n",
      "3600/3600 [==============================] - 0s 38us/step - loss: 0.5382 - acc: 0.7608 - val_loss: 0.5212 - val_acc: 0.7850\n",
      "Epoch 104/2000\n",
      "3600/3600 [==============================] - 0s 49us/step - loss: 0.5373 - acc: 0.7600 - val_loss: 0.5206 - val_acc: 0.7875\n",
      "Epoch 105/2000\n",
      "3600/3600 [==============================] - 0s 35us/step - loss: 0.5365 - acc: 0.7608 - val_loss: 0.5199 - val_acc: 0.7875\n",
      "Epoch 106/2000\n",
      "3600/3600 [==============================] - 0s 35us/step - loss: 0.5357 - acc: 0.7617 - val_loss: 0.5193 - val_acc: 0.7900\n",
      "Epoch 107/2000\n",
      "3600/3600 [==============================] - 0s 37us/step - loss: 0.5349 - acc: 0.7628 - val_loss: 0.5186 - val_acc: 0.7925\n",
      "Epoch 108/2000\n",
      "3600/3600 [==============================] - 0s 34us/step - loss: 0.5341 - acc: 0.7625 - val_loss: 0.5180 - val_acc: 0.7925\n",
      "Epoch 109/2000\n",
      "3600/3600 [==============================] - 0s 33us/step - loss: 0.5333 - acc: 0.7636 - val_loss: 0.5173 - val_acc: 0.7900\n",
      "Epoch 110/2000\n",
      "3600/3600 [==============================] - 0s 33us/step - loss: 0.5326 - acc: 0.7644 - val_loss: 0.5167 - val_acc: 0.7925\n",
      "Epoch 111/2000\n",
      "3600/3600 [==============================] - 0s 33us/step - loss: 0.5318 - acc: 0.7647 - val_loss: 0.5161 - val_acc: 0.7925\n",
      "Epoch 112/2000\n",
      "3600/3600 [==============================] - 0s 33us/step - loss: 0.5310 - acc: 0.7653 - val_loss: 0.5154 - val_acc: 0.7925\n",
      "Epoch 113/2000\n",
      "3600/3600 [==============================] - 0s 33us/step - loss: 0.5302 - acc: 0.7656 - val_loss: 0.5148 - val_acc: 0.7925\n",
      "Epoch 114/2000\n",
      "3600/3600 [==============================] - 0s 33us/step - loss: 0.5295 - acc: 0.7664 - val_loss: 0.5142 - val_acc: 0.7925\n",
      "Epoch 115/2000\n",
      "3600/3600 [==============================] - 0s 35us/step - loss: 0.5287 - acc: 0.7667 - val_loss: 0.5136 - val_acc: 0.7925\n",
      "Epoch 116/2000\n",
      "3600/3600 [==============================] - 0s 34us/step - loss: 0.5280 - acc: 0.7675 - val_loss: 0.5130 - val_acc: 0.7925\n",
      "Epoch 117/2000\n",
      "3600/3600 [==============================] - 0s 41us/step - loss: 0.5273 - acc: 0.7683 - val_loss: 0.5124 - val_acc: 0.7900\n",
      "Epoch 118/2000\n",
      "3600/3600 [==============================] - 0s 36us/step - loss: 0.5265 - acc: 0.7683 - val_loss: 0.5118 - val_acc: 0.7900\n",
      "Epoch 119/2000\n"
     ]
    },
    {
     "name": "stdout",
     "output_type": "stream",
     "text": [
      "3600/3600 [==============================] - 0s 39us/step - loss: 0.5258 - acc: 0.7686 - val_loss: 0.5113 - val_acc: 0.7900\n",
      "Epoch 120/2000\n",
      "3600/3600 [==============================] - 0s 36us/step - loss: 0.5251 - acc: 0.7700 - val_loss: 0.5107 - val_acc: 0.7875\n",
      "Epoch 121/2000\n",
      "3600/3600 [==============================] - 0s 33us/step - loss: 0.5244 - acc: 0.7706 - val_loss: 0.5101 - val_acc: 0.7875\n",
      "Epoch 122/2000\n",
      "3600/3600 [==============================] - 0s 36us/step - loss: 0.5237 - acc: 0.7706 - val_loss: 0.5095 - val_acc: 0.7900\n",
      "Epoch 123/2000\n",
      "3600/3600 [==============================] - 0s 39us/step - loss: 0.5230 - acc: 0.7708 - val_loss: 0.5090 - val_acc: 0.7900\n",
      "Epoch 124/2000\n",
      "3600/3600 [==============================] - 0s 38us/step - loss: 0.5223 - acc: 0.7717 - val_loss: 0.5084 - val_acc: 0.7900\n",
      "Epoch 125/2000\n",
      "3600/3600 [==============================] - 0s 32us/step - loss: 0.5216 - acc: 0.7714 - val_loss: 0.5079 - val_acc: 0.7900\n",
      "Epoch 126/2000\n",
      "3600/3600 [==============================] - 0s 33us/step - loss: 0.5209 - acc: 0.7711 - val_loss: 0.5073 - val_acc: 0.7900\n",
      "Epoch 127/2000\n",
      "3600/3600 [==============================] - 0s 34us/step - loss: 0.5202 - acc: 0.7708 - val_loss: 0.5068 - val_acc: 0.7900\n",
      "Epoch 128/2000\n",
      "3600/3600 [==============================] - 0s 35us/step - loss: 0.5196 - acc: 0.7719 - val_loss: 0.5063 - val_acc: 0.7900\n",
      "Epoch 129/2000\n",
      "3600/3600 [==============================] - 0s 33us/step - loss: 0.5189 - acc: 0.7722 - val_loss: 0.5057 - val_acc: 0.7900\n",
      "Epoch 130/2000\n",
      "3600/3600 [==============================] - 0s 33us/step - loss: 0.5182 - acc: 0.7719 - val_loss: 0.5052 - val_acc: 0.7900\n",
      "Epoch 131/2000\n",
      "3600/3600 [==============================] - 0s 33us/step - loss: 0.5176 - acc: 0.7717 - val_loss: 0.5047 - val_acc: 0.7900\n",
      "Epoch 132/2000\n",
      "3600/3600 [==============================] - 0s 36us/step - loss: 0.5169 - acc: 0.7719 - val_loss: 0.5042 - val_acc: 0.7900\n",
      "Epoch 133/2000\n",
      "3600/3600 [==============================] - 0s 36us/step - loss: 0.5163 - acc: 0.7717 - val_loss: 0.5037 - val_acc: 0.7875\n",
      "Epoch 134/2000\n",
      "3600/3600 [==============================] - 0s 34us/step - loss: 0.5157 - acc: 0.7717 - val_loss: 0.5032 - val_acc: 0.7875\n",
      "Epoch 135/2000\n",
      "3600/3600 [==============================] - 0s 37us/step - loss: 0.5151 - acc: 0.7717 - val_loss: 0.5027 - val_acc: 0.7875\n",
      "Epoch 136/2000\n",
      "3600/3600 [==============================] - 0s 36us/step - loss: 0.5144 - acc: 0.7717 - val_loss: 0.5022 - val_acc: 0.7875\n",
      "Epoch 137/2000\n",
      "3600/3600 [==============================] - 0s 36us/step - loss: 0.5138 - acc: 0.7725 - val_loss: 0.5017 - val_acc: 0.7850\n",
      "Epoch 138/2000\n",
      "3600/3600 [==============================] - 0s 37us/step - loss: 0.5132 - acc: 0.7731 - val_loss: 0.5012 - val_acc: 0.7875\n",
      "Epoch 139/2000\n",
      "3600/3600 [==============================] - 0s 34us/step - loss: 0.5126 - acc: 0.7725 - val_loss: 0.5008 - val_acc: 0.7875\n",
      "Epoch 140/2000\n",
      "3600/3600 [==============================] - 0s 34us/step - loss: 0.5120 - acc: 0.7733 - val_loss: 0.5003 - val_acc: 0.7875\n",
      "Epoch 141/2000\n",
      "3600/3600 [==============================] - 0s 32us/step - loss: 0.5115 - acc: 0.7736 - val_loss: 0.4998 - val_acc: 0.7850\n",
      "Epoch 142/2000\n",
      "3600/3600 [==============================] - 0s 33us/step - loss: 0.5109 - acc: 0.7739 - val_loss: 0.4994 - val_acc: 0.7850\n",
      "Epoch 143/2000\n",
      "3600/3600 [==============================] - 0s 35us/step - loss: 0.5103 - acc: 0.7742 - val_loss: 0.4990 - val_acc: 0.7850\n",
      "Epoch 144/2000\n",
      "3600/3600 [==============================] - 0s 33us/step - loss: 0.5097 - acc: 0.7739 - val_loss: 0.4985 - val_acc: 0.7850\n",
      "Epoch 145/2000\n",
      "3600/3600 [==============================] - 0s 33us/step - loss: 0.5092 - acc: 0.7739 - val_loss: 0.4981 - val_acc: 0.7850\n",
      "Epoch 146/2000\n",
      "3600/3600 [==============================] - 0s 33us/step - loss: 0.5086 - acc: 0.7736 - val_loss: 0.4977 - val_acc: 0.7850\n",
      "Epoch 147/2000\n",
      "3600/3600 [==============================] - 0s 33us/step - loss: 0.5081 - acc: 0.7744 - val_loss: 0.4972 - val_acc: 0.7850\n",
      "Epoch 148/2000\n",
      "3600/3600 [==============================] - 0s 36us/step - loss: 0.5076 - acc: 0.7742 - val_loss: 0.4968 - val_acc: 0.7850\n",
      "Epoch 149/2000\n",
      "3600/3600 [==============================] - 0s 36us/step - loss: 0.5070 - acc: 0.7747 - val_loss: 0.4964 - val_acc: 0.7850\n",
      "Epoch 150/2000\n",
      "3600/3600 [==============================] - 0s 35us/step - loss: 0.5065 - acc: 0.7744 - val_loss: 0.4960 - val_acc: 0.7850\n",
      "Epoch 151/2000\n",
      "3600/3600 [==============================] - 0s 38us/step - loss: 0.5059 - acc: 0.7747 - val_loss: 0.4955 - val_acc: 0.7850\n",
      "Epoch 152/2000\n",
      "3600/3600 [==============================] - 0s 36us/step - loss: 0.5054 - acc: 0.7753 - val_loss: 0.4952 - val_acc: 0.7850\n",
      "Epoch 153/2000\n",
      "3600/3600 [==============================] - 0s 35us/step - loss: 0.5049 - acc: 0.7753 - val_loss: 0.4948 - val_acc: 0.7850\n",
      "Epoch 154/2000\n",
      "3600/3600 [==============================] - 0s 39us/step - loss: 0.5044 - acc: 0.7764 - val_loss: 0.4944 - val_acc: 0.7850\n",
      "Epoch 155/2000\n",
      "3600/3600 [==============================] - 0s 37us/step - loss: 0.5039 - acc: 0.7767 - val_loss: 0.4940 - val_acc: 0.7875\n",
      "Epoch 156/2000\n",
      "3600/3600 [==============================] - 0s 35us/step - loss: 0.5034 - acc: 0.7769 - val_loss: 0.4936 - val_acc: 0.7875\n",
      "Epoch 157/2000\n",
      "3600/3600 [==============================] - 0s 33us/step - loss: 0.5029 - acc: 0.7772 - val_loss: 0.4932 - val_acc: 0.7875\n",
      "Epoch 158/2000\n",
      "3600/3600 [==============================] - 0s 33us/step - loss: 0.5024 - acc: 0.7775 - val_loss: 0.4928 - val_acc: 0.7875\n",
      "Epoch 159/2000\n",
      "3600/3600 [==============================] - 0s 33us/step - loss: 0.5019 - acc: 0.7778 - val_loss: 0.4925 - val_acc: 0.7875\n",
      "Epoch 160/2000\n",
      "3600/3600 [==============================] - 0s 35us/step - loss: 0.5014 - acc: 0.7781 - val_loss: 0.4921 - val_acc: 0.7900\n",
      "Epoch 161/2000\n",
      "3600/3600 [==============================] - 0s 33us/step - loss: 0.5010 - acc: 0.7778 - val_loss: 0.4917 - val_acc: 0.7900\n",
      "Epoch 162/2000\n",
      "3600/3600 [==============================] - 0s 35us/step - loss: 0.5005 - acc: 0.7783 - val_loss: 0.4914 - val_acc: 0.7900\n",
      "Epoch 163/2000\n",
      "3600/3600 [==============================] - 0s 34us/step - loss: 0.5000 - acc: 0.7792 - val_loss: 0.4910 - val_acc: 0.7925\n",
      "Epoch 164/2000\n",
      "3600/3600 [==============================] - 0s 36us/step - loss: 0.4995 - acc: 0.7786 - val_loss: 0.4907 - val_acc: 0.7925\n",
      "Epoch 165/2000\n",
      "3600/3600 [==============================] - 0s 37us/step - loss: 0.4991 - acc: 0.7792 - val_loss: 0.4903 - val_acc: 0.7900\n",
      "Epoch 166/2000\n",
      "3600/3600 [==============================] - 0s 37us/step - loss: 0.4986 - acc: 0.7792 - val_loss: 0.4900 - val_acc: 0.7900\n",
      "Epoch 167/2000\n",
      "3600/3600 [==============================] - 0s 36us/step - loss: 0.4982 - acc: 0.7794 - val_loss: 0.4896 - val_acc: 0.7900\n",
      "Epoch 168/2000\n",
      "3600/3600 [==============================] - 0s 34us/step - loss: 0.4977 - acc: 0.7794 - val_loss: 0.4893 - val_acc: 0.7900\n",
      "Epoch 169/2000\n",
      "3600/3600 [==============================] - 0s 36us/step - loss: 0.4973 - acc: 0.7792 - val_loss: 0.4889 - val_acc: 0.7900\n",
      "Epoch 170/2000\n",
      "3600/3600 [==============================] - 0s 35us/step - loss: 0.4969 - acc: 0.7797 - val_loss: 0.4886 - val_acc: 0.7900\n",
      "Epoch 171/2000\n",
      "3600/3600 [==============================] - 0s 34us/step - loss: 0.4964 - acc: 0.7797 - val_loss: 0.4883 - val_acc: 0.7900\n",
      "Epoch 172/2000\n",
      "3600/3600 [==============================] - 0s 35us/step - loss: 0.4960 - acc: 0.7800 - val_loss: 0.4880 - val_acc: 0.7900\n",
      "Epoch 173/2000\n",
      "3600/3600 [==============================] - 0s 34us/step - loss: 0.4956 - acc: 0.7800 - val_loss: 0.4877 - val_acc: 0.7900\n",
      "Epoch 174/2000\n",
      "3600/3600 [==============================] - 0s 34us/step - loss: 0.4952 - acc: 0.7800 - val_loss: 0.4874 - val_acc: 0.7900\n",
      "Epoch 175/2000\n",
      "3600/3600 [==============================] - 0s 33us/step - loss: 0.4948 - acc: 0.7803 - val_loss: 0.4871 - val_acc: 0.7900\n",
      "Epoch 176/2000\n",
      "3600/3600 [==============================] - 0s 34us/step - loss: 0.4944 - acc: 0.7800 - val_loss: 0.4868 - val_acc: 0.7900\n",
      "Epoch 177/2000\n",
      "3600/3600 [==============================] - 0s 35us/step - loss: 0.4940 - acc: 0.7800 - val_loss: 0.4865 - val_acc: 0.7900\n",
      "Epoch 178/2000\n"
     ]
    },
    {
     "name": "stdout",
     "output_type": "stream",
     "text": [
      "3600/3600 [==============================] - 0s 34us/step - loss: 0.4936 - acc: 0.7808 - val_loss: 0.4862 - val_acc: 0.7900\n",
      "Epoch 179/2000\n",
      "3600/3600 [==============================] - 0s 35us/step - loss: 0.4932 - acc: 0.7811 - val_loss: 0.4859 - val_acc: 0.7900\n",
      "Epoch 180/2000\n",
      "3600/3600 [==============================] - 0s 34us/step - loss: 0.4928 - acc: 0.7811 - val_loss: 0.4856 - val_acc: 0.7900\n",
      "Epoch 181/2000\n",
      "3600/3600 [==============================] - 0s 34us/step - loss: 0.4924 - acc: 0.7811 - val_loss: 0.4853 - val_acc: 0.7900\n",
      "Epoch 182/2000\n",
      "3600/3600 [==============================] - 0s 38us/step - loss: 0.4920 - acc: 0.7808 - val_loss: 0.4850 - val_acc: 0.7900\n",
      "Epoch 183/2000\n",
      "3600/3600 [==============================] - 0s 36us/step - loss: 0.4917 - acc: 0.7811 - val_loss: 0.4847 - val_acc: 0.7875\n",
      "Epoch 184/2000\n",
      "3600/3600 [==============================] - 0s 33us/step - loss: 0.4913 - acc: 0.7811 - val_loss: 0.4845 - val_acc: 0.7875\n",
      "Epoch 185/2000\n",
      "3600/3600 [==============================] - 0s 33us/step - loss: 0.4909 - acc: 0.7814 - val_loss: 0.4842 - val_acc: 0.7875\n",
      "Epoch 186/2000\n",
      "3600/3600 [==============================] - 0s 35us/step - loss: 0.4906 - acc: 0.7811 - val_loss: 0.4840 - val_acc: 0.7875\n",
      "Epoch 187/2000\n",
      "3600/3600 [==============================] - 0s 34us/step - loss: 0.4902 - acc: 0.7811 - val_loss: 0.4837 - val_acc: 0.7875\n",
      "Epoch 188/2000\n",
      "3600/3600 [==============================] - 0s 34us/step - loss: 0.4899 - acc: 0.7811 - val_loss: 0.4834 - val_acc: 0.7875\n",
      "Epoch 189/2000\n",
      "3600/3600 [==============================] - 0s 34us/step - loss: 0.4895 - acc: 0.7814 - val_loss: 0.4832 - val_acc: 0.7875\n",
      "Epoch 190/2000\n",
      "3600/3600 [==============================] - 0s 33us/step - loss: 0.4892 - acc: 0.7814 - val_loss: 0.4829 - val_acc: 0.7875\n",
      "Epoch 191/2000\n",
      "3600/3600 [==============================] - 0s 35us/step - loss: 0.4888 - acc: 0.7819 - val_loss: 0.4827 - val_acc: 0.7875\n",
      "Epoch 192/2000\n",
      "3600/3600 [==============================] - 0s 35us/step - loss: 0.4885 - acc: 0.7819 - val_loss: 0.4825 - val_acc: 0.7875\n",
      "Epoch 193/2000\n",
      "3600/3600 [==============================] - 0s 34us/step - loss: 0.4882 - acc: 0.7825 - val_loss: 0.4822 - val_acc: 0.7875\n",
      "Epoch 194/2000\n",
      "3600/3600 [==============================] - 0s 35us/step - loss: 0.4879 - acc: 0.7825 - val_loss: 0.4820 - val_acc: 0.7875\n",
      "Epoch 195/2000\n",
      "3600/3600 [==============================] - 0s 36us/step - loss: 0.4875 - acc: 0.7822 - val_loss: 0.4818 - val_acc: 0.7875\n",
      "Epoch 196/2000\n",
      "3600/3600 [==============================] - 0s 34us/step - loss: 0.4872 - acc: 0.7822 - val_loss: 0.4815 - val_acc: 0.7875\n",
      "Epoch 197/2000\n",
      "3600/3600 [==============================] - 0s 35us/step - loss: 0.4869 - acc: 0.7822 - val_loss: 0.4813 - val_acc: 0.7875\n",
      "Epoch 198/2000\n",
      "3600/3600 [==============================] - 0s 42us/step - loss: 0.4866 - acc: 0.7825 - val_loss: 0.4811 - val_acc: 0.7875\n",
      "Epoch 199/2000\n",
      "3600/3600 [==============================] - 0s 36us/step - loss: 0.4863 - acc: 0.7822 - val_loss: 0.4809 - val_acc: 0.7875\n",
      "Epoch 200/2000\n",
      "3600/3600 [==============================] - 0s 34us/step - loss: 0.4860 - acc: 0.7822 - val_loss: 0.4806 - val_acc: 0.7875\n",
      "Epoch 201/2000\n",
      "3600/3600 [==============================] - 0s 33us/step - loss: 0.4857 - acc: 0.7825 - val_loss: 0.4804 - val_acc: 0.7875\n",
      "Epoch 202/2000\n",
      "3600/3600 [==============================] - 0s 34us/step - loss: 0.4854 - acc: 0.7822 - val_loss: 0.4802 - val_acc: 0.7875\n",
      "Epoch 203/2000\n",
      "3600/3600 [==============================] - 0s 35us/step - loss: 0.4851 - acc: 0.7817 - val_loss: 0.4800 - val_acc: 0.7875\n",
      "Epoch 204/2000\n",
      "3600/3600 [==============================] - 0s 34us/step - loss: 0.4848 - acc: 0.7811 - val_loss: 0.4798 - val_acc: 0.7900\n",
      "Epoch 205/2000\n",
      "3600/3600 [==============================] - 0s 34us/step - loss: 0.4845 - acc: 0.7814 - val_loss: 0.4796 - val_acc: 0.7900\n",
      "Epoch 206/2000\n",
      "3600/3600 [==============================] - 0s 34us/step - loss: 0.4842 - acc: 0.7811 - val_loss: 0.4794 - val_acc: 0.7900\n",
      "Epoch 207/2000\n",
      "3600/3600 [==============================] - 0s 34us/step - loss: 0.4839 - acc: 0.7814 - val_loss: 0.4792 - val_acc: 0.7900\n",
      "Epoch 208/2000\n",
      "3600/3600 [==============================] - 0s 34us/step - loss: 0.4836 - acc: 0.7817 - val_loss: 0.4790 - val_acc: 0.7925\n",
      "Epoch 209/2000\n",
      "3600/3600 [==============================] - 0s 33us/step - loss: 0.4833 - acc: 0.7814 - val_loss: 0.4788 - val_acc: 0.7925\n",
      "Epoch 210/2000\n",
      "3600/3600 [==============================] - 0s 33us/step - loss: 0.4831 - acc: 0.7817 - val_loss: 0.4786 - val_acc: 0.7900\n",
      "Epoch 211/2000\n",
      "3600/3600 [==============================] - 0s 34us/step - loss: 0.4828 - acc: 0.7819 - val_loss: 0.4784 - val_acc: 0.7900\n",
      "Epoch 212/2000\n",
      "3600/3600 [==============================] - 0s 34us/step - loss: 0.4825 - acc: 0.7814 - val_loss: 0.4782 - val_acc: 0.7900\n",
      "Epoch 213/2000\n",
      "3600/3600 [==============================] - 0s 35us/step - loss: 0.4823 - acc: 0.7811 - val_loss: 0.4781 - val_acc: 0.7900\n",
      "Epoch 214/2000\n",
      "3600/3600 [==============================] - 0s 33us/step - loss: 0.4820 - acc: 0.7819 - val_loss: 0.4779 - val_acc: 0.7900\n",
      "Epoch 215/2000\n",
      "3600/3600 [==============================] - 0s 34us/step - loss: 0.4817 - acc: 0.7828 - val_loss: 0.4777 - val_acc: 0.7900\n",
      "Epoch 216/2000\n",
      "3600/3600 [==============================] - 0s 35us/step - loss: 0.4815 - acc: 0.7833 - val_loss: 0.4775 - val_acc: 0.7900\n",
      "Epoch 217/2000\n",
      "3600/3600 [==============================] - 0s 34us/step - loss: 0.4812 - acc: 0.7833 - val_loss: 0.4773 - val_acc: 0.7925\n",
      "Epoch 218/2000\n",
      "3600/3600 [==============================] - 0s 33us/step - loss: 0.4809 - acc: 0.7833 - val_loss: 0.4772 - val_acc: 0.7925\n",
      "Epoch 219/2000\n",
      "3600/3600 [==============================] - 0s 34us/step - loss: 0.4807 - acc: 0.7836 - val_loss: 0.4770 - val_acc: 0.7925\n",
      "Epoch 220/2000\n",
      "3600/3600 [==============================] - 0s 36us/step - loss: 0.4804 - acc: 0.7833 - val_loss: 0.4768 - val_acc: 0.7925\n",
      "Epoch 221/2000\n",
      "3600/3600 [==============================] - 0s 36us/step - loss: 0.4802 - acc: 0.7836 - val_loss: 0.4766 - val_acc: 0.7925\n",
      "Epoch 222/2000\n",
      "3600/3600 [==============================] - 0s 35us/step - loss: 0.4799 - acc: 0.7836 - val_loss: 0.4764 - val_acc: 0.7925\n",
      "Epoch 223/2000\n",
      "3600/3600 [==============================] - 0s 35us/step - loss: 0.4797 - acc: 0.7833 - val_loss: 0.4763 - val_acc: 0.7925\n",
      "Epoch 224/2000\n",
      "3600/3600 [==============================] - 0s 34us/step - loss: 0.4795 - acc: 0.7836 - val_loss: 0.4762 - val_acc: 0.7925\n",
      "Epoch 225/2000\n",
      "3600/3600 [==============================] - 0s 34us/step - loss: 0.4792 - acc: 0.7836 - val_loss: 0.4760 - val_acc: 0.7925\n",
      "Epoch 226/2000\n",
      "3600/3600 [==============================] - 0s 35us/step - loss: 0.4790 - acc: 0.7839 - val_loss: 0.4758 - val_acc: 0.7900\n",
      "Epoch 227/2000\n",
      "3600/3600 [==============================] - 0s 34us/step - loss: 0.4788 - acc: 0.7839 - val_loss: 0.4757 - val_acc: 0.7875\n",
      "Epoch 228/2000\n",
      "3600/3600 [==============================] - 0s 41us/step - loss: 0.4785 - acc: 0.7839 - val_loss: 0.4755 - val_acc: 0.7875\n",
      "Epoch 229/2000\n",
      "3600/3600 [==============================] - 0s 47us/step - loss: 0.4783 - acc: 0.7839 - val_loss: 0.4754 - val_acc: 0.7875\n",
      "Epoch 230/2000\n",
      "3600/3600 [==============================] - 0s 39us/step - loss: 0.4781 - acc: 0.7836 - val_loss: 0.4752 - val_acc: 0.7875\n",
      "Epoch 231/2000\n",
      "3600/3600 [==============================] - 0s 37us/step - loss: 0.4779 - acc: 0.7836 - val_loss: 0.4751 - val_acc: 0.7900\n",
      "Epoch 232/2000\n",
      "3600/3600 [==============================] - 0s 36us/step - loss: 0.4776 - acc: 0.7839 - val_loss: 0.4750 - val_acc: 0.7900\n",
      "Epoch 233/2000\n",
      "3600/3600 [==============================] - 0s 35us/step - loss: 0.4774 - acc: 0.7833 - val_loss: 0.4748 - val_acc: 0.7900\n",
      "Epoch 234/2000\n",
      "3600/3600 [==============================] - 0s 36us/step - loss: 0.4772 - acc: 0.7833 - val_loss: 0.4747 - val_acc: 0.7900\n",
      "Epoch 235/2000\n",
      "3600/3600 [==============================] - 0s 37us/step - loss: 0.4770 - acc: 0.7836 - val_loss: 0.4746 - val_acc: 0.7900\n",
      "Epoch 236/2000\n",
      "3600/3600 [==============================] - 0s 34us/step - loss: 0.4768 - acc: 0.7839 - val_loss: 0.4744 - val_acc: 0.7900\n",
      "Epoch 237/2000\n"
     ]
    },
    {
     "name": "stdout",
     "output_type": "stream",
     "text": [
      "3600/3600 [==============================] - 0s 35us/step - loss: 0.4766 - acc: 0.7833 - val_loss: 0.4743 - val_acc: 0.7900\n",
      "Epoch 238/2000\n",
      "3600/3600 [==============================] - 0s 35us/step - loss: 0.4764 - acc: 0.7833 - val_loss: 0.4742 - val_acc: 0.7900\n",
      "Epoch 239/2000\n",
      "3600/3600 [==============================] - 0s 36us/step - loss: 0.4762 - acc: 0.7833 - val_loss: 0.4740 - val_acc: 0.7900\n",
      "Epoch 240/2000\n",
      "3600/3600 [==============================] - 0s 35us/step - loss: 0.4760 - acc: 0.7839 - val_loss: 0.4739 - val_acc: 0.7900\n",
      "Epoch 241/2000\n",
      "3600/3600 [==============================] - 0s 39us/step - loss: 0.4758 - acc: 0.7839 - val_loss: 0.4738 - val_acc: 0.7900\n",
      "Epoch 242/2000\n",
      "3600/3600 [==============================] - 0s 41us/step - loss: 0.4756 - acc: 0.7839 - val_loss: 0.4737 - val_acc: 0.7900\n",
      "Epoch 243/2000\n",
      "3600/3600 [==============================] - 0s 38us/step - loss: 0.4754 - acc: 0.7839 - val_loss: 0.4735 - val_acc: 0.7900\n",
      "Epoch 244/2000\n",
      "3600/3600 [==============================] - 0s 46us/step - loss: 0.4753 - acc: 0.7839 - val_loss: 0.4734 - val_acc: 0.7900\n",
      "Epoch 245/2000\n",
      "3600/3600 [==============================] - 0s 34us/step - loss: 0.4751 - acc: 0.7836 - val_loss: 0.4733 - val_acc: 0.7900\n",
      "Epoch 246/2000\n",
      "3600/3600 [==============================] - 0s 34us/step - loss: 0.4749 - acc: 0.7839 - val_loss: 0.4732 - val_acc: 0.7900\n",
      "Epoch 247/2000\n",
      "3600/3600 [==============================] - 0s 35us/step - loss: 0.4747 - acc: 0.7828 - val_loss: 0.4731 - val_acc: 0.7900\n",
      "Epoch 248/2000\n",
      "3600/3600 [==============================] - 0s 34us/step - loss: 0.4745 - acc: 0.7828 - val_loss: 0.4730 - val_acc: 0.7900\n",
      "Epoch 249/2000\n",
      "3600/3600 [==============================] - 0s 35us/step - loss: 0.4744 - acc: 0.7828 - val_loss: 0.4729 - val_acc: 0.7900\n",
      "Epoch 250/2000\n",
      "3600/3600 [==============================] - 0s 35us/step - loss: 0.4742 - acc: 0.7831 - val_loss: 0.4728 - val_acc: 0.7900\n",
      "Epoch 251/2000\n",
      "3600/3600 [==============================] - 0s 36us/step - loss: 0.4740 - acc: 0.7831 - val_loss: 0.4726 - val_acc: 0.7900\n",
      "Epoch 252/2000\n",
      "3600/3600 [==============================] - 0s 35us/step - loss: 0.4738 - acc: 0.7831 - val_loss: 0.4725 - val_acc: 0.7900\n",
      "Epoch 253/2000\n",
      "3600/3600 [==============================] - 0s 35us/step - loss: 0.4736 - acc: 0.7831 - val_loss: 0.4724 - val_acc: 0.7875\n",
      "Epoch 254/2000\n",
      "3600/3600 [==============================] - 0s 35us/step - loss: 0.4735 - acc: 0.7836 - val_loss: 0.4723 - val_acc: 0.7875\n",
      "Epoch 255/2000\n",
      "3600/3600 [==============================] - 0s 40us/step - loss: 0.4733 - acc: 0.7836 - val_loss: 0.4722 - val_acc: 0.7900\n",
      "Epoch 256/2000\n",
      "3600/3600 [==============================] - 0s 35us/step - loss: 0.4731 - acc: 0.7836 - val_loss: 0.4721 - val_acc: 0.7875\n",
      "Epoch 257/2000\n",
      "3600/3600 [==============================] - 0s 34us/step - loss: 0.4730 - acc: 0.7836 - val_loss: 0.4720 - val_acc: 0.7875\n",
      "Epoch 258/2000\n",
      "3600/3600 [==============================] - 0s 35us/step - loss: 0.4728 - acc: 0.7839 - val_loss: 0.4719 - val_acc: 0.7875\n",
      "Epoch 259/2000\n",
      "3600/3600 [==============================] - 0s 36us/step - loss: 0.4727 - acc: 0.7839 - val_loss: 0.4718 - val_acc: 0.7875\n",
      "Epoch 260/2000\n",
      "3600/3600 [==============================] - 0s 36us/step - loss: 0.4725 - acc: 0.7842 - val_loss: 0.4717 - val_acc: 0.7875\n",
      "Epoch 261/2000\n",
      "3600/3600 [==============================] - 0s 35us/step - loss: 0.4723 - acc: 0.7842 - val_loss: 0.4716 - val_acc: 0.7875\n",
      "Epoch 262/2000\n",
      "3600/3600 [==============================] - 0s 36us/step - loss: 0.4722 - acc: 0.7844 - val_loss: 0.4715 - val_acc: 0.7875\n",
      "Epoch 263/2000\n",
      "3600/3600 [==============================] - 0s 37us/step - loss: 0.4720 - acc: 0.7842 - val_loss: 0.4715 - val_acc: 0.7875\n",
      "Epoch 264/2000\n",
      "3600/3600 [==============================] - 0s 36us/step - loss: 0.4719 - acc: 0.7842 - val_loss: 0.4714 - val_acc: 0.7875\n",
      "Epoch 265/2000\n",
      "3600/3600 [==============================] - 0s 36us/step - loss: 0.4717 - acc: 0.7842 - val_loss: 0.4713 - val_acc: 0.7875\n",
      "Epoch 266/2000\n",
      "3600/3600 [==============================] - 0s 37us/step - loss: 0.4716 - acc: 0.7844 - val_loss: 0.4712 - val_acc: 0.7875\n",
      "Epoch 267/2000\n",
      "3600/3600 [==============================] - 0s 36us/step - loss: 0.4714 - acc: 0.7844 - val_loss: 0.4711 - val_acc: 0.7875\n",
      "Epoch 268/2000\n",
      "3600/3600 [==============================] - 0s 37us/step - loss: 0.4713 - acc: 0.7847 - val_loss: 0.4710 - val_acc: 0.7875\n",
      "Epoch 269/2000\n",
      "3600/3600 [==============================] - 0s 36us/step - loss: 0.4711 - acc: 0.7850 - val_loss: 0.4710 - val_acc: 0.7875\n",
      "Epoch 270/2000\n",
      "3600/3600 [==============================] - 0s 37us/step - loss: 0.4710 - acc: 0.7844 - val_loss: 0.4709 - val_acc: 0.7875\n",
      "Epoch 271/2000\n",
      "3600/3600 [==============================] - 0s 38us/step - loss: 0.4709 - acc: 0.7850 - val_loss: 0.4708 - val_acc: 0.7875\n",
      "Epoch 272/2000\n",
      "3600/3600 [==============================] - 0s 35us/step - loss: 0.4707 - acc: 0.7853 - val_loss: 0.4707 - val_acc: 0.7875\n",
      "Epoch 273/2000\n",
      "3600/3600 [==============================] - 0s 37us/step - loss: 0.4706 - acc: 0.7850 - val_loss: 0.4706 - val_acc: 0.7875\n",
      "Epoch 274/2000\n",
      "3600/3600 [==============================] - 0s 37us/step - loss: 0.4704 - acc: 0.7847 - val_loss: 0.4706 - val_acc: 0.7875\n",
      "Epoch 275/2000\n",
      "3600/3600 [==============================] - 0s 38us/step - loss: 0.4703 - acc: 0.7847 - val_loss: 0.4705 - val_acc: 0.7875\n",
      "Epoch 276/2000\n",
      "3600/3600 [==============================] - 0s 35us/step - loss: 0.4702 - acc: 0.7844 - val_loss: 0.4704 - val_acc: 0.7875\n",
      "Epoch 277/2000\n",
      "3600/3600 [==============================] - 0s 35us/step - loss: 0.4700 - acc: 0.7842 - val_loss: 0.4703 - val_acc: 0.7875\n",
      "Epoch 278/2000\n",
      "3600/3600 [==============================] - 0s 36us/step - loss: 0.4699 - acc: 0.7839 - val_loss: 0.4702 - val_acc: 0.7850\n",
      "Epoch 279/2000\n",
      "3600/3600 [==============================] - 0s 35us/step - loss: 0.4698 - acc: 0.7842 - val_loss: 0.4702 - val_acc: 0.7850\n",
      "Epoch 280/2000\n",
      "3600/3600 [==============================] - 0s 35us/step - loss: 0.4696 - acc: 0.7836 - val_loss: 0.4701 - val_acc: 0.7875\n",
      "Epoch 281/2000\n",
      "3600/3600 [==============================] - 0s 37us/step - loss: 0.4695 - acc: 0.7836 - val_loss: 0.4700 - val_acc: 0.7900\n",
      "Epoch 282/2000\n",
      "3600/3600 [==============================] - 0s 37us/step - loss: 0.4694 - acc: 0.7839 - val_loss: 0.4700 - val_acc: 0.7900\n",
      "Epoch 283/2000\n",
      "3600/3600 [==============================] - 0s 35us/step - loss: 0.4693 - acc: 0.7839 - val_loss: 0.4699 - val_acc: 0.7900\n",
      "Epoch 284/2000\n",
      "3600/3600 [==============================] - 0s 38us/step - loss: 0.4691 - acc: 0.7842 - val_loss: 0.4698 - val_acc: 0.7900\n",
      "Epoch 285/2000\n",
      "3600/3600 [==============================] - 0s 35us/step - loss: 0.4690 - acc: 0.7839 - val_loss: 0.4698 - val_acc: 0.7900\n",
      "Epoch 286/2000\n",
      "3600/3600 [==============================] - 0s 35us/step - loss: 0.4689 - acc: 0.7842 - val_loss: 0.4697 - val_acc: 0.7925\n",
      "Epoch 287/2000\n",
      "3600/3600 [==============================] - 0s 36us/step - loss: 0.4688 - acc: 0.7839 - val_loss: 0.4696 - val_acc: 0.7900\n",
      "Epoch 288/2000\n",
      "3600/3600 [==============================] - 0s 35us/step - loss: 0.4687 - acc: 0.7842 - val_loss: 0.4695 - val_acc: 0.7900\n",
      "Epoch 289/2000\n",
      "3600/3600 [==============================] - 0s 35us/step - loss: 0.4686 - acc: 0.7844 - val_loss: 0.4695 - val_acc: 0.7900\n",
      "Epoch 290/2000\n",
      "3600/3600 [==============================] - 0s 37us/step - loss: 0.4684 - acc: 0.7847 - val_loss: 0.4694 - val_acc: 0.7900\n",
      "Epoch 291/2000\n",
      "3600/3600 [==============================] - 0s 37us/step - loss: 0.4683 - acc: 0.7842 - val_loss: 0.4693 - val_acc: 0.7900\n",
      "Epoch 292/2000\n",
      "3600/3600 [==============================] - 0s 36us/step - loss: 0.4682 - acc: 0.7836 - val_loss: 0.4693 - val_acc: 0.7875\n",
      "Epoch 293/2000\n",
      "3600/3600 [==============================] - 0s 37us/step - loss: 0.4681 - acc: 0.7833 - val_loss: 0.4692 - val_acc: 0.7875\n",
      "Epoch 294/2000\n",
      "3600/3600 [==============================] - 0s 37us/step - loss: 0.4680 - acc: 0.7836 - val_loss: 0.4692 - val_acc: 0.7875\n",
      "Epoch 295/2000\n",
      "3600/3600 [==============================] - 0s 35us/step - loss: 0.4679 - acc: 0.7836 - val_loss: 0.4691 - val_acc: 0.7875\n",
      "Epoch 296/2000\n"
     ]
    },
    {
     "name": "stdout",
     "output_type": "stream",
     "text": [
      "3600/3600 [==============================] - 0s 37us/step - loss: 0.4678 - acc: 0.7833 - val_loss: 0.4691 - val_acc: 0.7875\n",
      "Epoch 297/2000\n",
      "3600/3600 [==============================] - 0s 38us/step - loss: 0.4677 - acc: 0.7833 - val_loss: 0.4690 - val_acc: 0.7875\n",
      "Epoch 298/2000\n",
      "3600/3600 [==============================] - 0s 35us/step - loss: 0.4676 - acc: 0.7833 - val_loss: 0.4690 - val_acc: 0.7875\n",
      "Epoch 299/2000\n",
      "3600/3600 [==============================] - 0s 38us/step - loss: 0.4675 - acc: 0.7836 - val_loss: 0.4689 - val_acc: 0.7850\n",
      "Epoch 300/2000\n",
      "3600/3600 [==============================] - 0s 38us/step - loss: 0.4673 - acc: 0.7833 - val_loss: 0.4688 - val_acc: 0.7850\n",
      "Epoch 301/2000\n",
      "3600/3600 [==============================] - 0s 35us/step - loss: 0.4672 - acc: 0.7831 - val_loss: 0.4688 - val_acc: 0.7850\n",
      "Epoch 302/2000\n",
      "3600/3600 [==============================] - 0s 35us/step - loss: 0.4671 - acc: 0.7833 - val_loss: 0.4687 - val_acc: 0.7850\n",
      "Epoch 303/2000\n",
      "3600/3600 [==============================] - 0s 35us/step - loss: 0.4670 - acc: 0.7831 - val_loss: 0.4687 - val_acc: 0.7875\n",
      "Epoch 304/2000\n",
      "3600/3600 [==============================] - 0s 37us/step - loss: 0.4669 - acc: 0.7828 - val_loss: 0.4687 - val_acc: 0.7875\n",
      "Epoch 305/2000\n",
      "3600/3600 [==============================] - 0s 38us/step - loss: 0.4668 - acc: 0.7828 - val_loss: 0.4686 - val_acc: 0.7875\n",
      "Epoch 306/2000\n",
      "3600/3600 [==============================] - 0s 37us/step - loss: 0.4667 - acc: 0.7828 - val_loss: 0.4686 - val_acc: 0.7875\n",
      "Epoch 307/2000\n",
      "3600/3600 [==============================] - 0s 41us/step - loss: 0.4666 - acc: 0.7825 - val_loss: 0.4685 - val_acc: 0.7875\n",
      "Epoch 308/2000\n",
      "3600/3600 [==============================] - 0s 35us/step - loss: 0.4666 - acc: 0.7822 - val_loss: 0.4685 - val_acc: 0.7875\n",
      "Epoch 309/2000\n",
      "3600/3600 [==============================] - 0s 37us/step - loss: 0.4665 - acc: 0.7825 - val_loss: 0.4684 - val_acc: 0.7875\n",
      "Epoch 310/2000\n",
      "3600/3600 [==============================] - 0s 37us/step - loss: 0.4664 - acc: 0.7819 - val_loss: 0.4683 - val_acc: 0.7875\n",
      "Epoch 311/2000\n",
      "3600/3600 [==============================] - 0s 38us/step - loss: 0.4663 - acc: 0.7819 - val_loss: 0.4683 - val_acc: 0.7875\n",
      "Epoch 312/2000\n",
      "3600/3600 [==============================] - 0s 43us/step - loss: 0.4662 - acc: 0.7825 - val_loss: 0.4683 - val_acc: 0.7875\n",
      "Epoch 313/2000\n",
      "3600/3600 [==============================] - 0s 36us/step - loss: 0.4661 - acc: 0.7822 - val_loss: 0.4682 - val_acc: 0.7875\n",
      "Epoch 314/2000\n",
      "3600/3600 [==============================] - 0s 37us/step - loss: 0.4660 - acc: 0.7828 - val_loss: 0.4682 - val_acc: 0.7875\n",
      "Epoch 315/2000\n",
      "3600/3600 [==============================] - 0s 35us/step - loss: 0.4659 - acc: 0.7825 - val_loss: 0.4681 - val_acc: 0.7875\n",
      "Epoch 316/2000\n",
      "3600/3600 [==============================] - 0s 35us/step - loss: 0.4658 - acc: 0.7825 - val_loss: 0.4681 - val_acc: 0.7875\n",
      "Epoch 317/2000\n",
      "3600/3600 [==============================] - 0s 36us/step - loss: 0.4657 - acc: 0.7825 - val_loss: 0.4680 - val_acc: 0.7875\n",
      "Epoch 318/2000\n",
      "3600/3600 [==============================] - 0s 37us/step - loss: 0.4657 - acc: 0.7828 - val_loss: 0.4680 - val_acc: 0.7875\n",
      "Epoch 319/2000\n",
      "3600/3600 [==============================] - 0s 38us/step - loss: 0.4656 - acc: 0.7825 - val_loss: 0.4680 - val_acc: 0.7875\n",
      "Epoch 320/2000\n",
      "3600/3600 [==============================] - 0s 35us/step - loss: 0.4655 - acc: 0.7828 - val_loss: 0.4680 - val_acc: 0.7875\n",
      "Epoch 321/2000\n",
      "3600/3600 [==============================] - 0s 34us/step - loss: 0.4654 - acc: 0.7828 - val_loss: 0.4679 - val_acc: 0.7875\n",
      "Epoch 322/2000\n",
      "3600/3600 [==============================] - 0s 35us/step - loss: 0.4653 - acc: 0.7828 - val_loss: 0.4678 - val_acc: 0.7875\n",
      "Epoch 323/2000\n",
      "3600/3600 [==============================] - 0s 36us/step - loss: 0.4652 - acc: 0.7825 - val_loss: 0.4678 - val_acc: 0.7875\n",
      "Epoch 324/2000\n",
      "3600/3600 [==============================] - 0s 36us/step - loss: 0.4652 - acc: 0.7828 - val_loss: 0.4678 - val_acc: 0.7875\n",
      "Epoch 325/2000\n",
      "3600/3600 [==============================] - 0s 37us/step - loss: 0.4651 - acc: 0.7822 - val_loss: 0.4678 - val_acc: 0.7875\n",
      "Epoch 326/2000\n",
      "3600/3600 [==============================] - 0s 35us/step - loss: 0.4650 - acc: 0.7828 - val_loss: 0.4677 - val_acc: 0.7875\n",
      "Epoch 327/2000\n",
      "3600/3600 [==============================] - 0s 37us/step - loss: 0.4649 - acc: 0.7825 - val_loss: 0.4677 - val_acc: 0.7875\n",
      "Epoch 328/2000\n",
      "3600/3600 [==============================] - 0s 37us/step - loss: 0.4648 - acc: 0.7822 - val_loss: 0.4676 - val_acc: 0.7875\n",
      "Epoch 329/2000\n",
      "3600/3600 [==============================] - 0s 36us/step - loss: 0.4648 - acc: 0.7822 - val_loss: 0.4676 - val_acc: 0.7875\n",
      "Epoch 330/2000\n",
      "3600/3600 [==============================] - 0s 36us/step - loss: 0.4647 - acc: 0.7822 - val_loss: 0.4676 - val_acc: 0.7875\n",
      "Epoch 331/2000\n",
      "3600/3600 [==============================] - 0s 35us/step - loss: 0.4646 - acc: 0.7822 - val_loss: 0.4676 - val_acc: 0.7875\n",
      "Epoch 332/2000\n",
      "3600/3600 [==============================] - 0s 37us/step - loss: 0.4645 - acc: 0.7825 - val_loss: 0.4675 - val_acc: 0.7875\n",
      "Epoch 333/2000\n",
      "3600/3600 [==============================] - 0s 36us/step - loss: 0.4645 - acc: 0.7819 - val_loss: 0.4675 - val_acc: 0.7875\n",
      "Epoch 334/2000\n",
      "3600/3600 [==============================] - 0s 48us/step - loss: 0.4644 - acc: 0.7822 - val_loss: 0.4674 - val_acc: 0.7875\n",
      "Epoch 335/2000\n",
      "3600/3600 [==============================] - 0s 38us/step - loss: 0.4643 - acc: 0.7822 - val_loss: 0.4674 - val_acc: 0.7875\n",
      "Epoch 336/2000\n",
      "3600/3600 [==============================] - 0s 35us/step - loss: 0.4643 - acc: 0.7822 - val_loss: 0.4674 - val_acc: 0.7875\n",
      "Epoch 337/2000\n",
      "3600/3600 [==============================] - 0s 37us/step - loss: 0.4642 - acc: 0.7817 - val_loss: 0.4674 - val_acc: 0.7875\n",
      "Epoch 338/2000\n",
      "3600/3600 [==============================] - 0s 38us/step - loss: 0.4641 - acc: 0.7817 - val_loss: 0.4673 - val_acc: 0.7875\n",
      "Epoch 339/2000\n",
      "3600/3600 [==============================] - 0s 36us/step - loss: 0.4640 - acc: 0.7814 - val_loss: 0.4673 - val_acc: 0.7875\n",
      "Epoch 340/2000\n",
      "3600/3600 [==============================] - 0s 38us/step - loss: 0.4640 - acc: 0.7819 - val_loss: 0.4673 - val_acc: 0.7875\n",
      "Epoch 341/2000\n",
      "3600/3600 [==============================] - 0s 37us/step - loss: 0.4639 - acc: 0.7814 - val_loss: 0.4673 - val_acc: 0.7875\n",
      "Epoch 342/2000\n",
      "3600/3600 [==============================] - 0s 36us/step - loss: 0.4638 - acc: 0.7814 - val_loss: 0.4672 - val_acc: 0.7875\n",
      "Epoch 343/2000\n",
      "3600/3600 [==============================] - 0s 36us/step - loss: 0.4638 - acc: 0.7814 - val_loss: 0.4672 - val_acc: 0.7875\n",
      "Epoch 344/2000\n",
      "3600/3600 [==============================] - 0s 36us/step - loss: 0.4637 - acc: 0.7817 - val_loss: 0.4672 - val_acc: 0.7875\n",
      "Epoch 345/2000\n",
      "3600/3600 [==============================] - 0s 38us/step - loss: 0.4637 - acc: 0.7819 - val_loss: 0.4672 - val_acc: 0.7875\n",
      "Epoch 346/2000\n",
      "3600/3600 [==============================] - 0s 36us/step - loss: 0.4636 - acc: 0.7817 - val_loss: 0.4671 - val_acc: 0.7875\n",
      "Epoch 347/2000\n",
      "3600/3600 [==============================] - 0s 36us/step - loss: 0.4635 - acc: 0.7808 - val_loss: 0.4671 - val_acc: 0.7875\n",
      "Epoch 348/2000\n",
      "3600/3600 [==============================] - 0s 37us/step - loss: 0.4635 - acc: 0.7819 - val_loss: 0.4671 - val_acc: 0.7875\n",
      "Epoch 349/2000\n",
      "3600/3600 [==============================] - 0s 36us/step - loss: 0.4634 - acc: 0.7817 - val_loss: 0.4671 - val_acc: 0.7875\n",
      "Epoch 350/2000\n",
      "3600/3600 [==============================] - 0s 37us/step - loss: 0.4633 - acc: 0.7819 - val_loss: 0.4671 - val_acc: 0.7875\n",
      "Epoch 351/2000\n",
      "3600/3600 [==============================] - 0s 34us/step - loss: 0.4633 - acc: 0.7819 - val_loss: 0.4671 - val_acc: 0.7875\n",
      "Epoch 352/2000\n",
      "3600/3600 [==============================] - 0s 36us/step - loss: 0.4633 - acc: 0.7817 - val_loss: 0.4671 - val_acc: 0.7875\n",
      "Epoch 353/2000\n",
      "3600/3600 [==============================] - 0s 35us/step - loss: 0.4633 - acc: 0.7819 - val_loss: 0.4671 - val_acc: 0.7875\n",
      "Epoch 354/2000\n",
      "3600/3600 [==============================] - 0s 38us/step - loss: 0.4633 - acc: 0.7817 - val_loss: 0.4670 - val_acc: 0.7875\n",
      "Epoch 355/2000\n"
     ]
    },
    {
     "name": "stdout",
     "output_type": "stream",
     "text": [
      "3600/3600 [==============================] - 0s 37us/step - loss: 0.4633 - acc: 0.7817 - val_loss: 0.4670 - val_acc: 0.7875\n",
      "Epoch 356/2000\n",
      "3600/3600 [==============================] - 0s 37us/step - loss: 0.4632 - acc: 0.7817 - val_loss: 0.4670 - val_acc: 0.7875\n",
      "Epoch 357/2000\n",
      "3600/3600 [==============================] - 0s 37us/step - loss: 0.4632 - acc: 0.7817 - val_loss: 0.4670 - val_acc: 0.7875\n",
      "Epoch 358/2000\n",
      "3600/3600 [==============================] - 0s 37us/step - loss: 0.4632 - acc: 0.7817 - val_loss: 0.4670 - val_acc: 0.7875\n",
      "Epoch 359/2000\n",
      "3600/3600 [==============================] - 0s 39us/step - loss: 0.4632 - acc: 0.7817 - val_loss: 0.4670 - val_acc: 0.7875\n",
      "Epoch 360/2000\n",
      "3600/3600 [==============================] - 0s 38us/step - loss: 0.4632 - acc: 0.7817 - val_loss: 0.4670 - val_acc: 0.7875\n",
      "Epoch 361/2000\n",
      "3600/3600 [==============================] - 0s 36us/step - loss: 0.4632 - acc: 0.7817 - val_loss: 0.4670 - val_acc: 0.7875\n",
      "Epoch 362/2000\n",
      "3600/3600 [==============================] - 0s 37us/step - loss: 0.4632 - acc: 0.7817 - val_loss: 0.4670 - val_acc: 0.7875\n",
      "Epoch 363/2000\n",
      "3600/3600 [==============================] - 0s 37us/step - loss: 0.4632 - acc: 0.7817 - val_loss: 0.4670 - val_acc: 0.7875\n",
      "Epoch 364/2000\n",
      "3600/3600 [==============================] - 0s 36us/step - loss: 0.4632 - acc: 0.7817 - val_loss: 0.4670 - val_acc: 0.7875\n",
      "Epoch 365/2000\n",
      "3600/3600 [==============================] - 0s 36us/step - loss: 0.4632 - acc: 0.7817 - val_loss: 0.4670 - val_acc: 0.7875\n",
      "Epoch 366/2000\n",
      "3600/3600 [==============================] - 0s 36us/step - loss: 0.4632 - acc: 0.7817 - val_loss: 0.4670 - val_acc: 0.7875\n",
      "Epoch 367/2000\n",
      "3600/3600 [==============================] - 0s 38us/step - loss: 0.4632 - acc: 0.7817 - val_loss: 0.4670 - val_acc: 0.7875\n",
      "Epoch 368/2000\n",
      "3600/3600 [==============================] - 0s 38us/step - loss: 0.4632 - acc: 0.7817 - val_loss: 0.4670 - val_acc: 0.7875\n",
      "Epoch 369/2000\n",
      "3600/3600 [==============================] - 0s 36us/step - loss: 0.4632 - acc: 0.7817 - val_loss: 0.4670 - val_acc: 0.7875\n",
      "Epoch 370/2000\n",
      "3600/3600 [==============================] - 0s 36us/step - loss: 0.4632 - acc: 0.7817 - val_loss: 0.4670 - val_acc: 0.7875\n",
      "Epoch 371/2000\n",
      "3600/3600 [==============================] - 0s 35us/step - loss: 0.4632 - acc: 0.7817 - val_loss: 0.4670 - val_acc: 0.7875\n",
      "Epoch 372/2000\n",
      "3600/3600 [==============================] - 0s 36us/step - loss: 0.4632 - acc: 0.7817 - val_loss: 0.4670 - val_acc: 0.7875\n",
      "Epoch 373/2000\n",
      "3600/3600 [==============================] - 0s 37us/step - loss: 0.4632 - acc: 0.7817 - val_loss: 0.4670 - val_acc: 0.7875\n",
      "Epoch 374/2000\n",
      "3600/3600 [==============================] - 0s 35us/step - loss: 0.4632 - acc: 0.7817 - val_loss: 0.4670 - val_acc: 0.7875\n",
      "Epoch 375/2000\n",
      "3600/3600 [==============================] - 0s 37us/step - loss: 0.4632 - acc: 0.7817 - val_loss: 0.4670 - val_acc: 0.7875\n",
      "Epoch 376/2000\n",
      "3600/3600 [==============================] - 0s 36us/step - loss: 0.4632 - acc: 0.7817 - val_loss: 0.4670 - val_acc: 0.7875\n",
      "Restoring model weights from the end of the best epoch\n",
      "Epoch 00376: early stopping\n"
     ]
    }
   ],
   "source": [
    "early_stp = EarlyStopping(monitor='val_loss', \n",
    "                          min_delta=0, patience=5, \n",
    "                          verbose=1, mode='auto', \n",
    "                          baseline=None, restore_best_weights=True)\n",
    "\n",
    "reduce_lr = ReduceLROnPlateau(monitor='val_loss', factor=0.2,\n",
    "                              patience=5, min_lr=0.0000001)\n",
    "\n",
    "# model.fit(X_train, Y_train, callbacks=[reduce_lr])\n",
    "\n",
    "model = logreg\n",
    "history = logreg.fit(X, y, \n",
    "                     epochs = 2000,\n",
    "                     validation_data = (X_val, y_val),\n",
    "                     callbacks=[reduce_lr, early_stp])"
   ]
  },
  {
   "cell_type": "code",
   "execution_count": 105,
   "metadata": {
    "ExecuteTime": {
     "end_time": "2019-12-10T00:55:37.753978Z",
     "start_time": "2019-12-10T00:55:37.311215Z"
    }
   },
   "outputs": [
    {
     "data": {
      "image/png": "[encoded data removed]",
      "text/plain": [
       "<Figure size 432x288 with 1 Axes>"
      ]
     },
     "metadata": {
      "needs_background": "light"
     },
     "output_type": "display_data"
    },
    {
     "data": {
      "image/png": "[encoded data removed]",
      "text/plain": [
       "<Figure size 432x288 with 1 Axes>"
      ]
     },
     "metadata": {
      "needs_background": "light"
     },
     "output_type": "display_data"
    }
   ],
   "source": [
    "# Plot training & validation accuracy values\n",
    "plt.plot(history.history['acc'])\n",
    "plt.plot(history.history['val_acc'])\n",
    "plt.title('Model accuracy')\n",
    "plt.ylabel('Accuracy')\n",
    "plt.xlabel('Epoch')\n",
    "plt.legend(['Train', 'Test'], loc='lower right')\n",
    "plt.show()\n",
    "\n",
    "\n",
    "# Plot training & validation loss values\n",
    "plt.plot(history.history['loss'])\n",
    "plt.plot(history.history['val_loss'])\n",
    "plt.title('Model loss')\n",
    "plt.ylabel('Loss')\n",
    "plt.xlabel('Epoch')\n",
    "plt.legend(['Train', 'Test'], loc='upper right')\n",
    "plt.show()"
   ]
  },
  {
   "cell_type": "markdown",
   "metadata": {},
   "source": [
    "## n audios per voiceprint: 9 audios"
   ]
  },
  {
   "cell_type": "code",
   "execution_count": 77,
   "metadata": {
    "ExecuteTime": {
     "end_time": "2019-12-09T23:57:26.980686Z",
     "start_time": "2019-12-09T23:39:43.638778Z"
    }
   },
   "outputs": [
    {
     "name": "stdout",
     "output_type": "stream",
     "text": [
      "Collecting data point 2000\r"
     ]
    }
   ],
   "source": [
    "# Generate data for logreg\n",
    "data_10 = pd.DataFrame()\n",
    "features = []\n",
    "targets = []\n",
    "\n",
    "model = siamese_same_weights\n",
    "trials = 1\n",
    "speaker_data = test_data_40_vgg\n",
    "n = 9\n",
    "count = 0\n",
    "for i in range(2000):\n",
    "    pos = applications.one_speaker_authentification_1(model, \n",
    "                                                    trials, \n",
    "                                                    speaker_data,\n",
    "                                                    n)\n",
    "    neg = applications.one_speaker_authentification_0(model, \n",
    "                                                    trials, \n",
    "                                                    speaker_data,\n",
    "                                                    n)\n",
    "   \n",
    "    features.append(pos)\n",
    "    features.append(neg)\n",
    "    targets.append(1)\n",
    "    targets.append(0)\n",
    "    \n",
    "    count+=1\n",
    "    print('Collecting data point {}'.format(count), end='\\r')\n",
    "    \n",
    "data_10['features'] =  features\n",
    "data_10['targets'] =  targets"
   ]
  },
  {
   "cell_type": "code",
   "execution_count": 78,
   "metadata": {
    "ExecuteTime": {
     "end_time": "2019-12-09T23:57:27.059548Z",
     "start_time": "2019-12-09T23:57:26.983847Z"
    }
   },
   "outputs": [
    {
     "data": {
      "text/plain": [
       "(4000, 2)"
      ]
     },
     "execution_count": 78,
     "metadata": {},
     "output_type": "execute_result"
    }
   ],
   "source": [
    "data_10.shape"
   ]
  },
  {
   "cell_type": "code",
   "execution_count": 79,
   "metadata": {
    "ExecuteTime": {
     "end_time": "2019-12-09T23:57:27.327790Z",
     "start_time": "2019-12-09T23:57:27.062969Z"
    }
   },
   "outputs": [],
   "source": [
    "pickle.dump(data, open(\n",
    "    '/Users/greenapple/project5/data/processed/logreg_data_5_voiceprint.pkl', 'wb'))"
   ]
  },
  {
   "cell_type": "code",
   "execution_count": 142,
   "metadata": {
    "ExecuteTime": {
     "end_time": "2019-12-10T01:48:26.272994Z",
     "start_time": "2019-12-10T01:48:26.187866Z"
    }
   },
   "outputs": [
    {
     "data": {
      "text/plain": [
       "array([[0.98407257],\n",
       "       [0.94110346],\n",
       "       [0.14724365],\n",
       "       [0.86359453],\n",
       "       [0.9936683 ],\n",
       "       [0.9948666 ],\n",
       "       [0.9411349 ],\n",
       "       [0.67870533],\n",
       "       [0.97381264]], dtype=float32)"
      ]
     },
     "execution_count": 142,
     "metadata": {},
     "output_type": "execute_result"
    }
   ],
   "source": [
    "data_10.features[0]"
   ]
  },
  {
   "cell_type": "code",
   "execution_count": 143,
   "metadata": {
    "ExecuteTime": {
     "end_time": "2019-12-10T01:48:28.373956Z",
     "start_time": "2019-12-10T01:48:28.295407Z"
    }
   },
   "outputs": [],
   "source": [
    "# Train, test split\n",
    "train_data = data_10[:3600]\n",
    "test_data = data_10[3600:]"
   ]
  },
  {
   "cell_type": "code",
   "execution_count": 144,
   "metadata": {
    "ExecuteTime": {
     "end_time": "2019-12-10T01:48:29.620910Z",
     "start_time": "2019-12-10T01:48:29.542740Z"
    }
   },
   "outputs": [
    {
     "data": {
      "text/plain": [
       "((3600, 2), (400, 2))"
      ]
     },
     "execution_count": 144,
     "metadata": {},
     "output_type": "execute_result"
    }
   ],
   "source": [
    "train_data.shape, test_data.shape"
   ]
  },
  {
   "cell_type": "code",
   "execution_count": 83,
   "metadata": {
    "ExecuteTime": {
     "end_time": "2019-12-10T00:37:21.947778Z",
     "start_time": "2019-12-10T00:37:21.862783Z"
    }
   },
   "outputs": [
    {
     "data": {
      "text/plain": [
       "(3600, 9, 1)"
      ]
     },
     "execution_count": 83,
     "metadata": {},
     "output_type": "execute_result"
    }
   ],
   "source": [
    "X = np.array(train_data.features.tolist())\n",
    "X.shape"
   ]
  },
  {
   "cell_type": "code",
   "execution_count": 84,
   "metadata": {
    "ExecuteTime": {
     "end_time": "2019-12-10T00:37:28.405505Z",
     "start_time": "2019-12-10T00:37:28.314075Z"
    }
   },
   "outputs": [],
   "source": [
    "# Reshape data for training\n",
    "X = np.array(train_data.features.tolist()).reshape(3600, 9)\n",
    "y = np.array(train_data.targets.tolist())\n",
    "\n",
    "X_val = np.array(test_data.features.tolist()).reshape(400, 9)\n",
    "y_val = np.array(test_data.targets.tolist())"
   ]
  },
  {
   "cell_type": "code",
   "execution_count": 94,
   "metadata": {
    "ExecuteTime": {
     "end_time": "2019-12-10T00:51:53.271453Z",
     "start_time": "2019-12-10T00:51:53.136494Z"
    }
   },
   "outputs": [],
   "source": [
    "# Logistic regression\n",
    "inputs = Input(shape=(9,))\n",
    "output = Dense(1, activation='sigmoid')(inputs)\n",
    "logreg = Model(inputs, output)\n",
    "\n",
    "logreg.compile(optimizer=Adam(lr = 0.0001),\n",
    "                       loss = 'binary_crossentropy',\n",
    "                       metrics=['accuracy'])"
   ]
  },
  {
   "cell_type": "code",
   "execution_count": 95,
   "metadata": {
    "ExecuteTime": {
     "end_time": "2019-12-10T00:53:20.744695Z",
     "start_time": "2019-12-10T00:52:25.588437Z"
    },
    "scrolled": true
   },
   "outputs": [
    {
     "name": "stdout",
     "output_type": "stream",
     "text": [
      "Train on 3600 samples, validate on 400 samples\n",
      "Epoch 1/2000\n",
      "3600/3600 [==============================] - 0s 135us/step - loss: 0.7101 - acc: 0.4850 - val_loss: 0.7222 - val_acc: 0.5125\n",
      "Epoch 2/2000\n",
      "3600/3600 [==============================] - 0s 33us/step - loss: 0.7012 - acc: 0.5242 - val_loss: 0.7143 - val_acc: 0.5475\n",
      "Epoch 3/2000\n",
      "3600/3600 [==============================] - 0s 35us/step - loss: 0.6931 - acc: 0.5803 - val_loss: 0.7073 - val_acc: 0.5700\n",
      "Epoch 4/2000\n",
      "3600/3600 [==============================] - 0s 35us/step - loss: 0.6857 - acc: 0.6022 - val_loss: 0.7009 - val_acc: 0.5900\n",
      "Epoch 5/2000\n",
      "3600/3600 [==============================] - 0s 37us/step - loss: 0.6790 - acc: 0.6183 - val_loss: 0.6950 - val_acc: 0.5875\n",
      "Epoch 6/2000\n",
      "3600/3600 [==============================] - 0s 44us/step - loss: 0.6727 - acc: 0.6353 - val_loss: 0.6895 - val_acc: 0.6025\n",
      "Epoch 7/2000\n",
      "3600/3600 [==============================] - 0s 44us/step - loss: 0.6670 - acc: 0.6444 - val_loss: 0.6846 - val_acc: 0.6050\n",
      "Epoch 8/2000\n",
      "3600/3600 [==============================] - 0s 33us/step - loss: 0.6618 - acc: 0.6556 - val_loss: 0.6801 - val_acc: 0.6100\n",
      "Epoch 9/2000\n",
      "3600/3600 [==============================] - 0s 39us/step - loss: 0.6569 - acc: 0.6631 - val_loss: 0.6760 - val_acc: 0.6200\n",
      "Epoch 10/2000\n",
      "3600/3600 [==============================] - 0s 38us/step - loss: 0.6524 - acc: 0.6683 - val_loss: 0.6721 - val_acc: 0.6350\n",
      "Epoch 11/2000\n",
      "3600/3600 [==============================] - 0s 66us/step - loss: 0.6482 - acc: 0.6747 - val_loss: 0.6685 - val_acc: 0.6350\n",
      "Epoch 12/2000\n",
      "3600/3600 [==============================] - 0s 42us/step - loss: 0.6443 - acc: 0.6789 - val_loss: 0.6652 - val_acc: 0.6475\n",
      "Epoch 13/2000\n",
      "3600/3600 [==============================] - 0s 37us/step - loss: 0.6406 - acc: 0.6831 - val_loss: 0.6620 - val_acc: 0.6425\n",
      "Epoch 14/2000\n",
      "3600/3600 [==============================] - 0s 37us/step - loss: 0.6371 - acc: 0.6881 - val_loss: 0.6591 - val_acc: 0.6375\n",
      "Epoch 15/2000\n",
      "3600/3600 [==============================] - 0s 46us/step - loss: 0.6338 - acc: 0.6928 - val_loss: 0.6563 - val_acc: 0.6425\n",
      "Epoch 16/2000\n",
      "3600/3600 [==============================] - 0s 48us/step - loss: 0.6306 - acc: 0.6969 - val_loss: 0.6536 - val_acc: 0.6475\n",
      "Epoch 17/2000\n",
      "3600/3600 [==============================] - 0s 41us/step - loss: 0.6277 - acc: 0.6992 - val_loss: 0.6511 - val_acc: 0.6525\n",
      "Epoch 18/2000\n",
      "3600/3600 [==============================] - 0s 50us/step - loss: 0.6248 - acc: 0.7028 - val_loss: 0.6487 - val_acc: 0.6600\n",
      "Epoch 19/2000\n",
      "3600/3600 [==============================] - 0s 41us/step - loss: 0.6221 - acc: 0.7036 - val_loss: 0.6465 - val_acc: 0.6625\n",
      "Epoch 20/2000\n",
      "3600/3600 [==============================] - 0s 42us/step - loss: 0.6195 - acc: 0.7056 - val_loss: 0.6442 - val_acc: 0.6625\n",
      "Epoch 21/2000\n",
      "3600/3600 [==============================] - 0s 36us/step - loss: 0.6171 - acc: 0.7075 - val_loss: 0.6421 - val_acc: 0.6650\n",
      "Epoch 22/2000\n",
      "3600/3600 [==============================] - 0s 44us/step - loss: 0.6147 - acc: 0.7108 - val_loss: 0.6401 - val_acc: 0.6650\n",
      "Epoch 23/2000\n",
      "3600/3600 [==============================] - 0s 49us/step - loss: 0.6124 - acc: 0.7128 - val_loss: 0.6382 - val_acc: 0.6650\n",
      "Epoch 24/2000\n",
      "3600/3600 [==============================] - 0s 41us/step - loss: 0.6102 - acc: 0.7164 - val_loss: 0.6363 - val_acc: 0.6625\n",
      "Epoch 25/2000\n",
      "3600/3600 [==============================] - 0s 34us/step - loss: 0.6080 - acc: 0.7192 - val_loss: 0.6344 - val_acc: 0.6625\n",
      "Epoch 26/2000\n",
      "3600/3600 [==============================] - 0s 36us/step - loss: 0.6060 - acc: 0.7211 - val_loss: 0.6327 - val_acc: 0.6650\n",
      "Epoch 27/2000\n",
      "3600/3600 [==============================] - 0s 44us/step - loss: 0.6040 - acc: 0.7231 - val_loss: 0.6309 - val_acc: 0.6650\n",
      "Epoch 28/2000\n",
      "3600/3600 [==============================] - 0s 39us/step - loss: 0.6020 - acc: 0.7244 - val_loss: 0.6293 - val_acc: 0.6725\n",
      "Epoch 29/2000\n",
      "3600/3600 [==============================] - 0s 34us/step - loss: 0.6001 - acc: 0.7253 - val_loss: 0.6276 - val_acc: 0.6750\n",
      "Epoch 30/2000\n",
      "3600/3600 [==============================] - 0s 33us/step - loss: 0.5983 - acc: 0.7278 - val_loss: 0.6260 - val_acc: 0.6825\n",
      "Epoch 31/2000\n",
      "3600/3600 [==============================] - 0s 42us/step - loss: 0.5964 - acc: 0.7281 - val_loss: 0.6244 - val_acc: 0.6850\n",
      "Epoch 32/2000\n",
      "3600/3600 [==============================] - 0s 40us/step - loss: 0.5947 - acc: 0.7297 - val_loss: 0.6229 - val_acc: 0.6850\n",
      "Epoch 33/2000\n",
      "3600/3600 [==============================] - 0s 33us/step - loss: 0.5929 - acc: 0.7306 - val_loss: 0.6213 - val_acc: 0.6925\n",
      "Epoch 34/2000\n",
      "3600/3600 [==============================] - 0s 33us/step - loss: 0.5912 - acc: 0.7308 - val_loss: 0.6198 - val_acc: 0.6975\n",
      "Epoch 35/2000\n",
      "3600/3600 [==============================] - 0s 45us/step - loss: 0.5895 - acc: 0.7308 - val_loss: 0.6184 - val_acc: 0.6975\n",
      "Epoch 36/2000\n",
      "3600/3600 [==============================] - 0s 34us/step - loss: 0.5879 - acc: 0.7336 - val_loss: 0.6169 - val_acc: 0.6975\n",
      "Epoch 37/2000\n",
      "3600/3600 [==============================] - 0s 33us/step - loss: 0.5863 - acc: 0.7344 - val_loss: 0.6155 - val_acc: 0.7000\n",
      "Epoch 38/2000\n",
      "3600/3600 [==============================] - 0s 34us/step - loss: 0.5847 - acc: 0.7350 - val_loss: 0.6140 - val_acc: 0.7000\n",
      "Epoch 39/2000\n",
      "3600/3600 [==============================] - 0s 32us/step - loss: 0.5832 - acc: 0.7356 - val_loss: 0.6126 - val_acc: 0.7000\n",
      "Epoch 40/2000\n",
      "3600/3600 [==============================] - 0s 33us/step - loss: 0.5816 - acc: 0.7364 - val_loss: 0.6112 - val_acc: 0.7025\n",
      "Epoch 41/2000\n",
      "3600/3600 [==============================] - 0s 33us/step - loss: 0.5801 - acc: 0.7367 - val_loss: 0.6098 - val_acc: 0.7050\n",
      "Epoch 42/2000\n",
      "3600/3600 [==============================] - 0s 34us/step - loss: 0.5786 - acc: 0.7383 - val_loss: 0.6085 - val_acc: 0.7050\n",
      "Epoch 43/2000\n",
      "3600/3600 [==============================] - 0s 32us/step - loss: 0.5771 - acc: 0.7394 - val_loss: 0.6072 - val_acc: 0.7050\n",
      "Epoch 44/2000\n",
      "3600/3600 [==============================] - 0s 32us/step - loss: 0.5757 - acc: 0.7408 - val_loss: 0.6058 - val_acc: 0.7050\n",
      "Epoch 45/2000\n",
      "3600/3600 [==============================] - 0s 33us/step - loss: 0.5742 - acc: 0.7417 - val_loss: 0.6045 - val_acc: 0.7050\n",
      "Epoch 46/2000\n",
      "3600/3600 [==============================] - 0s 33us/step - loss: 0.5728 - acc: 0.7436 - val_loss: 0.6032 - val_acc: 0.7050\n",
      "Epoch 47/2000\n",
      "3600/3600 [==============================] - 0s 33us/step - loss: 0.5714 - acc: 0.7453 - val_loss: 0.6019 - val_acc: 0.7050\n",
      "Epoch 48/2000\n",
      "3600/3600 [==============================] - 0s 33us/step - loss: 0.5700 - acc: 0.7467 - val_loss: 0.6006 - val_acc: 0.7050\n",
      "Epoch 49/2000\n",
      "3600/3600 [==============================] - 0s 32us/step - loss: 0.5686 - acc: 0.7481 - val_loss: 0.5994 - val_acc: 0.7075\n",
      "Epoch 50/2000\n",
      "3600/3600 [==============================] - 0s 32us/step - loss: 0.5673 - acc: 0.7492 - val_loss: 0.5981 - val_acc: 0.7075\n",
      "Epoch 51/2000\n",
      "3600/3600 [==============================] - 0s 32us/step - loss: 0.5659 - acc: 0.7503 - val_loss: 0.5969 - val_acc: 0.7100\n",
      "Epoch 52/2000\n",
      "3600/3600 [==============================] - 0s 33us/step - loss: 0.5646 - acc: 0.7528 - val_loss: 0.5956 - val_acc: 0.7125\n",
      "Epoch 53/2000\n",
      "3600/3600 [==============================] - 0s 32us/step - loss: 0.5633 - acc: 0.7531 - val_loss: 0.5944 - val_acc: 0.7100\n",
      "Epoch 54/2000\n",
      "3600/3600 [==============================] - 0s 32us/step - loss: 0.5620 - acc: 0.7544 - val_loss: 0.5932 - val_acc: 0.7125\n",
      "Epoch 55/2000\n",
      "3600/3600 [==============================] - 0s 32us/step - loss: 0.5607 - acc: 0.7550 - val_loss: 0.5920 - val_acc: 0.7150\n",
      "Epoch 56/2000\n",
      "3600/3600 [==============================] - 0s 33us/step - loss: 0.5594 - acc: 0.7561 - val_loss: 0.5907 - val_acc: 0.7150\n",
      "Epoch 57/2000\n",
      "3600/3600 [==============================] - 0s 33us/step - loss: 0.5581 - acc: 0.7586 - val_loss: 0.5896 - val_acc: 0.7150\n",
      "Epoch 58/2000\n",
      "3600/3600 [==============================] - 0s 32us/step - loss: 0.5569 - acc: 0.7606 - val_loss: 0.5884 - val_acc: 0.7150\n",
      "Epoch 59/2000\n",
      "3600/3600 [==============================] - 0s 32us/step - loss: 0.5556 - acc: 0.7614 - val_loss: 0.5872 - val_acc: 0.7150\n",
      "Epoch 60/2000\n"
     ]
    },
    {
     "name": "stdout",
     "output_type": "stream",
     "text": [
      "3600/3600 [==============================] - 0s 33us/step - loss: 0.5544 - acc: 0.7639 - val_loss: 0.5861 - val_acc: 0.7200\n",
      "Epoch 61/2000\n",
      "3600/3600 [==============================] - 0s 31us/step - loss: 0.5532 - acc: 0.7650 - val_loss: 0.5849 - val_acc: 0.7200\n",
      "Epoch 62/2000\n",
      "3600/3600 [==============================] - 0s 31us/step - loss: 0.5520 - acc: 0.7667 - val_loss: 0.5838 - val_acc: 0.7200\n",
      "Epoch 63/2000\n",
      "3600/3600 [==============================] - 0s 33us/step - loss: 0.5508 - acc: 0.7675 - val_loss: 0.5826 - val_acc: 0.7200\n",
      "Epoch 64/2000\n",
      "3600/3600 [==============================] - 0s 31us/step - loss: 0.5496 - acc: 0.7675 - val_loss: 0.5815 - val_acc: 0.7225\n",
      "Epoch 65/2000\n",
      "3600/3600 [==============================] - 0s 33us/step - loss: 0.5484 - acc: 0.7694 - val_loss: 0.5804 - val_acc: 0.7300\n",
      "Epoch 66/2000\n",
      "3600/3600 [==============================] - 0s 33us/step - loss: 0.5472 - acc: 0.7703 - val_loss: 0.5792 - val_acc: 0.7325\n",
      "Epoch 67/2000\n",
      "3600/3600 [==============================] - 0s 32us/step - loss: 0.5460 - acc: 0.7714 - val_loss: 0.5781 - val_acc: 0.7350\n",
      "Epoch 68/2000\n",
      "3600/3600 [==============================] - 0s 32us/step - loss: 0.5448 - acc: 0.7725 - val_loss: 0.5771 - val_acc: 0.7350\n",
      "Epoch 69/2000\n",
      "3600/3600 [==============================] - 0s 32us/step - loss: 0.5437 - acc: 0.7747 - val_loss: 0.5760 - val_acc: 0.7375\n",
      "Epoch 70/2000\n",
      "3600/3600 [==============================] - 0s 32us/step - loss: 0.5425 - acc: 0.7761 - val_loss: 0.5749 - val_acc: 0.7375\n",
      "Epoch 71/2000\n",
      "3600/3600 [==============================] - 0s 32us/step - loss: 0.5414 - acc: 0.7767 - val_loss: 0.5738 - val_acc: 0.7375\n",
      "Epoch 72/2000\n",
      "3600/3600 [==============================] - 0s 31us/step - loss: 0.5403 - acc: 0.7769 - val_loss: 0.5728 - val_acc: 0.7375\n",
      "Epoch 73/2000\n",
      "3600/3600 [==============================] - 0s 31us/step - loss: 0.5392 - acc: 0.7783 - val_loss: 0.5717 - val_acc: 0.7375\n",
      "Epoch 74/2000\n",
      "3600/3600 [==============================] - 0s 33us/step - loss: 0.5381 - acc: 0.7781 - val_loss: 0.5707 - val_acc: 0.7425\n",
      "Epoch 75/2000\n",
      "3600/3600 [==============================] - 0s 31us/step - loss: 0.5370 - acc: 0.7789 - val_loss: 0.5697 - val_acc: 0.7425\n",
      "Epoch 76/2000\n",
      "3600/3600 [==============================] - 0s 31us/step - loss: 0.5359 - acc: 0.7797 - val_loss: 0.5686 - val_acc: 0.7425\n",
      "Epoch 77/2000\n",
      "3600/3600 [==============================] - 0s 31us/step - loss: 0.5349 - acc: 0.7806 - val_loss: 0.5677 - val_acc: 0.7450\n",
      "Epoch 78/2000\n",
      "3600/3600 [==============================] - 0s 32us/step - loss: 0.5338 - acc: 0.7811 - val_loss: 0.5666 - val_acc: 0.7450\n",
      "Epoch 79/2000\n",
      "3600/3600 [==============================] - 0s 33us/step - loss: 0.5328 - acc: 0.7825 - val_loss: 0.5656 - val_acc: 0.7450\n",
      "Epoch 80/2000\n",
      "3600/3600 [==============================] - 0s 31us/step - loss: 0.5317 - acc: 0.7828 - val_loss: 0.5646 - val_acc: 0.7475\n",
      "Epoch 81/2000\n",
      "3600/3600 [==============================] - 0s 32us/step - loss: 0.5307 - acc: 0.7833 - val_loss: 0.5637 - val_acc: 0.7475\n",
      "Epoch 82/2000\n",
      "3600/3600 [==============================] - 0s 31us/step - loss: 0.5297 - acc: 0.7836 - val_loss: 0.5627 - val_acc: 0.7475\n",
      "Epoch 83/2000\n",
      "3600/3600 [==============================] - 0s 32us/step - loss: 0.5286 - acc: 0.7839 - val_loss: 0.5617 - val_acc: 0.7500\n",
      "Epoch 84/2000\n",
      "3600/3600 [==============================] - 0s 32us/step - loss: 0.5276 - acc: 0.7839 - val_loss: 0.5608 - val_acc: 0.7500\n",
      "Epoch 85/2000\n",
      "3600/3600 [==============================] - 0s 32us/step - loss: 0.5266 - acc: 0.7847 - val_loss: 0.5598 - val_acc: 0.7500\n",
      "Epoch 86/2000\n",
      "3600/3600 [==============================] - 0s 32us/step - loss: 0.5256 - acc: 0.7844 - val_loss: 0.5589 - val_acc: 0.7500\n",
      "Epoch 87/2000\n",
      "3600/3600 [==============================] - 0s 32us/step - loss: 0.5247 - acc: 0.7850 - val_loss: 0.5580 - val_acc: 0.7500\n",
      "Epoch 88/2000\n",
      "3600/3600 [==============================] - 0s 32us/step - loss: 0.5237 - acc: 0.7858 - val_loss: 0.5570 - val_acc: 0.7525\n",
      "Epoch 89/2000\n",
      "3600/3600 [==============================] - 0s 32us/step - loss: 0.5227 - acc: 0.7867 - val_loss: 0.5561 - val_acc: 0.7525\n",
      "Epoch 90/2000\n",
      "3600/3600 [==============================] - 0s 32us/step - loss: 0.5217 - acc: 0.7872 - val_loss: 0.5552 - val_acc: 0.7525\n",
      "Epoch 91/2000\n",
      "3600/3600 [==============================] - 0s 32us/step - loss: 0.5208 - acc: 0.7875 - val_loss: 0.5543 - val_acc: 0.7525\n",
      "Epoch 92/2000\n",
      "3600/3600 [==============================] - 0s 32us/step - loss: 0.5199 - acc: 0.7878 - val_loss: 0.5534 - val_acc: 0.7525\n",
      "Epoch 93/2000\n",
      "3600/3600 [==============================] - 0s 32us/step - loss: 0.5189 - acc: 0.7886 - val_loss: 0.5525 - val_acc: 0.7525\n",
      "Epoch 94/2000\n",
      "3600/3600 [==============================] - 0s 32us/step - loss: 0.5180 - acc: 0.7886 - val_loss: 0.5517 - val_acc: 0.7550\n",
      "Epoch 95/2000\n",
      "3600/3600 [==============================] - 0s 32us/step - loss: 0.5171 - acc: 0.7892 - val_loss: 0.5508 - val_acc: 0.7575\n",
      "Epoch 96/2000\n",
      "3600/3600 [==============================] - 0s 32us/step - loss: 0.5162 - acc: 0.7900 - val_loss: 0.5499 - val_acc: 0.7625\n",
      "Epoch 97/2000\n",
      "3600/3600 [==============================] - 0s 32us/step - loss: 0.5153 - acc: 0.7900 - val_loss: 0.5490 - val_acc: 0.7625\n",
      "Epoch 98/2000\n",
      "3600/3600 [==============================] - 0s 32us/step - loss: 0.5144 - acc: 0.7906 - val_loss: 0.5482 - val_acc: 0.7650\n",
      "Epoch 99/2000\n",
      "3600/3600 [==============================] - 0s 32us/step - loss: 0.5135 - acc: 0.7906 - val_loss: 0.5474 - val_acc: 0.7650\n",
      "Epoch 100/2000\n",
      "3600/3600 [==============================] - 0s 32us/step - loss: 0.5126 - acc: 0.7917 - val_loss: 0.5466 - val_acc: 0.7675\n",
      "Epoch 101/2000\n",
      "3600/3600 [==============================] - 0s 32us/step - loss: 0.5117 - acc: 0.7917 - val_loss: 0.5457 - val_acc: 0.7675\n",
      "Epoch 102/2000\n",
      "3600/3600 [==============================] - 0s 32us/step - loss: 0.5108 - acc: 0.7911 - val_loss: 0.5449 - val_acc: 0.7675\n",
      "Epoch 103/2000\n",
      "3600/3600 [==============================] - 0s 33us/step - loss: 0.5100 - acc: 0.7917 - val_loss: 0.5441 - val_acc: 0.7675\n",
      "Epoch 104/2000\n",
      "3600/3600 [==============================] - 0s 33us/step - loss: 0.5091 - acc: 0.7922 - val_loss: 0.5433 - val_acc: 0.7675\n",
      "Epoch 105/2000\n",
      "3600/3600 [==============================] - 0s 32us/step - loss: 0.5083 - acc: 0.7922 - val_loss: 0.5425 - val_acc: 0.7675\n",
      "Epoch 106/2000\n",
      "3600/3600 [==============================] - 0s 32us/step - loss: 0.5074 - acc: 0.7931 - val_loss: 0.5417 - val_acc: 0.7675\n",
      "Epoch 107/2000\n",
      "3600/3600 [==============================] - 0s 32us/step - loss: 0.5066 - acc: 0.7931 - val_loss: 0.5409 - val_acc: 0.7675\n",
      "Epoch 108/2000\n",
      "3600/3600 [==============================] - 0s 32us/step - loss: 0.5058 - acc: 0.7939 - val_loss: 0.5401 - val_acc: 0.7675\n",
      "Epoch 109/2000\n",
      "3600/3600 [==============================] - 0s 32us/step - loss: 0.5049 - acc: 0.7944 - val_loss: 0.5394 - val_acc: 0.7675\n",
      "Epoch 110/2000\n",
      "3600/3600 [==============================] - 0s 32us/step - loss: 0.5041 - acc: 0.7950 - val_loss: 0.5386 - val_acc: 0.7650\n",
      "Epoch 111/2000\n",
      "3600/3600 [==============================] - 0s 32us/step - loss: 0.5033 - acc: 0.7956 - val_loss: 0.5378 - val_acc: 0.7675\n",
      "Epoch 112/2000\n",
      "3600/3600 [==============================] - 0s 32us/step - loss: 0.5025 - acc: 0.7956 - val_loss: 0.5371 - val_acc: 0.7675\n",
      "Epoch 113/2000\n",
      "3600/3600 [==============================] - 0s 32us/step - loss: 0.5017 - acc: 0.7958 - val_loss: 0.5364 - val_acc: 0.7675\n",
      "Epoch 114/2000\n",
      "3600/3600 [==============================] - 0s 32us/step - loss: 0.5009 - acc: 0.7961 - val_loss: 0.5356 - val_acc: 0.7700\n",
      "Epoch 115/2000\n",
      "3600/3600 [==============================] - 0s 32us/step - loss: 0.5002 - acc: 0.7964 - val_loss: 0.5349 - val_acc: 0.7700\n",
      "Epoch 116/2000\n",
      "3600/3600 [==============================] - 0s 32us/step - loss: 0.4994 - acc: 0.7975 - val_loss: 0.5342 - val_acc: 0.7700\n",
      "Epoch 117/2000\n",
      "3600/3600 [==============================] - 0s 32us/step - loss: 0.4986 - acc: 0.7981 - val_loss: 0.5334 - val_acc: 0.7725\n",
      "Epoch 118/2000\n",
      "3600/3600 [==============================] - 0s 32us/step - loss: 0.4978 - acc: 0.7975 - val_loss: 0.5327 - val_acc: 0.7700\n",
      "Epoch 119/2000\n",
      "3600/3600 [==============================] - 0s 32us/step - loss: 0.4971 - acc: 0.7981 - val_loss: 0.5320 - val_acc: 0.7700\n",
      "Epoch 120/2000\n",
      "3600/3600 [==============================] - 0s 33us/step - loss: 0.4963 - acc: 0.7983 - val_loss: 0.5313 - val_acc: 0.7675\n",
      "Epoch 121/2000\n",
      "3600/3600 [==============================] - 0s 34us/step - loss: 0.4956 - acc: 0.7986 - val_loss: 0.5306 - val_acc: 0.7675\n",
      "Epoch 122/2000\n",
      "3600/3600 [==============================] - 0s 32us/step - loss: 0.4949 - acc: 0.7992 - val_loss: 0.5300 - val_acc: 0.7675\n",
      "Epoch 123/2000\n",
      "3600/3600 [==============================] - 0s 34us/step - loss: 0.4942 - acc: 0.8000 - val_loss: 0.5292 - val_acc: 0.7675\n",
      "Epoch 124/2000\n",
      "3600/3600 [==============================] - 0s 37us/step - loss: 0.4934 - acc: 0.7997 - val_loss: 0.5286 - val_acc: 0.7675\n",
      "Epoch 125/2000\n",
      "3600/3600 [==============================] - 0s 34us/step - loss: 0.4927 - acc: 0.7997 - val_loss: 0.5280 - val_acc: 0.7675\n",
      "Epoch 126/2000\n",
      "3600/3600 [==============================] - 0s 32us/step - loss: 0.4920 - acc: 0.8000 - val_loss: 0.5273 - val_acc: 0.7675\n",
      "Epoch 127/2000\n",
      "3600/3600 [==============================] - 0s 33us/step - loss: 0.4913 - acc: 0.7994 - val_loss: 0.5266 - val_acc: 0.7675\n",
      "Epoch 128/2000\n",
      "3600/3600 [==============================] - 0s 32us/step - loss: 0.4906 - acc: 0.7983 - val_loss: 0.5260 - val_acc: 0.7675\n",
      "Epoch 129/2000\n",
      "3600/3600 [==============================] - 0s 36us/step - loss: 0.4899 - acc: 0.7981 - val_loss: 0.5254 - val_acc: 0.7675\n",
      "Epoch 130/2000\n",
      "3600/3600 [==============================] - 0s 36us/step - loss: 0.4893 - acc: 0.7986 - val_loss: 0.5247 - val_acc: 0.7675\n",
      "Epoch 131/2000\n",
      "3600/3600 [==============================] - 0s 30us/step - loss: 0.4886 - acc: 0.7989 - val_loss: 0.5241 - val_acc: 0.7675\n",
      "Epoch 132/2000\n",
      "3600/3600 [==============================] - 0s 31us/step - loss: 0.4879 - acc: 0.7994 - val_loss: 0.5235 - val_acc: 0.7625\n",
      "Epoch 133/2000\n",
      "3600/3600 [==============================] - 0s 31us/step - loss: 0.4873 - acc: 0.7994 - val_loss: 0.5229 - val_acc: 0.7650\n",
      "Epoch 134/2000\n",
      "3600/3600 [==============================] - 0s 30us/step - loss: 0.4866 - acc: 0.7997 - val_loss: 0.5223 - val_acc: 0.7650\n",
      "Epoch 135/2000\n",
      "3600/3600 [==============================] - 0s 30us/step - loss: 0.4860 - acc: 0.8000 - val_loss: 0.5216 - val_acc: 0.7650\n",
      "Epoch 136/2000\n",
      "3600/3600 [==============================] - 0s 32us/step - loss: 0.4853 - acc: 0.8006 - val_loss: 0.5211 - val_acc: 0.7675\n",
      "Epoch 137/2000\n",
      "3600/3600 [==============================] - 0s 43us/step - loss: 0.4847 - acc: 0.8003 - val_loss: 0.5204 - val_acc: 0.7725\n",
      "Epoch 138/2000\n",
      "3600/3600 [==============================] - 0s 30us/step - loss: 0.4840 - acc: 0.8003 - val_loss: 0.5198 - val_acc: 0.7725\n",
      "Epoch 139/2000\n",
      "3600/3600 [==============================] - 0s 32us/step - loss: 0.4834 - acc: 0.8000 - val_loss: 0.5193 - val_acc: 0.7725\n",
      "Epoch 140/2000\n",
      "3600/3600 [==============================] - 0s 32us/step - loss: 0.4828 - acc: 0.8006 - val_loss: 0.5187 - val_acc: 0.7725\n",
      "Epoch 141/2000\n",
      "3600/3600 [==============================] - 0s 32us/step - loss: 0.4822 - acc: 0.8006 - val_loss: 0.5181 - val_acc: 0.7725\n",
      "Epoch 142/2000\n",
      "3600/3600 [==============================] - 0s 32us/step - loss: 0.4816 - acc: 0.7997 - val_loss: 0.5176 - val_acc: 0.7725\n",
      "Epoch 143/2000\n",
      "3600/3600 [==============================] - 0s 31us/step - loss: 0.4810 - acc: 0.7997 - val_loss: 0.5170 - val_acc: 0.7725\n",
      "Epoch 144/2000\n",
      "3600/3600 [==============================] - 0s 32us/step - loss: 0.4804 - acc: 0.7997 - val_loss: 0.5164 - val_acc: 0.7725\n",
      "Epoch 145/2000\n",
      "3600/3600 [==============================] - 0s 32us/step - loss: 0.4798 - acc: 0.8000 - val_loss: 0.5159 - val_acc: 0.7750\n",
      "Epoch 146/2000\n",
      "3600/3600 [==============================] - 0s 31us/step - loss: 0.4792 - acc: 0.8000 - val_loss: 0.5154 - val_acc: 0.7750\n",
      "Epoch 147/2000\n",
      "3600/3600 [==============================] - 0s 32us/step - loss: 0.4786 - acc: 0.8003 - val_loss: 0.5148 - val_acc: 0.7750\n",
      "Epoch 148/2000\n",
      "3600/3600 [==============================] - 0s 32us/step - loss: 0.4780 - acc: 0.8006 - val_loss: 0.5143 - val_acc: 0.7750\n",
      "Epoch 149/2000\n",
      "3600/3600 [==============================] - 0s 33us/step - loss: 0.4775 - acc: 0.8006 - val_loss: 0.5138 - val_acc: 0.7750\n",
      "Epoch 150/2000\n",
      "3600/3600 [==============================] - 0s 32us/step - loss: 0.4769 - acc: 0.8006 - val_loss: 0.5132 - val_acc: 0.7750\n",
      "Epoch 151/2000\n",
      "3600/3600 [==============================] - 0s 32us/step - loss: 0.4763 - acc: 0.8008 - val_loss: 0.5127 - val_acc: 0.7725\n",
      "Epoch 152/2000\n",
      "3600/3600 [==============================] - 0s 32us/step - loss: 0.4758 - acc: 0.8008 - val_loss: 0.5122 - val_acc: 0.7725\n",
      "Epoch 153/2000\n",
      "3600/3600 [==============================] - 0s 33us/step - loss: 0.4752 - acc: 0.8011 - val_loss: 0.5117 - val_acc: 0.7725\n",
      "Epoch 154/2000\n",
      "3600/3600 [==============================] - 0s 32us/step - loss: 0.4747 - acc: 0.8011 - val_loss: 0.5112 - val_acc: 0.7725\n",
      "Epoch 155/2000\n",
      "3600/3600 [==============================] - 0s 33us/step - loss: 0.4741 - acc: 0.8011 - val_loss: 0.5107 - val_acc: 0.7725\n",
      "Epoch 156/2000\n",
      "3600/3600 [==============================] - 0s 32us/step - loss: 0.4736 - acc: 0.8017 - val_loss: 0.5102 - val_acc: 0.7725\n",
      "Epoch 157/2000\n",
      "3600/3600 [==============================] - 0s 32us/step - loss: 0.4731 - acc: 0.8017 - val_loss: 0.5097 - val_acc: 0.7725\n",
      "Epoch 158/2000\n",
      "3600/3600 [==============================] - 0s 32us/step - loss: 0.4725 - acc: 0.8014 - val_loss: 0.5092 - val_acc: 0.7725\n",
      "Epoch 159/2000\n",
      "3600/3600 [==============================] - 0s 32us/step - loss: 0.4720 - acc: 0.8017 - val_loss: 0.5087 - val_acc: 0.7750\n",
      "Epoch 160/2000\n",
      "3600/3600 [==============================] - 0s 32us/step - loss: 0.4715 - acc: 0.8028 - val_loss: 0.5083 - val_acc: 0.7750\n",
      "Epoch 161/2000\n",
      "3600/3600 [==============================] - 0s 32us/step - loss: 0.4710 - acc: 0.8039 - val_loss: 0.5078 - val_acc: 0.7750\n",
      "Epoch 162/2000\n",
      "3600/3600 [==============================] - 0s 33us/step - loss: 0.4705 - acc: 0.8039 - val_loss: 0.5074 - val_acc: 0.7775\n",
      "Epoch 163/2000\n",
      "3600/3600 [==============================] - 0s 32us/step - loss: 0.4700 - acc: 0.8036 - val_loss: 0.5069 - val_acc: 0.7775\n",
      "Epoch 164/2000\n",
      "3600/3600 [==============================] - 0s 32us/step - loss: 0.4695 - acc: 0.8036 - val_loss: 0.5065 - val_acc: 0.7750\n",
      "Epoch 165/2000\n",
      "3600/3600 [==============================] - 0s 32us/step - loss: 0.4690 - acc: 0.8028 - val_loss: 0.5060 - val_acc: 0.7750\n",
      "Epoch 166/2000\n",
      "3600/3600 [==============================] - 0s 32us/step - loss: 0.4685 - acc: 0.8028 - val_loss: 0.5056 - val_acc: 0.7750\n",
      "Epoch 167/2000\n",
      "3600/3600 [==============================] - 0s 32us/step - loss: 0.4680 - acc: 0.8031 - val_loss: 0.5051 - val_acc: 0.7750\n",
      "Epoch 168/2000\n",
      "3600/3600 [==============================] - 0s 32us/step - loss: 0.4676 - acc: 0.8033 - val_loss: 0.5047 - val_acc: 0.7750\n",
      "Epoch 169/2000\n",
      "3600/3600 [==============================] - 0s 32us/step - loss: 0.4671 - acc: 0.8033 - val_loss: 0.5043 - val_acc: 0.7750\n",
      "Epoch 170/2000\n",
      "3600/3600 [==============================] - 0s 32us/step - loss: 0.4666 - acc: 0.8031 - val_loss: 0.5039 - val_acc: 0.7750\n",
      "Epoch 171/2000\n",
      "3600/3600 [==============================] - 0s 33us/step - loss: 0.4662 - acc: 0.8033 - val_loss: 0.5034 - val_acc: 0.7750\n",
      "Epoch 172/2000\n",
      "3600/3600 [==============================] - 0s 32us/step - loss: 0.4657 - acc: 0.8031 - val_loss: 0.5030 - val_acc: 0.7750\n",
      "Epoch 173/2000\n",
      "3600/3600 [==============================] - 0s 32us/step - loss: 0.4653 - acc: 0.8042 - val_loss: 0.5026 - val_acc: 0.7725\n",
      "Epoch 174/2000\n",
      "3600/3600 [==============================] - 0s 31us/step - loss: 0.4648 - acc: 0.8033 - val_loss: 0.5022 - val_acc: 0.7750\n",
      "Epoch 175/2000\n",
      "3600/3600 [==============================] - 0s 33us/step - loss: 0.4644 - acc: 0.8033 - val_loss: 0.5018 - val_acc: 0.7750\n",
      "Epoch 176/2000\n",
      "3600/3600 [==============================] - 0s 34us/step - loss: 0.4639 - acc: 0.8033 - val_loss: 0.5014 - val_acc: 0.7750\n",
      "Epoch 177/2000\n",
      "3600/3600 [==============================] - 0s 32us/step - loss: 0.4635 - acc: 0.8036 - val_loss: 0.5010 - val_acc: 0.7750\n",
      "Epoch 178/2000\n"
     ]
    },
    {
     "name": "stdout",
     "output_type": "stream",
     "text": [
      "3600/3600 [==============================] - 0s 32us/step - loss: 0.4631 - acc: 0.8031 - val_loss: 0.5006 - val_acc: 0.7750\n",
      "Epoch 179/2000\n",
      "3600/3600 [==============================] - 0s 34us/step - loss: 0.4626 - acc: 0.8028 - val_loss: 0.5002 - val_acc: 0.7750\n",
      "Epoch 180/2000\n",
      "3600/3600 [==============================] - 0s 34us/step - loss: 0.4622 - acc: 0.8028 - val_loss: 0.4998 - val_acc: 0.7750\n",
      "Epoch 181/2000\n",
      "3600/3600 [==============================] - 0s 32us/step - loss: 0.4618 - acc: 0.8033 - val_loss: 0.4995 - val_acc: 0.7750\n",
      "Epoch 182/2000\n",
      "3600/3600 [==============================] - 0s 35us/step - loss: 0.4614 - acc: 0.8033 - val_loss: 0.4991 - val_acc: 0.7750\n",
      "Epoch 183/2000\n",
      "3600/3600 [==============================] - 0s 38us/step - loss: 0.4610 - acc: 0.8033 - val_loss: 0.4987 - val_acc: 0.7750\n",
      "Epoch 184/2000\n",
      "3600/3600 [==============================] - 0s 30us/step - loss: 0.4606 - acc: 0.8036 - val_loss: 0.4984 - val_acc: 0.7750\n",
      "Epoch 185/2000\n",
      "3600/3600 [==============================] - 0s 32us/step - loss: 0.4602 - acc: 0.8044 - val_loss: 0.4980 - val_acc: 0.7750\n",
      "Epoch 186/2000\n",
      "3600/3600 [==============================] - 0s 32us/step - loss: 0.4598 - acc: 0.8042 - val_loss: 0.4976 - val_acc: 0.7750\n",
      "Epoch 187/2000\n",
      "3600/3600 [==============================] - 0s 31us/step - loss: 0.4594 - acc: 0.8047 - val_loss: 0.4973 - val_acc: 0.7750\n",
      "Epoch 188/2000\n",
      "3600/3600 [==============================] - 0s 30us/step - loss: 0.4590 - acc: 0.8050 - val_loss: 0.4969 - val_acc: 0.7750\n",
      "Epoch 189/2000\n",
      "3600/3600 [==============================] - 0s 31us/step - loss: 0.4586 - acc: 0.8058 - val_loss: 0.4965 - val_acc: 0.7750\n",
      "Epoch 190/2000\n",
      "3600/3600 [==============================] - 0s 31us/step - loss: 0.4582 - acc: 0.8058 - val_loss: 0.4962 - val_acc: 0.7750\n",
      "Epoch 191/2000\n",
      "3600/3600 [==============================] - 0s 32us/step - loss: 0.4578 - acc: 0.8056 - val_loss: 0.4959 - val_acc: 0.7750\n",
      "Epoch 192/2000\n",
      "3600/3600 [==============================] - 0s 32us/step - loss: 0.4575 - acc: 0.8067 - val_loss: 0.4956 - val_acc: 0.7725\n",
      "Epoch 193/2000\n",
      "3600/3600 [==============================] - 0s 32us/step - loss: 0.4571 - acc: 0.8069 - val_loss: 0.4952 - val_acc: 0.7700\n",
      "Epoch 194/2000\n",
      "3600/3600 [==============================] - 0s 32us/step - loss: 0.4567 - acc: 0.8064 - val_loss: 0.4949 - val_acc: 0.7700\n",
      "Epoch 195/2000\n",
      "3600/3600 [==============================] - 0s 32us/step - loss: 0.4564 - acc: 0.8064 - val_loss: 0.4946 - val_acc: 0.7725\n",
      "Epoch 196/2000\n",
      "3600/3600 [==============================] - 0s 32us/step - loss: 0.4560 - acc: 0.8067 - val_loss: 0.4943 - val_acc: 0.7725\n",
      "Epoch 197/2000\n",
      "3600/3600 [==============================] - 0s 33us/step - loss: 0.4557 - acc: 0.8072 - val_loss: 0.4940 - val_acc: 0.7725\n",
      "Epoch 198/2000\n",
      "3600/3600 [==============================] - 0s 33us/step - loss: 0.4553 - acc: 0.8072 - val_loss: 0.4937 - val_acc: 0.7725\n",
      "Epoch 199/2000\n",
      "3600/3600 [==============================] - 0s 32us/step - loss: 0.4550 - acc: 0.8069 - val_loss: 0.4934 - val_acc: 0.7725\n",
      "Epoch 200/2000\n",
      "3600/3600 [==============================] - 0s 31us/step - loss: 0.4546 - acc: 0.8067 - val_loss: 0.4931 - val_acc: 0.7725\n",
      "Epoch 201/2000\n",
      "3600/3600 [==============================] - 0s 33us/step - loss: 0.4543 - acc: 0.8067 - val_loss: 0.4927 - val_acc: 0.7750\n",
      "Epoch 202/2000\n",
      "3600/3600 [==============================] - 0s 35us/step - loss: 0.4539 - acc: 0.8067 - val_loss: 0.4924 - val_acc: 0.7750\n",
      "Epoch 203/2000\n",
      "3600/3600 [==============================] - 0s 32us/step - loss: 0.4536 - acc: 0.8064 - val_loss: 0.4922 - val_acc: 0.7750\n",
      "Epoch 204/2000\n",
      "3600/3600 [==============================] - 0s 33us/step - loss: 0.4533 - acc: 0.8064 - val_loss: 0.4918 - val_acc: 0.7750\n",
      "Epoch 205/2000\n",
      "3600/3600 [==============================] - 0s 32us/step - loss: 0.4530 - acc: 0.8061 - val_loss: 0.4916 - val_acc: 0.7775\n",
      "Epoch 206/2000\n",
      "3600/3600 [==============================] - 0s 33us/step - loss: 0.4527 - acc: 0.8061 - val_loss: 0.4913 - val_acc: 0.7775\n",
      "Epoch 207/2000\n",
      "3600/3600 [==============================] - 0s 34us/step - loss: 0.4524 - acc: 0.8064 - val_loss: 0.4910 - val_acc: 0.7775\n",
      "Epoch 208/2000\n",
      "3600/3600 [==============================] - 0s 32us/step - loss: 0.4520 - acc: 0.8064 - val_loss: 0.4907 - val_acc: 0.7775\n",
      "Epoch 209/2000\n",
      "3600/3600 [==============================] - 0s 32us/step - loss: 0.4517 - acc: 0.8067 - val_loss: 0.4904 - val_acc: 0.7775\n",
      "Epoch 210/2000\n",
      "3600/3600 [==============================] - 0s 32us/step - loss: 0.4514 - acc: 0.8064 - val_loss: 0.4902 - val_acc: 0.7775\n",
      "Epoch 211/2000\n",
      "3600/3600 [==============================] - 0s 33us/step - loss: 0.4511 - acc: 0.8067 - val_loss: 0.4899 - val_acc: 0.7775\n",
      "Epoch 212/2000\n",
      "3600/3600 [==============================] - 0s 32us/step - loss: 0.4508 - acc: 0.8067 - val_loss: 0.4897 - val_acc: 0.7800\n",
      "Epoch 213/2000\n",
      "3600/3600 [==============================] - 0s 32us/step - loss: 0.4505 - acc: 0.8067 - val_loss: 0.4894 - val_acc: 0.7800\n",
      "Epoch 214/2000\n",
      "3600/3600 [==============================] - 0s 31us/step - loss: 0.4502 - acc: 0.8067 - val_loss: 0.4891 - val_acc: 0.7800\n",
      "Epoch 215/2000\n",
      "3600/3600 [==============================] - 0s 30us/step - loss: 0.4499 - acc: 0.8067 - val_loss: 0.4889 - val_acc: 0.7800\n",
      "Epoch 216/2000\n",
      "3600/3600 [==============================] - 0s 30us/step - loss: 0.4497 - acc: 0.8061 - val_loss: 0.4886 - val_acc: 0.7800\n",
      "Epoch 217/2000\n",
      "3600/3600 [==============================] - 0s 30us/step - loss: 0.4493 - acc: 0.8064 - val_loss: 0.4884 - val_acc: 0.7800\n",
      "Epoch 218/2000\n",
      "3600/3600 [==============================] - 0s 31us/step - loss: 0.4491 - acc: 0.8064 - val_loss: 0.4881 - val_acc: 0.7800\n",
      "Epoch 219/2000\n",
      "3600/3600 [==============================] - 0s 32us/step - loss: 0.4488 - acc: 0.8061 - val_loss: 0.4879 - val_acc: 0.7800\n",
      "Epoch 220/2000\n",
      "3600/3600 [==============================] - 0s 32us/step - loss: 0.4485 - acc: 0.8061 - val_loss: 0.4876 - val_acc: 0.7800\n",
      "Epoch 221/2000\n",
      "3600/3600 [==============================] - 0s 33us/step - loss: 0.4482 - acc: 0.8067 - val_loss: 0.4873 - val_acc: 0.7800\n",
      "Epoch 222/2000\n",
      "3600/3600 [==============================] - 0s 33us/step - loss: 0.4480 - acc: 0.8069 - val_loss: 0.4871 - val_acc: 0.7800\n",
      "Epoch 223/2000\n",
      "3600/3600 [==============================] - 0s 36us/step - loss: 0.4477 - acc: 0.8069 - val_loss: 0.4869 - val_acc: 0.7800\n",
      "Epoch 224/2000\n",
      "3600/3600 [==============================] - 0s 35us/step - loss: 0.4474 - acc: 0.8067 - val_loss: 0.4867 - val_acc: 0.7800\n",
      "Epoch 225/2000\n",
      "3600/3600 [==============================] - 0s 32us/step - loss: 0.4472 - acc: 0.8064 - val_loss: 0.4865 - val_acc: 0.7800\n",
      "Epoch 226/2000\n",
      "3600/3600 [==============================] - 0s 32us/step - loss: 0.4469 - acc: 0.8061 - val_loss: 0.4862 - val_acc: 0.7800\n",
      "Epoch 227/2000\n",
      "3600/3600 [==============================] - 0s 32us/step - loss: 0.4466 - acc: 0.8058 - val_loss: 0.4860 - val_acc: 0.7800\n",
      "Epoch 228/2000\n",
      "3600/3600 [==============================] - 0s 32us/step - loss: 0.4464 - acc: 0.8061 - val_loss: 0.4858 - val_acc: 0.7800\n",
      "Epoch 229/2000\n",
      "3600/3600 [==============================] - 0s 32us/step - loss: 0.4461 - acc: 0.8064 - val_loss: 0.4855 - val_acc: 0.7800\n",
      "Epoch 230/2000\n",
      "3600/3600 [==============================] - 0s 33us/step - loss: 0.4459 - acc: 0.8061 - val_loss: 0.4853 - val_acc: 0.7800\n",
      "Epoch 231/2000\n",
      "3600/3600 [==============================] - 0s 31us/step - loss: 0.4456 - acc: 0.8064 - val_loss: 0.4851 - val_acc: 0.7800\n",
      "Epoch 232/2000\n",
      "3600/3600 [==============================] - 0s 30us/step - loss: 0.4454 - acc: 0.8064 - val_loss: 0.4850 - val_acc: 0.7800\n",
      "Epoch 233/2000\n",
      "3600/3600 [==============================] - 0s 30us/step - loss: 0.4451 - acc: 0.8061 - val_loss: 0.4847 - val_acc: 0.7800\n",
      "Epoch 234/2000\n",
      "3600/3600 [==============================] - 0s 32us/step - loss: 0.4449 - acc: 0.8061 - val_loss: 0.4845 - val_acc: 0.7800\n",
      "Epoch 235/2000\n",
      "3600/3600 [==============================] - 0s 37us/step - loss: 0.4447 - acc: 0.8064 - val_loss: 0.4843 - val_acc: 0.7800\n",
      "Epoch 236/2000\n",
      "3600/3600 [==============================] - 0s 35us/step - loss: 0.4444 - acc: 0.8067 - val_loss: 0.4841 - val_acc: 0.7800\n",
      "Epoch 237/2000\n"
     ]
    },
    {
     "name": "stdout",
     "output_type": "stream",
     "text": [
      "3600/3600 [==============================] - 0s 33us/step - loss: 0.4442 - acc: 0.8064 - val_loss: 0.4839 - val_acc: 0.7800\n",
      "Epoch 238/2000\n",
      "3600/3600 [==============================] - 0s 33us/step - loss: 0.4440 - acc: 0.8069 - val_loss: 0.4837 - val_acc: 0.7800\n",
      "Epoch 239/2000\n",
      "3600/3600 [==============================] - 0s 34us/step - loss: 0.4437 - acc: 0.8067 - val_loss: 0.4835 - val_acc: 0.7800\n",
      "Epoch 240/2000\n",
      "3600/3600 [==============================] - 0s 32us/step - loss: 0.4435 - acc: 0.8064 - val_loss: 0.4833 - val_acc: 0.7800\n",
      "Epoch 241/2000\n",
      "3600/3600 [==============================] - 0s 34us/step - loss: 0.4433 - acc: 0.8061 - val_loss: 0.4831 - val_acc: 0.7800\n",
      "Epoch 242/2000\n",
      "3600/3600 [==============================] - 0s 36us/step - loss: 0.4431 - acc: 0.8061 - val_loss: 0.4829 - val_acc: 0.7800\n",
      "Epoch 243/2000\n",
      "3600/3600 [==============================] - 0s 35us/step - loss: 0.4429 - acc: 0.8061 - val_loss: 0.4827 - val_acc: 0.7800\n",
      "Epoch 244/2000\n",
      "3600/3600 [==============================] - 0s 31us/step - loss: 0.4427 - acc: 0.8064 - val_loss: 0.4826 - val_acc: 0.7800\n",
      "Epoch 245/2000\n",
      "3600/3600 [==============================] - 0s 32us/step - loss: 0.4424 - acc: 0.8064 - val_loss: 0.4824 - val_acc: 0.7775\n",
      "Epoch 246/2000\n",
      "3600/3600 [==============================] - 0s 32us/step - loss: 0.4422 - acc: 0.8067 - val_loss: 0.4822 - val_acc: 0.7775\n",
      "Epoch 247/2000\n",
      "3600/3600 [==============================] - 0s 33us/step - loss: 0.4420 - acc: 0.8067 - val_loss: 0.4821 - val_acc: 0.7775\n",
      "Epoch 248/2000\n",
      "3600/3600 [==============================] - 0s 32us/step - loss: 0.4418 - acc: 0.8064 - val_loss: 0.4819 - val_acc: 0.7775\n",
      "Epoch 249/2000\n",
      "3600/3600 [==============================] - 0s 32us/step - loss: 0.4416 - acc: 0.8064 - val_loss: 0.4817 - val_acc: 0.7750\n",
      "Epoch 250/2000\n",
      "3600/3600 [==============================] - 0s 33us/step - loss: 0.4414 - acc: 0.8067 - val_loss: 0.4815 - val_acc: 0.7750\n",
      "Epoch 251/2000\n",
      "3600/3600 [==============================] - 0s 32us/step - loss: 0.4412 - acc: 0.8064 - val_loss: 0.4814 - val_acc: 0.7725\n",
      "Epoch 252/2000\n",
      "3600/3600 [==============================] - 0s 32us/step - loss: 0.4410 - acc: 0.8064 - val_loss: 0.4812 - val_acc: 0.7725\n",
      "Epoch 253/2000\n",
      "3600/3600 [==============================] - 0s 32us/step - loss: 0.4408 - acc: 0.8064 - val_loss: 0.4811 - val_acc: 0.7725\n",
      "Epoch 254/2000\n",
      "3600/3600 [==============================] - 0s 32us/step - loss: 0.4406 - acc: 0.8064 - val_loss: 0.4809 - val_acc: 0.7725\n",
      "Epoch 255/2000\n",
      "3600/3600 [==============================] - 0s 32us/step - loss: 0.4404 - acc: 0.8064 - val_loss: 0.4807 - val_acc: 0.7725\n",
      "Epoch 256/2000\n",
      "3600/3600 [==============================] - 0s 32us/step - loss: 0.4402 - acc: 0.8058 - val_loss: 0.4805 - val_acc: 0.7725\n",
      "Epoch 257/2000\n",
      "3600/3600 [==============================] - 0s 33us/step - loss: 0.4401 - acc: 0.8058 - val_loss: 0.4804 - val_acc: 0.7750\n",
      "Epoch 258/2000\n",
      "3600/3600 [==============================] - 0s 33us/step - loss: 0.4399 - acc: 0.8064 - val_loss: 0.4803 - val_acc: 0.7750\n",
      "Epoch 259/2000\n",
      "3600/3600 [==============================] - 0s 34us/step - loss: 0.4397 - acc: 0.8058 - val_loss: 0.4801 - val_acc: 0.7750\n",
      "Epoch 260/2000\n",
      "3600/3600 [==============================] - 0s 32us/step - loss: 0.4395 - acc: 0.8061 - val_loss: 0.4800 - val_acc: 0.7750\n",
      "Epoch 261/2000\n",
      "3600/3600 [==============================] - 0s 32us/step - loss: 0.4393 - acc: 0.8058 - val_loss: 0.4798 - val_acc: 0.7750\n",
      "Epoch 262/2000\n",
      "3600/3600 [==============================] - 0s 31us/step - loss: 0.4392 - acc: 0.8047 - val_loss: 0.4796 - val_acc: 0.7750\n",
      "Epoch 263/2000\n",
      "3600/3600 [==============================] - 0s 37us/step - loss: 0.4390 - acc: 0.8053 - val_loss: 0.4795 - val_acc: 0.7750\n",
      "Epoch 264/2000\n",
      "3600/3600 [==============================] - 0s 33us/step - loss: 0.4388 - acc: 0.8047 - val_loss: 0.4793 - val_acc: 0.7750\n",
      "Epoch 265/2000\n",
      "3600/3600 [==============================] - 0s 32us/step - loss: 0.4386 - acc: 0.8047 - val_loss: 0.4792 - val_acc: 0.7750\n",
      "Epoch 266/2000\n",
      "3600/3600 [==============================] - 0s 31us/step - loss: 0.4385 - acc: 0.8050 - val_loss: 0.4791 - val_acc: 0.7750\n",
      "Epoch 267/2000\n",
      "3600/3600 [==============================] - 0s 32us/step - loss: 0.4383 - acc: 0.8050 - val_loss: 0.4789 - val_acc: 0.7750\n",
      "Epoch 268/2000\n",
      "3600/3600 [==============================] - 0s 35us/step - loss: 0.4381 - acc: 0.8042 - val_loss: 0.4788 - val_acc: 0.7750\n",
      "Epoch 269/2000\n",
      "3600/3600 [==============================] - 0s 33us/step - loss: 0.4380 - acc: 0.8042 - val_loss: 0.4786 - val_acc: 0.7775\n",
      "Epoch 270/2000\n",
      "3600/3600 [==============================] - 0s 33us/step - loss: 0.4378 - acc: 0.8044 - val_loss: 0.4785 - val_acc: 0.7750\n",
      "Epoch 271/2000\n",
      "3600/3600 [==============================] - 0s 33us/step - loss: 0.4376 - acc: 0.8039 - val_loss: 0.4783 - val_acc: 0.7775\n",
      "Epoch 272/2000\n",
      "3600/3600 [==============================] - 0s 35us/step - loss: 0.4375 - acc: 0.8036 - val_loss: 0.4782 - val_acc: 0.7775\n",
      "Epoch 273/2000\n",
      "3600/3600 [==============================] - 0s 32us/step - loss: 0.4373 - acc: 0.8031 - val_loss: 0.4781 - val_acc: 0.7775\n",
      "Epoch 274/2000\n",
      "3600/3600 [==============================] - 0s 33us/step - loss: 0.4372 - acc: 0.8033 - val_loss: 0.4779 - val_acc: 0.7775\n",
      "Epoch 275/2000\n",
      "3600/3600 [==============================] - 0s 41us/step - loss: 0.4370 - acc: 0.8033 - val_loss: 0.4779 - val_acc: 0.7775\n",
      "Epoch 276/2000\n",
      "3600/3600 [==============================] - 0s 41us/step - loss: 0.4368 - acc: 0.8031 - val_loss: 0.4777 - val_acc: 0.7775\n",
      "Epoch 277/2000\n",
      "3600/3600 [==============================] - 0s 41us/step - loss: 0.4367 - acc: 0.8033 - val_loss: 0.4776 - val_acc: 0.7775\n",
      "Epoch 278/2000\n",
      "3600/3600 [==============================] - 0s 41us/step - loss: 0.4365 - acc: 0.8031 - val_loss: 0.4775 - val_acc: 0.7775\n",
      "Epoch 279/2000\n",
      "3600/3600 [==============================] - 0s 35us/step - loss: 0.4364 - acc: 0.8033 - val_loss: 0.4774 - val_acc: 0.7775\n",
      "Epoch 280/2000\n",
      "3600/3600 [==============================] - 0s 31us/step - loss: 0.4363 - acc: 0.8042 - val_loss: 0.4772 - val_acc: 0.7775\n",
      "Epoch 281/2000\n",
      "3600/3600 [==============================] - 0s 33us/step - loss: 0.4361 - acc: 0.8042 - val_loss: 0.4771 - val_acc: 0.7775\n",
      "Epoch 282/2000\n",
      "3600/3600 [==============================] - 0s 33us/step - loss: 0.4360 - acc: 0.8033 - val_loss: 0.4770 - val_acc: 0.7750\n",
      "Epoch 283/2000\n",
      "3600/3600 [==============================] - 0s 33us/step - loss: 0.4358 - acc: 0.8036 - val_loss: 0.4769 - val_acc: 0.7750\n",
      "Epoch 284/2000\n",
      "3600/3600 [==============================] - 0s 34us/step - loss: 0.4357 - acc: 0.8039 - val_loss: 0.4768 - val_acc: 0.7750\n",
      "Epoch 285/2000\n",
      "3600/3600 [==============================] - 0s 33us/step - loss: 0.4356 - acc: 0.8039 - val_loss: 0.4767 - val_acc: 0.7750\n",
      "Epoch 286/2000\n",
      "3600/3600 [==============================] - 0s 41us/step - loss: 0.4354 - acc: 0.8036 - val_loss: 0.4766 - val_acc: 0.7750\n",
      "Epoch 287/2000\n",
      "3600/3600 [==============================] - 0s 38us/step - loss: 0.4353 - acc: 0.8039 - val_loss: 0.4765 - val_acc: 0.7725\n",
      "Epoch 288/2000\n",
      "3600/3600 [==============================] - 0s 34us/step - loss: 0.4352 - acc: 0.8042 - val_loss: 0.4764 - val_acc: 0.7725\n",
      "Epoch 289/2000\n",
      "3600/3600 [==============================] - 0s 32us/step - loss: 0.4350 - acc: 0.8042 - val_loss: 0.4763 - val_acc: 0.7725\n",
      "Epoch 290/2000\n",
      "3600/3600 [==============================] - 0s 33us/step - loss: 0.4349 - acc: 0.8036 - val_loss: 0.4761 - val_acc: 0.7725\n",
      "Epoch 291/2000\n",
      "3600/3600 [==============================] - 0s 33us/step - loss: 0.4348 - acc: 0.8044 - val_loss: 0.4760 - val_acc: 0.7725\n",
      "Epoch 292/2000\n",
      "3600/3600 [==============================] - 0s 34us/step - loss: 0.4347 - acc: 0.8036 - val_loss: 0.4759 - val_acc: 0.7750\n",
      "Epoch 293/2000\n",
      "3600/3600 [==============================] - 0s 33us/step - loss: 0.4345 - acc: 0.8036 - val_loss: 0.4758 - val_acc: 0.7750\n",
      "Epoch 294/2000\n",
      "3600/3600 [==============================] - 0s 37us/step - loss: 0.4344 - acc: 0.8042 - val_loss: 0.4757 - val_acc: 0.7750\n",
      "Epoch 295/2000\n",
      "3600/3600 [==============================] - 0s 42us/step - loss: 0.4343 - acc: 0.8036 - val_loss: 0.4756 - val_acc: 0.7750\n",
      "Epoch 296/2000\n"
     ]
    },
    {
     "name": "stdout",
     "output_type": "stream",
     "text": [
      "3600/3600 [==============================] - 0s 32us/step - loss: 0.4342 - acc: 0.8031 - val_loss: 0.4755 - val_acc: 0.7750\n",
      "Epoch 297/2000\n",
      "3600/3600 [==============================] - 0s 33us/step - loss: 0.4340 - acc: 0.8036 - val_loss: 0.4754 - val_acc: 0.7750\n",
      "Epoch 298/2000\n",
      "3600/3600 [==============================] - 0s 34us/step - loss: 0.4339 - acc: 0.8033 - val_loss: 0.4754 - val_acc: 0.7750\n",
      "Epoch 299/2000\n",
      "3600/3600 [==============================] - 0s 34us/step - loss: 0.4338 - acc: 0.8031 - val_loss: 0.4753 - val_acc: 0.7750\n",
      "Epoch 300/2000\n",
      "3600/3600 [==============================] - 0s 34us/step - loss: 0.4337 - acc: 0.8031 - val_loss: 0.4752 - val_acc: 0.7750\n",
      "Epoch 301/2000\n",
      "3600/3600 [==============================] - 0s 40us/step - loss: 0.4336 - acc: 0.8031 - val_loss: 0.4751 - val_acc: 0.7750\n",
      "Epoch 302/2000\n",
      "3600/3600 [==============================] - 0s 31us/step - loss: 0.4334 - acc: 0.8031 - val_loss: 0.4750 - val_acc: 0.7750\n",
      "Epoch 303/2000\n",
      "3600/3600 [==============================] - 0s 34us/step - loss: 0.4333 - acc: 0.8031 - val_loss: 0.4749 - val_acc: 0.7750\n",
      "Epoch 304/2000\n",
      "3600/3600 [==============================] - 0s 33us/step - loss: 0.4332 - acc: 0.8031 - val_loss: 0.4748 - val_acc: 0.7750\n",
      "Epoch 305/2000\n",
      "3600/3600 [==============================] - 0s 34us/step - loss: 0.4331 - acc: 0.8031 - val_loss: 0.4747 - val_acc: 0.7750\n",
      "Epoch 306/2000\n",
      "3600/3600 [==============================] - 0s 34us/step - loss: 0.4330 - acc: 0.8028 - val_loss: 0.4747 - val_acc: 0.7750\n",
      "Epoch 307/2000\n",
      "3600/3600 [==============================] - 0s 34us/step - loss: 0.4329 - acc: 0.8025 - val_loss: 0.4745 - val_acc: 0.7750\n",
      "Epoch 308/2000\n",
      "3600/3600 [==============================] - 0s 33us/step - loss: 0.4328 - acc: 0.8025 - val_loss: 0.4744 - val_acc: 0.7750\n",
      "Epoch 309/2000\n",
      "3600/3600 [==============================] - 0s 34us/step - loss: 0.4327 - acc: 0.8025 - val_loss: 0.4744 - val_acc: 0.7750\n",
      "Epoch 310/2000\n",
      "3600/3600 [==============================] - 0s 33us/step - loss: 0.4326 - acc: 0.8025 - val_loss: 0.4743 - val_acc: 0.7750\n",
      "Epoch 311/2000\n",
      "3600/3600 [==============================] - 0s 34us/step - loss: 0.4325 - acc: 0.8025 - val_loss: 0.4743 - val_acc: 0.7750\n",
      "Epoch 312/2000\n",
      "3600/3600 [==============================] - 0s 35us/step - loss: 0.4324 - acc: 0.8019 - val_loss: 0.4741 - val_acc: 0.7750\n",
      "Epoch 313/2000\n",
      "3600/3600 [==============================] - 0s 34us/step - loss: 0.4323 - acc: 0.8025 - val_loss: 0.4741 - val_acc: 0.7750\n",
      "Epoch 314/2000\n",
      "3600/3600 [==============================] - 0s 34us/step - loss: 0.4322 - acc: 0.8017 - val_loss: 0.4740 - val_acc: 0.7750\n",
      "Epoch 315/2000\n",
      "3600/3600 [==============================] - 0s 34us/step - loss: 0.4321 - acc: 0.8017 - val_loss: 0.4739 - val_acc: 0.7725\n",
      "Epoch 316/2000\n",
      "3600/3600 [==============================] - 0s 34us/step - loss: 0.4320 - acc: 0.8017 - val_loss: 0.4738 - val_acc: 0.7725\n",
      "Epoch 317/2000\n",
      "3600/3600 [==============================] - 0s 34us/step - loss: 0.4319 - acc: 0.8017 - val_loss: 0.4738 - val_acc: 0.7725\n",
      "Epoch 318/2000\n",
      "3600/3600 [==============================] - 0s 33us/step - loss: 0.4318 - acc: 0.8017 - val_loss: 0.4738 - val_acc: 0.7725\n",
      "Epoch 319/2000\n",
      "3600/3600 [==============================] - 0s 36us/step - loss: 0.4317 - acc: 0.8017 - val_loss: 0.4736 - val_acc: 0.7750\n",
      "Epoch 320/2000\n",
      "3600/3600 [==============================] - 0s 35us/step - loss: 0.4316 - acc: 0.8022 - val_loss: 0.4736 - val_acc: 0.7750\n",
      "Epoch 321/2000\n",
      "3600/3600 [==============================] - 0s 34us/step - loss: 0.4315 - acc: 0.8022 - val_loss: 0.4735 - val_acc: 0.7775\n",
      "Epoch 322/2000\n",
      "3600/3600 [==============================] - 0s 36us/step - loss: 0.4315 - acc: 0.8019 - val_loss: 0.4734 - val_acc: 0.7775\n",
      "Epoch 323/2000\n",
      "3600/3600 [==============================] - 0s 34us/step - loss: 0.4313 - acc: 0.8019 - val_loss: 0.4734 - val_acc: 0.7775\n",
      "Epoch 324/2000\n",
      "3600/3600 [==============================] - 0s 33us/step - loss: 0.4313 - acc: 0.8022 - val_loss: 0.4733 - val_acc: 0.7775\n",
      "Epoch 325/2000\n",
      "3600/3600 [==============================] - 0s 34us/step - loss: 0.4312 - acc: 0.8022 - val_loss: 0.4732 - val_acc: 0.7775\n",
      "Epoch 326/2000\n",
      "3600/3600 [==============================] - 0s 34us/step - loss: 0.4311 - acc: 0.8017 - val_loss: 0.4731 - val_acc: 0.7775\n",
      "Epoch 327/2000\n",
      "3600/3600 [==============================] - 0s 34us/step - loss: 0.4310 - acc: 0.8017 - val_loss: 0.4731 - val_acc: 0.7775\n",
      "Epoch 328/2000\n",
      "3600/3600 [==============================] - 0s 35us/step - loss: 0.4309 - acc: 0.8019 - val_loss: 0.4730 - val_acc: 0.7775\n",
      "Epoch 329/2000\n",
      "3600/3600 [==============================] - 0s 35us/step - loss: 0.4308 - acc: 0.8008 - val_loss: 0.4729 - val_acc: 0.7775\n",
      "Epoch 330/2000\n",
      "3600/3600 [==============================] - 0s 33us/step - loss: 0.4307 - acc: 0.8011 - val_loss: 0.4729 - val_acc: 0.7775\n",
      "Epoch 331/2000\n",
      "3600/3600 [==============================] - 0s 33us/step - loss: 0.4307 - acc: 0.8008 - val_loss: 0.4728 - val_acc: 0.7775\n",
      "Epoch 332/2000\n",
      "3600/3600 [==============================] - 0s 34us/step - loss: 0.4306 - acc: 0.8011 - val_loss: 0.4728 - val_acc: 0.7775\n",
      "Epoch 333/2000\n",
      "3600/3600 [==============================] - 0s 33us/step - loss: 0.4305 - acc: 0.8006 - val_loss: 0.4727 - val_acc: 0.7775\n",
      "Epoch 334/2000\n",
      "3600/3600 [==============================] - 0s 33us/step - loss: 0.4304 - acc: 0.8000 - val_loss: 0.4726 - val_acc: 0.7775\n",
      "Epoch 335/2000\n",
      "3600/3600 [==============================] - 0s 34us/step - loss: 0.4303 - acc: 0.8003 - val_loss: 0.4726 - val_acc: 0.7775\n",
      "Epoch 336/2000\n",
      "3600/3600 [==============================] - 0s 34us/step - loss: 0.4302 - acc: 0.8003 - val_loss: 0.4725 - val_acc: 0.7800\n",
      "Epoch 337/2000\n",
      "3600/3600 [==============================] - 0s 33us/step - loss: 0.4302 - acc: 0.8006 - val_loss: 0.4725 - val_acc: 0.7775\n",
      "Epoch 338/2000\n",
      "3600/3600 [==============================] - 0s 34us/step - loss: 0.4301 - acc: 0.8000 - val_loss: 0.4724 - val_acc: 0.7775\n",
      "Epoch 339/2000\n",
      "3600/3600 [==============================] - 0s 36us/step - loss: 0.4300 - acc: 0.8000 - val_loss: 0.4723 - val_acc: 0.7800\n",
      "Epoch 340/2000\n",
      "3600/3600 [==============================] - 0s 34us/step - loss: 0.4299 - acc: 0.8003 - val_loss: 0.4723 - val_acc: 0.7800\n",
      "Epoch 341/2000\n",
      "3600/3600 [==============================] - 0s 34us/step - loss: 0.4299 - acc: 0.8000 - val_loss: 0.4722 - val_acc: 0.7800\n",
      "Epoch 342/2000\n",
      "3600/3600 [==============================] - 0s 33us/step - loss: 0.4298 - acc: 0.8000 - val_loss: 0.4722 - val_acc: 0.7825\n",
      "Epoch 343/2000\n",
      "3600/3600 [==============================] - 0s 36us/step - loss: 0.4297 - acc: 0.7997 - val_loss: 0.4721 - val_acc: 0.7825\n",
      "Epoch 344/2000\n",
      "3600/3600 [==============================] - 0s 35us/step - loss: 0.4296 - acc: 0.8000 - val_loss: 0.4721 - val_acc: 0.7825\n",
      "Epoch 345/2000\n",
      "3600/3600 [==============================] - 0s 34us/step - loss: 0.4296 - acc: 0.7997 - val_loss: 0.4720 - val_acc: 0.7825\n",
      "Epoch 346/2000\n",
      "3600/3600 [==============================] - 0s 34us/step - loss: 0.4295 - acc: 0.8000 - val_loss: 0.4719 - val_acc: 0.7825\n",
      "Epoch 347/2000\n",
      "3600/3600 [==============================] - 0s 33us/step - loss: 0.4294 - acc: 0.8003 - val_loss: 0.4719 - val_acc: 0.7825\n",
      "Epoch 348/2000\n",
      "3600/3600 [==============================] - 0s 34us/step - loss: 0.4293 - acc: 0.8003 - val_loss: 0.4719 - val_acc: 0.7825\n",
      "Epoch 349/2000\n",
      "3600/3600 [==============================] - 0s 35us/step - loss: 0.4293 - acc: 0.8003 - val_loss: 0.4718 - val_acc: 0.7825\n",
      "Epoch 350/2000\n",
      "3600/3600 [==============================] - 0s 34us/step - loss: 0.4292 - acc: 0.8003 - val_loss: 0.4718 - val_acc: 0.7825\n",
      "Epoch 351/2000\n",
      "3600/3600 [==============================] - 0s 35us/step - loss: 0.4291 - acc: 0.8006 - val_loss: 0.4717 - val_acc: 0.7825\n",
      "Epoch 352/2000\n",
      "3600/3600 [==============================] - 0s 34us/step - loss: 0.4291 - acc: 0.8003 - val_loss: 0.4717 - val_acc: 0.7825\n",
      "Epoch 353/2000\n",
      "3600/3600 [==============================] - 0s 33us/step - loss: 0.4290 - acc: 0.8006 - val_loss: 0.4716 - val_acc: 0.7825\n",
      "Epoch 354/2000\n",
      "3600/3600 [==============================] - 0s 34us/step - loss: 0.4289 - acc: 0.8003 - val_loss: 0.4716 - val_acc: 0.7825\n",
      "Epoch 355/2000\n"
     ]
    },
    {
     "name": "stdout",
     "output_type": "stream",
     "text": [
      "3600/3600 [==============================] - 0s 35us/step - loss: 0.4289 - acc: 0.8003 - val_loss: 0.4716 - val_acc: 0.7825\n",
      "Epoch 356/2000\n",
      "3600/3600 [==============================] - 0s 34us/step - loss: 0.4288 - acc: 0.8003 - val_loss: 0.4715 - val_acc: 0.7825\n",
      "Epoch 357/2000\n",
      "3600/3600 [==============================] - 0s 34us/step - loss: 0.4288 - acc: 0.8003 - val_loss: 0.4715 - val_acc: 0.7825\n",
      "Epoch 358/2000\n",
      "3600/3600 [==============================] - 0s 34us/step - loss: 0.4287 - acc: 0.8000 - val_loss: 0.4714 - val_acc: 0.7825\n",
      "Epoch 359/2000\n",
      "3600/3600 [==============================] - 0s 37us/step - loss: 0.4286 - acc: 0.8003 - val_loss: 0.4714 - val_acc: 0.7825\n",
      "Epoch 360/2000\n",
      "3600/3600 [==============================] - 0s 38us/step - loss: 0.4286 - acc: 0.8003 - val_loss: 0.4713 - val_acc: 0.7825\n",
      "Epoch 361/2000\n",
      "3600/3600 [==============================] - 0s 33us/step - loss: 0.4285 - acc: 0.8006 - val_loss: 0.4713 - val_acc: 0.7825\n",
      "Epoch 362/2000\n",
      "3600/3600 [==============================] - 0s 35us/step - loss: 0.4284 - acc: 0.8008 - val_loss: 0.4713 - val_acc: 0.7825\n",
      "Epoch 363/2000\n",
      "3600/3600 [==============================] - 0s 33us/step - loss: 0.4284 - acc: 0.8006 - val_loss: 0.4712 - val_acc: 0.7825\n",
      "Epoch 364/2000\n",
      "3600/3600 [==============================] - 0s 34us/step - loss: 0.4283 - acc: 0.8008 - val_loss: 0.4712 - val_acc: 0.7825\n",
      "Epoch 365/2000\n",
      "3600/3600 [==============================] - 0s 36us/step - loss: 0.4283 - acc: 0.8014 - val_loss: 0.4711 - val_acc: 0.7825\n",
      "Epoch 366/2000\n",
      "3600/3600 [==============================] - 0s 35us/step - loss: 0.4282 - acc: 0.8014 - val_loss: 0.4711 - val_acc: 0.7825\n",
      "Epoch 367/2000\n",
      "3600/3600 [==============================] - 0s 34us/step - loss: 0.4282 - acc: 0.8014 - val_loss: 0.4710 - val_acc: 0.7825\n",
      "Epoch 368/2000\n",
      "3600/3600 [==============================] - 0s 35us/step - loss: 0.4281 - acc: 0.8014 - val_loss: 0.4710 - val_acc: 0.7825\n",
      "Epoch 369/2000\n",
      "3600/3600 [==============================] - 0s 33us/step - loss: 0.4280 - acc: 0.8014 - val_loss: 0.4709 - val_acc: 0.7800\n",
      "Epoch 370/2000\n",
      "3600/3600 [==============================] - 0s 35us/step - loss: 0.4280 - acc: 0.8019 - val_loss: 0.4709 - val_acc: 0.7800\n",
      "Epoch 371/2000\n",
      "3600/3600 [==============================] - 0s 34us/step - loss: 0.4279 - acc: 0.8017 - val_loss: 0.4708 - val_acc: 0.7800\n",
      "Epoch 372/2000\n",
      "3600/3600 [==============================] - 0s 33us/step - loss: 0.4279 - acc: 0.8019 - val_loss: 0.4708 - val_acc: 0.7825\n",
      "Epoch 373/2000\n",
      "3600/3600 [==============================] - 0s 34us/step - loss: 0.4278 - acc: 0.8022 - val_loss: 0.4708 - val_acc: 0.7825\n",
      "Epoch 374/2000\n",
      "3600/3600 [==============================] - 0s 34us/step - loss: 0.4278 - acc: 0.8019 - val_loss: 0.4707 - val_acc: 0.7825\n",
      "Epoch 375/2000\n",
      "3600/3600 [==============================] - 0s 35us/step - loss: 0.4277 - acc: 0.8019 - val_loss: 0.4707 - val_acc: 0.7825\n",
      "Epoch 376/2000\n",
      "3600/3600 [==============================] - 0s 35us/step - loss: 0.4277 - acc: 0.8017 - val_loss: 0.4707 - val_acc: 0.7825\n",
      "Epoch 377/2000\n",
      "3600/3600 [==============================] - 0s 35us/step - loss: 0.4276 - acc: 0.8017 - val_loss: 0.4707 - val_acc: 0.7825\n",
      "Epoch 378/2000\n",
      "3600/3600 [==============================] - 0s 35us/step - loss: 0.4276 - acc: 0.8022 - val_loss: 0.4706 - val_acc: 0.7825\n",
      "Epoch 379/2000\n",
      "3600/3600 [==============================] - 0s 34us/step - loss: 0.4275 - acc: 0.8019 - val_loss: 0.4706 - val_acc: 0.7825\n",
      "Epoch 380/2000\n",
      "3600/3600 [==============================] - 0s 35us/step - loss: 0.4275 - acc: 0.8019 - val_loss: 0.4706 - val_acc: 0.7825\n",
      "Epoch 381/2000\n",
      "3600/3600 [==============================] - 0s 35us/step - loss: 0.4274 - acc: 0.8017 - val_loss: 0.4705 - val_acc: 0.7825\n",
      "Epoch 382/2000\n",
      "3600/3600 [==============================] - 0s 38us/step - loss: 0.4274 - acc: 0.8019 - val_loss: 0.4705 - val_acc: 0.7825\n",
      "Epoch 383/2000\n",
      "3600/3600 [==============================] - 0s 39us/step - loss: 0.4273 - acc: 0.8017 - val_loss: 0.4705 - val_acc: 0.7825\n",
      "Epoch 384/2000\n",
      "3600/3600 [==============================] - 0s 34us/step - loss: 0.4273 - acc: 0.8019 - val_loss: 0.4704 - val_acc: 0.7825\n",
      "Epoch 385/2000\n",
      "3600/3600 [==============================] - 0s 36us/step - loss: 0.4272 - acc: 0.8017 - val_loss: 0.4704 - val_acc: 0.7825\n",
      "Epoch 386/2000\n",
      "3600/3600 [==============================] - 0s 36us/step - loss: 0.4272 - acc: 0.8011 - val_loss: 0.4703 - val_acc: 0.7825\n",
      "Epoch 387/2000\n",
      "3600/3600 [==============================] - 0s 36us/step - loss: 0.4271 - acc: 0.8014 - val_loss: 0.4703 - val_acc: 0.7825\n",
      "Epoch 388/2000\n",
      "3600/3600 [==============================] - 0s 34us/step - loss: 0.4271 - acc: 0.8014 - val_loss: 0.4703 - val_acc: 0.7825\n",
      "Epoch 389/2000\n",
      "3600/3600 [==============================] - 0s 33us/step - loss: 0.4270 - acc: 0.8006 - val_loss: 0.4703 - val_acc: 0.7825\n",
      "Epoch 390/2000\n",
      "3600/3600 [==============================] - 0s 34us/step - loss: 0.4270 - acc: 0.8011 - val_loss: 0.4702 - val_acc: 0.7825\n",
      "Epoch 391/2000\n",
      "3600/3600 [==============================] - 0s 35us/step - loss: 0.4269 - acc: 0.8006 - val_loss: 0.4702 - val_acc: 0.7850\n",
      "Epoch 392/2000\n",
      "3600/3600 [==============================] - 0s 35us/step - loss: 0.4269 - acc: 0.8008 - val_loss: 0.4702 - val_acc: 0.7825\n",
      "Epoch 393/2000\n",
      "3600/3600 [==============================] - 0s 34us/step - loss: 0.4268 - acc: 0.8006 - val_loss: 0.4701 - val_acc: 0.7825\n",
      "Epoch 394/2000\n",
      "3600/3600 [==============================] - 0s 36us/step - loss: 0.4268 - acc: 0.8006 - val_loss: 0.4701 - val_acc: 0.7825\n",
      "Epoch 395/2000\n",
      "3600/3600 [==============================] - 0s 35us/step - loss: 0.4268 - acc: 0.8006 - val_loss: 0.4701 - val_acc: 0.7825\n",
      "Epoch 396/2000\n",
      "3600/3600 [==============================] - 0s 34us/step - loss: 0.4267 - acc: 0.8006 - val_loss: 0.4701 - val_acc: 0.7825\n",
      "Epoch 397/2000\n",
      "3600/3600 [==============================] - 0s 36us/step - loss: 0.4267 - acc: 0.8006 - val_loss: 0.4700 - val_acc: 0.7825\n",
      "Epoch 398/2000\n",
      "3600/3600 [==============================] - 0s 35us/step - loss: 0.4266 - acc: 0.8008 - val_loss: 0.4700 - val_acc: 0.7825\n",
      "Epoch 399/2000\n",
      "3600/3600 [==============================] - 0s 36us/step - loss: 0.4266 - acc: 0.8006 - val_loss: 0.4699 - val_acc: 0.7825\n",
      "Epoch 400/2000\n",
      "3600/3600 [==============================] - 0s 34us/step - loss: 0.4265 - acc: 0.8006 - val_loss: 0.4699 - val_acc: 0.7825\n",
      "Epoch 401/2000\n",
      "3600/3600 [==============================] - 0s 34us/step - loss: 0.4265 - acc: 0.8006 - val_loss: 0.4699 - val_acc: 0.7825\n",
      "Epoch 402/2000\n",
      "3600/3600 [==============================] - 0s 34us/step - loss: 0.4265 - acc: 0.8003 - val_loss: 0.4699 - val_acc: 0.7825\n",
      "Epoch 403/2000\n",
      "3600/3600 [==============================] - 0s 35us/step - loss: 0.4264 - acc: 0.8006 - val_loss: 0.4699 - val_acc: 0.7825\n",
      "Epoch 404/2000\n",
      "3600/3600 [==============================] - 0s 34us/step - loss: 0.4264 - acc: 0.8006 - val_loss: 0.4698 - val_acc: 0.7825\n",
      "Epoch 405/2000\n",
      "3600/3600 [==============================] - 0s 37us/step - loss: 0.4263 - acc: 0.8006 - val_loss: 0.4698 - val_acc: 0.7825\n",
      "Epoch 406/2000\n",
      "3600/3600 [==============================] - 0s 37us/step - loss: 0.4263 - acc: 0.8008 - val_loss: 0.4698 - val_acc: 0.7825\n",
      "Epoch 407/2000\n",
      "3600/3600 [==============================] - 0s 36us/step - loss: 0.4263 - acc: 0.8003 - val_loss: 0.4697 - val_acc: 0.7825\n",
      "Epoch 408/2000\n",
      "3600/3600 [==============================] - 0s 36us/step - loss: 0.4262 - acc: 0.8003 - val_loss: 0.4697 - val_acc: 0.7825\n",
      "Epoch 409/2000\n",
      "3600/3600 [==============================] - 0s 36us/step - loss: 0.4262 - acc: 0.8003 - val_loss: 0.4697 - val_acc: 0.7825\n",
      "Epoch 410/2000\n",
      "3600/3600 [==============================] - 0s 36us/step - loss: 0.4262 - acc: 0.8003 - val_loss: 0.4697 - val_acc: 0.7825\n",
      "Epoch 411/2000\n",
      "3600/3600 [==============================] - 0s 38us/step - loss: 0.4261 - acc: 0.8003 - val_loss: 0.4697 - val_acc: 0.7825\n",
      "Epoch 412/2000\n",
      "3600/3600 [==============================] - 0s 41us/step - loss: 0.4261 - acc: 0.8000 - val_loss: 0.4696 - val_acc: 0.7825\n",
      "Epoch 413/2000\n",
      "3600/3600 [==============================] - 0s 40us/step - loss: 0.4260 - acc: 0.8006 - val_loss: 0.4696 - val_acc: 0.7825\n",
      "Epoch 414/2000\n"
     ]
    },
    {
     "name": "stdout",
     "output_type": "stream",
     "text": [
      "3600/3600 [==============================] - 0s 36us/step - loss: 0.4260 - acc: 0.8003 - val_loss: 0.4696 - val_acc: 0.7825\n",
      "Epoch 415/2000\n",
      "3600/3600 [==============================] - 0s 35us/step - loss: 0.4260 - acc: 0.8003 - val_loss: 0.4696 - val_acc: 0.7825\n",
      "Epoch 416/2000\n",
      "3600/3600 [==============================] - 0s 35us/step - loss: 0.4260 - acc: 0.8003 - val_loss: 0.4696 - val_acc: 0.7825\n",
      "Epoch 417/2000\n",
      "3600/3600 [==============================] - 0s 36us/step - loss: 0.4259 - acc: 0.8003 - val_loss: 0.4696 - val_acc: 0.7825\n",
      "Epoch 418/2000\n",
      "3600/3600 [==============================] - 0s 39us/step - loss: 0.4259 - acc: 0.8003 - val_loss: 0.4696 - val_acc: 0.7825\n",
      "Epoch 419/2000\n",
      "3600/3600 [==============================] - 0s 35us/step - loss: 0.4259 - acc: 0.8003 - val_loss: 0.4696 - val_acc: 0.7825\n",
      "Epoch 420/2000\n",
      "3600/3600 [==============================] - 0s 36us/step - loss: 0.4259 - acc: 0.8003 - val_loss: 0.4696 - val_acc: 0.7825\n",
      "Epoch 421/2000\n",
      "3600/3600 [==============================] - 0s 41us/step - loss: 0.4259 - acc: 0.8003 - val_loss: 0.4696 - val_acc: 0.7825\n",
      "Epoch 422/2000\n",
      "3600/3600 [==============================] - 0s 34us/step - loss: 0.4259 - acc: 0.8003 - val_loss: 0.4696 - val_acc: 0.7825\n",
      "Epoch 423/2000\n",
      "3600/3600 [==============================] - 0s 35us/step - loss: 0.4259 - acc: 0.8003 - val_loss: 0.4696 - val_acc: 0.7825\n",
      "Epoch 424/2000\n",
      "3600/3600 [==============================] - 0s 35us/step - loss: 0.4259 - acc: 0.8003 - val_loss: 0.4696 - val_acc: 0.7825\n",
      "Epoch 425/2000\n",
      "3600/3600 [==============================] - 0s 34us/step - loss: 0.4259 - acc: 0.8003 - val_loss: 0.4696 - val_acc: 0.7825\n",
      "Epoch 426/2000\n",
      "3600/3600 [==============================] - 0s 35us/step - loss: 0.4259 - acc: 0.8003 - val_loss: 0.4696 - val_acc: 0.7825\n",
      "Epoch 427/2000\n",
      "3600/3600 [==============================] - 0s 42us/step - loss: 0.4259 - acc: 0.8003 - val_loss: 0.4696 - val_acc: 0.7825\n",
      "Epoch 428/2000\n",
      "3600/3600 [==============================] - 0s 34us/step - loss: 0.4259 - acc: 0.8003 - val_loss: 0.4696 - val_acc: 0.7825\n",
      "Epoch 429/2000\n",
      "3600/3600 [==============================] - 0s 36us/step - loss: 0.4259 - acc: 0.8003 - val_loss: 0.4696 - val_acc: 0.7825\n",
      "Epoch 430/2000\n",
      "3600/3600 [==============================] - 0s 35us/step - loss: 0.4259 - acc: 0.8003 - val_loss: 0.4696 - val_acc: 0.7825\n",
      "Epoch 431/2000\n",
      "3600/3600 [==============================] - 0s 34us/step - loss: 0.4259 - acc: 0.8003 - val_loss: 0.4696 - val_acc: 0.7825\n",
      "Epoch 432/2000\n",
      "3600/3600 [==============================] - 0s 34us/step - loss: 0.4259 - acc: 0.8003 - val_loss: 0.4696 - val_acc: 0.7825\n",
      "Epoch 433/2000\n",
      "3600/3600 [==============================] - 0s 35us/step - loss: 0.4259 - acc: 0.8003 - val_loss: 0.4696 - val_acc: 0.7825\n",
      "Epoch 434/2000\n",
      "3600/3600 [==============================] - 0s 36us/step - loss: 0.4259 - acc: 0.8003 - val_loss: 0.4696 - val_acc: 0.7825\n",
      "Restoring model weights from the end of the best epoch\n",
      "Epoch 00434: early stopping\n"
     ]
    },
    {
     "data": {
      "image/png": "[encoded data removed]",
      "text/plain": [
       "<Figure size 432x288 with 1 Axes>"
      ]
     },
     "metadata": {
      "needs_background": "light"
     },
     "output_type": "display_data"
    },
    {
     "data": {
      "image/png": "[encoded data removed]",
      "text/plain": [
       "<Figure size 432x288 with 1 Axes>"
      ]
     },
     "metadata": {
      "needs_background": "light"
     },
     "output_type": "display_data"
    }
   ],
   "source": [
    "early_stp = EarlyStopping(monitor='val_loss', \n",
    "                          min_delta=0, patience=5, \n",
    "                          verbose=1, mode='auto', \n",
    "                          baseline=None, restore_best_weights=True)\n",
    "\n",
    "reduce_lr = ReduceLROnPlateau(monitor='val_loss', factor=0.2,\n",
    "                              patience=5, min_lr=0.0000001)\n",
    "\n",
    "# model.fit(X_train, Y_train, callbacks=[reduce_lr])\n",
    "\n",
    "model = logreg\n",
    "history = logreg.fit(X, y, \n",
    "                     epochs = 2000,\n",
    "                     validation_data = (X_val, y_val),\n",
    "                     callbacks=[reduce_lr, early_stp])\n",
    "\n",
    "# Plot training & validation accuracy values\n",
    "plt.plot(history.history['acc'])\n",
    "plt.plot(history.history['val_acc'])\n",
    "plt.title('Model accuracy')\n",
    "plt.ylabel('Accuracy')\n",
    "plt.xlabel('Epoch')\n",
    "plt.legend(['Train', 'Test'], loc='upper left')\n",
    "plt.show()\n",
    "\n",
    "\n",
    "# Plot training & validation loss values\n",
    "plt.plot(history.history['loss'])\n",
    "plt.plot(history.history['val_loss'])\n",
    "plt.title('Model loss')\n",
    "plt.ylabel('Loss')\n",
    "plt.xlabel('Epoch')\n",
    "plt.legend(['Train', 'Test'], loc='upper left')\n",
    "plt.show()"
   ]
  },
  {
   "cell_type": "code",
   "execution_count": null,
   "metadata": {},
   "outputs": [],
   "source": []
  },
  {
   "cell_type": "markdown",
   "metadata": {},
   "source": [
    "## Precision-recall curve"
   ]
  },
  {
   "cell_type": "code",
   "execution_count": 87,
   "metadata": {
    "ExecuteTime": {
     "end_time": "2019-12-10T00:43:05.584215Z",
     "start_time": "2019-12-10T00:43:05.507329Z"
    }
   },
   "outputs": [],
   "source": [
    "from sklearn.metrics import precision_recall_curve"
   ]
  },
  {
   "cell_type": "code",
   "execution_count": null,
   "metadata": {},
   "outputs": [],
   "source": [
    "sklearn.metrics.precision_recall_curve(y_true, \n",
    "                                       probas_pred, \n",
    "                                       pos_label=None, \n",
    "                                       sample_weight=None)"
   ]
  },
  {
   "cell_type": "code",
   "execution_count": 107,
   "metadata": {
    "ExecuteTime": {
     "end_time": "2019-12-10T00:57:27.851695Z",
     "start_time": "2019-12-10T00:57:27.770819Z"
    }
   },
   "outputs": [
    {
     "data": {
      "text/plain": [
       "(400,)"
      ]
     },
     "execution_count": 107,
     "metadata": {},
     "output_type": "execute_result"
    }
   ],
   "source": [
    "y_true = test_data.targets\n",
    "y_true.shape"
   ]
  },
  {
   "cell_type": "code",
   "execution_count": 117,
   "metadata": {
    "ExecuteTime": {
     "end_time": "2019-12-10T01:04:40.638354Z",
     "start_time": "2019-12-10T01:04:40.556313Z"
    }
   },
   "outputs": [
    {
     "data": {
      "text/plain": [
       "(400, 1)"
      ]
     },
     "execution_count": 117,
     "metadata": {},
     "output_type": "execute_result"
    }
   ],
   "source": [
    "y_pred = logreg.predict(X_val)\n",
    "y_pred.shape"
   ]
  },
  {
   "cell_type": "code",
   "execution_count": 121,
   "metadata": {
    "ExecuteTime": {
     "end_time": "2019-12-10T01:05:00.824753Z",
     "start_time": "2019-12-10T01:05:00.604528Z"
    }
   },
   "outputs": [
    {
     "data": {
      "image/png": "[encoded data removed]",
      "text/plain": [
       "<Figure size 432x288 with 1 Axes>"
      ]
     },
     "metadata": {
      "needs_background": "light"
     },
     "output_type": "display_data"
    }
   ],
   "source": [
    " precision, recall, thresholds = sklearn.metrics.precision_recall_curve(\n",
    "                                       y_true, \n",
    "                                       y_pred, \n",
    "                                       pos_label=None, \n",
    "                                       sample_weight=None)\n",
    "plt.plot(precision, recall);"
   ]
  },
  {
   "cell_type": "code",
   "execution_count": 124,
   "metadata": {
    "ExecuteTime": {
     "end_time": "2019-12-10T01:05:38.464484Z",
     "start_time": "2019-12-10T01:05:38.380383Z"
    }
   },
   "outputs": [
    {
     "data": {
      "text/plain": [
       "0.826655245637874"
      ]
     },
     "execution_count": 124,
     "metadata": {},
     "output_type": "execute_result"
    }
   ],
   "source": [
    "average_precision = average_precision_score(y_true, y_pred)\n",
    "average_precision"
   ]
  },
  {
   "cell_type": "code",
   "execution_count": null,
   "metadata": {},
   "outputs": [],
   "source": [
    "# 0"
   ]
  },
  {
   "cell_type": "code",
   "execution_count": 137,
   "metadata": {
    "ExecuteTime": {
     "end_time": "2019-12-10T01:44:40.456003Z",
     "start_time": "2019-12-10T01:44:40.376636Z"
    }
   },
   "outputs": [
    {
     "data": {
      "text/plain": [
       "(200, 2)"
      ]
     },
     "execution_count": 137,
     "metadata": {},
     "output_type": "execute_result"
    }
   ],
   "source": [
    "test_data_0 = test_data.loc[test_data.targets==0]\n",
    "test_data_0.shape"
   ]
  },
  {
   "cell_type": "code",
   "execution_count": 147,
   "metadata": {
    "ExecuteTime": {
     "end_time": "2019-12-10T01:49:52.258462Z",
     "start_time": "2019-12-10T01:49:52.173696Z"
    }
   },
   "outputs": [],
   "source": [
    "X_val_0 = np.array(test_data_0.features.tolist()).reshape(200, 5)"
   ]
  },
  {
   "cell_type": "code",
   "execution_count": 151,
   "metadata": {
    "ExecuteTime": {
     "end_time": "2019-12-10T01:51:39.610964Z",
     "start_time": "2019-12-10T01:51:39.530595Z"
    }
   },
   "outputs": [],
   "source": [
    "y_true_0 = test_data_0.targets\n",
    "y_pred_0 = logreg.predict(X_val_0)"
   ]
  },
  {
   "cell_type": "code",
   "execution_count": 182,
   "metadata": {
    "ExecuteTime": {
     "end_time": "2019-12-10T02:03:42.127914Z",
     "start_time": "2019-12-10T02:03:42.050872Z"
    }
   },
   "outputs": [
    {
     "data": {
      "text/plain": [
       "59"
      ]
     },
     "execution_count": 182,
     "metadata": {},
     "output_type": "execute_result"
    }
   ],
   "source": [
    "len(np.where( y_pred_0 > 0.5 )[1])"
   ]
  },
  {
   "cell_type": "code",
   "execution_count": null,
   "metadata": {},
   "outputs": [],
   "source": [
    "# 1"
   ]
  },
  {
   "cell_type": "code",
   "execution_count": 175,
   "metadata": {
    "ExecuteTime": {
     "end_time": "2019-12-10T02:01:03.071175Z",
     "start_time": "2019-12-10T02:01:02.981101Z"
    }
   },
   "outputs": [
    {
     "data": {
      "text/plain": [
       "(200, 2)"
      ]
     },
     "execution_count": 175,
     "metadata": {},
     "output_type": "execute_result"
    }
   ],
   "source": [
    "test_data_1 = test_data.loc[test_data.targets==1]\n",
    "test_data_1.shape"
   ]
  },
  {
   "cell_type": "code",
   "execution_count": 176,
   "metadata": {
    "ExecuteTime": {
     "end_time": "2019-12-10T02:01:04.075522Z",
     "start_time": "2019-12-10T02:01:03.994957Z"
    }
   },
   "outputs": [],
   "source": [
    "X_val_1 = np.array(test_data_1.features.tolist()).reshape(200, 5)"
   ]
  },
  {
   "cell_type": "code",
   "execution_count": 178,
   "metadata": {
    "ExecuteTime": {
     "end_time": "2019-12-10T02:02:20.167472Z",
     "start_time": "2019-12-10T02:02:20.083928Z"
    }
   },
   "outputs": [],
   "source": [
    "y_pred_1 = logreg.predict(X_val_1)\n",
    "y_true_1 = test_data_1.targets"
   ]
  },
  {
   "cell_type": "code",
   "execution_count": 183,
   "metadata": {
    "ExecuteTime": {
     "end_time": "2019-12-10T02:04:07.626436Z",
     "start_time": "2019-12-10T02:04:07.544409Z"
    }
   },
   "outputs": [
    {
     "data": {
      "text/plain": [
       "26"
      ]
     },
     "execution_count": 183,
     "metadata": {},
     "output_type": "execute_result"
    }
   ],
   "source": [
    "len(np.where( y_pred_1 < 0.5 )[1])"
   ]
  },
  {
   "cell_type": "markdown",
   "metadata": {},
   "source": [
    "# NN"
   ]
  },
  {
   "cell_type": "code",
   "execution_count": 115,
   "metadata": {
    "ExecuteTime": {
     "end_time": "2019-12-04T18:41:28.502955Z",
     "start_time": "2019-12-04T18:40:39.434791Z"
    },
    "collapsed": true
   },
   "outputs": [
    {
     "name": "stdout",
     "output_type": "stream",
     "text": [
      "Train on 3600 samples, validate on 400 samples\n",
      "Epoch 1/200\n",
      "3600/3600 [==============================] - 1s 245us/step - loss: 0.6523 - acc: 0.6711 - val_loss: 0.6503 - val_acc: 0.6875\n",
      "Epoch 2/200\n",
      "3600/3600 [==============================] - 0s 77us/step - loss: 0.6488 - acc: 0.6908 - val_loss: 0.6468 - val_acc: 0.7000\n",
      "Epoch 3/200\n",
      "3600/3600 [==============================] - 0s 53us/step - loss: 0.6453 - acc: 0.6978 - val_loss: 0.6434 - val_acc: 0.7075\n",
      "Epoch 4/200\n",
      "3600/3600 [==============================] - 0s 58us/step - loss: 0.6420 - acc: 0.7031 - val_loss: 0.6401 - val_acc: 0.7175\n",
      "Epoch 5/200\n",
      "3600/3600 [==============================] - 0s 82us/step - loss: 0.6387 - acc: 0.7097 - val_loss: 0.6369 - val_acc: 0.7200\n",
      "Epoch 6/200\n",
      "3600/3600 [==============================] - 0s 80us/step - loss: 0.6355 - acc: 0.7119 - val_loss: 0.6337 - val_acc: 0.7250\n",
      "Epoch 7/200\n",
      "3600/3600 [==============================] - 0s 60us/step - loss: 0.6323 - acc: 0.7158 - val_loss: 0.6305 - val_acc: 0.7275\n",
      "Epoch 8/200\n",
      "3600/3600 [==============================] - 0s 67us/step - loss: 0.6292 - acc: 0.7192 - val_loss: 0.6275 - val_acc: 0.7300\n",
      "Epoch 9/200\n",
      "3600/3600 [==============================] - 0s 64us/step - loss: 0.6262 - acc: 0.7217 - val_loss: 0.6245 - val_acc: 0.7325\n",
      "Epoch 10/200\n",
      "3600/3600 [==============================] - 0s 64us/step - loss: 0.6232 - acc: 0.7236 - val_loss: 0.6216 - val_acc: 0.7325\n",
      "Epoch 11/200\n",
      "3600/3600 [==============================] - 0s 47us/step - loss: 0.6203 - acc: 0.7247 - val_loss: 0.6187 - val_acc: 0.7325\n",
      "Epoch 12/200\n",
      "3600/3600 [==============================] - 0s 53us/step - loss: 0.6174 - acc: 0.7283 - val_loss: 0.6159 - val_acc: 0.7375\n",
      "Epoch 13/200\n",
      "3600/3600 [==============================] - 0s 64us/step - loss: 0.6145 - acc: 0.7308 - val_loss: 0.6132 - val_acc: 0.7400\n",
      "Epoch 14/200\n",
      "3600/3600 [==============================] - 0s 74us/step - loss: 0.6118 - acc: 0.7322 - val_loss: 0.6105 - val_acc: 0.7475\n",
      "Epoch 15/200\n",
      "3600/3600 [==============================] - 0s 72us/step - loss: 0.6091 - acc: 0.7342 - val_loss: 0.6078 - val_acc: 0.7475\n",
      "Epoch 16/200\n",
      "3600/3600 [==============================] - 0s 69us/step - loss: 0.6064 - acc: 0.7367 - val_loss: 0.6052 - val_acc: 0.7500\n",
      "Epoch 17/200\n",
      "3600/3600 [==============================] - 0s 84us/step - loss: 0.6037 - acc: 0.7389 - val_loss: 0.6026 - val_acc: 0.7525\n",
      "Epoch 18/200\n",
      "3600/3600 [==============================] - 0s 66us/step - loss: 0.6011 - acc: 0.7392 - val_loss: 0.6001 - val_acc: 0.7550\n",
      "Epoch 19/200\n",
      "3600/3600 [==============================] - 0s 65us/step - loss: 0.5986 - acc: 0.7419 - val_loss: 0.5976 - val_acc: 0.7550\n",
      "Epoch 20/200\n",
      "3600/3600 [==============================] - 0s 58us/step - loss: 0.5961 - acc: 0.7428 - val_loss: 0.5952 - val_acc: 0.7575\n",
      "Epoch 21/200\n",
      "3600/3600 [==============================] - 0s 61us/step - loss: 0.5936 - acc: 0.7442 - val_loss: 0.5928 - val_acc: 0.7625\n",
      "Epoch 22/200\n",
      "3600/3600 [==============================] - 0s 61us/step - loss: 0.5912 - acc: 0.7469 - val_loss: 0.5904 - val_acc: 0.7625\n",
      "Epoch 23/200\n",
      "3600/3600 [==============================] - 0s 61us/step - loss: 0.5888 - acc: 0.7503 - val_loss: 0.5881 - val_acc: 0.7625\n",
      "Epoch 24/200\n",
      "3600/3600 [==============================] - 0s 57us/step - loss: 0.5864 - acc: 0.7525 - val_loss: 0.5859 - val_acc: 0.7625\n",
      "Epoch 25/200\n",
      "3600/3600 [==============================] - 0s 45us/step - loss: 0.5841 - acc: 0.7542 - val_loss: 0.5836 - val_acc: 0.7625\n",
      "Epoch 26/200\n",
      "3600/3600 [==============================] - 0s 53us/step - loss: 0.5818 - acc: 0.7558 - val_loss: 0.5814 - val_acc: 0.7650\n",
      "Epoch 27/200\n",
      "3600/3600 [==============================] - 0s 56us/step - loss: 0.5795 - acc: 0.7572 - val_loss: 0.5792 - val_acc: 0.7650\n",
      "Epoch 28/200\n",
      "3600/3600 [==============================] - 0s 48us/step - loss: 0.5773 - acc: 0.7603 - val_loss: 0.5771 - val_acc: 0.7650\n",
      "Epoch 29/200\n",
      "3600/3600 [==============================] - 0s 66us/step - loss: 0.5752 - acc: 0.7639 - val_loss: 0.5750 - val_acc: 0.7675\n",
      "Epoch 30/200\n",
      "3600/3600 [==============================] - 0s 55us/step - loss: 0.5730 - acc: 0.7653 - val_loss: 0.5729 - val_acc: 0.7700\n",
      "Epoch 31/200\n",
      "3600/3600 [==============================] - 0s 62us/step - loss: 0.5709 - acc: 0.7675 - val_loss: 0.5709 - val_acc: 0.7700\n",
      "Epoch 32/200\n",
      "3600/3600 [==============================] - 0s 53us/step - loss: 0.5688 - acc: 0.7681 - val_loss: 0.5689 - val_acc: 0.7700\n",
      "Epoch 33/200\n",
      "3600/3600 [==============================] - 0s 51us/step - loss: 0.5667 - acc: 0.7689 - val_loss: 0.5669 - val_acc: 0.7700\n",
      "Epoch 34/200\n",
      "3600/3600 [==============================] - 0s 59us/step - loss: 0.5647 - acc: 0.7692 - val_loss: 0.5649 - val_acc: 0.7700\n",
      "Epoch 35/200\n",
      "3600/3600 [==============================] - 0s 59us/step - loss: 0.5627 - acc: 0.7692 - val_loss: 0.5630 - val_acc: 0.7725\n",
      "Epoch 36/200\n",
      "3600/3600 [==============================] - 0s 48us/step - loss: 0.5607 - acc: 0.7706 - val_loss: 0.5611 - val_acc: 0.7700\n",
      "Epoch 37/200\n",
      "3600/3600 [==============================] - 0s 50us/step - loss: 0.5588 - acc: 0.7714 - val_loss: 0.5592 - val_acc: 0.7700\n",
      "Epoch 38/200\n",
      "3600/3600 [==============================] - 0s 59us/step - loss: 0.5569 - acc: 0.7714 - val_loss: 0.5573 - val_acc: 0.7725\n",
      "Epoch 39/200\n",
      "3600/3600 [==============================] - 0s 53us/step - loss: 0.5550 - acc: 0.7722 - val_loss: 0.5555 - val_acc: 0.7725\n",
      "Epoch 40/200\n",
      "3600/3600 [==============================] - 0s 78us/step - loss: 0.5531 - acc: 0.7714 - val_loss: 0.5537 - val_acc: 0.7725\n",
      "Epoch 41/200\n",
      "3600/3600 [==============================] - 0s 58us/step - loss: 0.5513 - acc: 0.7719 - val_loss: 0.5520 - val_acc: 0.7725\n",
      "Epoch 42/200\n",
      "3600/3600 [==============================] - 0s 57us/step - loss: 0.5495 - acc: 0.7731 - val_loss: 0.5502 - val_acc: 0.7775\n",
      "Epoch 43/200\n",
      "3600/3600 [==============================] - 0s 69us/step - loss: 0.5477 - acc: 0.7739 - val_loss: 0.5485 - val_acc: 0.7775\n",
      "Epoch 44/200\n",
      "3600/3600 [==============================] - 0s 80us/step - loss: 0.5460 - acc: 0.7744 - val_loss: 0.5469 - val_acc: 0.7775\n",
      "Epoch 45/200\n",
      "3600/3600 [==============================] - 0s 56us/step - loss: 0.5442 - acc: 0.7744 - val_loss: 0.5452 - val_acc: 0.7775\n",
      "Epoch 46/200\n",
      "3600/3600 [==============================] - 0s 55us/step - loss: 0.5425 - acc: 0.7753 - val_loss: 0.5436 - val_acc: 0.7825\n",
      "Epoch 47/200\n",
      "3600/3600 [==============================] - 0s 56us/step - loss: 0.5408 - acc: 0.7758 - val_loss: 0.5420 - val_acc: 0.7825\n",
      "Epoch 48/200\n",
      "3600/3600 [==============================] - 0s 79us/step - loss: 0.5392 - acc: 0.7767 - val_loss: 0.5405 - val_acc: 0.7850\n",
      "Epoch 49/200\n",
      "3600/3600 [==============================] - 0s 79us/step - loss: 0.5376 - acc: 0.7769 - val_loss: 0.5389 - val_acc: 0.7850\n",
      "Epoch 50/200\n",
      "3600/3600 [==============================] - 0s 68us/step - loss: 0.5360 - acc: 0.7775 - val_loss: 0.5374 - val_acc: 0.7850\n",
      "Epoch 51/200\n",
      "3600/3600 [==============================] - 0s 56us/step - loss: 0.5344 - acc: 0.7764 - val_loss: 0.5359 - val_acc: 0.7850\n",
      "Epoch 52/200\n",
      "3600/3600 [==============================] - 0s 65us/step - loss: 0.5329 - acc: 0.7764 - val_loss: 0.5344 - val_acc: 0.7850\n",
      "Epoch 53/200\n",
      "3600/3600 [==============================] - 0s 61us/step - loss: 0.5314 - acc: 0.7764 - val_loss: 0.5330 - val_acc: 0.7850\n",
      "Epoch 54/200\n",
      "3600/3600 [==============================] - 0s 56us/step - loss: 0.5299 - acc: 0.7769 - val_loss: 0.5316 - val_acc: 0.7825\n",
      "Epoch 55/200\n",
      "3600/3600 [==============================] - 0s 69us/step - loss: 0.5284 - acc: 0.7767 - val_loss: 0.5302 - val_acc: 0.7825\n",
      "Epoch 56/200\n",
      "3600/3600 [==============================] - 0s 61us/step - loss: 0.5269 - acc: 0.7772 - val_loss: 0.5288 - val_acc: 0.7825\n",
      "Epoch 57/200\n",
      "3600/3600 [==============================] - 0s 74us/step - loss: 0.5255 - acc: 0.7778 - val_loss: 0.5275 - val_acc: 0.7825\n",
      "Epoch 58/200\n",
      "3600/3600 [==============================] - 0s 114us/step - loss: 0.5241 - acc: 0.7775 - val_loss: 0.5261 - val_acc: 0.7850\n",
      "Epoch 59/200\n",
      "3600/3600 [==============================] - 0s 70us/step - loss: 0.5227 - acc: 0.7778 - val_loss: 0.5248 - val_acc: 0.7850\n",
      "Epoch 60/200\n",
      "3600/3600 [==============================] - 0s 72us/step - loss: 0.5214 - acc: 0.7783 - val_loss: 0.5236 - val_acc: 0.7825\n",
      "Epoch 61/200\n",
      "3600/3600 [==============================] - 0s 64us/step - loss: 0.5201 - acc: 0.7792 - val_loss: 0.5223 - val_acc: 0.7850\n",
      "Epoch 62/200\n",
      "3600/3600 [==============================] - 0s 68us/step - loss: 0.5188 - acc: 0.7811 - val_loss: 0.5211 - val_acc: 0.7850\n",
      "Epoch 63/200\n",
      "3600/3600 [==============================] - 0s 60us/step - loss: 0.5175 - acc: 0.7814 - val_loss: 0.5199 - val_acc: 0.7825\n",
      "Epoch 64/200\n",
      "3600/3600 [==============================] - 0s 64us/step - loss: 0.5162 - acc: 0.7819 - val_loss: 0.5187 - val_acc: 0.7825\n",
      "Epoch 65/200\n",
      "3600/3600 [==============================] - 0s 68us/step - loss: 0.5150 - acc: 0.7828 - val_loss: 0.5175 - val_acc: 0.7825\n",
      "Epoch 66/200\n",
      "3600/3600 [==============================] - 0s 60us/step - loss: 0.5138 - acc: 0.7825 - val_loss: 0.5164 - val_acc: 0.7825\n",
      "Epoch 67/200\n",
      "3600/3600 [==============================] - 0s 59us/step - loss: 0.5126 - acc: 0.7822 - val_loss: 0.5153 - val_acc: 0.7775\n",
      "Epoch 68/200\n",
      "3600/3600 [==============================] - 0s 54us/step - loss: 0.5115 - acc: 0.7822 - val_loss: 0.5142 - val_acc: 0.7800\n",
      "Epoch 69/200\n",
      "3600/3600 [==============================] - 0s 54us/step - loss: 0.5103 - acc: 0.7825 - val_loss: 0.5131 - val_acc: 0.7800\n",
      "Epoch 70/200\n",
      "3600/3600 [==============================] - 0s 63us/step - loss: 0.5092 - acc: 0.7831 - val_loss: 0.5120 - val_acc: 0.7800\n",
      "Epoch 71/200\n",
      "3600/3600 [==============================] - 0s 55us/step - loss: 0.5081 - acc: 0.7822 - val_loss: 0.5110 - val_acc: 0.7800\n",
      "Epoch 72/200\n",
      "3600/3600 [==============================] - 0s 52us/step - loss: 0.5070 - acc: 0.7817 - val_loss: 0.5099 - val_acc: 0.7800\n",
      "Epoch 73/200\n",
      "3600/3600 [==============================] - 0s 80us/step - loss: 0.5060 - acc: 0.7814 - val_loss: 0.5089 - val_acc: 0.7800\n",
      "Epoch 74/200\n",
      "3600/3600 [==============================] - 0s 56us/step - loss: 0.5049 - acc: 0.7806 - val_loss: 0.5080 - val_acc: 0.7825\n",
      "Epoch 75/200\n",
      "3600/3600 [==============================] - 0s 61us/step - loss: 0.5039 - acc: 0.7806 - val_loss: 0.5070 - val_acc: 0.7825\n",
      "Epoch 76/200\n",
      "3600/3600 [==============================] - 0s 71us/step - loss: 0.5029 - acc: 0.7811 - val_loss: 0.5061 - val_acc: 0.7825\n",
      "Epoch 77/200\n",
      "3600/3600 [==============================] - 0s 86us/step - loss: 0.5019 - acc: 0.7808 - val_loss: 0.5052 - val_acc: 0.7850\n",
      "Epoch 78/200\n",
      "3600/3600 [==============================] - 0s 55us/step - loss: 0.5010 - acc: 0.7828 - val_loss: 0.5043 - val_acc: 0.7850\n",
      "Epoch 79/200\n",
      "3600/3600 [==============================] - 0s 93us/step - loss: 0.5000 - acc: 0.7833 - val_loss: 0.5034 - val_acc: 0.7850\n",
      "Epoch 80/200\n",
      "3600/3600 [==============================] - 0s 82us/step - loss: 0.4991 - acc: 0.7839 - val_loss: 0.5025 - val_acc: 0.7875\n",
      "Epoch 81/200\n",
      "3600/3600 [==============================] - 0s 68us/step - loss: 0.4982 - acc: 0.7844 - val_loss: 0.5017 - val_acc: 0.7900\n",
      "Epoch 82/200\n",
      "3600/3600 [==============================] - 0s 57us/step - loss: 0.4973 - acc: 0.7850 - val_loss: 0.5008 - val_acc: 0.7925\n",
      "Epoch 83/200\n",
      "3600/3600 [==============================] - 0s 56us/step - loss: 0.4964 - acc: 0.7858 - val_loss: 0.5000 - val_acc: 0.7900\n",
      "Epoch 84/200\n",
      "3600/3600 [==============================] - 0s 66us/step - loss: 0.4956 - acc: 0.7858 - val_loss: 0.4992 - val_acc: 0.7900\n",
      "Epoch 85/200\n",
      "3600/3600 [==============================] - 0s 72us/step - loss: 0.4947 - acc: 0.7853 - val_loss: 0.4985 - val_acc: 0.7875\n",
      "Epoch 86/200\n",
      "3600/3600 [==============================] - 0s 64us/step - loss: 0.4939 - acc: 0.7858 - val_loss: 0.4977 - val_acc: 0.7850\n",
      "Epoch 87/200\n",
      "3600/3600 [==============================] - 0s 86us/step - loss: 0.4931 - acc: 0.7856 - val_loss: 0.4970 - val_acc: 0.7850\n",
      "Epoch 88/200\n",
      "3600/3600 [==============================] - 0s 91us/step - loss: 0.4923 - acc: 0.7856 - val_loss: 0.4962 - val_acc: 0.7850\n",
      "Epoch 89/200\n",
      "3600/3600 [==============================] - 0s 77us/step - loss: 0.4915 - acc: 0.7853 - val_loss: 0.4955 - val_acc: 0.7850\n",
      "Epoch 90/200\n",
      "3600/3600 [==============================] - 0s 67us/step - loss: 0.4908 - acc: 0.7856 - val_loss: 0.4948 - val_acc: 0.7825\n",
      "Epoch 91/200\n",
      "3600/3600 [==============================] - 0s 59us/step - loss: 0.4900 - acc: 0.7856 - val_loss: 0.4941 - val_acc: 0.7825\n",
      "Epoch 92/200\n",
      "3600/3600 [==============================] - 0s 64us/step - loss: 0.4893 - acc: 0.7853 - val_loss: 0.4935 - val_acc: 0.7825\n",
      "Epoch 93/200\n",
      "3600/3600 [==============================] - 0s 66us/step - loss: 0.4886 - acc: 0.7861 - val_loss: 0.4928 - val_acc: 0.7825\n",
      "Epoch 94/200\n",
      "3600/3600 [==============================] - 0s 56us/step - loss: 0.4879 - acc: 0.7853 - val_loss: 0.4922 - val_acc: 0.7800\n",
      "Epoch 95/200\n",
      "3600/3600 [==============================] - 0s 63us/step - loss: 0.4872 - acc: 0.7856 - val_loss: 0.4916 - val_acc: 0.7800\n",
      "Epoch 96/200\n",
      "3600/3600 [==============================] - 0s 58us/step - loss: 0.4866 - acc: 0.7850 - val_loss: 0.4909 - val_acc: 0.7800\n",
      "Epoch 97/200\n",
      "3600/3600 [==============================] - 0s 59us/step - loss: 0.4859 - acc: 0.7850 - val_loss: 0.4903 - val_acc: 0.7800\n",
      "Epoch 98/200\n",
      "3600/3600 [==============================] - 0s 57us/step - loss: 0.4853 - acc: 0.7847 - val_loss: 0.4898 - val_acc: 0.7800\n",
      "Epoch 99/200\n",
      "3600/3600 [==============================] - 0s 58us/step - loss: 0.4846 - acc: 0.7856 - val_loss: 0.4892 - val_acc: 0.7800\n",
      "Epoch 100/200\n",
      "3600/3600 [==============================] - 0s 85us/step - loss: 0.4840 - acc: 0.7850 - val_loss: 0.4886 - val_acc: 0.7800\n",
      "Epoch 101/200\n",
      "3600/3600 [==============================] - 0s 61us/step - loss: 0.4834 - acc: 0.7853 - val_loss: 0.4880 - val_acc: 0.7800\n",
      "Epoch 102/200\n",
      "3600/3600 [==============================] - 0s 54us/step - loss: 0.4828 - acc: 0.7867 - val_loss: 0.4875 - val_acc: 0.7775\n",
      "Epoch 103/200\n",
      "3600/3600 [==============================] - 0s 48us/step - loss: 0.4822 - acc: 0.7869 - val_loss: 0.4869 - val_acc: 0.7750\n",
      "Epoch 104/200\n",
      "3600/3600 [==============================] - 0s 57us/step - loss: 0.4817 - acc: 0.7867 - val_loss: 0.4864 - val_acc: 0.7775\n",
      "Epoch 105/200\n",
      "3600/3600 [==============================] - 0s 58us/step - loss: 0.4811 - acc: 0.7861 - val_loss: 0.4859 - val_acc: 0.7775\n",
      "Epoch 106/200\n",
      "3600/3600 [==============================] - 0s 50us/step - loss: 0.4806 - acc: 0.7861 - val_loss: 0.4854 - val_acc: 0.7775\n",
      "Epoch 107/200\n",
      "3600/3600 [==============================] - 0s 59us/step - loss: 0.4800 - acc: 0.7858 - val_loss: 0.4849 - val_acc: 0.7775\n",
      "Epoch 108/200\n",
      "3600/3600 [==============================] - 0s 56us/step - loss: 0.4795 - acc: 0.7856 - val_loss: 0.4844 - val_acc: 0.7775\n",
      "Epoch 109/200\n",
      "3600/3600 [==============================] - 0s 68us/step - loss: 0.4790 - acc: 0.7853 - val_loss: 0.4840 - val_acc: 0.7775\n",
      "Epoch 110/200\n",
      "3600/3600 [==============================] - 0s 48us/step - loss: 0.4785 - acc: 0.7853 - val_loss: 0.4835 - val_acc: 0.7775\n",
      "Epoch 111/200\n",
      "3600/3600 [==============================] - 0s 58us/step - loss: 0.4780 - acc: 0.7853 - val_loss: 0.4830 - val_acc: 0.7775\n",
      "Epoch 112/200\n",
      "3600/3600 [==============================] - 0s 58us/step - loss: 0.4775 - acc: 0.7853 - val_loss: 0.4826 - val_acc: 0.7775\n",
      "Epoch 113/200\n",
      "3600/3600 [==============================] - 0s 64us/step - loss: 0.4771 - acc: 0.7853 - val_loss: 0.4822 - val_acc: 0.7775\n",
      "Epoch 114/200\n",
      "3600/3600 [==============================] - 0s 54us/step - loss: 0.4766 - acc: 0.7856 - val_loss: 0.4818 - val_acc: 0.7775\n",
      "Epoch 115/200\n",
      "3600/3600 [==============================] - 0s 59us/step - loss: 0.4762 - acc: 0.7853 - val_loss: 0.4814 - val_acc: 0.7775\n",
      "Epoch 116/200\n",
      "3600/3600 [==============================] - 0s 56us/step - loss: 0.4757 - acc: 0.7844 - val_loss: 0.4810 - val_acc: 0.7775\n",
      "Epoch 117/200\n",
      "3600/3600 [==============================] - 0s 48us/step - loss: 0.4753 - acc: 0.7847 - val_loss: 0.4806 - val_acc: 0.7775\n",
      "Epoch 118/200\n",
      "3600/3600 [==============================] - 0s 53us/step - loss: 0.4749 - acc: 0.7839 - val_loss: 0.4803 - val_acc: 0.7825\n",
      "Epoch 119/200\n",
      "3600/3600 [==============================] - 0s 62us/step - loss: 0.4745 - acc: 0.7839 - val_loss: 0.4799 - val_acc: 0.7825\n"
     ]
    },
    {
     "name": "stdout",
     "output_type": "stream",
     "text": [
      "Epoch 120/200\n",
      "3600/3600 [==============================] - 0s 52us/step - loss: 0.4741 - acc: 0.7839 - val_loss: 0.4796 - val_acc: 0.7825\n",
      "Epoch 121/200\n",
      "3600/3600 [==============================] - 0s 52us/step - loss: 0.4737 - acc: 0.7833 - val_loss: 0.4792 - val_acc: 0.7825\n",
      "Epoch 122/200\n",
      "3600/3600 [==============================] - 0s 50us/step - loss: 0.4733 - acc: 0.7831 - val_loss: 0.4789 - val_acc: 0.7825\n",
      "Epoch 123/200\n",
      "3600/3600 [==============================] - 0s 43us/step - loss: 0.4730 - acc: 0.7831 - val_loss: 0.4786 - val_acc: 0.7825\n",
      "Epoch 124/200\n",
      "3600/3600 [==============================] - 0s 52us/step - loss: 0.4726 - acc: 0.7822 - val_loss: 0.4783 - val_acc: 0.7850\n",
      "Epoch 125/200\n",
      "3600/3600 [==============================] - 0s 51us/step - loss: 0.4723 - acc: 0.7825 - val_loss: 0.4779 - val_acc: 0.7825\n",
      "Epoch 126/200\n",
      "3600/3600 [==============================] - 0s 48us/step - loss: 0.4719 - acc: 0.7822 - val_loss: 0.4777 - val_acc: 0.7825\n",
      "Epoch 127/200\n",
      "3600/3600 [==============================] - 0s 58us/step - loss: 0.4716 - acc: 0.7828 - val_loss: 0.4774 - val_acc: 0.7825\n",
      "Epoch 128/200\n",
      "3600/3600 [==============================] - 0s 46us/step - loss: 0.4712 - acc: 0.7825 - val_loss: 0.4771 - val_acc: 0.7825\n",
      "Epoch 129/200\n",
      "3600/3600 [==============================] - 0s 55us/step - loss: 0.4709 - acc: 0.7833 - val_loss: 0.4768 - val_acc: 0.7825\n",
      "Epoch 130/200\n",
      "3600/3600 [==============================] - 0s 56us/step - loss: 0.4706 - acc: 0.7831 - val_loss: 0.4765 - val_acc: 0.7825\n",
      "Epoch 131/200\n",
      "3600/3600 [==============================] - 0s 57us/step - loss: 0.4703 - acc: 0.7828 - val_loss: 0.4763 - val_acc: 0.7825\n",
      "Epoch 132/200\n",
      "3600/3600 [==============================] - 0s 52us/step - loss: 0.4700 - acc: 0.7836 - val_loss: 0.4760 - val_acc: 0.7825\n",
      "Epoch 133/200\n",
      "3600/3600 [==============================] - 0s 51us/step - loss: 0.4697 - acc: 0.7836 - val_loss: 0.4758 - val_acc: 0.7825\n",
      "Epoch 134/200\n",
      "3600/3600 [==============================] - 0s 57us/step - loss: 0.4694 - acc: 0.7833 - val_loss: 0.4756 - val_acc: 0.7825\n",
      "Epoch 135/200\n",
      "3600/3600 [==============================] - 0s 56us/step - loss: 0.4691 - acc: 0.7833 - val_loss: 0.4753 - val_acc: 0.7825\n",
      "Epoch 136/200\n",
      "3600/3600 [==============================] - 0s 57us/step - loss: 0.4689 - acc: 0.7831 - val_loss: 0.4751 - val_acc: 0.7825\n",
      "Epoch 137/200\n",
      "3600/3600 [==============================] - 0s 60us/step - loss: 0.4686 - acc: 0.7822 - val_loss: 0.4749 - val_acc: 0.7825\n",
      "Epoch 138/200\n",
      "3600/3600 [==============================] - 0s 74us/step - loss: 0.4683 - acc: 0.7825 - val_loss: 0.4747 - val_acc: 0.7825\n",
      "Epoch 139/200\n",
      "3600/3600 [==============================] - 0s 67us/step - loss: 0.4681 - acc: 0.7819 - val_loss: 0.4745 - val_acc: 0.7800\n",
      "Epoch 140/200\n",
      "3600/3600 [==============================] - 0s 94us/step - loss: 0.4678 - acc: 0.7822 - val_loss: 0.4742 - val_acc: 0.7800\n",
      "Epoch 141/200\n",
      "3600/3600 [==============================] - 0s 73us/step - loss: 0.4676 - acc: 0.7819 - val_loss: 0.4741 - val_acc: 0.7800\n",
      "Epoch 142/200\n",
      "3600/3600 [==============================] - 1s 323us/step - loss: 0.4674 - acc: 0.7819 - val_loss: 0.4739 - val_acc: 0.7800\n",
      "Epoch 143/200\n",
      "3600/3600 [==============================] - 0s 84us/step - loss: 0.4671 - acc: 0.7817 - val_loss: 0.4737 - val_acc: 0.7800\n",
      "Epoch 144/200\n",
      "3600/3600 [==============================] - 0s 62us/step - loss: 0.4669 - acc: 0.7825 - val_loss: 0.4735 - val_acc: 0.7800\n",
      "Epoch 145/200\n",
      "3600/3600 [==============================] - 0s 58us/step - loss: 0.4667 - acc: 0.7822 - val_loss: 0.4733 - val_acc: 0.7800\n",
      "Epoch 146/200\n",
      "3600/3600 [==============================] - 0s 49us/step - loss: 0.4665 - acc: 0.7817 - val_loss: 0.4731 - val_acc: 0.7800\n",
      "Epoch 147/200\n",
      "3600/3600 [==============================] - 0s 59us/step - loss: 0.4663 - acc: 0.7817 - val_loss: 0.4729 - val_acc: 0.7800\n",
      "Epoch 148/200\n",
      "3600/3600 [==============================] - 0s 58us/step - loss: 0.4661 - acc: 0.7822 - val_loss: 0.4728 - val_acc: 0.7800\n",
      "Epoch 149/200\n",
      "3600/3600 [==============================] - 0s 57us/step - loss: 0.4659 - acc: 0.7822 - val_loss: 0.4726 - val_acc: 0.7800\n",
      "Epoch 150/200\n",
      "3600/3600 [==============================] - 0s 49us/step - loss: 0.4657 - acc: 0.7822 - val_loss: 0.4724 - val_acc: 0.7800\n",
      "Epoch 151/200\n",
      "3600/3600 [==============================] - 0s 59us/step - loss: 0.4655 - acc: 0.7828 - val_loss: 0.4723 - val_acc: 0.7800\n",
      "Epoch 152/200\n",
      "3600/3600 [==============================] - 0s 57us/step - loss: 0.4653 - acc: 0.7831 - val_loss: 0.4721 - val_acc: 0.7800\n",
      "Epoch 153/200\n",
      "3600/3600 [==============================] - 0s 53us/step - loss: 0.4651 - acc: 0.7833 - val_loss: 0.4720 - val_acc: 0.7800\n",
      "Epoch 154/200\n",
      "3600/3600 [==============================] - 0s 58us/step - loss: 0.4649 - acc: 0.7833 - val_loss: 0.4718 - val_acc: 0.7800\n",
      "Epoch 155/200\n",
      "3600/3600 [==============================] - 0s 56us/step - loss: 0.4648 - acc: 0.7828 - val_loss: 0.4717 - val_acc: 0.7800\n",
      "Epoch 156/200\n",
      "3600/3600 [==============================] - 0s 98us/step - loss: 0.4646 - acc: 0.7833 - val_loss: 0.4716 - val_acc: 0.7800\n",
      "Epoch 157/200\n",
      "3600/3600 [==============================] - 0s 75us/step - loss: 0.4644 - acc: 0.7828 - val_loss: 0.4714 - val_acc: 0.7800\n",
      "Epoch 158/200\n",
      "3600/3600 [==============================] - 0s 69us/step - loss: 0.4643 - acc: 0.7822 - val_loss: 0.4713 - val_acc: 0.7800\n",
      "Epoch 159/200\n",
      "3600/3600 [==============================] - 0s 70us/step - loss: 0.4641 - acc: 0.7831 - val_loss: 0.4711 - val_acc: 0.7800\n",
      "Epoch 160/200\n",
      "3600/3600 [==============================] - 0s 59us/step - loss: 0.4640 - acc: 0.7822 - val_loss: 0.4710 - val_acc: 0.7775\n",
      "Epoch 161/200\n",
      "3600/3600 [==============================] - 0s 70us/step - loss: 0.4638 - acc: 0.7825 - val_loss: 0.4709 - val_acc: 0.7775\n",
      "Epoch 162/200\n",
      "3600/3600 [==============================] - 0s 54us/step - loss: 0.4637 - acc: 0.7831 - val_loss: 0.4708 - val_acc: 0.7775\n",
      "Epoch 163/200\n",
      "3600/3600 [==============================] - 0s 73us/step - loss: 0.4635 - acc: 0.7831 - val_loss: 0.4707 - val_acc: 0.7775\n",
      "Epoch 164/200\n",
      "3600/3600 [==============================] - 0s 73us/step - loss: 0.4634 - acc: 0.7828 - val_loss: 0.4705 - val_acc: 0.7775\n",
      "Epoch 165/200\n",
      "3600/3600 [==============================] - 0s 65us/step - loss: 0.4632 - acc: 0.7831 - val_loss: 0.4704 - val_acc: 0.7775\n",
      "Epoch 166/200\n",
      "3600/3600 [==============================] - 0s 68us/step - loss: 0.4631 - acc: 0.7825 - val_loss: 0.4703 - val_acc: 0.7800\n",
      "Epoch 167/200\n",
      "3600/3600 [==============================] - 0s 61us/step - loss: 0.4630 - acc: 0.7831 - val_loss: 0.4702 - val_acc: 0.7800\n",
      "Epoch 168/200\n",
      "3600/3600 [==============================] - 0s 91us/step - loss: 0.4628 - acc: 0.7828 - val_loss: 0.4701 - val_acc: 0.7800\n",
      "Epoch 169/200\n",
      "3600/3600 [==============================] - 0s 137us/step - loss: 0.4627 - acc: 0.7828 - val_loss: 0.4700 - val_acc: 0.7800\n",
      "Epoch 170/200\n",
      "3600/3600 [==============================] - 0s 132us/step - loss: 0.4626 - acc: 0.7828 - val_loss: 0.4698 - val_acc: 0.7825\n",
      "Epoch 171/200\n",
      "3600/3600 [==============================] - 1s 156us/step - loss: 0.4625 - acc: 0.7831 - val_loss: 0.4698 - val_acc: 0.7825\n",
      "Epoch 172/200\n",
      "3600/3600 [==============================] - 0s 67us/step - loss: 0.4623 - acc: 0.7831 - val_loss: 0.4697 - val_acc: 0.7825\n",
      "Epoch 173/200\n",
      "3600/3600 [==============================] - 0s 70us/step - loss: 0.4622 - acc: 0.7833 - val_loss: 0.4696 - val_acc: 0.7825\n",
      "Epoch 174/200\n",
      "3600/3600 [==============================] - 0s 50us/step - loss: 0.4621 - acc: 0.7831 - val_loss: 0.4695 - val_acc: 0.7825\n",
      "Epoch 175/200\n",
      "3600/3600 [==============================] - 0s 46us/step - loss: 0.4620 - acc: 0.7833 - val_loss: 0.4694 - val_acc: 0.7825\n",
      "Epoch 176/200\n",
      "3600/3600 [==============================] - 0s 54us/step - loss: 0.4619 - acc: 0.7833 - val_loss: 0.4693 - val_acc: 0.7825\n",
      "Epoch 177/200\n",
      "3600/3600 [==============================] - 0s 59us/step - loss: 0.4618 - acc: 0.7833 - val_loss: 0.4692 - val_acc: 0.7825\n",
      "Epoch 178/200\n",
      "3600/3600 [==============================] - 0s 49us/step - loss: 0.4617 - acc: 0.7833 - val_loss: 0.4691 - val_acc: 0.7825\n",
      "Epoch 179/200\n",
      "3600/3600 [==============================] - 0s 53us/step - loss: 0.4616 - acc: 0.7839 - val_loss: 0.4690 - val_acc: 0.7825\n",
      "Epoch 180/200\n",
      "3600/3600 [==============================] - 0s 63us/step - loss: 0.4615 - acc: 0.7842 - val_loss: 0.4689 - val_acc: 0.7800\n",
      "Epoch 181/200\n",
      "3600/3600 [==============================] - 0s 65us/step - loss: 0.4614 - acc: 0.7844 - val_loss: 0.4688 - val_acc: 0.7825\n",
      "Epoch 182/200\n",
      "3600/3600 [==============================] - 0s 70us/step - loss: 0.4613 - acc: 0.7844 - val_loss: 0.4687 - val_acc: 0.7825\n",
      "Epoch 183/200\n",
      "3600/3600 [==============================] - 0s 56us/step - loss: 0.4612 - acc: 0.7847 - val_loss: 0.4686 - val_acc: 0.7825\n",
      "Epoch 184/200\n",
      "3600/3600 [==============================] - 0s 80us/step - loss: 0.4611 - acc: 0.7844 - val_loss: 0.4686 - val_acc: 0.7825\n",
      "Epoch 185/200\n",
      "3600/3600 [==============================] - 1s 171us/step - loss: 0.4610 - acc: 0.7842 - val_loss: 0.4685 - val_acc: 0.7825\n",
      "Epoch 186/200\n",
      "3600/3600 [==============================] - 0s 76us/step - loss: 0.4609 - acc: 0.7844 - val_loss: 0.4684 - val_acc: 0.7825\n",
      "Epoch 187/200\n",
      "3600/3600 [==============================] - 0s 84us/step - loss: 0.4608 - acc: 0.7842 - val_loss: 0.4683 - val_acc: 0.7825\n",
      "Epoch 188/200\n",
      "3600/3600 [==============================] - 0s 91us/step - loss: 0.4607 - acc: 0.7836 - val_loss: 0.4683 - val_acc: 0.7825\n",
      "Epoch 189/200\n",
      "3600/3600 [==============================] - 0s 82us/step - loss: 0.4607 - acc: 0.7842 - val_loss: 0.4682 - val_acc: 0.7825\n",
      "Epoch 190/200\n",
      "3600/3600 [==============================] - 0s 71us/step - loss: 0.4606 - acc: 0.7842 - val_loss: 0.4681 - val_acc: 0.7825\n",
      "Epoch 191/200\n",
      "3600/3600 [==============================] - 0s 80us/step - loss: 0.4605 - acc: 0.7847 - val_loss: 0.4680 - val_acc: 0.7825\n",
      "Epoch 192/200\n",
      "3600/3600 [==============================] - 0s 76us/step - loss: 0.4604 - acc: 0.7850 - val_loss: 0.4680 - val_acc: 0.7825\n",
      "Epoch 193/200\n",
      "3600/3600 [==============================] - 0s 68us/step - loss: 0.4603 - acc: 0.7844 - val_loss: 0.4680 - val_acc: 0.7825\n",
      "Epoch 194/200\n",
      "3600/3600 [==============================] - 0s 54us/step - loss: 0.4602 - acc: 0.7847 - val_loss: 0.4679 - val_acc: 0.7825\n",
      "Epoch 195/200\n",
      "3600/3600 [==============================] - 0s 53us/step - loss: 0.4602 - acc: 0.7847 - val_loss: 0.4678 - val_acc: 0.7825\n",
      "Epoch 196/200\n",
      "3600/3600 [==============================] - 0s 48us/step - loss: 0.4601 - acc: 0.7844 - val_loss: 0.4677 - val_acc: 0.7825\n",
      "Epoch 197/200\n",
      "3600/3600 [==============================] - 0s 68us/step - loss: 0.4600 - acc: 0.7847 - val_loss: 0.4676 - val_acc: 0.7825\n",
      "Epoch 198/200\n",
      "3600/3600 [==============================] - 0s 55us/step - loss: 0.4600 - acc: 0.7847 - val_loss: 0.4676 - val_acc: 0.7825\n",
      "Epoch 199/200\n",
      "3600/3600 [==============================] - 0s 56us/step - loss: 0.4599 - acc: 0.7844 - val_loss: 0.4675 - val_acc: 0.7825\n",
      "Epoch 200/200\n",
      "3600/3600 [==============================] - 0s 59us/step - loss: 0.4598 - acc: 0.7842 - val_loss: 0.4675 - val_acc: 0.7825\n"
     ]
    }
   ],
   "source": [
    "# NN\n",
    "inputs = Input(shape=(5,))\n",
    "dense = Dense(5, activation='relu')(inputs)\n",
    "output = Dense(1, activation='sigmoid')(dense)\n",
    "NN = Model(inputs, output)\n",
    "\n",
    "NN.compile(optimizer='sgd',\n",
    "                       loss = 'binary_crossentropy',\n",
    "                       metrics=['accuracy'])\n",
    "NN.optimizer.lr = 0.001\n",
    "history_NN = NN.fit(X, y, \n",
    "                     epochs = 200, \n",
    "                     validation_data = (X_val, y_val))"
   ]
  },
  {
   "cell_type": "code",
   "execution_count": 116,
   "metadata": {
    "ExecuteTime": {
     "end_time": "2019-12-04T18:41:29.365159Z",
     "start_time": "2019-12-04T18:41:28.506639Z"
    }
   },
   "outputs": [
    {
     "data": {
      "image/png": "[encoded data removed]",
      "text/plain": [
       "<Figure size 432x288 with 1 Axes>"
      ]
     },
     "metadata": {
      "needs_background": "light"
     },
     "output_type": "display_data"
    },
    {
     "data": {
      "image/png": "[encoded data removed]",
      "text/plain": [
       "<Figure size 432x288 with 1 Axes>"
      ]
     },
     "metadata": {
      "needs_background": "light"
     },
     "output_type": "display_data"
    }
   ],
   "source": [
    "# Plot training & validation accuracy values\n",
    "plt.plot(history_NN.history['acc'])\n",
    "plt.plot(history_NN.history['val_acc'])\n",
    "plt.title('Model accuracy')\n",
    "plt.ylabel('Accuracy')\n",
    "plt.xlabel('Epoch')\n",
    "plt.legend(['Train', 'Test'], loc='upper left')\n",
    "plt.show()\n",
    "\n",
    "\n",
    "# Plot training & validation loss values\n",
    "plt.plot(history_NN.history['loss'])\n",
    "plt.plot(history_NN.history['val_loss'])\n",
    "plt.title('Model loss')\n",
    "plt.ylabel('Loss')\n",
    "plt.xlabel('Epoch')\n",
    "plt.legend(['Train', 'Test'], loc='upper left')\n",
    "plt.show()"
   ]
  },
  {
   "cell_type": "markdown",
   "metadata": {},
   "source": [
    "# Recorded audios"
   ]
  },
  {
   "cell_type": "code",
   "execution_count": 269,
   "metadata": {
    "ExecuteTime": {
     "end_time": "2019-12-08T00:19:33.767426Z",
     "start_time": "2019-12-08T00:19:33.689802Z"
    }
   },
   "outputs": [],
   "source": [
    "voiceprint = [\n",
    "'/Users/greenapple/project5/data/recorded/k_1.wav',\n",
    "'/Users/greenapple/project5/data/recorded/k_2.wav',\n",
    "'/Users/greenapple/project5/data/recorded/k_3.wav',\n",
    "'/Users/greenapple/project5/data/recorded/k_4.wav',\n",
    "'/Users/greenapple/project5/data/recorded/k_5.wav'\n",
    "]\n",
    "\n",
    "k_test = '/Users/greenapple/project5/data/recorded/k_det.wav'\n",
    "m_test = '/Users/greenapple/project5/data/recorded/m_nint.wav'\n",
    "m_attack = '/Users/greenapple/project5/data/recorded/m_attack.wav'"
   ]
  },
  {
   "cell_type": "code",
   "execution_count": null,
   "metadata": {},
   "outputs": [],
   "source": [
    "# Load models\n",
    "# Siamese. NB: run siamese_same_weights cell.\n",
    "weights = '/Users/greenapple/project5/notebooks/siamese_same_weights_bal_900.h5'\n",
    "model = siamese_same_weights\n",
    "model.load_weights(weights)\n",
    "# Logreg\n",
    "logreg = load_model('/Users/greenapple/project5/models/logreg.h5')"
   ]
  },
  {
   "cell_type": "code",
   "execution_count": 194,
   "metadata": {
    "ExecuteTime": {
     "end_time": "2019-12-07T23:13:54.179295Z",
     "start_time": "2019-12-07T23:13:49.758356Z"
    }
   },
   "outputs": [
    {
     "data": {
      "text/plain": [
       "(7, 7, 512)"
      ]
     },
     "execution_count": 194,
     "metadata": {},
     "output_type": "execute_result"
    }
   ],
   "source": [
    "# file to VGG16 embeddings\n",
    "embeddings = audio_to_features.file_to_VGG16_features(k_test)\n",
    "embeddings.shape"
   ]
  },
  {
   "cell_type": "code",
   "execution_count": 244,
   "metadata": {
    "ExecuteTime": {
     "end_time": "2019-12-07T23:38:43.346424Z",
     "start_time": "2019-12-07T23:38:32.867252Z"
    }
   },
   "outputs": [
    {
     "data": {
      "text/plain": [
       "array([[0.9986149]], dtype=float32)"
      ]
     },
     "execution_count": 244,
     "metadata": {},
     "output_type": "execute_result"
    }
   ],
   "source": [
    "# 2 recordings. Returns siamese prob\n",
    "# VGG16 embeddings\n",
    "emb2 = audio_to_features.file_to_VGG16_features(k_test)\n",
    "emb1 = audio_to_features.file_to_VGG16_features(voiceprint[0])\n",
    "\n",
    "# A pair for siamese model. \n",
    "pair = [emb1, emb2]\n",
    "X_siam = np.array(pair)\n",
    "X_siam = np.reshape(X_siam, (1, 2, 7, 7, 512))\n",
    "pairs_k = [(k_embs, embds) for embds in voiceprint_embds]\n",
    "X_siam_k = np.array(pairs_k)\n",
    "\n",
    "# Siamese model for one pair. Returns prob\n",
    "prob = model.predict([X_siam[:,0], X_siam[:,1]])\n",
    "prob"
   ]
  },
  {
   "cell_type": "code",
   "execution_count": 274,
   "metadata": {
    "ExecuteTime": {
     "end_time": "2019-12-08T00:20:54.024737Z",
     "start_time": "2019-12-08T00:20:12.162926Z"
    }
   },
   "outputs": [
    {
     "data": {
      "text/plain": [
       "(array([[0.9468449]], dtype=float32),\n",
       " array([[0.13592465]], dtype=float32),\n",
       " array([[0.8595168]], dtype=float32))"
      ]
     },
     "execution_count": 274,
     "metadata": {},
     "output_type": "execute_result"
    }
   ],
   "source": [
    "# Probability of a test audio belonging to the same speaker as the voiceprint\n",
    "\n",
    "# Test VGG16 embeddings:\n",
    "k_embs = audio_to_features.file_to_VGG16_features(k_test)\n",
    "m_embs = audio_to_features.file_to_VGG16_features(m_test)\n",
    "m_attack_embs = audio_to_features.file_to_VGG16_features(m_attack)\n",
    "\n",
    "# Voiceprint VGG16 embeddings:\n",
    "voiceprint_embds = []\n",
    "for file in voice_print:\n",
    "    embeddings = audio_to_features.file_to_VGG16_features(file)\n",
    "    voiceprint_embds.append(embeddings)\n",
    "\n",
    "# 5 pairs for siamese model.\n",
    "pairs_k = [(k_embs, embds) for embds in voiceprint_embds]\n",
    "X_siam_k = np.array(pairs_k)\n",
    "\n",
    "pairs_m = [(m_embs, embds) for embds in voiceprint_embds]\n",
    "X_siam_m = np.array(pairs_m)\n",
    "\n",
    "pairs_a = [(m_attack_embs, embds) for embds in voiceprint_embds]\n",
    "X_siam_a = np.array(pairs_a)\n",
    "\n",
    "# Siamese model for pairs. Returns prob\n",
    "probs_k = model.predict([X_siam_k[:,0], X_siam_k[:, 1]])\n",
    "probs_m = model.predict([X_siam_m[:,0], X_siam_m[:, 1]])\n",
    "probs_a = model.predict([X_siam_a[:,0], X_siam_a[:, 1]])\n",
    "\n",
    "# Reshape for logreg 5-voiceprint model\n",
    "X_logreg_k = np.reshape(probs_k, (1, 5))\n",
    "X_logreg_m = np.reshape(probs_m, (1, 5))\n",
    "X_logreg_a = np.reshape(probs_a, (1, 5))\n",
    "\n",
    "# Logreg model\n",
    "test_prob_k = logreg.predict(X_logreg_k)\n",
    "test_prob_m = logreg.predict(X_logreg_m)\n",
    "test_prob_a = logreg.predict(X_logreg_a)\n",
    "\n",
    "# Results\n",
    "test_prob_k, test_prob_m, test_prob_a"
   ]
  },
  {
   "cell_type": "code",
   "execution_count": 276,
   "metadata": {
    "ExecuteTime": {
     "end_time": "2019-12-08T00:21:45.450494Z",
     "start_time": "2019-12-08T00:21:45.251113Z"
    }
   },
   "outputs": [
    {
     "data": {
      "text/html": [
       "\n",
       "                <audio  controls=\"controls\" >\n",
       "                    <source src=\"data:audio/wav;base64,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\" type=\"audio/wav\" />\n",
       "                    Your browser does not support the audio element.\n",
       "                </audio>\n",
       "              "
      ],
      "text/plain": [
       "<IPython.lib.display.Audio object>"
      ]
     },
     "execution_count": 276,
     "metadata": {},
     "output_type": "execute_result"
    }
   ],
   "source": [
    "# Check audios\n",
    "audio, sr = librosa.load(m_test, sr=16000, offset=0.4, duration=3)\n",
    "# audio, sr = librosa.load(voiceprint[1], sr=16000, offset=0.4)\n",
    "Audio(audio, rate=sr)"
   ]
  },
  {
   "cell_type": "code",
   "execution_count": null,
   "metadata": {},
   "outputs": [],
   "source": [
    "model = siamese_same_weights\n",
    "trials = 1\n",
    "speaker_data = test_data_40_vgg\n",
    "\n",
    "lst = applications.one_speaker_authentification_1(model, trials, speaker_data)\n",
    "lst"
   ]
  },
  {
   "cell_type": "markdown",
   "metadata": {},
   "source": [
    "# Wave plots"
   ]
  },
  {
   "cell_type": "code",
   "execution_count": 307,
   "metadata": {
    "ExecuteTime": {
     "end_time": "2019-12-08T04:35:13.307900Z",
     "start_time": "2019-12-08T04:35:12.870659Z"
    }
   },
   "outputs": [
    {
     "data": {
      "image/png": "[encoded data removed]",
      "text/plain": [
       "<Figure size 360x360 with 1 Axes>"
      ]
     },
     "metadata": {
      "needs_background": "light"
     },
     "output_type": "display_data"
    },
    {
     "data": {
      "text/plain": [
       "<Figure size 432x288 with 0 Axes>"
      ]
     },
     "metadata": {},
     "output_type": "display_data"
    }
   ],
   "source": [
    "audio, sr = librosa.load(m_attack, sr=16000, offset=1.5, duration=2.5)\n",
    "plt.figure(figsize=(5, 5))\n",
    "figure = librosa.display.waveplot(audio, sr=sr)\n",
    "# figure.axes.get_xaxis().set_visible(False)\n",
    "# figure.axes.get_yaxis().set_visible(False)\n",
    "plt.axis('off')\n",
    "plt.show();\n",
    "plt.savefig('/Users/greenapple/project5/reports/figures/attack.png')"
   ]
  },
  {
   "cell_type": "markdown",
   "metadata": {},
   "source": [
    "# Siamese error analysis"
   ]
  },
  {
   "cell_type": "code",
   "execution_count": 238,
   "metadata": {
    "ExecuteTime": {
     "end_time": "2019-12-10T02:34:26.118688Z",
     "start_time": "2019-12-10T02:34:25.853918Z"
    }
   },
   "outputs": [
    {
     "data": {
      "text/plain": [
       "array([[0.04250462],\n",
       "       [0.99905103],\n",
       "       [0.92333823],\n",
       "       [0.07852192],\n",
       "       [0.9970149 ]], dtype=float32)"
      ]
     },
     "execution_count": 238,
     "metadata": {},
     "output_type": "execute_result"
    }
   ],
   "source": [
    "# Siamese probs\n",
    "speaker_data = test_data_40_vgg\n",
    "trials = 1\n",
    "n = 5\n",
    "\n",
    "probs, ids = applications.one_speaker_authentification_1(model, \n",
    "                                                         trials, \n",
    "                                                         speaker_data, \n",
    "                                                         n)\n",
    "probs"
   ]
  },
  {
   "cell_type": "code",
   "execution_count": 244,
   "metadata": {
    "ExecuteTime": {
     "end_time": "2019-12-10T02:40:16.708529Z",
     "start_time": "2019-12-10T02:40:16.630681Z"
    }
   },
   "outputs": [
    {
     "data": {
      "text/plain": [
       "['672-122797-0054.flac',\n",
       " '672-122797-0003.flac',\n",
       " '672-122797-0019.flac',\n",
       " '672-122797-0055.flac',\n",
       " '672-122797-0074.flac',\n",
       " '672-122797-0042.flac']"
      ]
     },
     "execution_count": 244,
     "metadata": {},
     "output_type": "execute_result"
    }
   ],
   "source": [
    "# Audio files\n",
    "ids"
   ]
  },
  {
   "cell_type": "code",
   "execution_count": 243,
   "metadata": {
    "ExecuteTime": {
     "end_time": "2019-12-10T02:39:59.871163Z",
     "start_time": "2019-12-10T02:39:59.614153Z"
    }
   },
   "outputs": [
    {
     "data": {
      "text/plain": [
       "'672-122797-0074.flac'"
      ]
     },
     "execution_count": 243,
     "metadata": {},
     "output_type": "execute_result"
    }
   ],
   "source": [
    "ids[4]"
   ]
  },
  {
   "cell_type": "code",
   "execution_count": 250,
   "metadata": {
    "ExecuteTime": {
     "end_time": "2019-12-10T02:48:08.684817Z",
     "start_time": "2019-12-10T02:48:08.520122Z"
    }
   },
   "outputs": [
    {
     "data": {
      "text/html": [
       "\n",
       "                <audio  controls=\"controls\" >\n",
       "                    <source src=\"data:audio/wav;base64,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\" type=\"audio/wav\" />\n",
       "                    Your browser does not support the audio element.\n",
       "                </audio>\n",
       "              "
      ],
      "text/plain": [
       "<IPython.lib.display.Audio object>"
      ]
     },
     "execution_count": 250,
     "metadata": {},
     "output_type": "execute_result"
    }
   ],
   "source": [
    "# Check audios. \n",
    "# Librosa no longer plays audios in Chrome (after an update). Use Firefox.\n",
    "folder = '/Users/greenapple/project5/data/raw/LibriSpeech/test-clean'\n",
    "file_name = ids[0]\n",
    "sub_f_1 = file_name.split('-')[0]\n",
    "sub_f_2 = file_name.split('-')[1]\n",
    "file = os.path.join(folder, sub_f_1, sub_f_2, file_name)\n",
    "audio, sr = librosa.load(file, sr=16000, offset=0.4, duration=3.8)\n",
    "# audio, sr = librosa.load(voiceprint[1], sr=16000, offset=0.4)\n",
    "Audio(audio, rate=sr)"
   ]
  },
  {
   "cell_type": "code",
   "execution_count": 246,
   "metadata": {
    "ExecuteTime": {
     "end_time": "2019-12-10T02:45:05.071496Z",
     "start_time": "2019-12-10T02:45:04.998318Z"
    }
   },
   "outputs": [],
   "source": [
    "path = '/Users/greenapple/project5/reports/wavs/file_1_1.wav'\n",
    "librosa.output.write_wav(path, audio, sr, norm=False)"
   ]
  },
  {
   "cell_type": "code",
   "execution_count": 251,
   "metadata": {
    "ExecuteTime": {
     "end_time": "2019-12-10T02:48:22.060386Z",
     "start_time": "2019-12-10T02:48:21.947859Z"
    }
   },
   "outputs": [],
   "source": [
    "path = '/Users/greenapple/project5/reports/wavs/file_1_2.wav'\n",
    "librosa.output.write_wav(path, audio, sr, norm=False)"
   ]
  },
  {
   "cell_type": "code",
   "execution_count": 213,
   "metadata": {
    "ExecuteTime": {
     "end_time": "2019-12-10T02:26:25.201333Z",
     "start_time": "2019-12-10T02:26:24.940333Z"
    }
   },
   "outputs": [
    {
     "data": {
      "text/plain": [
       "array([[0.9840262 ],\n",
       "       [0.37477568],\n",
       "       [0.09450543],\n",
       "       [0.8675668 ],\n",
       "       [0.09639307]], dtype=float32)"
      ]
     },
     "execution_count": 213,
     "metadata": {},
     "output_type": "execute_result"
    }
   ],
   "source": [
    "# Different speaker\n",
    "model = siamese_same_weights\n",
    "trials = 1\n",
    "speaker_data = test_data_40_vgg\n",
    "n = 5\n",
    "\n",
    "lst = applications.one_speaker_authentification_0(model, \n",
    "                                                  trials, \n",
    "                                                  speaker_data, \n",
    "                                                  n)\n",
    "lst"
   ]
  },
  {
   "cell_type": "code",
   "execution_count": null,
   "metadata": {},
   "outputs": [],
   "source": [
    "# Speakers who are not predicted well by the model make \"change\" their voice\n",
    "# to represent a character (data are from audio books)."
   ]
  }
 ],
 "metadata": {
  "kernelspec": {
   "display_name": "Python [conda env:project4] *",
   "language": "python",
   "name": "conda-env-project4-py"
  },
  "language_info": {
   "codemirror_mode": {
    "name": "ipython",
    "version": 3
   },
   "file_extension": ".py",
   "mimetype": "text/x-python",
   "name": "python",
   "nbconvert_exporter": "python",
   "pygments_lexer": "ipython3",
   "version": "3.7.3"
  },
  "toc": {
   "base_numbering": 1,
   "nav_menu": {},
   "number_sections": true,
   "sideBar": true,
   "skip_h1_title": false,
   "title_cell": "Table of Contents",
   "title_sidebar": "Contents",
   "toc_cell": false,
   "toc_position": {
    "height": "calc(100% - 180px)",
    "left": "10px",
    "top": "150px",
    "width": "389px"
   },
   "toc_section_display": true,
   "toc_window_display": true
  }
 },
 "nbformat": 4,
 "nbformat_minor": 2
}
