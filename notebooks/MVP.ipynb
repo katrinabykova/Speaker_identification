{
 "cells": [
  {
   "cell_type": "code",
   "execution_count": 25,
   "metadata": {
    "ExecuteTime": {
     "end_time": "2019-11-26T03:39:34.320811Z",
     "start_time": "2019-11-26T03:39:34.080314Z"
    }
   },
   "outputs": [],
   "source": [
    "import warnings\n",
    "warnings.filterwarnings('ignore')"
   ]
  },
  {
   "cell_type": "code",
   "execution_count": 26,
   "metadata": {
    "ExecuteTime": {
     "end_time": "2019-11-26T03:39:34.603797Z",
     "start_time": "2019-11-26T03:39:34.513358Z"
    }
   },
   "outputs": [],
   "source": [
    "import pandas as pd\n",
    "import numpy as np\n",
    "import matplotlib.pyplot as plt\n",
    "import sklearn\n",
    "import os\n",
    "import pickle\n",
    "from itertools import combinations\n",
    "import random\n",
    "import glob\n",
    "\n",
    "from keras.models import Model, Input, Sequential, load_model\n",
    "from keras.applications.vgg16 import VGG16\n",
    "from sklearn.preprocessing import LabelEncoder\n",
    "from keras.utils import to_categorical\n",
    "from keras.callbacks import EarlyStopping\n",
    "from keras import backend as K\n",
    "from keras.layers import Input, Conv2D, Lambda, merge, Dense, Flatten, MaxPooling2D, ZeroPadding2D, Dropout\n",
    "from keras.optimizers import SGD,Adam\n",
    "\n",
    "from src.data import process_audio\n",
    "from src.data import display_audio\n",
    "from src.models import one_shot_learning\n"
   ]
  },
  {
   "cell_type": "code",
   "execution_count": 27,
   "metadata": {
    "ExecuteTime": {
     "end_time": "2019-11-26T03:39:35.225317Z",
     "start_time": "2019-11-26T03:39:35.110528Z"
    }
   },
   "outputs": [
    {
     "name": "stdout",
     "output_type": "stream",
     "text": [
      "The autoreload extension is already loaded. To reload it, use:\n",
      "  %reload_ext autoreload\n"
     ]
    }
   ],
   "source": [
    "%load_ext autoreload\n",
    "%autoreload 2"
   ]
  },
  {
   "cell_type": "markdown",
   "metadata": {},
   "source": [
    "# Save model"
   ]
  },
  {
   "cell_type": "code",
   "execution_count": null,
   "metadata": {
    "ExecuteTime": {
     "end_time": "2019-11-23T19:34:37.358196Z",
     "start_time": "2019-11-23T19:34:33.296450Z"
    }
   },
   "outputs": [],
   "source": [
    "siamese_model_1.save('/Users/greenapple/project5/models/siamese_model_1.h5') # save model to disc"
   ]
  },
  {
   "cell_type": "code",
   "execution_count": null,
   "metadata": {
    "ExecuteTime": {
     "end_time": "2019-11-24T01:14:10.668958Z",
     "start_time": "2019-11-24T01:14:06.856302Z"
    }
   },
   "outputs": [],
   "source": [
    "siamese_model_2.save('/Users/greenapple/project5/models/02_siamese_model.h5') # save model to disc"
   ]
  },
  {
   "cell_type": "code",
   "execution_count": null,
   "metadata": {
    "ExecuteTime": {
     "end_time": "2019-11-24T18:54:49.401028Z",
     "start_time": "2019-11-24T18:54:42.537715Z"
    }
   },
   "outputs": [],
   "source": [
    "# Training on 100 speakers 1 epoch\n",
    "siamese_model_2.save('/Users/greenapple/project5/models/02_2_siamese_model.h5') # save model to disc"
   ]
  },
  {
   "cell_type": "code",
   "execution_count": null,
   "metadata": {
    "ExecuteTime": {
     "end_time": "2019-11-24T01:14:13.835503Z",
     "start_time": "2019-11-24T01:14:10.671212Z"
    }
   },
   "outputs": [],
   "source": [
    "VGG16_like.save('/Users/greenapple/project5/models/VGG16_like.h5') # save model to disc"
   ]
  },
  {
   "cell_type": "code",
   "execution_count": null,
   "metadata": {},
   "outputs": [],
   "source": [
    "siamese_model_1.save_weights('/Users/greenapple/project5/models/01_siamese_weights.h5')"
   ]
  },
  {
   "cell_type": "markdown",
   "metadata": {},
   "source": [
    " # Load model"
   ]
  },
  {
   "cell_type": "code",
   "execution_count": null,
   "metadata": {
    "ExecuteTime": {
     "end_time": "2019-11-23T23:53:10.945124Z",
     "start_time": "2019-11-23T23:52:49.811224Z"
    }
   },
   "outputs": [],
   "source": [
    "siamese_model_1 = load_model('/Users/greenapple/project5/models/01_siamese_model.h5') # load model"
   ]
  },
  {
   "cell_type": "code",
   "execution_count": null,
   "metadata": {
    "ExecuteTime": {
     "end_time": "2019-11-23T23:53:17.618999Z",
     "start_time": "2019-11-23T23:53:17.381727Z"
    }
   },
   "outputs": [],
   "source": [
    "siamese_model_1.summary() # model summary"
   ]
  },
  {
   "cell_type": "code",
   "execution_count": null,
   "metadata": {},
   "outputs": [],
   "source": [
    "score = siamese_model_1.evaluate(X, y, verbose=0) # evaluate model"
   ]
  },
  {
   "cell_type": "markdown",
   "metadata": {},
   "source": [
    "# Data sets"
   ]
  },
  {
   "cell_type": "code",
   "execution_count": 5,
   "metadata": {
    "ExecuteTime": {
     "end_time": "2019-11-25T03:47:01.264759Z",
     "start_time": "2019-11-25T03:47:01.154427Z"
    }
   },
   "outputs": [
    {
     "data": {
      "text/plain": [
       "921"
      ]
     },
     "execution_count": 5,
     "metadata": {},
     "output_type": "execute_result"
    }
   ],
   "source": [
    "# Number of speakers in the train set\n",
    "path = '/Users/greenapple/project5/data/raw/LibriSpeech/train-clean-360'\n",
    "id_folder_list =  glob.glob(os.path.join(path, '*'))\n",
    "len(id_folder_list)"
   ]
  },
  {
   "cell_type": "code",
   "execution_count": 6,
   "metadata": {
    "ExecuteTime": {
     "end_time": "2019-11-25T03:47:02.021553Z",
     "start_time": "2019-11-25T03:47:01.928818Z"
    }
   },
   "outputs": [
    {
     "data": {
      "text/plain": [
       "40"
      ]
     },
     "execution_count": 6,
     "metadata": {},
     "output_type": "execute_result"
    }
   ],
   "source": [
    "# Number of speakers in the test set\n",
    "path = '/Users/greenapple/project5/data/raw/LibriSpeech/dev-clean'\n",
    "id_folder_list =  glob.glob(os.path.join(path, '*'))\n",
    "len(id_folder_list)"
   ]
  },
  {
   "cell_type": "code",
   "execution_count": 7,
   "metadata": {
    "ExecuteTime": {
     "end_time": "2019-11-25T03:47:02.594858Z",
     "start_time": "2019-11-25T03:47:02.510038Z"
    }
   },
   "outputs": [
    {
     "data": {
      "text/plain": [
       "40"
      ]
     },
     "execution_count": 7,
     "metadata": {},
     "output_type": "execute_result"
    }
   ],
   "source": [
    "# Number of speakers in the dev set\n",
    "path = '/Users/greenapple/project5/data/raw/LibriSpeech/test-clean'\n",
    "id_folder_list =  glob.glob(os.path.join(path, '*'))\n",
    "len(id_folder_list)"
   ]
  },
  {
   "cell_type": "markdown",
   "metadata": {},
   "source": [
    "# N-way One Shot learning"
   ]
  },
  {
   "cell_type": "code",
   "execution_count": 28,
   "metadata": {
    "ExecuteTime": {
     "end_time": "2019-11-26T03:48:01.429365Z",
     "start_time": "2019-11-26T03:39:41.671654Z"
    }
   },
   "outputs": [
    {
     "name": "stdout",
     "output_type": "stream",
     "text": [
      "2-way one shot train score is 92.0, test score is 63.0\n"
     ]
    }
   ],
   "source": [
    "# Siamese model with VGG16 net as branches trained on 10 speakers, 10 epocks\n",
    "# and one epoch on 100\n",
    "siamese_model_2_2 = load_model('/Users/greenapple/project5/models/02_2_siamese_model.h5') # load model\n",
    "\n",
    "# Parameters for one shot learning\n",
    "model = siamese_model_2_2\n",
    "trials = 100\n",
    "n_way = 2\n",
    "\n",
    "train_path = '/Users/greenapple/project5/data/raw/LibriSpeech/train-clean-360'\n",
    "test_path = '/Users/greenapple/project5/data/raw/LibriSpeech/test-clean'\n",
    "\n",
    "speaker_num_tr = 10\n",
    "speaker_num_ts = 10\n",
    "\n",
    "speaker_data_train = one_shot_learning.get_samples_in_order(train_path, speaker_num_tr)\n",
    "speaker_data_test = one_shot_learning.get_samples_random(test_path, speaker_num_ts)\n",
    "\n",
    "one_shot_5_train = one_shot_learning.one_shot_score(model, trials, speaker_data_train, n_way)\n",
    "one_shot_5_test = one_shot_learning.one_shot_score(model, trials, speaker_data_test, n_way)\n",
    "\n",
    "print('2-way one shot train score is {}, test score is {}'.format(one_shot_5_train, one_shot_5_test))"
   ]
  },
  {
   "cell_type": "markdown",
   "metadata": {},
   "source": [
    "# Compare models"
   ]
  },
  {
   "cell_type": "code",
   "execution_count": 34,
   "metadata": {
    "ExecuteTime": {
     "end_time": "2019-11-26T04:13:14.656425Z",
     "start_time": "2019-11-26T04:09:36.537683Z"
    }
   },
   "outputs": [
    {
     "name": "stdout",
     "output_type": "stream",
     "text": [
      "[100.0, 80.0, 65.0]core 65.057894736842114\n"
     ]
    }
   ],
   "source": [
    "# Test set: Siamese model with VGG16 net as branches trained on 10 speakers \n",
    "\n",
    "classes = [1, 2, 5]\n",
    "\n",
    "# Siamese model with VGG16 net as branches trained on 100 speakers\n",
    "siamese_model_2_2 = load_model('/Users/greenapple/project5/models/02_2_siamese_model.h5') # load model\n",
    "\n",
    "model = siamese_model_2_2\n",
    "trials = 20\n",
    "test_path = '/Users/greenapple/project5/data/raw/LibriSpeech/test-clean'\n",
    "speaker_num = 10\n",
    "\n",
    "speaker_data_test = one_shot_learning.get_samples_random(test_path, speaker_num_ts)\n",
    "\n",
    "test_one_shot_test_l_siamese2_2 = []\n",
    "\n",
    "for n_way in classes:\n",
    "    one_shot_test = one_shot_learning.one_shot_score(model, trials, speaker_data_test, n_way)\n",
    "    test_one_shot_test_l_siamese2_2.append(one_shot_test)\n",
    "    \n",
    "print(test_one_shot_test_l_siamese2_2)\n"
   ]
  },
  {
   "cell_type": "code",
   "execution_count": 37,
   "metadata": {
    "ExecuteTime": {
     "end_time": "2019-11-26T04:16:36.738590Z",
     "start_time": "2019-11-26T04:16:36.659968Z"
    }
   },
   "outputs": [
    {
     "data": {
      "text/plain": [
       "[100.0, 80.0, 65.0]"
      ]
     },
     "execution_count": 37,
     "metadata": {},
     "output_type": "execute_result"
    }
   ],
   "source": [
    "test_one_shot_test_l_siamese2_2"
   ]
  },
  {
   "cell_type": "code",
   "execution_count": 38,
   "metadata": {
    "ExecuteTime": {
     "end_time": "2019-11-26T04:20:10.314437Z",
     "start_time": "2019-11-26T04:16:57.066904Z"
    }
   },
   "outputs": [
    {
     "name": "stdout",
     "output_type": "stream",
     "text": [
      "[100.0, 85.0, 65.0]core 65.057894736842176\n"
     ]
    }
   ],
   "source": [
    "# Train set: Siamese model with VGG16 net as branches trained on 10 speakers \n",
    "\n",
    "classes = [1, 2, 5]\n",
    "\n",
    "# Siamese model with VGG16 net as branches trained on 100 speakers\n",
    "siamese_model_2_2 = load_model('/Users/greenapple/project5/models/02_2_siamese_model.h5') # load model\n",
    "\n",
    "model = siamese_model_2_2\n",
    "trials = 20\n",
    "train_path = '/Users/greenapple/project5/data/raw/LibriSpeech/train-clean-360'\n",
    "speaker_num = 10\n",
    "\n",
    "speaker_data_train = one_shot_learning.get_samples_in_order(train_path, speaker_num_tr)\n",
    "\n",
    "test_one_shot_train_l_siamese2_2 = []\n",
    "\n",
    "for n_way in classes:\n",
    "    one_shot_test = one_shot_learning.one_shot_score(model, trials, speaker_data_train, n_way)\n",
    "    test_one_shot_train_l_siamese2_2.append(one_shot_test)\n",
    "    \n",
    "print(test_one_shot_train_l_siamese2_2)\n"
   ]
  },
  {
   "cell_type": "code",
   "execution_count": 36,
   "metadata": {
    "ExecuteTime": {
     "end_time": "2019-11-26T04:14:14.782355Z",
     "start_time": "2019-11-26T04:14:14.702701Z"
    }
   },
   "outputs": [
    {
     "data": {
      "text/plain": [
       "[100.0, 80.0, 65.0]"
      ]
     },
     "execution_count": 36,
     "metadata": {},
     "output_type": "execute_result"
    }
   ],
   "source": [
    "test_one_shot_train_l_siamese2_2"
   ]
  },
  {
   "cell_type": "code",
   "execution_count": 40,
   "metadata": {
    "ExecuteTime": {
     "end_time": "2019-11-26T04:26:55.974543Z",
     "start_time": "2019-11-26T04:26:55.888171Z"
    }
   },
   "outputs": [],
   "source": [
    "# Random guess\n",
    "one_shot_test_l_random = [100, 50, 20]"
   ]
  },
  {
   "cell_type": "code",
   "execution_count": 41,
   "metadata": {
    "ExecuteTime": {
     "end_time": "2019-11-26T04:26:56.322626Z",
     "start_time": "2019-11-26T04:26:56.230983Z"
    }
   },
   "outputs": [
    {
     "data": {
      "text/plain": [
       "[100, 50, 20]"
      ]
     },
     "execution_count": 41,
     "metadata": {},
     "output_type": "execute_result"
    }
   ],
   "source": [
    "one_shot_test_l_random"
   ]
  },
  {
   "cell_type": "code",
   "execution_count": null,
   "metadata": {},
   "outputs": [],
   "source": []
  }
 ],
 "metadata": {
  "kernelspec": {
   "display_name": "Python [conda env:project4] *",
   "language": "python",
   "name": "conda-env-project4-py"
  },
  "language_info": {
   "codemirror_mode": {
    "name": "ipython",
    "version": 3
   },
   "file_extension": ".py",
   "mimetype": "text/x-python",
   "name": "python",
   "nbconvert_exporter": "python",
   "pygments_lexer": "ipython3",
   "version": "3.7.3"
  },
  "toc": {
   "base_numbering": 1,
   "nav_menu": {},
   "number_sections": true,
   "sideBar": true,
   "skip_h1_title": false,
   "title_cell": "Table of Contents",
   "title_sidebar": "Contents",
   "toc_cell": false,
   "toc_position": {
    "height": "calc(100% - 180px)",
    "left": "10px",
    "top": "150px",
    "width": "280px"
   },
   "toc_section_display": true,
   "toc_window_display": true
  }
 },
 "nbformat": 4,
 "nbformat_minor": 2
}
